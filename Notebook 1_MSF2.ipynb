{
 "cells": [
  {
   "cell_type": "markdown",
   "metadata": {},
   "source": [
    "# Quantitative Finance with Python\n",
    "\n",
    "### Alan Moreira, University of Rochester Simon Graduate School of Business\n",
    "\n",
    "# Notebook 1\n",
    "\n"
   ]
  },
  {
   "cell_type": "markdown",
   "metadata": {},
   "source": [
    "### Topics covered\n",
    "* * *\n",
    " * Introduction to  Python \n",
    " * Jupyter notebook basics\n",
    " * Python's primitive types\n",
    " * boolean operators and comparison operators\n",
    " * conditional statements\n",
    " * flow control (e.g. `for` loops)\n",
    " * functions and methods \n",
    " * Building functions\n",
    " * Getting help\n",
    " * Basic data structures\n",
    " * Dealing with packages/libraries\n",
    " * Numerical programming\n",
    " * Linear algebra\n",
    " * Visualization\n"
   ]
  },
  {
   "cell_type": "markdown",
   "metadata": {
    "collapsed": true
   },
   "source": [
    "# Welcome to Jupyter!  Here are a few notebook notes\n",
    "<br>\n",
    "<b>This is a little diagram of the anatomy of the notebook toolbar:</b><br>\n",
    "<img src='https://raw.githubusercontent.com/michhar/python-jupyter-notebooks/master/general/nb_diagram.png' alt=\"Smiley face\" align=\"center\">"
   ]
  },
  {
   "cell_type": "markdown",
   "metadata": {
    "collapsed": true
   },
   "source": [
    "### Shortcuts!!!\n",
    "* A complete list is [here](https://www.cheatography.com/weidadeyue/cheat-sheets/jupyter-notebook/), but these are my favorites.  There is a *command* mode and *edit* mode much like the unix editor `vi/vim`.  `Esc` will take you into command mode.  `Enter` (when a cell is highlighted) will take you into edit mode.\n",
    "\n",
    "Mode  |  What  | Shortcut\n",
    "------------- | ------------- | -------------\n",
    "Command (Press `Esc` to enter)  | Run cell | Shift-Enter\n",
    "Command  | Add cell below | B\n",
    "Command | Add cell above | A\n",
    "Command | Delete a cell | d-d\n",
    "Command | Go into edit mode | Enter\n",
    "Edit (Press `Enter` to enable) | Run cell | Shift-Enter\n",
    "Edit | Indent | Clrl-]\n",
    "Edit | Unindent | Ctrl-[\n",
    "Edit | Comment section | Ctrl-/\n",
    "Edit | Function introspection | Shift-Tab\n",
    "\n",
    "Try some below"
   ]
  },
  {
   "cell_type": "markdown",
   "metadata": {},
   "source": [
    "**A Code cell is grey (by the way this is a Markdown cell)**"
   ]
  },
  {
   "cell_type": "code",
   "execution_count": 2,
   "metadata": {},
   "outputs": [
    {
     "name": "stdout",
     "output_type": "stream",
     "text": [
      "Help on built-in function print in module builtins:\n",
      "\n",
      "print(...)\n",
      "    print(value, ..., sep=' ', end='\\n', file=sys.stdout, flush=False)\n",
      "    \n",
      "    Prints the values to a stream, or to sys.stdout by default.\n",
      "    Optional keyword arguments:\n",
      "    file:  a file-like object (stream); defaults to the current sys.stdout.\n",
      "    sep:   string inserted between values, default a space.\n",
      "    end:   string appended after the last value, default a newline.\n",
      "    flush: whether to forcibly flush the stream.\n",
      "\n"
     ]
    }
   ],
   "source": [
    "# This is a comment \n",
    "help(print)\n",
    "\n",
    "\n",
    "# Hit Shift+Enter at same time as a shortcut to run this cell"
   ]
  },
  {
   "cell_type": "code",
   "execution_count": 1,
   "metadata": {
    "scrolled": true
   },
   "outputs": [
    {
     "name": "stdout",
     "output_type": "stream",
     "text": [
      "this line is Python code\n"
     ]
    }
   ],
   "source": [
    "print('this line is Python code')"
   ]
  },
  {
   "cell_type": "markdown",
   "metadata": {},
   "source": [
    "# Welcome to Python!"
   ]
  },
  {
   "cell_type": "markdown",
   "metadata": {},
   "source": [
    "#### Some code:\n",
    "\n",
    "``x = 2\n",
    "x = x + 2\n",
    "print(x)``\n",
    "\n",
    "* Can you predict the output?\n",
    "* Does your python run this code?\n",
    "* How we call each piece in this paragraph?\n"
   ]
  },
  {
   "cell_type": "code",
   "execution_count": 5,
   "metadata": {},
   "outputs": [
    {
     "name": "stdout",
     "output_type": "stream",
     "text": [
      "5\n"
     ]
    }
   ],
   "source": [
    "x = 10\n",
    "x=x+2\n",
    "x = 5\n",
    "print(x)"
   ]
  },
  {
   "cell_type": "markdown",
   "metadata": {},
   "source": [
    "### Variable names\n",
    "\n",
    "* How should I name variables?\n",
    "* Do variable names have any meaning? \n",
    "* Does Python interpret these names?\n",
    "* Are there names that I cannot use?\n"
   ]
  },
  {
   "cell_type": "markdown",
   "metadata": {},
   "source": [
    "### Variable names\n",
    "\n",
    "* How should I name variables?\n",
    "  * They should make sense to you and should have the goal of make the code easier to read for somebody else\n",
    "* Do variable names have any meaning?\n",
    "   * Only to you!\n",
    "* Does Python interpret these names?\n",
    "   * nope!Never.Names are for you and your group mates to understand what the code is doing\n",
    "* Are there names that I cannot use?\n",
    "   *  res, some names are reserved"
   ]
  },
  {
   "cell_type": "markdown",
   "metadata": {},
   "source": [
    "### Reserved Words\n",
    "\n",
    " .    ||||\n",
    "------|-------|--------|------------------\n",
    "False |\tclass |\treturn|\tis |\t\tfinally \n",
    "None  |\tif\t|\tfor \t|lambda| \tcontinue \n",
    "True  |\tdef |\tfrom \t|while|\tnonlocal\n",
    "and   |\tdel |\tglobal \t|not |\twith\n",
    "as    |\telif |\ttry\t\t|or |\t\tyield\n",
    "assert| \telse| \timport| \tpass\n",
    "break |except |\tin |\t\traise\n"
   ]
  },
  {
   "cell_type": "code",
   "execution_count": null,
   "metadata": {
    "scrolled": true
   },
   "outputs": [],
   "source": [
    "None=2"
   ]
  },
  {
   "cell_type": "markdown",
   "metadata": {},
   "source": [
    "\n",
    "<b>To get help on any module, function or variable surround it with `help()`</b>"
   ]
  },
  {
   "cell_type": "code",
   "execution_count": null,
   "metadata": {},
   "outputs": [],
   "source": [
    "print?"
   ]
  },
  {
   "cell_type": "markdown",
   "metadata": {
    "collapsed": true
   },
   "source": [
    "### The import statement"
   ]
  },
  {
   "cell_type": "code",
   "execution_count": null,
   "metadata": {},
   "outputs": [],
   "source": [
    "# This is what an import statement looks like, here we are importing the json module\n",
    "import json\n",
    "\n",
    "# We can use the 'from' syntax to import a submodule\n",
    "from sklearn import datasets\n",
    "\n",
    "# We can rename a module during import to make it easier to type later\n",
    "import numpy as np"
   ]
  },
  {
   "cell_type": "markdown",
   "metadata": {},
   "source": [
    "<b>Jupyter notebooks have tab-completion in code cells</b><br><br>"
   ]
  },
  {
   "cell_type": "code",
   "execution_count": null,
   "metadata": {},
   "outputs": [],
   "source": [
    "np."
   ]
  },
  {
   "cell_type": "markdown",
   "metadata": {},
   "source": [
    "### Indentation\n",
    "\n",
    "* Python uses indentation instead of demarcation with punctuation, such as semicolons, to tell the interpreter how to run the code.\n",
    "* It is standard to use four spaces (and not recommended to use tabs)\n",
    "* Whitespace like this makes for easier-to-read code"
   ]
  },
  {
   "cell_type": "code",
   "execution_count": 6,
   "metadata": {},
   "outputs": [
    {
     "ename": "IndentationError",
     "evalue": "expected an indented block (<ipython-input-6-92c03e90b354>, line 6)",
     "output_type": "error",
     "traceback": [
      "\u001b[1;36m  File \u001b[1;32m\"<ipython-input-6-92c03e90b354>\"\u001b[1;36m, line \u001b[1;32m6\u001b[0m\n\u001b[1;33m    print('3')\u001b[0m\n\u001b[1;37m        ^\u001b[0m\n\u001b[1;31mIndentationError\u001b[0m\u001b[1;31m:\u001b[0m expected an indented block\n"
     ]
    }
   ],
   "source": [
    "# an example\n",
    "\n",
    "if (3>1):\n",
    "    print('correct')\n",
    "    if (6>5):\n",
    "    print('3')\n",
    "print(5)"
   ]
  },
  {
   "cell_type": "markdown",
   "metadata": {},
   "source": [
    "###  Calculator"
   ]
  },
  {
   "cell_type": "code",
   "execution_count": null,
   "metadata": {
    "scrolled": true
   },
   "outputs": [],
   "source": [
    "# Addition and subtraction\n",
    "print(5 + 6)\n",
    "print(5 - 5)\n",
    "\n",
    "# Multiplication and division\n",
    "print(3 * 5)\n",
    "print(10 / 2)\n",
    "\n",
    "# Exponentiation\n",
    "print(4 ** 0.5)\n",
    "\n",
    "# Modulo\n",
    "print(18 % 7)\n",
    "\n",
    "# How much is your $20 worth after 17 years? "
   ]
  },
  {
   "cell_type": "markdown",
   "metadata": {},
   "source": [
    "Example:\n",
    "\n",
    "How much is your $20 worth after 17 years with annual interest rate 10%? \n"
   ]
  },
  {
   "cell_type": "code",
   "execution_count": 7,
   "metadata": {},
   "outputs": [
    {
     "name": "stdout",
     "output_type": "stream",
     "text": [
      "101.0894056998589\n"
     ]
    }
   ],
   "source": [
    "print(20 * (1 + 0.1)**17)"
   ]
  },
  {
   "cell_type": "markdown",
   "metadata": {},
   "source": [
    "# Variables\n",
    "\n",
    "Variables allows you to refer to a value by it's name. We use \"=\" to create a variable.\n",
    "\n",
    "We can't emphasize enough that \"=\" means ASSIGNMENT and not equality"
   ]
  },
  {
   "cell_type": "code",
   "execution_count": 8,
   "metadata": {},
   "outputs": [
    {
     "name": "stdout",
     "output_type": "stream",
     "text": [
      "10\n"
     ]
    }
   ],
   "source": [
    "x=10\n",
    "print(x)\n",
    "# create a variable called portfoliovalue with the initial\n",
    "#value of 20 and check the value by printing it as above "
   ]
  },
  {
   "cell_type": "markdown",
   "metadata": {},
   "source": [
    "to calculate using variables, just plug the variable name instead of the value. For example in the compound interest calculation above you can write:"
   ]
  },
  {
   "cell_type": "code",
   "execution_count": null,
   "metadata": {},
   "outputs": [],
   "source": [
    "years=5\n",
    "interestrate=0.1\n",
    "principal=20\n",
    "principal*(1+interestrate)**years\n",
    "# now use years, portfoliovalue and interestrate instead\n",
    "#of the numbers "
   ]
  },
  {
   "cell_type": "markdown",
   "metadata": {},
   "source": [
    "Exercise: how to use variable to represent the expression  print(20 * (1 + 0.1) ** 17)"
   ]
  },
  {
   "cell_type": "code",
   "execution_count": null,
   "metadata": {},
   "outputs": [],
   "source": []
  },
  {
   "cell_type": "markdown",
   "metadata": {},
   "source": [
    "### Observation about naming variables\n",
    "\n",
    "* Python differentiates \"x\" from \"X\", but it is important to have constentcy about naming variables so YOU don't get confused\n",
    "\n",
    "   * Python never get confused. \n",
    "   \n",
    "   * any errors are due to you giving instructions that do not make sense\n",
    "   \n",
    "* The only restrictions in naming variables are\n",
    "\n",
    "     * Don't use the reserved words\n",
    "     \n",
    "     * don't start the name of a variable with a number\n",
    "     "
   ]
  },
  {
   "cell_type": "markdown",
   "metadata": {},
   "source": [
    "### Let's go over some primitive types\n",
    "\n",
    "    1. float (a number that has both an integer and fraactional part: 3.14345)\n",
    "    2. int (an integer: ...-3,-2,-1,0,1,2,3,..) \n",
    "    3. str (a string, i.e. text)\n",
    "    you can create a string with double or single quotes (see below)\n",
    "    4. bool (a boolean, a logical type that can be True or False)\n",
    "    \n",
    "You can figure out the type of variable x by typing type(x).\n",
    "    "
   ]
  },
  {
   "cell_type": "markdown",
   "metadata": {},
   "source": [
    "### Boolean\n",
    "<p>Booleans are either <code>True</code> or <code>False</code> and can be specified by the type <code>bool</code>\n"
   ]
  },
  {
   "cell_type": "code",
   "execution_count": null,
   "metadata": {},
   "outputs": [],
   "source": [
    "type(True)"
   ]
  },
  {
   "cell_type": "markdown",
   "metadata": {},
   "source": [
    "### Integer\n",
    "> Note: In Python 2 there was <code>int</code> and `long` for integers in a certain range and larger integers, respectively. In Python 3, `int`'s are now like the type `long` from Python 2 and hence the type `long` no longer exists in Python 3."
   ]
  },
  {
   "cell_type": "code",
   "execution_count": null,
   "metadata": {
    "scrolled": true
   },
   "outputs": [],
   "source": [
    "type(23.0)"
   ]
  },
  {
   "cell_type": "code",
   "execution_count": null,
   "metadata": {},
   "outputs": [],
   "source": [
    "222222222222222222000000000000000000004444444444444444466666666666666666666"
   ]
  },
  {
   "cell_type": "markdown",
   "metadata": {},
   "source": [
    "### Float\n",
    "\"floating point\" numbers are represented in computer hardware in scientific notation and if the input is a very small or very large <code>float</code>, the output is in scientific notation."
   ]
  },
  {
   "cell_type": "code",
   "execution_count": 13,
   "metadata": {},
   "outputs": [
    {
     "ename": "NameError",
     "evalue": "name 'interestrate' is not defined",
     "output_type": "error",
     "traceback": [
      "\u001b[1;31m---------------------------------------------------------------------------\u001b[0m",
      "\u001b[1;31mNameError\u001b[0m                                 Traceback (most recent call last)",
      "\u001b[1;32m<ipython-input-13-38741a72065a>\u001b[0m in \u001b[0;36m<module>\u001b[1;34m\u001b[0m\n\u001b[1;32m----> 1\u001b[1;33m \u001b[0mprint\u001b[0m\u001b[1;33m(\u001b[0m\u001b[0mtype\u001b[0m\u001b[1;33m(\u001b[0m\u001b[0minterestrate\u001b[0m\u001b[1;33m)\u001b[0m\u001b[1;33m)\u001b[0m\u001b[1;33m\u001b[0m\u001b[1;33m\u001b[0m\u001b[0m\n\u001b[0m\u001b[0;32m      2\u001b[0m \u001b[1;33m\u001b[0m\u001b[0m\n",
      "\u001b[1;31mNameError\u001b[0m: name 'interestrate' is not defined"
     ]
    }
   ],
   "source": [
    "print(type(interestrate))\n",
    "\n"
   ]
  },
  {
   "cell_type": "markdown",
   "metadata": {},
   "source": [
    "Some other examples"
   ]
  },
  {
   "cell_type": "code",
   "execution_count": null,
   "metadata": {},
   "outputs": [],
   "source": [
    "2.5"
   ]
  },
  {
   "cell_type": "code",
   "execution_count": null,
   "metadata": {},
   "outputs": [],
   "source": [
    "2e5"
   ]
  },
  {
   "cell_type": "code",
   "execution_count": null,
   "metadata": {},
   "outputs": [],
   "source": [
    "0.00001"
   ]
  },
  {
   "cell_type": "code",
   "execution_count": null,
   "metadata": {},
   "outputs": [],
   "source": [
    "23444444447777772229."
   ]
  },
  {
   "cell_type": "markdown",
   "metadata": {},
   "source": [
    "### String\n",
    "Strings are type <code>str</code> and all strings in Python 3 are Unicode.  There is no separate <code>character</code> class as in other languages.  Strings are either surrounded by single, double or triple quotes, a style feature up to the coder, however when one wishes to place a single quoted string inside a double quoted string, this feature is useful."
   ]
  },
  {
   "cell_type": "code",
   "execution_count": null,
   "metadata": {},
   "outputs": [],
   "source": [
    "\n",
    "description='future value'\n",
    "#description=\"future value\" also works\n",
    "type(description)"
   ]
  },
  {
   "cell_type": "markdown",
   "metadata": {},
   "source": [
    "Another example"
   ]
  },
  {
   "cell_type": "code",
   "execution_count": null,
   "metadata": {},
   "outputs": [],
   "source": [
    "\"a single quoted string 'hi' inside a double quoted string\""
   ]
  },
  {
   "cell_type": "code",
   "execution_count": null,
   "metadata": {},
   "outputs": [],
   "source": [
    "'a double quoted string \"hi\" inside a single quoted string'"
   ]
  },
  {
   "cell_type": "markdown",
   "metadata": {},
   "source": [
    "### Multiple type operation\n",
    "\n",
    "\n",
    "Note that different types will respond different to an operator depending on it's type\n",
    "\n",
    "For example, try to \n",
    "\n",
    "1. add two strings\n",
    "2. multiply a string by 4\n",
    "\n",
    "What do you expect to happen?"
   ]
  },
  {
   "cell_type": "code",
   "execution_count": 9,
   "metadata": {},
   "outputs": [
    {
     "data": {
      "text/plain": [
       "'54'"
      ]
     },
     "execution_count": 9,
     "metadata": {},
     "output_type": "execute_result"
    }
   ],
   "source": [
    "description=\"5\" +   \"4\" \n",
    "description"
   ]
  },
  {
   "cell_type": "code",
   "execution_count": 10,
   "metadata": {},
   "outputs": [
    {
     "data": {
      "text/plain": [
       "'54545454'"
      ]
     },
     "execution_count": 10,
     "metadata": {},
     "output_type": "execute_result"
    }
   ],
   "source": [
    "description*4"
   ]
  },
  {
   "cell_type": "markdown",
   "metadata": {},
   "source": [
    "\n",
    "### Type conversion\n",
    "\n",
    "a very useful tool is the conversion between types. If you write str(x) than you convert the x variable to string. Same thing works for int(), float(), bool().\n",
    "\n",
    "Here is an example"
   ]
  },
  {
   "cell_type": "code",
   "execution_count": 11,
   "metadata": {
    "scrolled": false
   },
   "outputs": [
    {
     "name": "stdout",
     "output_type": "stream",
     "text": [
      "the value of your portfolio is $5 dollars\n"
     ]
    }
   ],
   "source": [
    "portfoliovalue=5\n",
    "print(\"the value of your portfolio is $\" + str(portfoliovalue) + \" dollars\")"
   ]
  },
  {
   "cell_type": "code",
   "execution_count": 12,
   "metadata": {},
   "outputs": [
    {
     "name": "stdout",
     "output_type": "stream",
     "text": [
      "6\n"
     ]
    }
   ],
   "source": [
    "# example:\n",
    "\n",
    "var = '5'\n",
    "var2 = int(var) + 1\n",
    "print(var2)"
   ]
  },
  {
   "cell_type": "markdown",
   "metadata": {},
   "source": [
    "### Boolean Operators\n",
    "* `and`, `or` and `not`"
   ]
  },
  {
   "cell_type": "markdown",
   "metadata": {},
   "source": [
    "<b>Of note, all of these are considered `False`:</b>\n",
    "* None\n",
    "* 0\n",
    "* 0.0\n",
    "* empty string\n",
    "* other empty values/data structures"
   ]
  },
  {
   "cell_type": "markdown",
   "metadata": {},
   "source": [
    "<b>`and`, `or` and `not`</b><br><br>\n",
    "<b>Note: the `and` and `or` operands don't actually return `True` or `False`. Rather they work as follows (Taken from Python -> 3.4.1 Documentation -> The Python Standard Library)</b>:\n",
    "<table style=\"width:50%\" align=\"left\">\n",
    "  <tr>\n",
    "    <td><b>Expression</b></td>\n",
    "    <td><b>Return Value</b></td>\t\t\n",
    "  </tr>\n",
    "  <tr>\n",
    "    <td>`x and y`</td>\n",
    "    <td>if x is false, x, else y</td>\t\t\n",
    "  </tr>\n",
    "  <tr>\n",
    "    <td>`x or y`</td>\n",
    "    <td>if x is false, y, else x</td>\t\t\n",
    "  </tr>\n",
    "  <tr>\n",
    "    <td>`not x`</td>\n",
    "    <td>if x is false, `True` else, `False`</td>\t\t\n",
    "  </tr>\n",
    "</table>\n",
    "<br>"
   ]
  },
  {
   "cell_type": "markdown",
   "metadata": {},
   "source": [
    "EXERCISE: Showing examples of the use of `and` and `or`\n",
    "1. write an expression with `and` in which the first value is returned\n",
    "* write an expression with `or` which returns the first value\n",
    "> Hint: using empty values that evaluate to `False` will make this easier"
   ]
  },
  {
   "cell_type": "code",
   "execution_count": 14,
   "metadata": {},
   "outputs": [
    {
     "data": {
      "text/plain": [
       "False"
      ]
     },
     "execution_count": 14,
     "metadata": {},
     "output_type": "execute_result"
    }
   ],
   "source": [
    "bool(0.00000000000)"
   ]
  },
  {
   "cell_type": "code",
   "execution_count": 15,
   "metadata": {},
   "outputs": [
    {
     "data": {
      "text/plain": [
       "'whatever'"
      ]
     },
     "execution_count": 15,
     "metadata": {},
     "output_type": "execute_result"
    }
   ],
   "source": [
    "0.000000004 and 'whatever'"
   ]
  },
  {
   "cell_type": "code",
   "execution_count": 16,
   "metadata": {
    "scrolled": true
   },
   "outputs": [
    {
     "data": {
      "text/plain": [
       "False"
      ]
     },
     "execution_count": 16,
     "metadata": {},
     "output_type": "execute_result"
    }
   ],
   "source": [
    "(6<5) and 5\n"
   ]
  },
  {
   "cell_type": "markdown",
   "metadata": {},
   "source": [
    "But it also does what you would expect"
   ]
  },
  {
   "cell_type": "code",
   "execution_count": 17,
   "metadata": {},
   "outputs": [
    {
     "data": {
      "text/plain": [
       "True"
      ]
     },
     "execution_count": 17,
     "metadata": {},
     "output_type": "execute_result"
    }
   ],
   "source": [
    "2>1"
   ]
  },
  {
   "cell_type": "code",
   "execution_count": 2,
   "metadata": {},
   "outputs": [
    {
     "data": {
      "text/plain": [
       "True"
      ]
     },
     "execution_count": 2,
     "metadata": {},
     "output_type": "execute_result"
    }
   ],
   "source": [
    "(True) and (2>1)"
   ]
  },
  {
   "cell_type": "code",
   "execution_count": 18,
   "metadata": {},
   "outputs": [
    {
     "data": {
      "text/plain": [
       "False"
      ]
     },
     "execution_count": 18,
     "metadata": {},
     "output_type": "execute_result"
    }
   ],
   "source": [
    "(2>3) and (2>1)"
   ]
  },
  {
   "cell_type": "code",
   "execution_count": 5,
   "metadata": {},
   "outputs": [
    {
     "data": {
      "text/plain": [
       "False"
      ]
     },
     "execution_count": 5,
     "metadata": {},
     "output_type": "execute_result"
    }
   ],
   "source": [
    "False or False"
   ]
  },
  {
   "cell_type": "markdown",
   "metadata": {},
   "source": [
    "<b>The `in` and `not in` operators</b>\n",
    "* These return `True` or `False`"
   ]
  },
  {
   "cell_type": "code",
   "execution_count": null,
   "metadata": {},
   "outputs": [],
   "source": [
    "# Check if integer is in a list - you'll see lists later, but just note they live in square brackets\n",
    "8 in [7, 4, 9]"
   ]
  },
  {
   "cell_type": "code",
   "execution_count": 1,
   "metadata": {},
   "outputs": [
    {
     "data": {
      "text/plain": [
       "False"
      ]
     },
     "execution_count": 1,
     "metadata": {},
     "output_type": "execute_result"
    }
   ],
   "source": [
    "8 in [7,4,9]"
   ]
  },
  {
   "cell_type": "code",
   "execution_count": null,
   "metadata": {
    "scrolled": true
   },
   "outputs": [],
   "source": [
    "# Check if a string is not a substring\n",
    "'hello'  in 'hello world!'"
   ]
  },
  {
   "cell_type": "code",
   "execution_count": 2,
   "metadata": {},
   "outputs": [
    {
     "data": {
      "text/plain": [
       "True"
      ]
     },
     "execution_count": 2,
     "metadata": {},
     "output_type": "execute_result"
    }
   ],
   "source": [
    "'hello' in 'hello world'"
   ]
  },
  {
   "cell_type": "markdown",
   "metadata": {},
   "source": [
    "# Lecture 8/26 stopped here\n",
    "\n",
    "* Discuss variable types\n",
    "* Revisit and/or operators"
   ]
  },
  {
   "cell_type": "markdown",
   "metadata": {},
   "source": [
    "### Comparison Operators\n",
    "<b>You've seen `and`, `or`, `not`, `in` and `not in`.  There are also six comparison operators:</b>\n",
    "* `==`\n",
    "* `!=`\n",
    "* `>`\n",
    "* `<`\n",
    "* `>=`\n",
    "* `<=`"
   ]
  },
  {
   "cell_type": "code",
   "execution_count": 14,
   "metadata": {
    "ExecuteTime": {
     "end_time": "2016-06-28T22:27:19.135305",
     "start_time": "2016-06-28T22:27:19.120401"
    }
   },
   "outputs": [
    {
     "data": {
      "text/plain": [
       "True"
      ]
     },
     "execution_count": 14,
     "metadata": {},
     "output_type": "execute_result"
    }
   ],
   "source": [
    "# Is this True or False?  (For the floor operation in Python 3, the operator looks like '//')\n",
    "4>=4"
   ]
  },
  {
   "cell_type": "markdown",
   "metadata": {},
   "source": [
    "<b>Order of prescedence</b>\n",
    "1. parentheses\n",
    "* multiplication (*), division (/), remainder (%)\n",
    "* addition and subtraction\n",
    "* comparisons, membership and identity (`in`, `not in`, `is`, `is not`, and the six comparison operators above)\n",
    "* `not x`\n",
    "* `and`\n",
    "* `or`"
   ]
  },
  {
   "cell_type": "code",
   "execution_count": 9,
   "metadata": {},
   "outputs": [
    {
     "data": {
      "text/plain": [
       "16"
      ]
     },
     "execution_count": 9,
     "metadata": {},
     "output_type": "execute_result"
    }
   ],
   "source": [
    "(2*5)+6"
   ]
  },
  {
   "cell_type": "code",
   "execution_count": 16,
   "metadata": {},
   "outputs": [
    {
     "data": {
      "text/plain": [
       "True"
      ]
     },
     "execution_count": 16,
     "metadata": {},
     "output_type": "execute_result"
    }
   ],
   "source": [
    "# We can also use these operators on strings\n",
    "'abd' < 'ebc'"
   ]
  },
  {
   "cell_type": "markdown",
   "metadata": {},
   "source": [
    "More examples"
   ]
  },
  {
   "cell_type": "code",
   "execution_count": 7,
   "metadata": {
    "scrolled": true
   },
   "outputs": [
    {
     "name": "stdout",
     "output_type": "stream",
     "text": [
      "False\n",
      "True\n",
      "False\n",
      "True\n"
     ]
    }
   ],
   "source": [
    "#comparing numbers\n",
    "\n",
    "# print(2==1+1)\n",
    "# print(2!=1+1)\n",
    "# print(2>1+1)\n",
    "# print(2>=1+1)\n",
    "\n",
    "#Booleans\n",
    "print(2==1+1 and 2>1+1)\n",
    "\n",
    "print(2==1+1 or 2>1+1)\n",
    "\n",
    "print(2==1+1 & 3==2+1)\n",
    "\n",
    "print(not 2>1+1)"
   ]
  },
  {
   "cell_type": "code",
   "execution_count": 20,
   "metadata": {},
   "outputs": [
    {
     "data": {
      "text/plain": [
       "3.2"
      ]
     },
     "execution_count": 20,
     "metadata": {},
     "output_type": "execute_result"
    }
   ],
   "source": [
    "2.2+1"
   ]
  },
  {
   "cell_type": "markdown",
   "metadata": {},
   "source": [
    "# Program Flow\n",
    "\n",
    "- Like IKEA furniture assembly instructions, a program is a sequence of steps to be done in order (add link to ikea furniture instrutions)\n",
    "- Some steps are conditional—they will only be executed under certain conditions\n",
    "- Some steps are repeated multiple time\n",
    "- Some steps are stored and used all around through our program\n",
    "\n"
   ]
  },
  {
   "cell_type": "markdown",
   "metadata": {},
   "source": [
    "### Sequential steps\n",
    "\n",
    "When a program is running, it flows from one step to the next.  As programmers, we set up “paths” for the program to follow.\n",
    "\n",
    "Program\n",
    "\n",
    "x=2\n",
    "\n",
    "print(x)\n",
    "\n",
    "x=x+1\n",
    "\n",
    "print(x)\n",
    "\n",
    "\n",
    "### Conditional Steps\n",
    "\n",
    "Program:\n",
    "\n",
    "ER = 0.1\n",
    "\n",
    "if ER < 0.05:\n",
    "    print('sell')\n",
    "elif ER > 0.1:\n",
    "    print('Buy')\n",
    "else:    \n",
    "    print('do nothing')\n",
    "\n",
    "\n",
    "\n"
   ]
  },
  {
   "cell_type": "markdown",
   "metadata": {},
   "source": [
    "\n",
    "### *Comment on Indentation*\n",
    "\n",
    "In python identation has meaning!\n",
    "\n",
    "4 spaces imply that the idented space belongs to the above statement\n",
    "\n",
    "* Remember a program is a sequence of steps of codes. \n",
    "\n",
    "* Steps of codes with the same indentation together assemble a block of program. \n",
    "\n",
    "* Which means, if you want to execute more than one step at the same block, all those steps of codes should have the same indentation(generally 4, 8, 12, etc.). \n"
   ]
  },
  {
   "cell_type": "code",
   "execution_count": 25,
   "metadata": {},
   "outputs": [
    {
     "name": "stdout",
     "output_type": "stream",
     "text": [
      "1\n",
      "2\n",
      "4\n"
     ]
    }
   ],
   "source": [
    "x=2\n",
    "if x<4:\n",
    "    print(1)\n",
    "    print(2)\n",
    "else:\n",
    "    print(3)\n",
    "print(4)"
   ]
  },
  {
   "cell_type": "code",
   "execution_count": 29,
   "metadata": {},
   "outputs": [
    {
     "name": "stdout",
     "output_type": "stream",
     "text": [
      "Buy\n",
      "8\n",
      "8\n",
      "7\n"
     ]
    }
   ],
   "source": [
    "ER = 0.2\n",
    "\n",
    "if ER < 0.05:\n",
    "    print('sell')\n",
    "elif ER > 0.1:\n",
    "    print('Buy')\n",
    "    print(8)\n",
    "    print(8)\n",
    "    print(7)\n"
   ]
  },
  {
   "cell_type": "markdown",
   "metadata": {},
   "source": [
    "So the 4 white space have meaning!\n",
    "\n",
    "#### does every white space has meaning?\n",
    "\n",
    "\n",
    "No, not in general. Only the indentation level of your statements is significant (i.e. the whitespace at the very left of your statements). Everywhere else, whitespace is not significant and can be used as you like, just like in any other language. You can also insert empty lines that contain nothing (or only arbitrary whitespace) anywhere.\n",
    "\n",
    "But you can also write in line\n"
   ]
  },
  {
   "cell_type": "code",
   "execution_count": null,
   "metadata": {},
   "outputs": [],
   "source": [
    "x=22\n",
    "if x < 10: print('Smaller')\n",
    "    \n",
    "if x > 20: print('Bigger')\n",
    "    \n"
   ]
  },
  {
   "cell_type": "markdown",
   "metadata": {},
   "source": [
    "Jupyter will help you out here.\n",
    "\n",
    "LEts try typing code"
   ]
  },
  {
   "cell_type": "markdown",
   "metadata": {},
   "source": [
    "### DO NOT USE TAB to IDENT!!!!\n",
    "\n",
    "This can make the code change it's meaning as you change computer/plataform\n",
    "\n",
    "always use 4 spaces\n",
    "\n",
    "You can also use Ctrl+] to ident and Ctrl+[ to deident\n",
    "\n",
    "Only relative identation matters!"
   ]
  },
  {
   "cell_type": "code",
   "execution_count": 44,
   "metadata": {
    "scrolled": true
   },
   "outputs": [
    {
     "name": "stdout",
     "output_type": "stream",
     "text": [
      "Small\n"
     ]
    }
   ],
   "source": [
    "x=4\n",
    "if x < 10: \n",
    "    print('Small')\n",
    " "
   ]
  },
  {
   "cell_type": "markdown",
   "metadata": {},
   "source": [
    "Note that the second if statement \"belongs\" to the first. It is only execture if the program reaches that branch"
   ]
  },
  {
   "cell_type": "code",
   "execution_count": 5,
   "metadata": {},
   "outputs": [
    {
     "name": "stdout",
     "output_type": "stream",
     "text": [
      "and tiny\n"
     ]
    }
   ],
   "source": [
    "x=20\n",
    "if x < 10: \n",
    "    print('Small')\n",
    "elif x > 15: \n",
    "        print('and tiny')"
   ]
  },
  {
   "cell_type": "markdown",
   "metadata": {
    "collapsed": true
   },
   "source": [
    "### Repeated Steps\n",
    "\n",
    "\n",
    "Program:\n",
    "\n",
    "n = 5\n",
    "while n > 0 :\n",
    "\n",
    "    print(n)       \n",
    "    \n",
    "    n = n – 1\n",
    "    \n",
    "print('Blastoff!')\n",
    "\n",
    "Or also \n",
    "\n",
    "n=5\n",
    "\n",
    "for i in range(0,n):\n",
    "    \n",
    "    print(n-i)\n",
    "    \n",
    "print('Blastoff')    \n",
    "\n",
    "Python has two main ways to do repeated steps\n",
    "\n",
    "1. while: repeats a particular code while some condition is statisfied. \n",
    "2. for: goes through a prespecified list and repead the code until this list ends\n",
    "\n"
   ]
  },
  {
   "cell_type": "code",
   "execution_count": 6,
   "metadata": {},
   "outputs": [
    {
     "name": "stdout",
     "output_type": "stream",
     "text": [
      "5\n",
      "4\n",
      "3\n",
      "2\n",
      "1\n",
      "Blastoff\n"
     ]
    }
   ],
   "source": [
    "n = 5\n",
    "for i in range(n):\n",
    "    print(n - i)\n",
    "print('Blastoff')"
   ]
  },
  {
   "cell_type": "code",
   "execution_count": 54,
   "metadata": {},
   "outputs": [
    {
     "name": "stdout",
     "output_type": "stream",
     "text": [
      "brl\n",
      "usd\n",
      "eur\n",
      "cny\n",
      "Blastoff\n"
     ]
    },
    {
     "data": {
      "text/plain": [
       "'cny'"
      ]
     },
     "execution_count": 54,
     "metadata": {},
     "output_type": "execute_result"
    }
   ],
   "source": [
    "brazil='JACK'\n",
    "for brazil in ['brl','usd','eur','cny']:\n",
    "    print(brazil)\n",
    "print('Blastoff')\n",
    "brazil"
   ]
  },
  {
   "cell_type": "markdown",
   "metadata": {},
   "source": [
    "Question: what will be print as the result of following code:"
   ]
  },
  {
   "cell_type": "markdown",
   "metadata": {
    "collapsed": true
   },
   "source": [
    "n = 3\n",
    "for i in range(n):\n",
    "    print(i)"
   ]
  },
  {
   "cell_type": "markdown",
   "metadata": {},
   "source": [
    "<b>`while` loops</b>"
   ]
  },
  {
   "cell_type": "code",
   "execution_count": 47,
   "metadata": {},
   "outputs": [
    {
     "name": "stdout",
     "output_type": "stream",
     "text": [
      "5\n",
      "4\n",
      "3\n",
      "2\n",
      "1\n",
      "Blastoff!\n"
     ]
    }
   ],
   "source": [
    "n = 5\n",
    "while n > 0 :\n",
    "    print(n)       \n",
    "    n = n-1\n",
    "print('Blastoff!')\n",
    "\n",
    "\n"
   ]
  },
  {
   "cell_type": "markdown",
   "metadata": {},
   "source": [
    "<b>`for` loops</b>"
   ]
  },
  {
   "cell_type": "code",
   "execution_count": null,
   "metadata": {},
   "outputs": [],
   "source": [
    "for i in range(0,5):\n",
    "    print(5-i)\n",
    "print('Blastoff') "
   ]
  },
  {
   "cell_type": "code",
   "execution_count": 55,
   "metadata": {},
   "outputs": [
    {
     "name": "stdout",
     "output_type": "stream",
     "text": [
      "hello\n",
      "brave\n",
      "new\n",
      "world\n"
     ]
    }
   ],
   "source": [
    "# Iterating over a list of ints\n",
    "#  you'll learn more about lists in the DataStructures module\n",
    "# you can use fors to interate over anything, not just numbers!\n",
    "    \n",
    "# Iterating over a list of strings\n",
    "a = ['hello', 'brave', 'new', 'world']\n",
    "for item in a:\n",
    "    print(item)"
   ]
  },
  {
   "cell_type": "markdown",
   "metadata": {},
   "source": [
    "### More on Flow control\n",
    "* `continue` and `break`\n",
    "* `try` and `except` statements"
   ]
  },
  {
   "cell_type": "markdown",
   "metadata": {},
   "source": [
    "<b>`continue` and `break`</b>\n",
    "* Can use in any flow control type\n",
    "* Can use `continue` and `break` together or individually"
   ]
  },
  {
   "cell_type": "code",
   "execution_count": 7,
   "metadata": {},
   "outputs": [
    {
     "name": "stdout",
     "output_type": "stream",
     "text": [
      "found \"x\"\n",
      "21\n",
      "found \"x\"\n",
      "27\n"
     ]
    }
   ],
   "source": [
    "# Want only values passing a condition?\n",
    "# e.g. only print integers divisible by 10\n",
    "# range() as you'll see later is just a convenience method creating an array\n",
    "#   of numbers, here, from 0 to 99 (use help() function to learn more about range())\n",
    "# nums = range(100)\n",
    "# for n in nums:\n",
    "#     if n % 10 == 0:\n",
    "#         print(n)\n",
    "#     else:\n",
    "#         continue\n",
    "        \n",
    "# Stop when we've reached a condition\n",
    "# Using list() method on a string, splits it up into characters (print it if you'd like to check)\n",
    "letters = list('supercalifragilisticexpialixdocious')\n",
    "\n",
    "count=0\n",
    "for l in letters:\n",
    "    if l == 'x':\n",
    "        print('found \"x\"')\n",
    "        print(count)\n",
    "\n",
    "    \n",
    "    count=count+1"
   ]
  },
  {
   "cell_type": "code",
   "execution_count": 64,
   "metadata": {},
   "outputs": [
    {
     "data": {
      "text/plain": [
       "'x'"
      ]
     },
     "execution_count": 64,
     "metadata": {},
     "output_type": "execute_result"
    }
   ],
   "source": [
    "letters[27]"
   ]
  },
  {
   "cell_type": "markdown",
   "metadata": {
    "collapsed": true
   },
   "source": [
    "EXERCISE 3: Monitoring portfolio risk with conditionals and flow control statements\n",
    "* Say, we have some portfolio risk (here simulated with random numbers) in `data` variable.  If the risk of the portfolio goes above 50% twice in a row, we want to raise a warning and break out of this loop.\n",
    "\n",
    "* Fill in the blanks in the code cell below (Note: you may have to run the code cell a few times to see the warning pop up)"
   ]
  },
  {
   "cell_type": "code",
   "execution_count": 67,
   "metadata": {},
   "outputs": [
    {
     "data": {
      "text/plain": [
       "True"
      ]
     },
     "execution_count": 67,
     "metadata": {},
     "output_type": "execute_result"
    }
   ],
   "source": [
    "29 in range(0,30)"
   ]
  },
  {
   "cell_type": "code",
   "execution_count": 70,
   "metadata": {},
   "outputs": [
    {
     "name": "stdout",
     "output_type": "stream",
     "text": [
      "[119, 113, 28, 89, 83, 29, 3, 61, 100, 4, 27, 111, 103, 39, 95, 80, 10, 97, 55, 77]\n",
      "Warning, portfolio risk above 80 twice in a row.\n",
      "113\n"
     ]
    }
   ],
   "source": [
    "# Exercise:  flow control statements\n",
    "import random\n",
    "# Create some data points representing temperatures (degrees Celcius)\n",
    "data = random.sample(range(0, 120), 20)\n",
    "print(data)\n",
    "\n",
    "# b is going to hold our previous value\n",
    "b = 0\n",
    "th=80\n",
    "for x in data:\n",
    "    # Is current temp above 50?\n",
    "    if x > th:\n",
    "        # Was previous temp above 50?\n",
    "        if b > th:\n",
    "            print(''+ str(th)+ 'twice in a row.')\n",
    "            print(x)\n",
    "            break\n",
    "\n",
    "    b = x"
   ]
  },
  {
   "cell_type": "code",
   "execution_count": 12,
   "metadata": {},
   "outputs": [
    {
     "name": "stdout",
     "output_type": "stream",
     "text": [
      "[74, 21, 61, 95, 116, 47, 86, 65, 25, 40, 22, 38, 104, 43, 10, 93, 12, 7, 92, 42]\n",
      "Warning, portfolio risk above80twice in a row\n",
      "95\n"
     ]
    }
   ],
   "source": [
    "import random\n",
    "data = random.sample(range(0,120),20)\n",
    "print (data)\n",
    "b = 0\n",
    "th = 80\n",
    "for x in data:\n",
    "    if x > th:\n",
    "        print('Warning, portfolio risk above' + str(th) + 'twice in a row')\n",
    "        print (x)\n",
    "        break\n",
    "    "
   ]
  },
  {
   "cell_type": "markdown",
   "metadata": {},
   "source": [
    "**`try`/`except` statements**\n",
    "\n",
    "\n",
    "What if we try to access an element in a list which is out of it's range?\n",
    "```python\n",
    "letters = ['a', 'b', 'c', 'd']\n",
    "for i in range(10):\n",
    "    print(letters[i])\n",
    "```\n",
    "We get an IndexError as shown in this traceback print-out:\n",
    "\n",
    "```python\n",
    "---------------------------------------------------------------------------\n",
    "IndexError                                Traceback (most recent call last)\n",
    "<ipython-input-17-7700b7ec9e04> in <module>()\n",
    "      1 letters = list('abcde')\n",
    "      2 for i in range(10):\n",
    "----> 3     print(letters[i])\n",
    "\n",
    "IndexError: list index out of range\n",
    "```"
   ]
  },
  {
   "cell_type": "markdown",
   "metadata": {},
   "source": [
    "<b>The syntax is as follows:</b>\n",
    "\n",
    "```python\n",
    "try:\n",
    "    ...\n",
    "except ErrorName as e:\n",
    "   ...\n",
    "```"
   ]
  },
  {
   "cell_type": "code",
   "execution_count": 74,
   "metadata": {},
   "outputs": [
    {
     "name": "stdout",
     "output_type": "stream",
     "text": [
      "a\n",
      "b\n",
      "c\n",
      "d\n",
      "Oops!  Something went wrong: list index out of range\n",
      "4\n"
     ]
    }
   ],
   "source": [
    "# Handling exceptions with try/except statements\n",
    "\n",
    "# A list of strings\n",
    "letters = ['a', 'b', 'c', 'd']\n",
    "\n",
    "# Here we iterate over a list from 0 up to an index of 9 (that's what range(10) does)\n",
    "for i in range(10):\n",
    "    try:\n",
    "        # Print current letter\n",
    "        print(letters[i])\n",
    "    except IndexError as e:\n",
    "        # IndexError is the particular error and only error we catch here\n",
    "        print('Oops!  Something went wrong:', e)\n",
    "        print(i)\n",
    "        # Break out of loop now (so we don't keep getting this error)\n",
    "        break"
   ]
  },
  {
   "cell_type": "markdown",
   "metadata": {},
   "source": [
    "### Functions vs. methods"
   ]
  },
  {
   "cell_type": "markdown",
   "metadata": {},
   "source": [
    "Python has many built-in functions such as <code>print</code> and <code>help</code>.  If a function is part of the implementation of a specific type it is called a method.  Methods take their first argument before the function name followed by a period.  Here's a guide:\n",
    "<table style=\"width:75%\" align=\"left\">\n",
    "  <tr>\n",
    "    <td>Function</td>\n",
    "    <td>Built-in or user defined.  Syntax is name followed by arguments in parenthesis.</td>\n",
    "    <td>Example usage:<br> \n",
    "    `print('hello world.')`</td>\t\t\n",
    "  </tr>\n",
    "  <tr>\n",
    "    <td>Method</td>\n",
    "    <td>Part of implementation of a specific type.  Syntax is the variable of the specific type followed by a period and then the method name with arguments in parentheses.</td>\n",
    "    <td>Example usage:<br>\n",
    "    `s = 'abc'`<br>\n",
    "    `s.count('a')`\n",
    "    </td>\t\t\n",
    "  </tr>\n",
    "</table>\n",
    "<br>"
   ]
  },
  {
   "cell_type": "code",
   "execution_count": 77,
   "metadata": {},
   "outputs": [
    {
     "data": {
      "text/plain": [
       "'Abca'"
      ]
     },
     "execution_count": 77,
     "metadata": {},
     "output_type": "execute_result"
    }
   ],
   "source": [
    "s='abca'\n",
    "s.capitalize()"
   ]
  },
  {
   "cell_type": "code",
   "execution_count": 20,
   "metadata": {},
   "outputs": [
    {
     "data": {
      "text/plain": [
       "'I love python'"
      ]
     },
     "execution_count": 20,
     "metadata": {},
     "output_type": "execute_result"
    }
   ],
   "source": [
    "s= 'i love Python'\n",
    "s.capitalize()"
   ]
  },
  {
   "cell_type": "markdown",
   "metadata": {},
   "source": [
    "# Functional Programing\n",
    "\n",
    "Function are build in or custom made snippets of code that avoid repetition. A skilled programmer will use functions instead of repeating code. As this will minimize error.\n",
    "\n",
    "This is often know as DRY- Don't repeat yourself\n",
    "(https://en.wikipedia.org/wiki/Don%27t_repeat_yourself)\n",
    "\n",
    "Functions are also the way to tap the huge library of code available for python\n",
    "\n",
    "What is a function?\n",
    "\n",
    "1. piece of reusable code: print(), type()\n",
    "2. solves a specific task\n",
    "3. allows you to avoid repetition\n",
    "\n",
    "a general recipe to call a function is\n",
    "\n",
    "output = function_name(input)\n",
    "\n",
    "EXAMPLES"
   ]
  },
  {
   "cell_type": "code",
   "execution_count": 92,
   "metadata": {},
   "outputs": [],
   "source": [
    "A=[51,13,71,33,18]\n"
   ]
  },
  {
   "cell_type": "code",
   "execution_count": 79,
   "metadata": {},
   "outputs": [
    {
     "name": "stdout",
     "output_type": "stream",
     "text": [
      "13\n",
      "71\n",
      "5\n"
     ]
    }
   ],
   "source": [
    "# how to find the lowest value?\n",
    "\n",
    "print(min(A))\n",
    "\n",
    "# how to find the largest?\n",
    "\n",
    "print(max(A))\n",
    "\n",
    "# max and min are functions that solve this task. You can also implement this without using any functions. How would you do it?\n",
    "\n",
    "#How many numbers do we have in our list?\n",
    "\n",
    "print(len(A))\n",
    "\n",
    "\n"
   ]
  },
  {
   "cell_type": "code",
   "execution_count": 80,
   "metadata": {},
   "outputs": [
    {
     "name": "stdout",
     "output_type": "stream",
     "text": [
      "1.234\n"
     ]
    },
    {
     "data": {
      "text/plain": [
       "1"
      ]
     },
     "execution_count": 80,
     "metadata": {},
     "output_type": "execute_result"
    }
   ],
   "source": [
    "# yet another illustrative example is the function round wich takes two inputs as standard\n",
    "print(round(1.2345,3))\n",
    "# you can also just call with one input\n",
    "round(1.2345)"
   ]
  },
  {
   "cell_type": "code",
   "execution_count": 81,
   "metadata": {},
   "outputs": [],
   "source": [
    "round?"
   ]
  },
  {
   "cell_type": "markdown",
   "metadata": {
    "collapsed": true
   },
   "source": [
    "<b>Our first user-defined function</b>\n",
    "* Use the `def` syntax to define the function as follows:\n",
    "```python\n",
    "def func_name(args):\n",
    "    ...\n",
    "```"
   ]
  },
  {
   "cell_type": "code",
   "execution_count": 83,
   "metadata": {},
   "outputs": [],
   "source": [
    "investmetforretirement?"
   ]
  },
  {
   "cell_type": "code",
   "execution_count": 82,
   "metadata": {},
   "outputs": [
    {
     "name": "stdout",
     "output_type": "stream",
     "text": [
      "25\n"
     ]
    }
   ],
   "source": [
    "def investmetforretirement(age):\n",
    "# This is a docstring (always good idea!):\n",
    "    '''The investmetforretirement function calculates how much someone of a given age \\\n",
    "    will have in their reitrement account up to the retirement age if they invest at the \\\n",
    "    risk-free rate of 10%, returning a list.''' \n",
    "\n",
    "    return age\n",
    "        \n",
    "# Use our function and test results\n",
    "result = investmetforretirement(25)\n",
    "print(result)"
   ]
  },
  {
   "cell_type": "code",
   "execution_count": 87,
   "metadata": {},
   "outputs": [],
   "source": [
    "def investmetforretirement(age,rf=0.1,w=1,retirementage=65):\n",
    "# This is a docstring (always good idea!):\n",
    "    '''The investmetforretirement function calculates how much someone of a given age \\\n",
    "    will have in their reitrement account up to the retirement age if they invest at the \\\n",
    "    risk-free rate of 10%, returning a list.''' \n",
    "\n",
    "    wealth = []\n",
    "\n",
    "\n",
    "    while age < retirementage:\n",
    "        # Append method works on lists, in this case fibs\n",
    "        \n",
    "        wealth.append(w)\n",
    "        \n",
    "        # Reset a and b with new values\n",
    "        age = age+1\n",
    "        w = w*(1+rf)\n",
    "    \n",
    "    # Our function returns the final list of requested fibonacci numbers\n",
    "    return wealth\n",
    "        \n",
    "# Use our function and test results\n"
   ]
  },
  {
   "cell_type": "code",
   "execution_count": 89,
   "metadata": {},
   "outputs": [
    {
     "name": "stdout",
     "output_type": "stream",
     "text": [
      "[1, 0.98, 0.9603999999999999, 0.9411919999999999, 0.9223681599999999, 0.9039207967999998, 0.8858423808639998, 0.8681255332467198, 0.8507630225817854, 0.8337477621301497]\n"
     ]
    }
   ],
   "source": [
    "result = investmetforretirement(55,rf=-0.02)\n",
    "print(result)"
   ]
  },
  {
   "cell_type": "markdown",
   "metadata": {},
   "source": [
    "# Getting help"
   ]
  },
  {
   "cell_type": "code",
   "execution_count": null,
   "metadata": {},
   "outputs": [],
   "source": [
    "# Get docstring like so\n",
    "investmetforretirement.__doc__"
   ]
  },
  {
   "cell_type": "code",
   "execution_count": null,
   "metadata": {},
   "outputs": [],
   "source": [
    "# why both work?\n",
    "round?"
   ]
  },
  {
   "cell_type": "markdown",
   "metadata": {},
   "source": [
    "Note that :\n",
    "\n",
    "1. help(funname) opens the help of a function with name funname. This is very useful first step to understand what a function does. \n",
    "    - You can also write ?funname instead of help(funname)\n",
    "2. number [,ndigits] means that ndigits is an optional argument. \n",
    "3. The text above also tells us that 0 is the default value of ndigits is not assigned\n",
    "\n",
    "\n",
    "Python has also an alternative way of specify optional/default inputs. For example, lets conside the function sorted"
   ]
  },
  {
   "cell_type": "code",
   "execution_count": 21,
   "metadata": {},
   "outputs": [
    {
     "name": "stdout",
     "output_type": "stream",
     "text": [
      "Help on built-in function sorted in module builtins:\n",
      "\n",
      "sorted(iterable, /, *, key=None, reverse=False)\n",
      "    Return a new list containing all items from the iterable in ascending order.\n",
      "    \n",
      "    A custom key function can be supplied to customize the sort order, and the\n",
      "    reverse flag can be set to request the result in descending order.\n",
      "\n"
     ]
    }
   ],
   "source": [
    "help(sorted)"
   ]
  },
  {
   "cell_type": "markdown",
   "metadata": {},
   "source": [
    "Above we see that \n",
    "\n",
    "1. the iterable, for example a list, is required, \n",
    "2. if you do not specify the reverse input it is set to False\n",
    "3. if you do not specify the key input it is set to none\n",
    "4. You can choose to input none of the optional inputs, only key, only reverse, or both. Examples\n",
    "    a. sorted(alist)\n",
    "    b. sorted(alist,reverse=True)\n",
    "5. The key parameter can be used to specify a function to make comparisons. For example, you can use this to specify which column you want the sort to be based on. Or apply some transformation before sorting. Ignore this for now. For more info see (https://docs.python.org/3/howto/sorting.html)\n",
    "    \n"
   ]
  },
  {
   "cell_type": "code",
   "execution_count": 95,
   "metadata": {},
   "outputs": [
    {
     "name": "stdout",
     "output_type": "stream",
     "text": [
      "[51, 13, 71, 33, 18]\n"
     ]
    },
    {
     "data": {
      "text/plain": [
       "[13, 18, 33, 51, 71]"
      ]
     },
     "execution_count": 95,
     "metadata": {},
     "output_type": "execute_result"
    }
   ],
   "source": [
    "print(A)\n",
    "sorted(A)"
   ]
  },
  {
   "cell_type": "code",
   "execution_count": 96,
   "metadata": {},
   "outputs": [
    {
     "name": "stdout",
     "output_type": "stream",
     "text": [
      "[51, 13, 71, 33, 18]\n"
     ]
    }
   ],
   "source": [
    "print(A)"
   ]
  },
  {
   "cell_type": "markdown",
   "metadata": {},
   "source": [
    "But the best method is to have your browser open and simply google \"python function name\"\n",
    "\n",
    "Make sure to have python first so google gives you the appropriate answer.\n",
    "\n",
    "As everything else you can also google \"python\" and much more elaborated questions and you tend to get pretty good answers\n",
    "\n"
   ]
  },
  {
   "cell_type": "markdown",
   "metadata": {},
   "source": [
    "# Methods\n",
    "\n",
    "each object in python comes with a bunch of methods. Methods are functions specific to a method.\n",
    "\n",
    "you call a method as follows:\n",
    "\n",
    "object.method(input)\n",
    "\n",
    "you can type objet.(command Tab) to see the available methods\n",
    "\n",
    "ypu can also write help(type) to see available methods for a type\n",
    "\n",
    "Each object type will have specifc methods associater with it\n",
    "\n",
    "\n"
   ]
  },
  {
   "cell_type": "code",
   "execution_count": 98,
   "metadata": {},
   "outputs": [
    {
     "data": {
      "text/plain": [
       "[13, 18, 33, 51, 71]"
      ]
     },
     "execution_count": 98,
     "metadata": {},
     "output_type": "execute_result"
    }
   ],
   "source": [
    "A.sort()\n",
    "\n",
    "A"
   ]
  },
  {
   "cell_type": "markdown",
   "metadata": {},
   "source": [
    "String in particular have several methods"
   ]
  },
  {
   "cell_type": "code",
   "execution_count": 99,
   "metadata": {},
   "outputs": [],
   "source": [
    "description='future value'"
   ]
  },
  {
   "cell_type": "code",
   "execution_count": 100,
   "metadata": {},
   "outputs": [
    {
     "name": "stdout",
     "output_type": "stream",
     "text": [
      "Future value\n",
      "past value\n",
      "True\n",
      "5\n",
      "2\n"
     ]
    }
   ],
   "source": [
    "print(description.capitalize())\n",
    "print(description.replace('future','past'))\n",
    "print(description.endswith('e'))\n",
    "print(description.index('e'))\n",
    "print(description.count('e'))\n"
   ]
  },
  {
   "cell_type": "markdown",
   "metadata": {},
   "source": [
    "String manipulation is something that is really really useful and is really an entire course\n",
    "\n",
    "We will not use that much at all, since we will use numbers as data\n",
    "\n",
    "But by the end of the class you should be ready to learn string manipulation by yourself.\n"
   ]
  },
  {
   "cell_type": "markdown",
   "metadata": {},
   "source": [
    "List also have "
   ]
  },
  {
   "cell_type": "code",
   "execution_count": 101,
   "metadata": {},
   "outputs": [
    {
     "data": {
      "text/plain": [
       "[13, 18, 33, 51, 71]"
      ]
     },
     "execution_count": 101,
     "metadata": {},
     "output_type": "execute_result"
    }
   ],
   "source": [
    "A"
   ]
  },
  {
   "cell_type": "code",
   "execution_count": 104,
   "metadata": {
    "scrolled": true
   },
   "outputs": [
    {
     "name": "stdout",
     "output_type": "stream",
     "text": [
      "[13, 18, 33, 51, 71, 0, 0]\n"
     ]
    },
    {
     "data": {
      "text/plain": [
       "51"
      ]
     },
     "execution_count": 104,
     "metadata": {},
     "output_type": "execute_result"
    }
   ],
   "source": [
    "A.append(0)\n",
    "print(A)\n",
    "A.pop(3)\n"
   ]
  },
  {
   "cell_type": "code",
   "execution_count": 105,
   "metadata": {},
   "outputs": [
    {
     "data": {
      "text/plain": [
       "[13, 18, 33, 71, 0, 0]"
      ]
     },
     "execution_count": 105,
     "metadata": {},
     "output_type": "execute_result"
    }
   ],
   "source": [
    "A"
   ]
  },
  {
   "cell_type": "markdown",
   "metadata": {},
   "source": [
    "# Data structures\n"
   ]
  },
  {
   "cell_type": "markdown",
   "metadata": {},
   "source": [
    "### Lists\n",
    "\n",
    "To work with multiple data points we use lists. Lists can contain any type. In particular it can contain lists.\n"
   ]
  },
  {
   "cell_type": "code",
   "execution_count": 24,
   "metadata": {},
   "outputs": [],
   "source": [
    "\n",
    "portfoliosvalue=[1.23, 3.4, 6.7]\n",
    "portfoliosowner=['sarah','jack','andrea']\n",
    "portfolios=[['sarah',1.23],['jack',3.4],['andrea',6.7]]"
   ]
  },
  {
   "cell_type": "code",
   "execution_count": 25,
   "metadata": {},
   "outputs": [
    {
     "data": {
      "text/plain": [
       "[['sarah', 1.23], ['jack', 3.4], ['andrea', 6.7]]"
      ]
     },
     "execution_count": 25,
     "metadata": {},
     "output_type": "execute_result"
    }
   ],
   "source": [
    "portfolios"
   ]
  },
  {
   "cell_type": "markdown",
   "metadata": {},
   "source": [
    "What is a valid list?\n",
    "\n",
    "    A. [1, 3, 4, 25] \n",
    "    B. [[1, 25, 3], [ 55, 75]]\n",
    "    C. [1 + 6, \"sarah\" * 3, 2]"
   ]
  },
  {
   "cell_type": "code",
   "execution_count": 26,
   "metadata": {},
   "outputs": [
    {
     "data": {
      "text/plain": [
       "[7, 'sarahsarahsarah', 2]"
      ]
     },
     "execution_count": 26,
     "metadata": {},
     "output_type": "execute_result"
    }
   ],
   "source": [
    "[1 + 6, \"sarah\" * 3, 2]"
   ]
  },
  {
   "cell_type": "markdown",
   "metadata": {},
   "source": [
    "We can make a list of lists"
   ]
  },
  {
   "cell_type": "code",
   "execution_count": 27,
   "metadata": {},
   "outputs": [
    {
     "data": {
      "text/plain": [
       "list"
      ]
     },
     "execution_count": 27,
     "metadata": {},
     "output_type": "execute_result"
    }
   ],
   "source": [
    "a = [23, 42, 18]\n",
    "b = [30, 60, 90]\n",
    "c=[a, b, [],'rt']\n",
    "type(c)"
   ]
  },
  {
   "cell_type": "markdown",
   "metadata": {},
   "source": [
    "### Indexing\n",
    "\n"
   ]
  },
  {
   "cell_type": "markdown",
   "metadata": {},
   "source": [
    "Subscripting\n",
    "> Hey!  In Python the index starts at 0.\n",
    "\n",
    "Slicing\n",
    "> Watch out!  The ending index in a slice is excluded."
   ]
  },
  {
   "cell_type": "markdown",
   "metadata": {},
   "source": [
    "1. the first entry is zero\n",
    "2. you can acess the list from the end by using negative numbers with -1 being the last, -2 the one before the last and so on"
   ]
  },
  {
   "cell_type": "code",
   "execution_count": 28,
   "metadata": {},
   "outputs": [
    {
     "name": "stdout",
     "output_type": "stream",
     "text": [
      "[1.23]\n"
     ]
    }
   ],
   "source": [
    "print(portfoliosvalue[0:-2])\n"
   ]
  },
  {
   "cell_type": "markdown",
   "metadata": {},
   "source": [
    "We can also recover a range of values through slicing. \n",
    "\n",
    "We specify a range that recovers a new list that is a slice of the original list.\n",
    "\n",
    "We write listname[a:b], where a and b are integers smaller that the total list size. This recover all items between a and b-1. \n",
    "\n",
    "As a convention the last item is excluded.\n",
    "\n",
    "You can also type\n",
    "\n",
    "1. listname[:b] to recover everything up to b (excluding b)\n",
    "2. listname[a:] to recover everything starting at a (including a)\n",
    "3. listname[a:b] to recove everything from a to b (excluding b)"
   ]
  },
  {
   "cell_type": "code",
   "execution_count": 29,
   "metadata": {},
   "outputs": [
    {
     "data": {
      "text/plain": [
       "[1.23]"
      ]
     },
     "execution_count": 29,
     "metadata": {},
     "output_type": "execute_result"
    }
   ],
   "source": [
    "portfoliosvalue[0:1]"
   ]
  },
  {
   "cell_type": "markdown",
   "metadata": {},
   "source": [
    "To subset lists of lists, you can use the same technique as before: square brackets. Try out the commands in the following code sample in the IPython Shell:\n",
    "\n",
    "portfolios[2][0]\n",
    "portfolios[2][:2]\n",
    "\n",
    "portfolios[2] results in a list, that you can subset again by adding additional square brackets."
   ]
  },
  {
   "cell_type": "code",
   "execution_count": 30,
   "metadata": {},
   "outputs": [
    {
     "data": {
      "text/plain": [
       "[['sarah', 1.23], ['jack', 3.4], ['andrea', 6.7]]"
      ]
     },
     "execution_count": 30,
     "metadata": {},
     "output_type": "execute_result"
    }
   ],
   "source": [
    "portfolios"
   ]
  },
  {
   "cell_type": "code",
   "execution_count": 125,
   "metadata": {},
   "outputs": [
    {
     "data": {
      "text/plain": [
       "['jack', 3.4]"
      ]
     },
     "execution_count": 125,
     "metadata": {},
     "output_type": "execute_result"
    }
   ],
   "source": [
    "a=portfolios[0:2]\n",
    "a[1]"
   ]
  },
  {
   "cell_type": "markdown",
   "metadata": {},
   "source": [
    "We can also manipulate lists!\n",
    "\n",
    "Lets say Sarah's portfolio grew to 1.5 dollars, then we write"
   ]
  },
  {
   "cell_type": "code",
   "execution_count": 34,
   "metadata": {},
   "outputs": [
    {
     "name": "stdout",
     "output_type": "stream",
     "text": [
      "[['sarah', 1.5], ['jack', 3.4], ['andrea', 1.5]]\n",
      "[1.5, ['jack', 3.4], ['andrea', 1.5]]\n"
     ]
    }
   ],
   "source": [
    "# in the case of the list of list construction\n",
    "portfolios[2][1]=1.5\n",
    "print(portfolios)\n",
    "# # or in the case of a simple list\n",
    "portfolios[0]=1.5\n",
    "print(portfolios)"
   ]
  },
  {
   "cell_type": "markdown",
   "metadata": {},
   "source": [
    "You can also change multiple entries at once with slicing"
   ]
  },
  {
   "cell_type": "code",
   "execution_count": 35,
   "metadata": {},
   "outputs": [
    {
     "name": "stdout",
     "output_type": "stream",
     "text": [
      "[['sarah', 1.5], ['jack', 3.4], ['andrea', 1.5]]\n"
     ]
    }
   ],
   "source": [
    "portfolios[0]=['sarah', 1.5]\n",
    "print(portfolios)"
   ]
  },
  {
   "cell_type": "code",
   "execution_count": 32,
   "metadata": {},
   "outputs": [
    {
     "data": {
      "text/plain": [
       "[1.23, 3.4]"
      ]
     },
     "execution_count": 32,
     "metadata": {},
     "output_type": "execute_result"
    }
   ],
   "source": [
    "portfoliosvalue[0:2]"
   ]
  },
  {
   "cell_type": "code",
   "execution_count": 40,
   "metadata": {},
   "outputs": [
    {
     "name": "stdout",
     "output_type": "stream",
     "text": [
      "[1.4, 1.7, 7, 8, 6.7, 4, 2.5, 2.5]\n"
     ]
    }
   ],
   "source": [
    "portfoliosvalue[0:2]=[1.4,1.7,7,8]\n",
    "print(portfoliosvalue)"
   ]
  },
  {
   "cell_type": "markdown",
   "metadata": {},
   "source": [
    "You can add and delete elements to a list as well:\n",
    "\n",
    "1. to delete just write del(listname[positiontobedeleted])\n",
    "2. to add just write listname=listname+newelement"
   ]
  },
  {
   "cell_type": "code",
   "execution_count": 42,
   "metadata": {},
   "outputs": [
    {
     "name": "stdout",
     "output_type": "stream",
     "text": [
      "[1.4, 1.7, 7, 4, 6.7, 4, 2.5, 2.5, 2.5]\n",
      "[1.4, 1.7, 7, 4, 6.7, 4, 2.5, 2.5, 2.5, 2.5]\n",
      "[1.4, 1.7, 7, 6.7, 4, 2.5, 2.5, 2.5, 2.5]\n",
      "[1.4, 1.7, 7, 4, 6.7, 4, 2.5, 2.5, 2.5, 2.5]\n"
     ]
    }
   ],
   "source": [
    "print(portfoliosvalue)\n",
    "portfoliosvalue=portfoliosvalue+[2.5]\n",
    "print(portfoliosvalue)\n",
    "del(portfoliosvalue[3])\n",
    "print(portfoliosvalue)\n",
    "\n",
    "portfoliosvalue.insert(3,4)\n",
    "print(portfoliosvalue)"
   ]
  },
  {
   "cell_type": "code",
   "execution_count": 48,
   "metadata": {},
   "outputs": [
    {
     "ename": "TypeError",
     "evalue": "'str' object is not callable",
     "output_type": "error",
     "traceback": [
      "\u001b[1;31m---------------------------------------------------------------------------\u001b[0m",
      "\u001b[1;31mTypeError\u001b[0m                                 Traceback (most recent call last)",
      "\u001b[1;32m<ipython-input-48-79229a63858a>\u001b[0m in \u001b[0;36m<module>\u001b[1;34m\u001b[0m\n\u001b[0;32m      1\u001b[0m \u001b[1;32mfor\u001b[0m \u001b[0mi\u001b[0m \u001b[1;32min\u001b[0m \u001b[0mrange\u001b[0m\u001b[1;33m(\u001b[0m\u001b[0mlen\u001b[0m\u001b[1;33m(\u001b[0m\u001b[0mportfoliosvalue\u001b[0m\u001b[1;33m)\u001b[0m\u001b[1;33m)\u001b[0m\u001b[1;33m:\u001b[0m\u001b[1;33m\u001b[0m\u001b[1;33m\u001b[0m\u001b[0m\n\u001b[1;32m----> 2\u001b[1;33m     \u001b[0mportfoliosvalue\u001b[0m\u001b[1;33m[\u001b[0m\u001b[0mi\u001b[0m\u001b[1;33m]\u001b[0m\u001b[1;33m=\u001b[0m\u001b[0mstr\u001b[0m\u001b[1;33m(\u001b[0m\u001b[0mportfoliosvalue\u001b[0m\u001b[1;33m[\u001b[0m\u001b[0mi\u001b[0m\u001b[1;33m]\u001b[0m\u001b[1;33m)\u001b[0m\u001b[1;33m+\u001b[0m\u001b[1;34m'jack'\u001b[0m\u001b[1;33m\u001b[0m\u001b[1;33m\u001b[0m\u001b[0m\n\u001b[0m",
      "\u001b[1;31mTypeError\u001b[0m: 'str' object is not callable"
     ]
    }
   ],
   "source": [
    "for i in range(len(portfoliosvalue)):\n",
    "    portfoliosvalue[i]=str(portfoliosvalue[i])+'jack'"
   ]
  },
  {
   "cell_type": "code",
   "execution_count": 43,
   "metadata": {},
   "outputs": [
    {
     "data": {
      "text/plain": [
       "[1.4, 1.7, 7, 4, 6.7, 4, 2.5, 2.5, 2.5, 2.5]"
      ]
     },
     "execution_count": 43,
     "metadata": {},
     "output_type": "execute_result"
    }
   ],
   "source": [
    "portfoliosvalue"
   ]
  },
  {
   "cell_type": "markdown",
   "metadata": {},
   "source": [
    "Important note regarding copying lists\n",
    "\n",
    "b=a\n",
    "\n",
    "creates b to be equal to a, so if you change a, b also changes. Under the hood, a and b point to the same list object.\n",
    "\n",
    "To make a true independent copy of the list you can write b=a.copy()\n",
    "\n",
    "to see the difference:"
   ]
  },
  {
   "cell_type": "markdown",
   "metadata": {},
   "source": [
    "# Lecture 8/28 ended here"
   ]
  },
  {
   "cell_type": "code",
   "execution_count": 49,
   "metadata": {},
   "outputs": [
    {
     "data": {
      "text/plain": [
       "[1.4, 1.7, 7, 4, 6.7, 4, 2.5, 2.5, 2.5, 2.5]"
      ]
     },
     "execution_count": 49,
     "metadata": {},
     "output_type": "execute_result"
    }
   ],
   "source": [
    "portfoliosvalue"
   ]
  },
  {
   "cell_type": "code",
   "execution_count": 50,
   "metadata": {},
   "outputs": [
    {
     "name": "stdout",
     "output_type": "stream",
     "text": [
      "[1.4, 1.7, 7, 4, 6.7, 4, 2.5, 2.5, 2.5, 2.5]\n",
      "[1.4, 1.7, 7, 4, 6.7, 4, 2.5, 2.5, 2.5, 2.5, 2.5]\n",
      "[1.4, 1.7, 7, 6.7, 4, 2.5, 2.5, 2.5, 2.5, 2.5]\n"
     ]
    }
   ],
   "source": [
    "print(portfoliosvalue)\n",
    "portfoliosvalue=portfoliosvalue+[2.5]\n",
    "print(portfoliosvalue)\n",
    "del(portfoliosvalue[3])\n",
    "print(portfoliosvalue)\n",
    "\n"
   ]
  },
  {
   "cell_type": "markdown",
   "metadata": {},
   "source": [
    "Important note regarding copying lists\n",
    "\n",
    "b=a\n",
    "\n",
    "creates b to be equal to a, so if you change a, b also changes. Under the hood, a and b point to the same list object.\n",
    "\n",
    "To make a true independent copy of the list you can write b=a.copy()\n",
    "\n",
    "to see the difference:"
   ]
  },
  {
   "cell_type": "code",
   "execution_count": 51,
   "metadata": {},
   "outputs": [
    {
     "name": "stdout",
     "output_type": "stream",
     "text": [
      "[1.4, 1.7, 7, 6.7, 4, 2.5, 2.5, 2.5, 2.5, 2.5]\n",
      "[1.4, 1.7, 7, 6.7, 4, 2.5, 2.5, 2.5, 2.5, 2.5]\n",
      "[1.4, 1.7, 7, 6.7, 4, 2.5, 2.5, 2.5, 2.5, 2.5]\n"
     ]
    }
   ],
   "source": [
    "\n",
    "p1=portfoliosvalue\n",
    "p2=portfoliosvalue.copy()\n",
    "print(portfoliosvalue)\n",
    "print(p1)\n",
    "print(p2)\n"
   ]
  },
  {
   "cell_type": "code",
   "execution_count": 53,
   "metadata": {
    "scrolled": false
   },
   "outputs": [
    {
     "name": "stdout",
     "output_type": "stream",
     "text": [
      "[0.1, 1.7, 7, 6.7, 4, 2.5, 2.5, 2.5, 2.5, 2.5]\n",
      "[0.1, 1.7, 7, 6.7, 4, 2.5, 2.5, 2.5, 2.5, 2.5]\n",
      "[0.1, 1.7, 7, 6.7, 4, 2.5, 2.5, 2.5, 2.5, 2.5]\n"
     ]
    }
   ],
   "source": [
    "portfoliosvalue[0]=0.1\n",
    "p1=portfoliosvalue\n",
    "p2=portfoliosvalue.copy()\n",
    "print(portfoliosvalue)\n",
    "print(p1)\n",
    "print(p2)"
   ]
  },
  {
   "cell_type": "code",
   "execution_count": 54,
   "metadata": {},
   "outputs": [
    {
     "data": {
      "text/plain": [
       "[0.1, 1.7, 10, 6.7, 4, 2.5, 2.5, 2.5, 2.5, 2.5]"
      ]
     },
     "execution_count": 54,
     "metadata": {},
     "output_type": "execute_result"
    }
   ],
   "source": [
    "p1[2]=10\n",
    "portfoliosvalue"
   ]
  },
  {
   "cell_type": "markdown",
   "metadata": {},
   "source": [
    "Looping over a list"
   ]
  },
  {
   "cell_type": "code",
   "execution_count": 55,
   "metadata": {},
   "outputs": [
    {
     "name": "stdout",
     "output_type": "stream",
     "text": [
      "['sarah', 1.5]\n",
      "['jack', 3.4]\n",
      "['andrea', 1.5]\n"
     ]
    }
   ],
   "source": [
    "for bill in portfolios:\n",
    "    print(bill)"
   ]
  },
  {
   "cell_type": "markdown",
   "metadata": {},
   "source": [
    "Unpacking a list"
   ]
  },
  {
   "cell_type": "code",
   "execution_count": 56,
   "metadata": {},
   "outputs": [
    {
     "data": {
      "text/plain": [
       "[['sarah', 1.5], ['jack', 3.4], ['andrea', 1.5]]"
      ]
     },
     "execution_count": 56,
     "metadata": {},
     "output_type": "execute_result"
    }
   ],
   "source": [
    "portfolios"
   ]
  },
  {
   "cell_type": "code",
   "execution_count": 14,
   "metadata": {},
   "outputs": [
    {
     "name": "stdout",
     "output_type": "stream",
     "text": [
      "['sarah', 1.23]\n",
      "[['jack', 3.4], ['andrea', 6.7]]\n"
     ]
    }
   ],
   "source": [
    "# We can unpack items in a list:\n",
    "x, *n = portfolios\n",
    "print(x)\n",
    "print(n)\n"
   ]
  },
  {
   "cell_type": "markdown",
   "metadata": {},
   "source": [
    "> Note:  We can unpack an *unknown* number of variables with the `*` notation\n",
    "```python\n",
    "x, *n = container\n",
    "```\n",
    "e.g. n will get [9, 10]\n",
    "```python\n",
    "x, *n = [8, 9, 10]\n",
    "```"
   ]
  },
  {
   "cell_type": "code",
   "execution_count": 58,
   "metadata": {},
   "outputs": [],
   "source": [
    "x,*n =portfolios"
   ]
  },
  {
   "cell_type": "code",
   "execution_count": 59,
   "metadata": {},
   "outputs": [
    {
     "name": "stdout",
     "output_type": "stream",
     "text": [
      "['sarah', 1.5]\n",
      "[['jack', 3.4], ['andrea', 1.5]]\n"
     ]
    }
   ],
   "source": [
    "print(x)\n",
    "print(n)\n"
   ]
  },
  {
   "cell_type": "markdown",
   "metadata": {},
   "source": [
    "List"
   ]
  },
  {
   "cell_type": "code",
   "execution_count": 60,
   "metadata": {},
   "outputs": [
    {
     "data": {
      "text/plain": [
       "['c', 'a']"
      ]
     },
     "execution_count": 60,
     "metadata": {},
     "output_type": "execute_result"
    }
   ],
   "source": [
    "# Split string into characters (one way at least)\n",
    "a = list('ca')\n",
    "a"
   ]
  },
  {
   "cell_type": "markdown",
   "metadata": {},
   "source": [
    "Append"
   ]
  },
  {
   "cell_type": "code",
   "execution_count": 61,
   "metadata": {},
   "outputs": [
    {
     "data": {
      "text/plain": [
       "['c', 'a', 't']"
      ]
     },
     "execution_count": 61,
     "metadata": {},
     "output_type": "execute_result"
    }
   ],
   "source": [
    "# Add an element to end of list (append)\n",
    "a.append('t')\n",
    "a"
   ]
  },
  {
   "cell_type": "markdown",
   "metadata": {},
   "source": [
    "Extend"
   ]
  },
  {
   "cell_type": "code",
   "execution_count": null,
   "metadata": {
    "collapsed": true
   },
   "outputs": [],
   "source": [
    "# Let's create another list\n",
    "b = list('thehats')\n",
    "\n",
    "# Extend list a with b\n",
    "a.extend(b)\n",
    "a\n",
    "# how is this different from append?"
   ]
  },
  {
   "cell_type": "markdown",
   "metadata": {},
   "source": [
    "Insert"
   ]
  },
  {
   "cell_type": "code",
   "execution_count": 18,
   "metadata": {
    "scrolled": true
   },
   "outputs": [
    {
     "data": {
      "text/plain": [
       "['i', 'c', 'a', 't', 'n', 'i', 'n']"
      ]
     },
     "execution_count": 18,
     "metadata": {},
     "output_type": "execute_result"
    }
   ],
   "source": [
    "# Insert some letters at a particular index\n",
    "a.insert(0, 'i')\n",
    "a.insert(4, 'n')\n",
    "a"
   ]
  },
  {
   "cell_type": "markdown",
   "metadata": {},
   "source": [
    "POP"
   ]
  },
  {
   "cell_type": "code",
   "execution_count": 20,
   "metadata": {},
   "outputs": [
    {
     "name": "stdout",
     "output_type": "stream",
     "text": [
      "t\n",
      "['i', 'c', 'a', 'n', 'i']\n"
     ]
    }
   ],
   "source": [
    "# Remove last element\n",
    "r = a.pop(3)\n",
    "\n",
    "# What did we just remove?\n",
    "print(r)\n",
    "\n",
    "# What is in 'a' now?\n",
    "print(a)"
   ]
  },
  {
   "cell_type": "markdown",
   "metadata": {},
   "source": [
    "There are many other data structures\n",
    "\n",
    "Some of them build on the list, for example the Dataframe from pandas that we will see next class\n",
    "\n",
    "Others have completely different structures\n",
    "\n",
    "Two important ones are\n",
    "\n",
    "- Tuples\n",
    "- Dictionaries\n",
    "\n",
    "They are less useful for the type of analysis we will be doing\n",
    "\n"
   ]
  },
  {
   "cell_type": "markdown",
   "metadata": {},
   "source": [
    "#### Why data structures are important?\n",
    "\n",
    "Because we will be storing data in these strucutres, and learning how to find, sort, and manipulate these data is the conerstone of data analysis"
   ]
  },
  {
   "cell_type": "markdown",
   "metadata": {},
   "source": [
    "\n",
    "# Packages\n",
    "\n",
    " - directories of python script\n",
    " - each script specify functions, methods, types\n",
    " - Lots of packages available for specific types of tasks\n",
    " \n",
    "     * matplotlib: data visualization\n",
    "     * numpy: array manipulation\n",
    "     * pandas: database\n",
    "     * Scipy: statisitical package\n",
    "\n",
    "How to install a package?\n",
    "\n",
    "\n",
    "If you have the anaconda distribution:\n",
    "\n",
    "https://conda.io/docs/using/pkgs.html\n",
    "\n",
    " * conda list\n",
    " * conda install packagename\n",
    " * conda update packagename\n",
    " \n",
    " \n",
    " Once installed you have to import the package in a specific stance.\n",
    " \n",
    " Please remember:\n",
    " \n",
    " - This needs to be imported in each new active python session.\n",
    " \n",
    " - This way you only import what you need\n",
    " \n",
    " - Several different options\n",
    " \n",
    "   - Import a particular method o f the package\n",
    "   \n",
    "       * from numpy import array\n",
    "       \n",
    "   - Import the package with it's own name\n",
    "   \n",
    "       * import numpy\n",
    "       \n",
    "   - change the package name\n",
    "    \n",
    "      * import numpy as np \n",
    "   "
   ]
  },
  {
   "cell_type": "markdown",
   "metadata": {},
   "source": [
    "# Numerical Programing"
   ]
  },
  {
   "cell_type": "markdown",
   "metadata": {},
   "source": [
    "# NUMPY\n",
    "\n",
    "- NumPy is a first-rate library for numerical programming\n",
    "\n",
    "- Widely used in academia, finance and industry\n",
    "\n",
    "- Mature, fast, stable and under continuous development\n",
    "\n",
    "- In this lecture we introduce NumPy arrays and the fundamental array processing operations provided by NumPy\n",
    "\n",
    "Important Notes\n",
    "\n",
    "\n",
    "- The essential problem that NumPy solves is fast array processing\n",
    "\n",
    "- For example, suppose we want to create an array of 1 million random draws from a uniform distribution and compute the mean\n",
    "\n",
    "- If we did this in pure Python it would be orders of magnitude slower than C or Fortran\n",
    "\n",
    "This is because\n",
    "\n",
    "- Loops in Python over Python data types like lists carry significant overhead\n",
    " - C and Fortran code contains a lot of type information that can be used for optimization\n",
    " - Various optimizations can be carried out during compilation, when the compiler sees the instructions as a whole\n",
    "\n",
    "However, for a task like the one described above there’s no need to switch back to C or Fortran\n",
    "\n",
    "Instead we can use NumPy, where the instructions look like this:"
   ]
  },
  {
   "cell_type": "code",
   "execution_count": 64,
   "metadata": {},
   "outputs": [],
   "source": [
    "import numpy as np"
   ]
  },
  {
   "cell_type": "code",
   "execution_count": 65,
   "metadata": {
    "scrolled": true
   },
   "outputs": [
    {
     "name": "stdout",
     "output_type": "stream",
     "text": [
      "[2 3 4]\n",
      "[ 2  6 24]\n",
      "3.0\n",
      "[2 5 9]\n"
     ]
    }
   ],
   "source": [
    "x=np.array([2,3,4])\n",
    "print(x)\n",
    "print(x.cumprod())\n",
    "print(x.mean())\n",
    "\n",
    "print(np.cumsum(x))\n"
   ]
  },
  {
   "cell_type": "markdown",
   "metadata": {},
   "source": [
    ">What is the difference between a list and an array?"
   ]
  },
  {
   "cell_type": "markdown",
   "metadata": {},
   "source": [
    "Lets start by creating a vector of random numbers\n",
    "\n",
    "Here we are sampling from a normal distribution\n",
    "\n",
    "$$X\\sim N(0.1,0.2^2)$$"
   ]
  },
  {
   "cell_type": "code",
   "execution_count": 66,
   "metadata": {},
   "outputs": [
    {
     "data": {
      "text/plain": [
       "-0.029570441714646966"
      ]
     },
     "execution_count": 66,
     "metadata": {},
     "output_type": "execute_result"
    }
   ],
   "source": [
    "X=np.random.normal(0,1,12*100)\n",
    "X.mean()"
   ]
  },
  {
   "cell_type": "code",
   "execution_count": 67,
   "metadata": {},
   "outputs": [
    {
     "data": {
      "text/plain": [
       "[-0.029570441714646966,\n",
       " 3.2751660691171347,\n",
       " -3.4558276374433983,\n",
       " 0.9978459983963588]"
      ]
     },
     "execution_count": 67,
     "metadata": {},
     "output_type": "execute_result"
    }
   ],
   "source": [
    "[X.mean(),X.max(),X.min(),X.std()]"
   ]
  },
  {
   "cell_type": "markdown",
   "metadata": {},
   "source": [
    "# A Comment on Vectorization\n",
    "\n",
    "NumPy is great for operations that are naturally vectorized\n",
    "\n",
    "Vectorized operations are precompiled routines that can be sent in batches, like\n",
    " - matrix multiplication and other linear algebra routines\n",
    " - generating a vector of random numbers\n",
    " - applying a fixed transformation (e.g., sine or cosine) to an entire array\n",
    "\n",
    "\n",
    "# NumPy Arrays\n",
    "\n",
    "The most important thing that NumPy defines is an array data type formally called a numpy.ndarray\n",
    "\n",
    "NumPy arrays power a large proportion of the scientific Python ecosystem\n",
    "\n",
    "To create a NumPy array containing only zeros we use np.zeros"
   ]
  },
  {
   "cell_type": "code",
   "execution_count": 68,
   "metadata": {},
   "outputs": [
    {
     "data": {
      "text/plain": [
       "array([4., 4., 4., 4., 4.])"
      ]
     },
     "execution_count": 68,
     "metadata": {},
     "output_type": "execute_result"
    }
   ],
   "source": [
    "a = np.ones(5)*4\n",
    "a"
   ]
  },
  {
   "cell_type": "code",
   "execution_count": 69,
   "metadata": {},
   "outputs": [
    {
     "data": {
      "text/plain": [
       "numpy.ndarray"
      ]
     },
     "execution_count": 69,
     "metadata": {},
     "output_type": "execute_result"
    }
   ],
   "source": [
    "type(a)"
   ]
  },
  {
   "cell_type": "markdown",
   "metadata": {},
   "source": [
    "NumPy arrays are somewhat like native Python lists, except that\n",
    " - Data must be homogeneous (all elements of the same type)\n",
    " - These types must be one of the data types (dtypes) provided by NumPy\n",
    "The most important of these dtypes are:\n",
    " - float64: 64 bit floating point number\n",
    " - int64: 64 bit integer\n",
    " - bool: 8 bit True or False\n",
    "\n",
    "There are also dtypes to represent complex numbers, unsigned integers, etc\n",
    "\n",
    "On modern machines, the default dtype for arrays is float64"
   ]
  },
  {
   "cell_type": "code",
   "execution_count": 70,
   "metadata": {},
   "outputs": [
    {
     "data": {
      "text/plain": [
       "numpy.float64"
      ]
     },
     "execution_count": 70,
     "metadata": {},
     "output_type": "execute_result"
    }
   ],
   "source": [
    "type(a[0])"
   ]
  },
  {
   "cell_type": "code",
   "execution_count": 71,
   "metadata": {},
   "outputs": [
    {
     "data": {
      "text/plain": [
       "numpy.bool_"
      ]
     },
     "execution_count": 71,
     "metadata": {},
     "output_type": "execute_result"
    }
   ],
   "source": [
    "b=np.array([True,False])\n",
    "type(b[0])"
   ]
  },
  {
   "cell_type": "markdown",
   "metadata": {},
   "source": [
    "# Shape and Dimension\n",
    "\n",
    "Consider the following assignment"
   ]
  },
  {
   "cell_type": "code",
   "execution_count": 72,
   "metadata": {},
   "outputs": [
    {
     "data": {
      "text/plain": [
       "array([0., 0., 0., 0., 0., 0., 0., 0., 0., 0.])"
      ]
     },
     "execution_count": 72,
     "metadata": {},
     "output_type": "execute_result"
    }
   ],
   "source": [
    "z = np.zeros(10)\n",
    "z"
   ]
  },
  {
   "cell_type": "markdown",
   "metadata": {},
   "source": [
    "Here z is a flat array with no dimension — neither row nor column vector\n",
    "\n",
    "The dimension is recorded in the shape attribute, which is a tuple"
   ]
  },
  {
   "cell_type": "code",
   "execution_count": 73,
   "metadata": {},
   "outputs": [
    {
     "data": {
      "text/plain": [
       "array([[0., 0.],\n",
       "       [0., 0.],\n",
       "       [0., 0.],\n",
       "       [0., 0.],\n",
       "       [0., 0.]])"
      ]
     },
     "execution_count": 73,
     "metadata": {},
     "output_type": "execute_result"
    }
   ],
   "source": [
    "z.shape=(5,2)\n",
    "z"
   ]
  },
  {
   "cell_type": "code",
   "execution_count": 74,
   "metadata": {},
   "outputs": [
    {
     "data": {
      "text/plain": [
       "(10, 2)"
      ]
     },
     "execution_count": 74,
     "metadata": {},
     "output_type": "execute_result"
    }
   ],
   "source": [
    "z = np.zeros((10,2))\n",
    "z.shape\n"
   ]
  },
  {
   "cell_type": "markdown",
   "metadata": {},
   "source": [
    "We can easily reshape an array"
   ]
  },
  {
   "cell_type": "code",
   "execution_count": 75,
   "metadata": {
    "scrolled": true
   },
   "outputs": [
    {
     "data": {
      "text/plain": [
       "array([[0., 0., 0., 0.],\n",
       "       [0., 0., 0., 0.],\n",
       "       [0., 0., 0., 0.],\n",
       "       [0., 0., 0., 0.],\n",
       "       [0., 0., 0., 0.]])"
      ]
     },
     "execution_count": 75,
     "metadata": {},
     "output_type": "execute_result"
    }
   ],
   "source": [
    "z.shape=(5,4)\n",
    "z"
   ]
  },
  {
   "cell_type": "markdown",
   "metadata": {},
   "source": [
    "# Creating arrays\n",
    "\n",
    "As we’ve seen, the np.zeros function creates an array of zeros\n",
    "\n",
    "You can probably guess what np.ones creates\n",
    "\n"
   ]
  },
  {
   "cell_type": "code",
   "execution_count": 76,
   "metadata": {},
   "outputs": [
    {
     "data": {
      "text/plain": [
       "array([1, 3, 4])"
      ]
     },
     "execution_count": 76,
     "metadata": {},
     "output_type": "execute_result"
    }
   ],
   "source": [
    "np.array([1,3,4])"
   ]
  },
  {
   "cell_type": "code",
   "execution_count": 77,
   "metadata": {
    "scrolled": true
   },
   "outputs": [
    {
     "data": {
      "text/plain": [
       "array([[3, 4],\n",
       "       [5, 6]])"
      ]
     },
     "execution_count": 77,
     "metadata": {},
     "output_type": "execute_result"
    }
   ],
   "source": [
    "np.array([[3,4],[5,6]])"
   ]
  },
  {
   "cell_type": "markdown",
   "metadata": {},
   "source": [
    "<b>Slicing a 1D array</b>\n",
    "* IMPORTANT: Slicing in NumPy does not return a copy, but rather what we call a <b>view</b>.\n",
    "* If we modify the view, the original np array is <b>also modified</b>.\n",
    "* If we truly want a copy we would use the `copy()` method.\n",
    "\n",
    "<br>\n",
    "Here's some proof that a <b>slice is a view for ndarrays</b> and changes to it will modify the original data:"
   ]
  },
  {
   "cell_type": "code",
   "execution_count": 78,
   "metadata": {},
   "outputs": [],
   "source": [
    "a = np.array([1, 2, 3, 4, 5])\n",
    "\n",
    "# let's hold on to the original\n",
    "a_orig = a.copy()\n",
    "\n",
    "# A slice (3rd through 4th elements)\n",
    "view = a[2:4]\n",
    "\n",
    "\n",
    "\n",
    "# What changed if anything?  print \"a\" and \"a_orig\"\n"
   ]
  },
  {
   "cell_type": "code",
   "execution_count": 79,
   "metadata": {},
   "outputs": [
    {
     "data": {
      "text/plain": [
       "array([ 3, 10])"
      ]
     },
     "execution_count": 79,
     "metadata": {},
     "output_type": "execute_result"
    }
   ],
   "source": [
    "view[1]=10\n",
    "view"
   ]
  },
  {
   "cell_type": "code",
   "execution_count": 80,
   "metadata": {},
   "outputs": [
    {
     "data": {
      "text/plain": [
       "array([ 1,  2,  3, 10,  5])"
      ]
     },
     "execution_count": 80,
     "metadata": {},
     "output_type": "execute_result"
    }
   ],
   "source": [
    "a"
   ]
  },
  {
   "cell_type": "markdown",
   "metadata": {},
   "source": [
    "<b>Assignment via slicing</b>"
   ]
  },
  {
   "cell_type": "code",
   "execution_count": 81,
   "metadata": {},
   "outputs": [
    {
     "name": "stdout",
     "output_type": "stream",
     "text": [
      "[1 2 3 4 5]\n",
      "[1 2 4 5 5]\n"
     ]
    }
   ],
   "source": [
    "a = np.array([1, 2, 3, 4, 5])\n",
    "print(a)\n",
    "\n",
    "# Set 3rd through 4th elements to a scalar (note: indexing is not inclusive of the last index number)\n",
    "a[2:4] = [4,5]\n",
    "print(a)"
   ]
  },
  {
   "cell_type": "markdown",
   "metadata": {},
   "source": [
    "### 2D arrays"
   ]
  },
  {
   "cell_type": "code",
   "execution_count": 64,
   "metadata": {},
   "outputs": [
    {
     "name": "stdout",
     "output_type": "stream",
     "text": [
      "[[ 0  1  2  3  4]\n",
      " [ 5  6  7  8  9]\n",
      " [10 11 12 13 14]]\n"
     ]
    }
   ],
   "source": [
    "a2d = np.array([range(5), range(5, 10), range(10, 15)])\n",
    "print(a2d)"
   ]
  },
  {
   "cell_type": "markdown",
   "metadata": {},
   "source": [
    "<b>Subscription</b>\n",
    "* Two ways to access an element of 2D array"
   ]
  },
  {
   "cell_type": "code",
   "execution_count": 65,
   "metadata": {},
   "outputs": [
    {
     "name": "stdout",
     "output_type": "stream",
     "text": [
      "3\n"
     ]
    }
   ],
   "source": [
    "# First way\n",
    "x = a2d[0][3]\n",
    "print(x)\n",
    "\n",
    "# What do you think the second way is?  If you like R, this is familiar.  \n",
    "# Write some code here...\n"
   ]
  },
  {
   "cell_type": "code",
   "execution_count": 67,
   "metadata": {},
   "outputs": [
    {
     "name": "stdout",
     "output_type": "stream",
     "text": [
      "3\n"
     ]
    }
   ],
   "source": [
    "# Alternate subscription of 2D array\n",
    "\n",
    "# This way\n",
    "x = a2d[0, 3]\n",
    "print(x)\n"
   ]
  },
  {
   "cell_type": "markdown",
   "metadata": {},
   "source": [
    "<b>Using `reshape()`</b>\n",
    "* Will conform a 1D array to an ND array"
   ]
  },
  {
   "cell_type": "code",
   "execution_count": 72,
   "metadata": {},
   "outputs": [
    {
     "data": {
      "text/plain": [
       "array([[ 0,  1,  2,  3,  4,  5,  6,  7,  8,  9, 10, 11, 12, 13, 14]])"
      ]
     },
     "execution_count": 72,
     "metadata": {},
     "output_type": "execute_result"
    }
   ],
   "source": [
    "a2d.shape=(1,15)\n",
    "a2d"
   ]
  },
  {
   "cell_type": "code",
   "execution_count": 73,
   "metadata": {},
   "outputs": [
    {
     "data": {
      "text/plain": [
       "array([[ 0,  1,  2,  3,  4],\n",
       "       [ 5,  6,  7,  8,  9],\n",
       "       [10, 11, 12, 13, 14]])"
      ]
     },
     "execution_count": 73,
     "metadata": {},
     "output_type": "execute_result"
    }
   ],
   "source": [
    "# Instead of (to create one array containing three arrays)\n",
    "a2d = np.array([range(5), range(5, 10), range(10, 15)])\n",
    "\n",
    "# We could just do this\n",
    "a2d = np.arange(15).reshape(3, 5)\n",
    "\n",
    "a2d"
   ]
  },
  {
   "cell_type": "code",
   "execution_count": 74,
   "metadata": {},
   "outputs": [],
   "source": [
    "a2d = np.arange(0, 16)\n"
   ]
  },
  {
   "cell_type": "code",
   "execution_count": 75,
   "metadata": {},
   "outputs": [
    {
     "data": {
      "text/plain": [
       "array([ 0,  1,  2,  3,  4,  5,  6,  7,  8,  9, 10, 11, 12, 13, 14, 15])"
      ]
     },
     "execution_count": 75,
     "metadata": {},
     "output_type": "execute_result"
    }
   ],
   "source": [
    "a2d"
   ]
  },
  {
   "cell_type": "code",
   "execution_count": 77,
   "metadata": {
    "scrolled": true
   },
   "outputs": [
    {
     "data": {
      "text/plain": [
       "array([[ 0,  1,  2,  3],\n",
       "       [ 4,  5,  6,  7],\n",
       "       [ 8,  9, 10, 11],\n",
       "       [12, 13, 14, 15]])"
      ]
     },
     "execution_count": 77,
     "metadata": {},
     "output_type": "execute_result"
    }
   ],
   "source": [
    "a2d=a2d.reshape(4, 4)\n",
    "# We saw how to slice 1D arrays, e.g. a1d[1], now a2d[1] would be a 1D array\n",
    "\n",
    "# If we want rows 2 and 3 we would use a range of indices\n",
    "a2d"
   ]
  },
  {
   "cell_type": "code",
   "execution_count": 82,
   "metadata": {},
   "outputs": [
    {
     "data": {
      "text/plain": [
       "array([ 7, 11])"
      ]
     },
     "execution_count": 82,
     "metadata": {},
     "output_type": "execute_result"
    }
   ],
   "source": [
    "a2d[1:3,3]"
   ]
  },
  {
   "cell_type": "code",
   "execution_count": null,
   "metadata": {
    "collapsed": true
   },
   "outputs": [],
   "source": [
    "# What about column 4?\n",
    "a2d[:, 3]"
   ]
  },
  {
   "cell_type": "markdown",
   "metadata": {},
   "source": [
    "EXERCISE 1: Initializing and slicing 2D arrays\n",
    "* Initialize a 3x4 2D array with all even numbers between 1 and 25 (HINT: use `arange`'s argument `step`)\n",
    "```python\n",
    "# e.g. Even numbers starting at 0 to 10\n",
    "np.arange(0, 10, step = 2)\n",
    "```\n",
    "* Slice out the 1st and 3rd element in the 1st row"
   ]
  },
  {
   "cell_type": "code",
   "execution_count": 93,
   "metadata": {},
   "outputs": [
    {
     "data": {
      "text/plain": [
       "array([2, 6])"
      ]
     },
     "execution_count": 93,
     "metadata": {},
     "output_type": "execute_result"
    }
   ],
   "source": [
    "a=np.arange(2,25,step=2).reshape((3,4))[0][[0,2]]\n",
    "a"
   ]
  },
  {
   "cell_type": "code",
   "execution_count": 90,
   "metadata": {},
   "outputs": [],
   "source": [
    "a=a[0]"
   ]
  },
  {
   "cell_type": "code",
   "execution_count": 92,
   "metadata": {},
   "outputs": [
    {
     "data": {
      "text/plain": [
       "array([2, 6])"
      ]
     },
     "execution_count": 92,
     "metadata": {},
     "output_type": "execute_result"
    }
   ],
   "source": [
    "a[[0,2]]"
   ]
  },
  {
   "cell_type": "markdown",
   "metadata": {},
   "source": [
    "### 3D arrays"
   ]
  },
  {
   "cell_type": "code",
   "execution_count": 95,
   "metadata": {},
   "outputs": [
    {
     "name": "stdout",
     "output_type": "stream",
     "text": [
      "[[[ 1  2  3  4  5]\n",
      "  [ 6  7  8  9 10]]\n",
      "\n",
      " [[11 12 13 14 15]\n",
      "  [16 17 18 19 20]]]\n"
     ]
    }
   ],
   "source": [
    "# 2x2x5 array (explicitly initialized with literals)\n",
    "a3d = np.array([[[1, 2, 3, 4, 5], \n",
    "                 [6, 7, 8, 9, 10]], \n",
    "                [[11, 12, 13, 14, 15], \n",
    "                 [16, 17, 18, 19, 20]]])\n",
    "print(a3d)\n",
    "\n"
   ]
  },
  {
   "cell_type": "code",
   "execution_count": 101,
   "metadata": {},
   "outputs": [
    {
     "data": {
      "text/plain": [
       "14"
      ]
     },
     "execution_count": 101,
     "metadata": {},
     "output_type": "execute_result"
    }
   ],
   "source": [
    "a3d[1,0,3]"
   ]
  },
  {
   "cell_type": "code",
   "execution_count": 102,
   "metadata": {},
   "outputs": [
    {
     "name": "stdout",
     "output_type": "stream",
     "text": [
      "[[[ 1  2  3  4  5]\n",
      "  [ 6  7  8  9 10]]\n",
      "\n",
      " [[11 12 13 14 15]\n",
      "  [16 17 18 19 20]]]\n"
     ]
    }
   ],
   "source": [
    "# Or just do this\n",
    "a3d = np.arange(1, 21).reshape(2, 2, 5)\n",
    "print(a3d)"
   ]
  },
  {
   "cell_type": "markdown",
   "metadata": {},
   "source": [
    "EXERCISE 2: Slicing 3D arrays\n",
    "* Use what you've seen about slicing 1D and 2D arrays to:\n",
    "  1. Slice out the first 2D array from the above 3D array\n",
    "  2. Slice out the second 1D from the first 2D array\n",
    "  3. Slice out the third element in the second 1D array from the first 2D array"
   ]
  },
  {
   "cell_type": "code",
   "execution_count": 105,
   "metadata": {},
   "outputs": [
    {
     "data": {
      "text/plain": [
       "8"
      ]
     },
     "execution_count": 105,
     "metadata": {},
     "output_type": "execute_result"
    }
   ],
   "source": [
    "a3d[0][1][2]"
   ]
  },
  {
   "cell_type": "markdown",
   "metadata": {},
   "source": [
    "### Array Methods\n",
    "\n",
    "Arrays have useful methods, all of which are carefully optimized\n",
    "\n",
    "| Method         |                                             |\n",
    "|----------------:---------------------------------------------|\n",
    "|X.sort()        |Sorts in place                             \n",
    "|X.sum()         |Sum \n",
    "|A.mean()        |Mean \n",
    "|A.max()         |Max \n",
    "|A.argmax()      |Returns the index of the maximal element \n",
    "|A.cumsum()      |Cumulative sum of the elements of A \n",
    "|A.cumprod()     |Cumulative product of the elements of A\n",
    "|A.var()         |Variance"
   ]
  },
  {
   "cell_type": "markdown",
   "metadata": {},
   "source": [
    "### Indexing"
   ]
  },
  {
   "cell_type": "markdown",
   "metadata": {},
   "source": [
    "<b>Boolean indexing</b>\n",
    "* IMPORTANT: Boolean indexing creates a <b>copy</b> unlike slicing"
   ]
  },
  {
   "cell_type": "code",
   "execution_count": 107,
   "metadata": {},
   "outputs": [
    {
     "name": "stdout",
     "output_type": "stream",
     "text": [
      "[[-0.0063147  -0.93739359 -0.81387242 -0.02279272]\n",
      " [-1.49319934  0.10069627  0.96655096 -1.09809194]\n",
      " [-0.24702343  1.19515253  0.50852865 -1.5623913 ]\n",
      " [-0.4220533  -1.7610381   0.44466756 -1.887036  ]\n",
      " [ 1.14174275  1.35537992 -0.50529451 -0.14043131]\n",
      " [ 0.28421054  1.09545846 -0.82163887  0.02861198]\n",
      " [-1.20404395  0.32300328  0.15346051  0.35330397]]\n"
     ]
    }
   ],
   "source": [
    "# 7x4 2D array with some normally distributed random numbers\n",
    "data = np.random.randn(7, 4)\n",
    "print(data)\n",
    "\n",
    "# Our boolean indexer\n",
    "bindex = np.array([True, False, False, True, False, True, False])\n",
    "\n",
    "# Are we slicing by rows or columns?"
   ]
  },
  {
   "cell_type": "code",
   "execution_count": 118,
   "metadata": {},
   "outputs": [
    {
     "data": {
      "text/plain": [
       "array([False,  True, False, False, False, False,  True])"
      ]
     },
     "execution_count": 118,
     "metadata": {},
     "output_type": "execute_result"
    }
   ],
   "source": [
    "bindex=data[:,0]<-0.5\n",
    "bindex"
   ]
  },
  {
   "cell_type": "code",
   "execution_count": 120,
   "metadata": {},
   "outputs": [
    {
     "data": {
      "text/plain": [
       "array([[-1.49319934,  0.10069627,  0.96655096, -1.09809194],\n",
       "       [-1.20404395,  0.32300328,  0.15346051,  0.35330397]])"
      ]
     },
     "execution_count": 120,
     "metadata": {},
     "output_type": "execute_result"
    }
   ],
   "source": [
    "# let's slice with the boolean indexer now\n",
    "data[bindex]"
   ]
  },
  {
   "cell_type": "code",
   "execution_count": null,
   "metadata": {
    "collapsed": true
   },
   "outputs": [],
   "source": [
    "# alternatively\n",
    "data[bindex,:]"
   ]
  },
  {
   "cell_type": "code",
   "execution_count": null,
   "metadata": {
    "collapsed": true
   },
   "outputs": [],
   "source": [
    "cindex = np.array([True, False, False, True])\n",
    "data[:,cindex]"
   ]
  },
  {
   "cell_type": "markdown",
   "metadata": {},
   "source": [
    "<b>Booleans to set a swath of values</b>"
   ]
  },
  {
   "cell_type": "code",
   "execution_count": 121,
   "metadata": {},
   "outputs": [
    {
     "name": "stdout",
     "output_type": "stream",
     "text": [
      "[[ 1.06858691  1.3763398  -0.94818002  1.31577803]\n",
      " [-1.54472973  0.26244176 -0.68825586 -0.02487021]\n",
      " [ 0.14392672 -1.17544535 -0.29737126  0.37479063]\n",
      " [-1.97841199 -0.07697963 -0.95218081  1.43800002]\n",
      " [-0.24995851 -0.69396302  0.95241403 -0.53902388]\n",
      " [ 2.41714874  0.82678676 -0.02756736  1.3408368 ]\n",
      " [ 1.55075303 -0.99779865 -0.15034837  1.43675428]]\n"
     ]
    },
    {
     "data": {
      "text/plain": [
       "array([[False, False,  True, False],\n",
       "       [ True, False,  True,  True],\n",
       "       [False,  True,  True, False],\n",
       "       [ True,  True,  True, False],\n",
       "       [ True,  True, False,  True],\n",
       "       [False, False,  True, False],\n",
       "       [False,  True,  True, False]])"
      ]
     },
     "execution_count": 121,
     "metadata": {},
     "output_type": "execute_result"
    }
   ],
   "source": [
    "data = np.random.randn(7, 4)\n",
    "print(data)\n",
    "data<0"
   ]
  },
  {
   "cell_type": "code",
   "execution_count": 122,
   "metadata": {},
   "outputs": [
    {
     "data": {
      "text/plain": [
       "array([[1.06858691, 1.3763398 , 0.        , 1.31577803],\n",
       "       [0.        , 0.26244176, 0.        , 0.        ],\n",
       "       [0.14392672, 0.        , 0.        , 0.37479063],\n",
       "       [0.        , 0.        , 0.        , 1.43800002],\n",
       "       [0.        , 0.        , 0.95241403, 0.        ],\n",
       "       [2.41714874, 0.82678676, 0.        , 1.3408368 ],\n",
       "       [1.55075303, 0.        , 0.        , 1.43675428]])"
      ]
     },
     "execution_count": 122,
     "metadata": {},
     "output_type": "execute_result"
    }
   ],
   "source": [
    "data[data < 0] = 0\n",
    "data"
   ]
  },
  {
   "cell_type": "code",
   "execution_count": 125,
   "metadata": {},
   "outputs": [
    {
     "data": {
      "text/plain": [
       "array([[8.        , 8.        , 8.        , 8.        ],\n",
       "       [0.        , 0.26244176, 0.        , 0.        ],\n",
       "       [0.14392672, 0.        , 0.        , 0.37479063],\n",
       "       [8.        , 8.        , 8.        , 8.        ],\n",
       "       [0.        , 0.        , 0.95241403, 0.        ],\n",
       "       [8.        , 8.        , 8.        , 8.        ],\n",
       "       [1.55075303, 0.        , 0.        , 1.43675428]])"
      ]
     },
     "execution_count": 125,
     "metadata": {},
     "output_type": "execute_result"
    }
   ],
   "source": [
    "# Set a whole row or set of rows to a scalar\n",
    "\n",
    "# Our boolean indexer\n",
    "bindex = np.array([True, False, False, True, False, True, False])\n",
    "\n",
    "data[bindex]=np.ones((3,4))*8\n",
    "data"
   ]
  },
  {
   "cell_type": "markdown",
   "metadata": {},
   "source": [
    "### Transposing"
   ]
  },
  {
   "cell_type": "code",
   "execution_count": 126,
   "metadata": {},
   "outputs": [
    {
     "name": "stdout",
     "output_type": "stream",
     "text": [
      "[[2 2 3 3]\n",
      " [4 3 5 3]\n",
      " [3 4 3 5]]\n",
      "[[2 4 3]\n",
      " [2 3 4]\n",
      " [3 5 3]\n",
      " [3 3 5]]\n"
     ]
    }
   ],
   "source": [
    "# Initialize 2D array with some random integers between 1 and 5\n",
    "data = np.random.randint(1, 6, size = 12).reshape(3, 4)\n",
    "print(data)\n",
    "\n",
    "dataT = data.T # could also use transpose() method\n",
    "print(dataT)"
   ]
  },
  {
   "cell_type": "markdown",
   "metadata": {},
   "source": [
    "### Universal functions "
   ]
  },
  {
   "cell_type": "code",
   "execution_count": 127,
   "metadata": {},
   "outputs": [
    {
     "name": "stdout",
     "output_type": "stream",
     "text": [
      "[0 1 2 3 4 5 6 7 8 9]\n",
      "[0.         1.         1.41421356 1.73205081 2.         2.23606798\n",
      " 2.44948974 2.64575131 2.82842712 3.        ]\n"
     ]
    }
   ],
   "source": [
    "# 1D array\n",
    "a = np.arange(10)\n",
    "print(a)\n",
    "\n",
    "# A  example of an unary functions (that applies to one array)\n",
    "\n",
    "sqroot = np.sqrt(a)\n",
    "print(sqroot)\n",
    "\n"
   ]
  },
  {
   "cell_type": "code",
   "execution_count": 128,
   "metadata": {},
   "outputs": [
    {
     "name": "stdout",
     "output_type": "stream",
     "text": [
      "[-0.05477242  0.51678043 -0.48583409  0.09163798 -0.50906337  1.11987135\n",
      " -0.23516478  1.9013746  -1.19870753  1.90761969]\n"
     ]
    }
   ],
   "source": [
    "# let's make a couple of 1D arrays\n",
    "a = np.random.randn(10)\n",
    "b = np.random.randn(10)\n",
    "\n",
    "# An example of a binary funcion, i.e., that applies to two arrays\n",
    "\n",
    "maxes = np.maximum(a, b)\n",
    "print(maxes)\n",
    "\n"
   ]
  },
  {
   "cell_type": "markdown",
   "metadata": {},
   "source": [
    "> For more information on available `ufuncs` visit the scipy/numpy docs [here](http://docs.scipy.org/doc/numpy/reference/ufuncs.html#available-ufuncs).  Also, just note `numpy` uses the concept of <b>broadcasting</b> when performing operations (like `+ - * /` and `ufuncs`) on ndarrays to decide how to handle disparately shaped inputs.  More info [here](http://docs.scipy.org/doc/numpy/reference/ufuncs.html#broadcasting)."
   ]
  },
  {
   "cell_type": "markdown",
   "metadata": {},
   "source": [
    "### Conditional logic with `np.where`\n",
    "* A great way to vectorize: `x if condition else y`\n",
    "* In the following example, a boolean array (the condition), is used to choose an element either in the first 1D array or second 1D array."
   ]
  },
  {
   "cell_type": "code",
   "execution_count": 129,
   "metadata": {},
   "outputs": [
    {
     "name": "stdout",
     "output_type": "stream",
     "text": [
      "[0 1 2 3 4]\n",
      "[5 6 7 8 9]\n"
     ]
    }
   ],
   "source": [
    "# Two 1D arrays\n",
    "a = np.arange(5)\n",
    "b = np.arange(5, 10)\n",
    "print(a)\n",
    "print(b)\n",
    "# A boolean indexer as the condition (decides from which 1D array to choose an element)\n",
    "# i.e. if value is True - choose element from a, else choose element from b\n",
    "cond = np.array([True, False, False, True, False])"
   ]
  },
  {
   "cell_type": "code",
   "execution_count": 130,
   "metadata": {},
   "outputs": [
    {
     "name": "stdout",
     "output_type": "stream",
     "text": [
      "[0 6 7 3 9]\n"
     ]
    }
   ],
   "source": [
    "\n",
    "# The better faster numpy way (especially for larger arrays!)\n",
    "result = np.where(cond, a, b)\n",
    "print(result)\n",
    "\n",
    "# could cond be an anonymous function?  Try!"
   ]
  },
  {
   "cell_type": "code",
   "execution_count": 134,
   "metadata": {},
   "outputs": [
    {
     "data": {
      "text/plain": [
       "0.0"
      ]
     },
     "execution_count": 134,
     "metadata": {},
     "output_type": "execute_result"
    }
   ],
   "source": [
    "float(cond[1])*1"
   ]
  },
  {
   "cell_type": "code",
   "execution_count": 135,
   "metadata": {},
   "outputs": [
    {
     "name": "stdout",
     "output_type": "stream",
     "text": [
      "[0 6 7 3 9]\n",
      "[0 1 1 0 1]\n",
      "[ True False False  True False]\n",
      "[1 0 0 1 0]\n"
     ]
    }
   ],
   "source": [
    "# alternatively\n",
    "\n",
    "result=cond*a+(1-cond)*b\n",
    "print(result)\n",
    "# note that\n",
    "print(1-cond)\n",
    "print(cond)\n",
    "print(1*cond)"
   ]
  },
  {
   "cell_type": "markdown",
   "metadata": {},
   "source": [
    "### Numpy and linear algebra"
   ]
  },
  {
   "cell_type": "markdown",
   "metadata": {},
   "source": [
    "<b>Linear algebra library `numpy.linalg`</b>\n",
    "* Like MATLAB and R, this library is (under the hood) implemented with Fortran libraries\n",
    "* Also, this is just the very tip of the iceberg"
   ]
  },
  {
   "cell_type": "code",
   "execution_count": 137,
   "metadata": {},
   "outputs": [
    {
     "name": "stdout",
     "output_type": "stream",
     "text": [
      "X: [[ 2.08379107 -0.17100016  0.54992217]\n",
      " [-0.8770204   0.27999326  0.74433079]\n",
      " [-1.66372503  0.04418352 -0.35768126]]\n",
      "X.T: [[ 2.08379107 -0.8770204  -1.66372503]\n",
      " [-0.17100016  0.27999326  0.04418352]\n",
      " [ 0.54992217  0.74433079 -0.35768126]]\n",
      "X^-1: [[-0.59645032 -6.95847373  1.91477589]\n",
      " [-0.165285    0.76032168  0.86273033]\n",
      " [-1.26097733 -9.11618373  1.94344664]]\n"
     ]
    }
   ],
   "source": [
    "from numpy.linalg import inv, eig\n",
    "\n",
    "# let's take a numpy array and treat it like a matrix\n",
    "X = np.random.randn(3, 3)\n",
    "print('X:', X)\n",
    "\n",
    "# Transpose\n",
    "X = X.T\n",
    "print('X.T:', X)\n",
    "\n",
    "# Inverse matrix\n",
    "Xi = inv(X)\n",
    "print('X^-1:', Xi)\n",
    "\n"
   ]
  },
  {
   "cell_type": "code",
   "execution_count": 138,
   "metadata": {},
   "outputs": [
    {
     "data": {
      "text/plain": [
       "array([[ 1.00000000e+00, -1.84942585e-16, -1.84078347e-16],\n",
       "       [-2.95800487e-18,  1.00000000e+00,  3.37162527e-17],\n",
       "       [ 2.63687361e-17, -1.14980248e-16,  1.00000000e+00]])"
      ]
     },
     "execution_count": 138,
     "metadata": {},
     "output_type": "execute_result"
    }
   ],
   "source": [
    "X@Xi"
   ]
  },
  {
   "cell_type": "code",
   "execution_count": 139,
   "metadata": {},
   "outputs": [
    {
     "name": "stdout",
     "output_type": "stream",
     "text": [
      "Eigenvalues:  [1.81483121+0.j         0.09563592+0.33727618j 0.09563592-0.33727618j]\n",
      "Eigenvectors:  [[-0.972116  +0.j         -0.60108023-0.18998345j -0.60108023+0.18998345j]\n",
      " [ 0.10223056+0.j         -0.0127388 -0.1995239j  -0.0127388 +0.1995239j ]\n",
      " [-0.21104357+0.j         -0.75009118+0.j         -0.75009118-0.j        ]]\n"
     ]
    }
   ],
   "source": [
    "# Decomposition example: eigenvalues/eigenvectors\n",
    "evalues, evectors = eig(X)\n",
    "print('Eigenvalues: ', evalues)\n",
    "print('Eigenvectors: ', evectors)"
   ]
  },
  {
   "cell_type": "markdown",
   "metadata": {},
   "source": [
    "### When would this operations be useful to finance?\n",
    "\n",
    "* Matrix inversion: Key to find the mean-variance-efficient portfolio\n",
    "* eigen value decomposition: useful to find factors that drive stock returns. Key to implement theories such as the APT that you learned in fin 411\n"
   ]
  },
  {
   "cell_type": "markdown",
   "metadata": {},
   "source": [
    "# Operations on Arrays\n",
    "\n",
    "The algebraic operators +, -, *, / and ** all act element-wise on arrays"
   ]
  },
  {
   "cell_type": "code",
   "execution_count": 142,
   "metadata": {},
   "outputs": [
    {
     "data": {
      "text/plain": [
       "array([ 6,  8, 10,  9])"
      ]
     },
     "execution_count": 142,
     "metadata": {},
     "output_type": "execute_result"
    }
   ],
   "source": [
    "a = np.array([1, 2, 3, 4])\n",
    "b = np.array([5, 6, 7,5])\n",
    "a + b"
   ]
  },
  {
   "cell_type": "code",
   "execution_count": 144,
   "metadata": {},
   "outputs": [
    {
     "data": {
      "text/plain": [
       "58"
      ]
     },
     "execution_count": 144,
     "metadata": {},
     "output_type": "execute_result"
    }
   ],
   "source": [
    "a@b"
   ]
  },
  {
   "cell_type": "markdown",
   "metadata": {},
   "source": [
    "The two dimensional arrays follow the same general rules"
   ]
  },
  {
   "cell_type": "code",
   "execution_count": 148,
   "metadata": {
    "scrolled": true
   },
   "outputs": [
    {
     "data": {
      "text/plain": [
       "array([[5., 5.],\n",
       "       [5., 5.]])"
      ]
     },
     "execution_count": 148,
     "metadata": {},
     "output_type": "execute_result"
    }
   ],
   "source": [
    "A = np.ones((2, 2))\n",
    "B = np.ones((2, 2))*4\n",
    "B+A"
   ]
  },
  {
   "cell_type": "markdown",
   "metadata": {},
   "source": [
    "###  Multiplication\n",
    "\n",
    "With Anaconda’s scientific Python package based around Python 3.5 and above, one can use the @ symbol for matrix multiplication, as follows:\n",
    "\n",
    "In particular, A * B is not the matrix product, it is an element-wise product"
   ]
  },
  {
   "cell_type": "markdown",
   "metadata": {},
   "source": [
    "What is the matrix product or the do product?\n",
    "\n",
    " $a.dot(b)= \\sum_i  A_i*B_i$\n",
    " \n",
    " you multiply and sum across the rows"
   ]
  },
  {
   "cell_type": "code",
   "execution_count": 150,
   "metadata": {},
   "outputs": [
    {
     "name": "stdout",
     "output_type": "stream",
     "text": [
      "[[8. 8.]\n",
      " [8. 8.]]\n"
     ]
    }
   ],
   "source": [
    "dot1 = A.dot(B)\n",
    "\n",
    "\n",
    "print(dot1)\n"
   ]
  },
  {
   "cell_type": "code",
   "execution_count": null,
   "metadata": {
    "collapsed": true
   },
   "outputs": [],
   "source": [
    "# you can also use the @ operator\n",
    "\n",
    "a@b"
   ]
  },
  {
   "cell_type": "markdown",
   "metadata": {},
   "source": [
    "We will often deal with multidimensional arrays, for example, covariance matrixes across stocks\n",
    "\n",
    "Here how this works for those"
   ]
  },
  {
   "cell_type": "code",
   "execution_count": 173,
   "metadata": {},
   "outputs": [
    {
     "name": "stdout",
     "output_type": "stream",
     "text": [
      "[[9. 3. 8.]\n",
      " [4. 7. 2.]]\n",
      "[[ 2.  4.]\n",
      " [-1.  9.]]\n"
     ]
    }
   ],
   "source": [
    "# 2x3 array\n",
    "x = np.array([[9., 3., 8.], [4., 7., 2.]])\n",
    "\n",
    "# 2x2 array\n",
    "y = np.array([[2., 4.], [-1, 9]])\n",
    "\n",
    "print(x)\n",
    "print(y)\n",
    "\n"
   ]
  },
  {
   "cell_type": "code",
   "execution_count": 153,
   "metadata": {},
   "outputs": [
    {
     "ename": "ValueError",
     "evalue": "shapes (2,3) and (2,2) not aligned: 3 (dim 1) != 2 (dim 0)",
     "output_type": "error",
     "traceback": [
      "\u001b[1;31m---------------------------------------------------------------------------\u001b[0m",
      "\u001b[1;31mValueError\u001b[0m                                Traceback (most recent call last)",
      "\u001b[1;32m<ipython-input-153-343f1f221055>\u001b[0m in \u001b[0;36m<module>\u001b[1;34m()\u001b[0m\n\u001b[1;32m----> 1\u001b[1;33m \u001b[0mx\u001b[0m\u001b[1;33m@\u001b[0m\u001b[0my\u001b[0m\u001b[1;33m\u001b[0m\u001b[0m\n\u001b[0m",
      "\u001b[1;31mValueError\u001b[0m: shapes (2,3) and (2,2) not aligned: 3 (dim 1) != 2 (dim 0)"
     ]
    }
   ],
   "source": [
    "x@y"
   ]
  },
  {
   "cell_type": "code",
   "execution_count": 174,
   "metadata": {},
   "outputs": [
    {
     "name": "stdout",
     "output_type": "stream",
     "text": [
      "[[34. 34. 24.]\n",
      " [27. 60. 10.]]\n",
      "[[34. 34. 24.]\n",
      " [27. 60. 10.]]\n"
     ]
    }
   ],
   "source": [
    "# Two ways to get dot product (built-in vs. numpy way)\n",
    "dot1 = y.dot(x)\n",
    "dot2 = np.dot(y, x)\n",
    "\n",
    "print(dot1)\n",
    "print(dot2)"
   ]
  },
  {
   "cell_type": "code",
   "execution_count": null,
   "metadata": {
    "collapsed": true
   },
   "outputs": [],
   "source": [
    "# alternatively\n",
    "\n",
    "y @ x"
   ]
  },
  {
   "cell_type": "code",
   "execution_count": null,
   "metadata": {
    "collapsed": true,
    "scrolled": true
   },
   "outputs": [],
   "source": [
    "#And note that the order matters!\n",
    "\n",
    "\n",
    "x @ y"
   ]
  },
  {
   "cell_type": "markdown",
   "metadata": {},
   "source": [
    "The arrays must be conforming.\n",
    "\n",
    "if x is m by n, you can mulitply x@y only if y has the first dimension n (the second can be anything)\n",
    "\n",
    "or alternatively you can multiply y@x if y has the SECOND dimension n"
   ]
  },
  {
   "cell_type": "markdown",
   "metadata": {},
   "source": [
    "What exactly x @ y does?\n",
    "\n",
    "Let\n",
    "\n",
    "$$A @ B=C$$\n",
    "\n",
    "then\n",
    "\n",
    "$$C_{l,j}=\\sum_i A_{l,i}*B_{i,j}$$\n",
    "\n",
    "where $X_{l,j}$ is the entry in row l and comun j of matrix X"
   ]
  },
  {
   "cell_type": "markdown",
   "metadata": {},
   "source": [
    "### A Finance example of how useful this is\n",
    "\n",
    "We will need to compute the variance of a portfolio\n",
    "\n",
    "You guys learned in Fin462 and Fin411 that \n",
    "\n",
    "$$ Variance(\\sum_{i=1}^N w_i R_{i,t})=\\sum_{i=1}^N \\sum_{i=1}^N w_i w_j covariance(R_i,R_j) $$\n",
    "\n",
    "For a portfolio of 100 stocks, this means adding 100\\*100=10000 terms!\n",
    "\n",
    "Note that we can think of $w_i$ as a 100 by 1 vector and we can think about the covariance as 100 by 100 matrix\n",
    "\n",
    "How can we compute this using what leaned?\n",
    "\n",
    "How do we compute $\\sum_i \\sum_j W_i*C_{i,j}*W_j$?"
   ]
  },
  {
   "cell_type": "code",
   "execution_count": 154,
   "metadata": {
    "scrolled": true
   },
   "outputs": [
    {
     "name": "stdout",
     "output_type": "stream",
     "text": [
      "[0.1 0.4 0.5]\n"
     ]
    },
    {
     "data": {
      "text/plain": [
       "array([[ 1,  2,  5],\n",
       "       [ 6,  3,  8],\n",
       "       [13,  1,  7]])"
      ]
     },
     "execution_count": 154,
     "metadata": {},
     "output_type": "execute_result"
    }
   ],
   "source": [
    "W= np.array([0.1, 0.4,0.5])\n",
    "print(W)\n",
    "C = np.array([[1, 2,5],[6, 3,8],[13,1,7]])\n",
    "C"
   ]
  },
  {
   "cell_type": "code",
   "execution_count": 158,
   "metadata": {},
   "outputs": [
    {
     "data": {
      "text/plain": [
       "5.26"
      ]
     },
     "execution_count": 158,
     "metadata": {},
     "output_type": "execute_result"
    }
   ],
   "source": [
    "W @ C @ W.T"
   ]
  },
  {
   "cell_type": "markdown",
   "metadata": {},
   "source": [
    "How do we check?"
   ]
  },
  {
   "cell_type": "code",
   "execution_count": 155,
   "metadata": {},
   "outputs": [
    {
     "data": {
      "text/plain": [
       "5.26"
      ]
     },
     "execution_count": 155,
     "metadata": {},
     "output_type": "execute_result"
    }
   ],
   "source": [
    "x=0\n",
    "for i in range(3):\n",
    "    for j in range(3):\n",
    "        x=x+W[i]*C[i,j]*W[j]\n",
    "x"
   ]
  },
  {
   "cell_type": "markdown",
   "metadata": {},
   "source": [
    "\n",
    "### Important observation about NUMPY\n",
    "\n",
    "\n",
    "numpy is great for doing vector arithmetic. However, some things have changed relative to Python lists.\n",
    "1. numpy arrays cannot contain elements with different types. \n",
    "2. If you try to build such a list, some of the elements' types are changed to end up with a homogeneous list.\n",
    "\n",
    "3. the typical arithmetic operators, such as +, -, * and / have a different meaning for  numpy arrays.\n",
    "\n",
    "Example:"
   ]
  },
  {
   "cell_type": "code",
   "execution_count": null,
   "metadata": {
    "collapsed": true
   },
   "outputs": [],
   "source": [
    "print([3,4,7]+[2,4,6])\n",
    "print(np.array([3,4,7])+np.array([2,4,6]))\n"
   ]
  },
  {
   "cell_type": "code",
   "execution_count": null,
   "metadata": {
    "collapsed": true
   },
   "outputs": [],
   "source": [
    "# Question: what is the product of vectors a and b?\n",
    "\n",
    "a=[3,4,7]\n",
    "b=[2,4,6]\n",
    "\n",
    "# is there only one answer to this question?\n",
    "\n"
   ]
  },
  {
   "cell_type": "markdown",
   "metadata": {},
   "source": [
    "Question: How to represent with vector notation the following system of of equations? (SC)\n",
    "\n",
    "3*x + 2*y = 5\n",
    "\n",
    "-x + 7.5*y+ z = 4\n",
    "\n",
    " 2*y+ 5*z = 1\n",
    " \n",
    " "
   ]
  },
  {
   "cell_type": "code",
   "execution_count": null,
   "metadata": {
    "collapsed": true
   },
   "outputs": [],
   "source": []
  },
  {
   "cell_type": "markdown",
   "metadata": {},
   "source": [
    "How would solve such a system? i.e. How would you find out the x,y,and z that solves these equations?"
   ]
  },
  {
   "cell_type": "code",
   "execution_count": null,
   "metadata": {
    "collapsed": true
   },
   "outputs": [],
   "source": []
  },
  {
   "cell_type": "markdown",
   "metadata": {},
   "source": [
    "# Visualization\n",
    "\n",
    "To plot data the library matplotlib is great.\n",
    "\n",
    "First start importing it and telling jupyter to do the plots in the notebook\n",
    "\n",
    "here is everything you might need: https://matplotlib.org/\n",
    "\n",
    "Here is a crahs course: https://matplotlib.org/users/pyplot_tutorial.html"
   ]
  },
  {
   "cell_type": "code",
   "execution_count": 171,
   "metadata": {},
   "outputs": [],
   "source": [
    "X = np.random.randn(120)"
   ]
  },
  {
   "cell_type": "code",
   "execution_count": 162,
   "metadata": {},
   "outputs": [],
   "source": [
    "import matplotlib.pyplot as plt\n",
    "%matplotlib inline\n",
    "# This line makes sure that the plot is shown in the notebook"
   ]
  },
  {
   "cell_type": "code",
   "execution_count": 168,
   "metadata": {},
   "outputs": [
    {
     "data": {
      "image/png": "[encoded data removed]",
      "text/plain": [
       "<Figure size 432x288 with 1 Axes>"
      ]
     },
     "metadata": {},
     "output_type": "display_data"
    }
   ],
   "source": [
    "# here is a histogram\n",
    "plt.hist(X,bins=30);"
   ]
  },
  {
   "cell_type": "code",
   "execution_count": 169,
   "metadata": {},
   "outputs": [
    {
     "data": {
      "text/plain": [
       "<matplotlib.legend.Legend at 0x229fbfb1f98>"
      ]
     },
     "execution_count": 169,
     "metadata": {},
     "output_type": "execute_result"
    },
    {
     "data": {
      "image/png": "[encoded data removed]",
      "text/plain": [
       "<Figure size 432x288 with 1 Axes>"
      ]
     },
     "metadata": {},
     "output_type": "display_data"
    }
   ],
   "source": [
    "# here is a time-series plot\n",
    "plt.plot(X)\n",
    "plt.legend(['returns'])"
   ]
  },
  {
   "cell_type": "code",
   "execution_count": 172,
   "metadata": {},
   "outputs": [
    {
     "data": {
      "text/plain": [
       "[<matplotlib.lines.Line2D at 0x229fc204710>]"
      ]
     },
     "execution_count": 172,
     "metadata": {},
     "output_type": "execute_result"
    },
    {
     "data": {
      "image/png": "[encoded data removed]",
      "text/plain": [
       "<Figure size 432x288 with 2 Axes>"
      ]
     },
     "metadata": {},
     "output_type": "display_data"
    }
   ],
   "source": [
    "# here are some bar plots \n",
    "plt.subplot(1,2,1)\n",
    "plt.bar(range(0,120),X)\n",
    "plt.subplot(1,2,2)\n",
    "plt.plot(range(0,120),X)\n",
    "# why the risk-free asset has positive variance?\n",
    "# is this risk? What is the difference between the variance on the stock market factors and the risk-free rate?\n"
   ]
  },
  {
   "cell_type": "markdown",
   "metadata": {},
   "source": [
    "Lets create another variable with a varying degree of correlation with X"
   ]
  },
  {
   "cell_type": "code",
   "execution_count": null,
   "metadata": {
    "collapsed": true
   },
   "outputs": [],
   "source": [
    "\n",
    "rho=0.5\n",
    "Y=rho*X+np.sqrt(1-np.power(rho,2))*np.random.normal(0.1,0.2,120)\n",
    "\n",
    "# here are some scatter plots \n",
    "plt.scatter(X,Y)\n"
   ]
  },
  {
   "cell_type": "markdown",
   "metadata": {},
   "source": [
    "### Disclaimer: Material for this note was collected from a variety of sources. In particular Python DS101 Microsoft Azure course on Python."
   ]
  },
  {
   "cell_type": "code",
   "execution_count": null,
   "metadata": {},
   "outputs": [],
   "source": []
  }
 ],
 "metadata": {
  "kernelspec": {
   "display_name": "Python 3",
   "language": "python",
   "name": "python3"
  },
  "language_info": {
   "codemirror_mode": {
    "name": "ipython",
    "version": 3
   },
   "file_extension": ".py",
   "mimetype": "text/x-python",
   "name": "python",
   "nbconvert_exporter": "python",
   "pygments_lexer": "ipython3",
   "version": "3.7.3"
  }
 },
 "nbformat": 4,
 "nbformat_minor": 1
}
