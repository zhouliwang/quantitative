{
 "cells": [
  {
   "cell_type": "markdown",
   "metadata": {},
   "source": [
    "# Quantitative Finance with Python\n",
    "\n",
    "### Alan Moreira, University of Rochester Simon Graduate School of Business\n",
    "\n",
    "# Notebook 4\n",
    "\n",
    "\n"
   ]
  },
  {
   "cell_type": "markdown",
   "metadata": {},
   "source": [
    "### Topics covered \n",
    "* * *\n",
    " * Portfolio math\n",
    " * Diversification\n",
    " * Mean-variance frontier\n",
    " * Tangency portfolio\n",
    " * Capital allocation line\n",
    " * Two-fund separation\n",
    " * Case study on international diversification\n",
    "\n",
    "     \n",
    "\n",
    "     "
   ]
  },
  {
   "cell_type": "code",
   "execution_count": 1,
   "metadata": {},
   "outputs": [],
   "source": [
    "import pandas as pd\n",
    "import numpy as np\n",
    "import matplotlib.pyplot as plt\n",
    "%matplotlib inline\n",
    "#GlobalFinMonthly\n",
    "url=\"https://www.dropbox.com/s/3k35mt3t57ygff2/GlobalFinMonthly.csv?dl=1\"\n",
    "url=\"C:/Users/Alan Moreira/Dropbox/Public/Fin418/Data/GlobalFinMonthly.csv\"\n",
    "Data = pd.read_csv(url,na_values=-99)\n",
    "# tell python Date is date:\n",
    "Data['Date']=pd.to_datetime(Data['Date'])\n",
    "# set an an index\n",
    "Data=Data.set_index(['Date'])\n",
    "df=Data[['RF','MKT']]"
   ]
  },
  {
   "cell_type": "markdown",
   "metadata": {},
   "source": [
    "# Portfolio \"Math\""
   ]
  },
  {
   "cell_type": "markdown",
   "metadata": {},
   "source": [
    "### Portfolio weights\n",
    "\n",
    "* The portfolio weight for stock j , denoted $w_j$, is the fraction of a portfolio value held in stock j\n",
    "\n",
    "  * $w_j$=(Dollar held in stock j)/(Dollar value of portfolio)\n",
    "  \n",
    "* By construction, the portfolio weights allways add up to one: you invest all you got somewhere, and nothing more \n",
    "\n",
    "  * This doesn't mean that you can't borrow to invest, just means that you will have a negative weight somewhere offsetting the positive position in the other assets \n",
    " \n",
    "   $$\\sum_{j=1}^N w_j=1$$\n",
    "  \n",
    "  * In matrix notation \n",
    "  \n",
    "  $$1'W=1$$\n",
    "  \n",
    "  * where 1 is a N by 1 vector of 1's (i.e. a vector with entry 1 in ach position) and W is the N by 1 vector of portfolio weights"
   ]
  },
  {
   "cell_type": "markdown",
   "metadata": {},
   "source": [
    "### Portfolio returns\n",
    "\n",
    "$$ R_p=\\sum_{j=1}^N w_jR_j=W'R$$\n",
    "\n",
    "\n",
    "* Where $R$ is the N by 1 vector of realized asset returns\n",
    "\n",
    "\n",
    "For example:\n",
    "\n",
    "This below is the vector of return realization for a particular date "
   ]
  },
  {
   "cell_type": "code",
   "execution_count": 2,
   "metadata": {
    "scrolled": true
   },
   "outputs": [
    {
     "data": {
      "text/html": [
       "<div>\n",
       "<style scoped>\n",
       "    .dataframe tbody tr th:only-of-type {\n",
       "        vertical-align: middle;\n",
       "    }\n",
       "\n",
       "    .dataframe tbody tr th {\n",
       "        vertical-align: top;\n",
       "    }\n",
       "\n",
       "    .dataframe thead th {\n",
       "        text-align: right;\n",
       "    }\n",
       "</style>\n",
       "<table border=\"1\" class=\"dataframe\">\n",
       "  <thead>\n",
       "    <tr style=\"text-align: right;\">\n",
       "      <th></th>\n",
       "      <th>RF</th>\n",
       "      <th>MKT</th>\n",
       "      <th>USA30yearGovBond</th>\n",
       "      <th>EmergingMarkets</th>\n",
       "      <th>WorldxUSA</th>\n",
       "      <th>WorldxUSAGovBond</th>\n",
       "    </tr>\n",
       "    <tr>\n",
       "      <th>Date</th>\n",
       "      <th></th>\n",
       "      <th></th>\n",
       "      <th></th>\n",
       "      <th></th>\n",
       "      <th></th>\n",
       "      <th></th>\n",
       "    </tr>\n",
       "  </thead>\n",
       "  <tbody>\n",
       "    <tr>\n",
       "      <th>1963-02-28</th>\n",
       "      <td>0.0023</td>\n",
       "      <td>-0.0215</td>\n",
       "      <td>-0.001878</td>\n",
       "      <td>0.098222</td>\n",
       "      <td>-0.002773</td>\n",
       "      <td>0.003206</td>\n",
       "    </tr>\n",
       "  </tbody>\n",
       "</table>\n",
       "</div>"
      ],
      "text/plain": [
       "                RF     MKT  USA30yearGovBond  EmergingMarkets  WorldxUSA  \\\n",
       "Date                                                                       \n",
       "1963-02-28  0.0023 -0.0215         -0.001878         0.098222  -0.002773   \n",
       "\n",
       "            WorldxUSAGovBond  \n",
       "Date                          \n",
       "1963-02-28          0.003206  "
      ]
     },
     "execution_count": 2,
     "metadata": {},
     "output_type": "execute_result"
    }
   ],
   "source": [
    "Data['1963-02']"
   ]
  },
  {
   "cell_type": "markdown",
   "metadata": {},
   "source": [
    "* Since the return on a portfolio is a weighted sum of the returns on the securities, we need to determine how the distribution of this sum of r.v. is related to the orignal distribution of eah r.v. (the individual securities returns).\n",
    "\n",
    "* The analysis of portfolio risk becomes much simpler by assuming that returns are normal.\n",
    "\n",
    "* This means we only need to worry about mean and variance (even if we care about these really bad tail events)"
   ]
  },
  {
   "cell_type": "code",
   "execution_count": 2,
   "metadata": {},
   "outputs": [
    {
     "data": {
      "text/plain": [
       "(6,)"
      ]
     },
     "execution_count": 2,
     "metadata": {},
     "output_type": "execute_result"
    }
   ],
   "source": [
    "# lets start by constructing a equal-weigthed portfolio\n",
    "W=np.ones(6)/6\n",
    "\n",
    "W.shape\n",
    "\n"
   ]
  },
  {
   "cell_type": "code",
   "execution_count": 4,
   "metadata": {},
   "outputs": [
    {
     "data": {
      "text/plain": [
       "array([0.16666667, 0.16666667, 0.16666667, 0.16666667, 0.16666667,\n",
       "       0.16666667])"
      ]
     },
     "execution_count": 4,
     "metadata": {},
     "output_type": "execute_result"
    }
   ],
   "source": [
    "W"
   ]
  },
  {
   "cell_type": "code",
   "execution_count": 5,
   "metadata": {},
   "outputs": [
    {
     "data": {
      "text/plain": [
       "Date\n",
       "2008-09-30   -0.069352\n",
       "dtype: float64"
      ]
     },
     "execution_count": 5,
     "metadata": {},
     "output_type": "execute_result"
    }
   ],
   "source": [
    "Data.loc['9/2008'] @ W"
   ]
  },
  {
   "cell_type": "markdown",
   "metadata": {},
   "source": [
    "What do we do to construct the returns for all the months?"
   ]
  },
  {
   "cell_type": "code",
   "execution_count": 3,
   "metadata": {},
   "outputs": [
    {
     "data": {
      "text/plain": [
       "<matplotlib.axes._subplots.AxesSubplot at 0x158b4e20eb8>"
      ]
     },
     "execution_count": 3,
     "metadata": {},
     "output_type": "execute_result"
    },
    {
     "data": {
      "image/png": "[encoded data removed]",
      "text/plain": [
       "<Figure size 432x288 with 1 Axes>"
      ]
     },
     "metadata": {},
     "output_type": "display_data"
    }
   ],
   "source": [
    "\n",
    "Rp=Data @ W\n",
    "Rp.plot()"
   ]
  },
  {
   "cell_type": "code",
   "execution_count": 7,
   "metadata": {},
   "outputs": [
    {
     "data": {
      "text/plain": [
       "<matplotlib.axes._subplots.AxesSubplot at 0x29f8978eb70>"
      ]
     },
     "execution_count": 7,
     "metadata": {},
     "output_type": "execute_result"
    },
    {
     "data": {
      "image/png": "[encoded data removed]",
      "text/plain": [
       "<Figure size 432x288 with 1 Axes>"
      ]
     },
     "metadata": {},
     "output_type": "display_data"
    }
   ],
   "source": [
    "Rp.plot()"
   ]
  },
  {
   "cell_type": "markdown",
   "metadata": {},
   "source": [
    "### Portfolio Expected returns\n",
    "\n",
    "* The expected return of a portfolio is the portfolio weighted average of the expected returns of the individual assets.\n",
    "\n",
    "\n",
    "$$E[R_p]=E[\\sum_{j=1}^N w_jR_j]=\\sum_{j=1}^N w_jE[R_j]=W'E[R]$$\n",
    "\n",
    "\n",
    "> Can you use the definition of expected values we learn in notebook 3 to verify that this is correct?\n",
    "\n",
    "\n",
    "* Lets compute for our EW portfolio:"
   ]
  },
  {
   "cell_type": "code",
   "execution_count": 9,
   "metadata": {},
   "outputs": [
    {
     "data": {
      "text/plain": [
       "0.08851259820401856"
      ]
     },
     "execution_count": 9,
     "metadata": {},
     "output_type": "execute_result"
    }
   ],
   "source": [
    "\n",
    "W.T @ Data.mean()*12"
   ]
  },
  {
   "cell_type": "markdown",
   "metadata": {},
   "source": [
    "It should be true that taking the sample mean of our portfolio return realizations should give the same answer"
   ]
  },
  {
   "cell_type": "code",
   "execution_count": 10,
   "metadata": {},
   "outputs": [
    {
     "data": {
      "text/plain": [
       "0.08851259820401847"
      ]
     },
     "execution_count": 10,
     "metadata": {},
     "output_type": "execute_result"
    }
   ],
   "source": [
    "Rp.mean()*12"
   ]
  },
  {
   "cell_type": "markdown",
   "metadata": {},
   "source": [
    "### Portfolio Variance\n",
    "\n",
    "Two asset case:\n",
    "\n",
    "$$Var(R_p)= Var(w_1R_1+w_2R_2)=Cov(w_1R_1+w_2R_2,w_1R_1+w_2R_2)$$\n",
    "\n",
    "* where we used that $Var(x)=Cov(x,x)$\n",
    "\n",
    "* We then distribute the terms\n",
    "\n",
    "$$Cov(w_1R_1,w_1R_1+w_2R_2)+Cov(w_2R_2,w_1R_1+w_2R_2)=Cov(w_1R_1,w_1R_1)+Cov(w_2R_2,w_2R_2)+Cov(w_1R_1,w_1R_1)+Cov(w_2R_2,w_2R_2)$$\n",
    "\n",
    "* This yields the classic formula\n",
    "\n",
    "$$Var(R_p)= w_1^2Var(R_1)+2w_2w_1Cov(R_2,R_1)+w_2^2Var(R_2)$$\n",
    "\n",
    "From the \"term distribution\"  above it is intuitive what the N asset case would look like\n",
    "\n",
    "\n",
    "$$Var(R_p)= Var(\\sum_{j=1}^N w_jR_j)=Cov(\\sum_{j=1}^N w_jR_j,\\sum_{i=1}^N w_iR_i)=\\sum_{j=1}^N  w_j Cov(R_j,\\sum_{i=1}^N w_iR_i)=\\sum_{j=1}^N \\sum_{i=1}^N w_jw_iCov(R_j, R_i)$$\n",
    "\n",
    "\n",
    "* For a portfolio of 50 assets, this expression has 50 variance terms and 2450 covariance terms!\n",
    "\n",
    "* Good thing we learned in Notebook 1 how to make this computation really easy\n",
    "\n",
    "* We can write\n",
    "\n",
    "$$\\sum_{j=1}^N \\sum_{i=1}^N w_jw_iCov(R_j, R_i)=W' Cov(R) W$$\n",
    "\n",
    "* where $Var(R)$ is the N by N variance covariance matrix of the assets and W is the vector of weights\n",
    "\n",
    "\n",
    "* Why is this?\n",
    "\n",
    "$$Var(R_p)=Var(W'R)=Cov(W'R,W'R)=W'Cov(R,W'R)=(W'Cov(R,W'R))'=Cov(W'R,R)W=W'Cov(R)W$$\n",
    "\n",
    "* Where we used that covariance is a linear operator(can take constants out of it, one at a time) and that it is symmetric(cov(x,y)=cov(y,x)), so the covariance is a symmetic matrix X'=X.\n",
    "\n"
   ]
  },
  {
   "cell_type": "code",
   "execution_count": 5,
   "metadata": {},
   "outputs": [
    {
     "data": {
      "text/plain": [
       "0.006544740845712419"
      ]
     },
     "execution_count": 5,
     "metadata": {},
     "output_type": "execute_result"
    }
   ],
   "source": [
    "W.T@ Data.cov() @ W*12\n",
    "\n"
   ]
  },
  {
   "cell_type": "markdown",
   "metadata": {},
   "source": [
    "to get the volatility, i.e. , standard deviation:"
   ]
  },
  {
   "cell_type": "code",
   "execution_count": 6,
   "metadata": {},
   "outputs": [
    {
     "data": {
      "text/plain": [
       "0.023353695006915604"
      ]
     },
     "execution_count": 6,
     "metadata": {},
     "output_type": "execute_result"
    }
   ],
   "source": [
    "\n",
    "\n",
    "(W.T@ Data.cov() @ W)**0.5"
   ]
  },
  {
   "cell_type": "markdown",
   "metadata": {},
   "source": [
    "Again, the in sample variance of the portfolio return realizations we constructed above should exactly match this:"
   ]
  },
  {
   "cell_type": "code",
   "execution_count": 9,
   "metadata": {},
   "outputs": [
    {
     "data": {
      "text/plain": [
       "0.04044978629644543"
      ]
     },
     "execution_count": 9,
     "metadata": {},
     "output_type": "execute_result"
    }
   ],
   "source": [
    "Rp.std()*(3)**0.5"
   ]
  },
  {
   "cell_type": "markdown",
   "metadata": {},
   "source": [
    "> How do I get the daily volatility?\n",
    "\n",
    "> How do I get weekly volatility?\n",
    "\n",
    "> How do I get quartely volatility?"
   ]
  },
  {
   "cell_type": "markdown",
   "metadata": {},
   "source": [
    "# Diversification\n",
    "\n",
    "* A key concept in investing is diversification\n",
    "\n",
    "* The famous: \"don't put all your eggs in one basket\" advice\n",
    "\n",
    "* There are potential benefits of diversifcation for an investor when there are assets that  are imperfecly correlated with the investor portfolio\n",
    "\n",
    "* So lets look at this from the vantage point of a US investors that is fully invested in the US equity market portfolio and is considering the benefits of investing in other world equity markets"
   ]
  },
  {
   "cell_type": "code",
   "execution_count": 10,
   "metadata": {},
   "outputs": [
    {
     "data": {
      "text/html": [
       "<div>\n",
       "<style scoped>\n",
       "    .dataframe tbody tr th:only-of-type {\n",
       "        vertical-align: middle;\n",
       "    }\n",
       "\n",
       "    .dataframe tbody tr th {\n",
       "        vertical-align: top;\n",
       "    }\n",
       "\n",
       "    .dataframe thead th {\n",
       "        text-align: right;\n",
       "    }\n",
       "</style>\n",
       "<table border=\"1\" class=\"dataframe\">\n",
       "  <thead>\n",
       "    <tr style=\"text-align: right;\">\n",
       "      <th></th>\n",
       "      <th>MKT</th>\n",
       "      <th>WorldxUSA</th>\n",
       "    </tr>\n",
       "  </thead>\n",
       "  <tbody>\n",
       "    <tr>\n",
       "      <th>MKT</th>\n",
       "      <td>1.000000</td>\n",
       "      <td>0.611369</td>\n",
       "    </tr>\n",
       "    <tr>\n",
       "      <th>WorldxUSA</th>\n",
       "      <td>0.611369</td>\n",
       "      <td>1.000000</td>\n",
       "    </tr>\n",
       "  </tbody>\n",
       "</table>\n",
       "</div>"
      ],
      "text/plain": [
       "                MKT  WorldxUSA\n",
       "MKT        1.000000   0.611369\n",
       "WorldxUSA  0.611369   1.000000"
      ]
     },
     "execution_count": 10,
     "metadata": {},
     "output_type": "execute_result"
    }
   ],
   "source": [
    "# here is the co-movement across the asset\n",
    "Data[['MKT','WorldxUSA']].corr()"
   ]
  },
  {
   "cell_type": "markdown",
   "metadata": {},
   "source": [
    "What is noteworth about this correlation matrix? \n",
    "\n",
    "Are there any benefits of diversification?"
   ]
  },
  {
   "cell_type": "markdown",
   "metadata": {},
   "source": [
    "Lets compute how the variance the variance of the investor portfolio as she varies her portfolio weight on the world market"
   ]
  },
  {
   "cell_type": "code",
   "execution_count": 12,
   "metadata": {},
   "outputs": [
    {
     "name": "stdout",
     "output_type": "stream",
     "text": [
      "[0. 1.]\n",
      "[0.05 0.95]\n",
      "[0.1 0.9]\n",
      "[0.15 0.85]\n",
      "[0.2 0.8]\n",
      "[0.25 0.75]\n",
      "[0.3 0.7]\n",
      "[0.35 0.65]\n",
      "[0.4 0.6]\n",
      "[0.45 0.55]\n",
      "[0.5 0.5]\n",
      "[0.55 0.45]\n",
      "[0.6 0.4]\n",
      "[0.65 0.35]\n",
      "[0.7 0.3]\n",
      "[0.75 0.25]\n",
      "[0.8 0.2]\n",
      "[0.85 0.15]\n",
      "[0.9 0.1]\n",
      "[0.95 0.05]\n",
      "[1. 0.]\n"
     ]
    }
   ],
   "source": [
    "D=Data.loc[:,['MKT','WorldxUSA']]\n",
    "UsW=[]\n",
    "# w here is a vector of weights on the US MKT and 1-w is the the weight on the international market\n",
    "w=np.arange(0,1.05,0.05)\n",
    "for x in w:\n",
    "    W=np.array([x,1-x])\n",
    "    print(W)\n",
    "    UsW.append([1-x,(W.T @ D.cov() @ W)**0.5])\n",
    "    \n",
    "\n"
   ]
  },
  {
   "cell_type": "code",
   "execution_count": 17,
   "metadata": {
    "scrolled": true
   },
   "outputs": [
    {
     "data": {
      "image/png": "[encoded data removed]",
      "text/plain": [
       "<Figure size 432x288 with 1 Axes>"
      ]
     },
     "metadata": {},
     "output_type": "display_data"
    }
   ],
   "source": [
    "UsW=np.array(UsW)\n",
    "plt.scatter(UsW[:,0],UsW[:,1])\n",
    "plt.xlabel('Weight on World')\n",
    "plt.ylim([0.04,0.05])\n",
    "plt.show()"
   ]
  },
  {
   "cell_type": "markdown",
   "metadata": {},
   "source": [
    "* We can also look at the investment frontier that such an investor faces: How her expected returns change with the variance\n",
    "\n",
    "* Lets also look at annualized quantities for more intution"
   ]
  },
  {
   "cell_type": "code",
   "execution_count": 13,
   "metadata": {},
   "outputs": [],
   "source": [
    "UsW=[]\n",
    "w=np.arange(0,1.05,0.05)\n",
    "for x in w:\n",
    "    W=np.array([x,1-x])\n",
    "    UsW.append([1-x,(W.T @ D.cov() @ W*12)**0.5,W.T @ np.array(D.mean())*12])\n",
    "UsW=np.array(UsW)"
   ]
  },
  {
   "cell_type": "code",
   "execution_count": 14,
   "metadata": {},
   "outputs": [
    {
     "data": {
      "image/png": "[encoded data removed]",
      "text/plain": [
       "<Figure size 432x288 with 1 Axes>"
      ]
     },
     "metadata": {},
     "output_type": "display_data"
    }
   ],
   "source": [
    "plt.scatter(UsW[:,1],UsW[:,2])\n",
    "plt.xlabel('Volatility')\n",
    "plt.ylabel('Average return')\n",
    "\n",
    "plt.show()\n"
   ]
  },
  {
   "cell_type": "markdown",
   "metadata": {},
   "source": [
    "* Can you tell which extreme dot corresponds to each asset?\n",
    "\n",
    "* How can you find out easily? "
   ]
  },
  {
   "cell_type": "code",
   "execution_count": 64,
   "metadata": {},
   "outputs": [
    {
     "data": {
      "text/plain": [
       "MKT          0.009052\n",
       "WorldxUSA    0.008060\n",
       "dtype: float64"
      ]
     },
     "execution_count": 64,
     "metadata": {},
     "output_type": "execute_result"
    }
   ],
   "source": [
    "D.mean()*12"
   ]
  },
  {
   "cell_type": "code",
   "execution_count": 66,
   "metadata": {},
   "outputs": [
    {
     "data": {
      "text/plain": [
       "MKT          0.152431\n",
       "WorldxUSA    0.161545\n",
       "dtype: float64"
      ]
     },
     "execution_count": 66,
     "metadata": {},
     "output_type": "execute_result"
    }
   ],
   "source": [
    "D.std()*12**0.5"
   ]
  },
  {
   "cell_type": "markdown",
   "metadata": {},
   "source": [
    "* So it seems like that for some investors there is no diversification benefit?\n",
    "\n",
    "* If you are a US investor and it is confortable with the US market volatlity, why would you ever invest in an asset of lower expected return?\n",
    "\n",
    "* For the world investor, clearly they can benefit of holding a bit of the US market-and this does not depend on the preferences for risk as they can get higher returns and lower volatility through diversification\n",
    "\n",
    "> Why might the US investor want to invest in th world market even if if has a lower expected return and higher variance?"
   ]
  },
  {
   "cell_type": "markdown",
   "metadata": {},
   "source": [
    "# The Capital Allocation Line: Adding the Risk-free rate"
   ]
  },
  {
   "cell_type": "markdown",
   "metadata": {},
   "source": [
    "* So far we looked at an investor that is fully invested across risky assets\n",
    "\n",
    "* In this case, the only way that an investor can change the risk profile of her portfolio is by changing the relative weights across the risky assets\n",
    "\n",
    "* In practice investors can invest in the risk-free asset, which has zero volatility. \n",
    "\n",
    "* This means that they can potentially derisk their portfolio by keeping the relative weights across assets constant and simply invest more in the risk-free asset\n",
    "\n",
    "* So we will now work with excess returns (which we study in Notebook 3) and the risk-free rate, separating cleaning the risk-free component of these risky asset returns"
   ]
  },
  {
   "cell_type": "code",
   "execution_count": 15,
   "metadata": {},
   "outputs": [
    {
     "data": {
      "text/html": [
       "<div>\n",
       "<style scoped>\n",
       "    .dataframe tbody tr th:only-of-type {\n",
       "        vertical-align: middle;\n",
       "    }\n",
       "\n",
       "    .dataframe tbody tr th {\n",
       "        vertical-align: top;\n",
       "    }\n",
       "\n",
       "    .dataframe thead th {\n",
       "        text-align: right;\n",
       "    }\n",
       "</style>\n",
       "<table border=\"1\" class=\"dataframe\">\n",
       "  <thead>\n",
       "    <tr style=\"text-align: right;\">\n",
       "      <th></th>\n",
       "      <th>MKT</th>\n",
       "      <th>WorldxUSA</th>\n",
       "    </tr>\n",
       "    <tr>\n",
       "      <th>Date</th>\n",
       "      <th></th>\n",
       "      <th></th>\n",
       "    </tr>\n",
       "  </thead>\n",
       "  <tbody>\n",
       "    <tr>\n",
       "      <th>2016-08-31</th>\n",
       "      <td>0.0050</td>\n",
       "      <td>0.000638</td>\n",
       "    </tr>\n",
       "    <tr>\n",
       "      <th>2016-09-30</th>\n",
       "      <td>0.0025</td>\n",
       "      <td>0.012536</td>\n",
       "    </tr>\n",
       "    <tr>\n",
       "      <th>2016-10-31</th>\n",
       "      <td>-0.0202</td>\n",
       "      <td>-0.020583</td>\n",
       "    </tr>\n",
       "    <tr>\n",
       "      <th>2016-11-30</th>\n",
       "      <td>0.0486</td>\n",
       "      <td>-0.019898</td>\n",
       "    </tr>\n",
       "    <tr>\n",
       "      <th>2016-12-31</th>\n",
       "      <td>0.0182</td>\n",
       "      <td>0.034083</td>\n",
       "    </tr>\n",
       "  </tbody>\n",
       "</table>\n",
       "</div>"
      ],
      "text/plain": [
       "               MKT  WorldxUSA\n",
       "Date                         \n",
       "2016-08-31  0.0050   0.000638\n",
       "2016-09-30  0.0025   0.012536\n",
       "2016-10-31 -0.0202  -0.020583\n",
       "2016-11-30  0.0486  -0.019898\n",
       "2016-12-31  0.0182   0.034083"
      ]
     },
     "execution_count": 15,
     "metadata": {},
     "output_type": "execute_result"
    }
   ],
   "source": [
    "# here are the excess returns R-rf\n",
    "Re=(Data[['RF','MKT','WorldxUSA']]).subtract(Data['RF'],axis='index').drop('RF',axis=1)\n",
    "\n",
    "Re.tail()"
   ]
  },
  {
   "cell_type": "code",
   "execution_count": 23,
   "metadata": {},
   "outputs": [
    {
     "data": {
      "text/plain": [
       "(2,)"
      ]
     },
     "execution_count": 23,
     "metadata": {},
     "output_type": "execute_result"
    }
   ],
   "source": [
    "W.shape"
   ]
  },
  {
   "cell_type": "code",
   "execution_count": 24,
   "metadata": {},
   "outputs": [
    {
     "data": {
      "image/png": "[encoded data removed]",
      "text/plain": [
       "<Figure size 432x288 with 1 Axes>"
      ]
     },
     "metadata": {},
     "output_type": "display_data"
    }
   ],
   "source": [
    "UsW=[]\n",
    "w=np.arange(0,1.05,0.05)\n",
    "for x in w:\n",
    "    W=np.array([x,1-x])\n",
    "    UsW.append([1-x,(W @ Re.cov() @ W*12)**0.5,W @ np.array(Re.mean())*12])\n",
    "UsW=np.array(UsW)\n",
    "plt.scatter(UsW[:,1],UsW[:,2])\n",
    "plt.xlabel('Volatility')\n",
    "plt.ylabel('Average Excess return')\n",
    "\n",
    "plt.show()"
   ]
  },
  {
   "cell_type": "markdown",
   "metadata": {},
   "source": [
    "### Using API's\n",
    "\n",
    "* Pandas has an eco-system of APIs that allow you to get data from the web directly into a pandas dataframe\n",
    "\n",
    "* Here we will look at one AP that gets macro and financial data from the Federal Reserve Bank of St louis\n",
    "\n",
    "* Lots and lots of data!\n",
    "\n",
    "https://fred.stlouisfed.org/categories\n",
    "\n",
    "* Right now our goal is just to get the lastest risk-free rate\n",
    "\n",
    "* Which in this case is the yield on the three month treasury bill\n",
    "\n",
    "\n",
    "\n",
    "https://fred.stlouisfed.org/series/DTB3\n",
    "\n",
    "* note that the fredapi is not in the anaconda eco-system so you install by openning anaconda Prompt \n",
    "\n",
    "* type \"pip install fredapi\"\n",
    "\n",
    "* if it requires additional packages, install these packages to by tryping \"pip install \"name of required package\"\n",
    "\n",
    "* you will also need to apply for an API key here\n",
    "\n",
    "https://research.stlouisfed.org/docs/api/api_key.html\n",
    "\n",
    "* once you have it you use it to do this:"
   ]
  },
  {
   "cell_type": "code",
   "execution_count": 18,
   "metadata": {},
   "outputs": [],
   "source": [
    "\n",
    "from fredapi import Fred\n",
    "fred = Fred(api_key='f9207136b3333d7cf92c07273f6f5530')\n",
    "data = fred.get_series('DTB3')\n"
   ]
  },
  {
   "cell_type": "code",
   "execution_count": 20,
   "metadata": {},
   "outputs": [
    {
     "data": {
      "text/plain": [
       "<matplotlib.axes._subplots.AxesSubplot at 0x158b68ec320>"
      ]
     },
     "execution_count": 20,
     "metadata": {},
     "output_type": "execute_result"
    },
    {
     "data": {
      "image/png": "[encoded data removed]",
      "text/plain": [
       "<Figure size 432x288 with 1 Axes>"
      ]
     },
     "metadata": {},
     "output_type": "display_data"
    }
   ],
   "source": [
    "data.plot()"
   ]
  },
  {
   "cell_type": "markdown",
   "metadata": {},
   "source": [
    "###  Lecture 6 9/11 ended here"
   ]
  },
  {
   "cell_type": "code",
   "execution_count": 17,
   "metadata": {},
   "outputs": [
    {
     "data": {
      "image/png": "[encoded data removed]",
      "text/plain": [
       "<Figure size 432x288 with 1 Axes>"
      ]
     },
     "metadata": {},
     "output_type": "display_data"
    }
   ],
   "source": [
    "UsW=[]\n",
    "w=np.arange(0,1.1,0.1)\n",
    "wf=np.arange(0,1.1,0.1)\n",
    "rf=0.0192\n",
    "for xf in wf:\n",
    "    for x in w:\n",
    "        W=np.array([x,1-x])\n",
    "        UsW.append([xf,1-x,(1-xf)*(W.T @ Re.cov() @ W*12)**0.5,(W.T @ np.array(Re.mean())*12)*(1-xf)+rf])\n",
    "\n",
    "        \n",
    "UsW=np.array(UsW)\n",
    "plt.scatter(UsW[:,2],UsW[:,3],color='red')\n",
    "plt.scatter(UsW[0:11,2],UsW[0:11,3],color='blue')\n",
    "plt.xlabel('Volatility')\n",
    "plt.ylabel('Average return')\n",
    "\n",
    "plt.show()"
   ]
  },
  {
   "cell_type": "markdown",
   "metadata": {},
   "source": [
    "* Why for excess returns do I use the sample average while for the risk-free rate I get the current one?\n",
    "\n",
    "* What is noteworthy about this plot? What can you see in it?"
   ]
  },
  {
   "cell_type": "code",
   "execution_count": 27,
   "metadata": {},
   "outputs": [
    {
     "data": {
      "image/png": "[encoded data removed]",
      "text/plain": [
       "<Figure size 432x288 with 1 Axes>"
      ]
     },
     "metadata": {},
     "output_type": "display_data"
    }
   ],
   "source": [
    "# in \"variance space\"\n",
    "\n",
    "plt.scatter(UsW[:,2]**2,UsW[:,3],color='red')\n",
    "plt.scatter(UsW[0:11,2]**2,UsW[0:11,3],color='blue')\n",
    "plt.xlabel('Variance')\n",
    "plt.ylabel('Average return')\n",
    "\n",
    "plt.show()"
   ]
  },
  {
   "cell_type": "markdown",
   "metadata": {},
   "source": [
    "* It is clear that someone that would like a lower risk profile can achieve this objective through the use of the risk-free asset without impat expected returns as much\n",
    "\n",
    "* What about investors that would like to tak more risk, can they benefit of the risk-free asset?\n",
    "\n",
    "* yes, if they can borrow at the risk-free rate"
   ]
  },
  {
   "cell_type": "code",
   "execution_count": 28,
   "metadata": {},
   "outputs": [
    {
     "data": {
      "image/png": "[encoded data removed]",
      "text/plain": [
       "<Figure size 432x288 with 1 Axes>"
      ]
     },
     "metadata": {},
     "output_type": "display_data"
    }
   ],
   "source": [
    "UsW=[]\n",
    "w=np.arange(0,1.1,0.1)\n",
    "wf=np.arange(0,1.1,0.1)\n",
    "rf=0.02\n",
    "for xf in wf:\n",
    "    for x in w:\n",
    "        W=np.array([x,1-x])\n",
    "        UsW.append([xf,1-x,(1-xf)*(W.T @ Re.cov() @ W*12)**0.5,(W.T @ np.array(Re.mean())*12)*(1-xf)+rf])\n",
    "\n",
    "w=np.arange(0,1.1,0.1)\n",
    "wf=np.arange(-0.5,0,0.1)\n",
    "rf=0.02\n",
    "for xf in wf:\n",
    "    for x in w:\n",
    "        W=np.array([x,1-x])\n",
    "        UsW.append([xf,1-x,(1-xf)*(W.T @ Re.cov() @ W*12)**0.5,(W.T @ np.array(Re.mean())*12)*(1-xf)+rf])\n",
    "        \n",
    "        \n",
    "UsW=np.array(UsW)\n",
    "plt.scatter(UsW[:,2],UsW[:,3],color='red')\n",
    "plt.scatter(UsW[0:11,2],UsW[0:11,3],color='blue')\n",
    "plt.scatter(UsW[121:-1,2],UsW[121:-1,3],color='orange')\n",
    "plt.xlabel('Volatility')\n",
    "plt.ylabel('Average return')\n",
    "\n",
    "plt.show()"
   ]
  },
  {
   "cell_type": "markdown",
   "metadata": {},
   "source": [
    "* What is the intepretation of a negative $w_f$?\n",
    "\n",
    "* Is the investors likely to be able to borrtow at the risk-free rate?"
   ]
  },
  {
   "cell_type": "markdown",
   "metadata": {},
   "source": [
    "# The mean-variance investment frontier and the Tangency portfolio\n",
    "\n",
    "* Note the upper envelope that defines the \"investment frontier\", i.e., what is achiavable in terms of risk and returns\n",
    "\n",
    "* If you are in this envelope, you know that in order to get less risk you will have to get less return\n",
    "\n",
    "* There is no portfolio with a higher average return and the same volatility\n",
    "\n",
    "* And no portfolio with the same expected return and lower volatility\n",
    "\n",
    "* In volatility-expected return space all these portfolio are in a straight line, \n",
    "\n",
    "* Meaning that they achieve exactly the same ratio or expected excess return per unit of volatility since a stragith line has constant slope\n",
    "\n",
    "* So all these portfolio have exactly the same Sharpe ratio ($\\frac{E[R_p-R_f]}{std(R_p-R_f)}$), \n",
    "\n",
    "* This is also the maximum SR among all possible portfolios of the basis assets \n",
    "\n",
    "  *  (in this case only two: US and world portfolio)\n",
    "\n",
    "\n",
    "> What these \"efficient\" portfolios look like?"
   ]
  },
  {
   "cell_type": "markdown",
   "metadata": {},
   "source": [
    "* These portfolios all can be thought as minimizing variance/volatility for a given desired of expected returns \n",
    "\n",
    "* or maximizing expected returns for a given dislike of variance \n",
    "\n",
    "* Formally they solve the following minimization problem\n",
    "\n",
    "$$\n",
    "\\begin{aligned}\n",
    "minimize_{W,w_f} rf+ (1-w_f)E[W'R^e]- \\gamma Var((1-w_f)W'R^e+w_fr_f)\\\\\n",
    "minimize_{W,w_f} rf+ (1-w_f)W'E[R^e]- \\gamma (1-w_f)^2W'Var(R^e)W\\\\\n",
    "\\end{aligned}\n",
    "$$\n",
    "\n",
    "\n",
    "* If you understand calculus the answer is immediate. \n",
    "\n",
    "* All you need is to take the derivative of the expression with respect to the risky portfolio weights $W$ :\n",
    "\n",
    "\n",
    "$$(1-w_f)E[R^e]- 2\\gamma(1-w_f)^2 Var(R^e)W$$\n",
    "\n",
    "* and impose the \"first order condition\":\n",
    "$$\n",
    "\\begin{aligned}\n",
    "(1-w_f)E[R^e]- 2\\gamma(1-w_f)^2 Var(R^e)W^*=0\n",
    "\\end{aligned}\n",
    "$$\n",
    "\n",
    "* which simply means that if $W^*$ is really the weight that maximizes the expression, if you move it a little bit in any direction, the value of the expression shouldn't move much\n",
    "\n",
    "* In fact, for a tiny move in either direction, the benefit should be zero either way\n",
    "\n",
    "* Here is the intuition:\n",
    "\n",
    "  * Lets consider that we want to find the x that maximizes: $4x-x^2$  "
   ]
  },
  {
   "cell_type": "code",
   "execution_count": 57,
   "metadata": {},
   "outputs": [
    {
     "data": {
      "text/plain": [
       "<matplotlib.collections.PathCollection at 0x1c425cc9438>"
      ]
     },
     "execution_count": 57,
     "metadata": {},
     "output_type": "execute_result"
    },
    {
     "data": {
      "image/png": "[encoded data removed]",
      "text/plain": [
       "<Figure size 432x288 with 1 Axes>"
      ]
     },
     "metadata": {},
     "output_type": "display_data"
    }
   ],
   "source": [
    "x=np.arange(0,4,0.1)\n",
    "plt.scatter(x,4*x-x**2)"
   ]
  },
  {
   "cell_type": "markdown",
   "metadata": {},
   "source": [
    "* This is maximized at 2\n",
    "\n",
    "* The FOC for this case is simply\n",
    "\n",
    "$$4-2x^*=0$$\n",
    "\n",
    "* What means $x^*=2$\n",
    "\n",
    "* You see in the plot that pertubating x a little bit has not effect on the value\n",
    "\n",
    "* close to the optimal, the expression is flat.\n",
    "\n",
    "* This is a general result "
   ]
  },
  {
   "cell_type": "markdown",
   "metadata": {},
   "source": [
    "# The Tangecy  portfolio\n",
    "\n",
    "\n",
    "\n",
    "* Rewriting our first order condition we have\n",
    "\n",
    "\n",
    "###  $$\n",
    "\\begin{aligned}\n",
    "2\\gamma(1-w_f)^2 Var(R^e)W^*=(1-w_f)E[R^e]\\\\\n",
    "(2\\gamma (1-w_f)^2Var(R^e))^{-1}2\\gamma(1-w_f)^2 Var(R^e)W^*=(2\\gamma (1-w_f)^2Var(R^e))^{-1}(1-w_f)E[R^e]\\\\\n",
    "W^*=\\frac{1}{2\\gamma(1-w_f)}(Var(R^e))^{-1}E[R^e]\n",
    "\\end{aligned}$$\n",
    "\n",
    "\n",
    "* Does your distaste for risk $\\gamma$ impact your portfolio composition?\n",
    "\n",
    "* Does it impact the relative weights in the risky assets?\n",
    "\n",
    "* Does your choice of how much to invest in the risk-free asset $w_f$ impacts the composition of your risky portfolio?\n",
    "\n",
    "\n",
    "* Note that $W^*$ is the optimal position in risky assets and therefore has the same dimension as the number of assets you are considering. \n",
    "\n",
    "* In our simple case 2 assets\n",
    "\n",
    "* Note that $\\frac{1}{2\\gamma(1-w_f)}$ is a scalar, which means that this is a number not a vector\n",
    "\n",
    "### Matrix inversion intuition\n",
    "\n",
    "* Note that $(2)^{-1}=1/2=0.5$ (naturally!), $(Var(R^e))^{-1}$ is kind of like this, \n",
    "\n",
    "* but more complicated because $Var(R^e)$ is a N by N matrix and we can't simply divide over\n",
    "\n",
    "* The definition of the inverse function is $f(x)=x^{-1}=y$ where $y*x=1$\n",
    "\n",
    "* for matrixis it is the same: $(Var(R^e))^{-1}Var(R^e)=I$, but now instead of 1, we have an indentity matrix, which is matrix with 1's in the diagonal and zero everywhere else\n",
    "\n",
    "* For a example, lets say we want to inverse a 2 by 2 matrix:\n",
    "\n",
    "$$\\left[\\begin{array}{cc}3 & 7\\\\0 &9\\end{array}\\right]^{-1}=\\left[\\begin{array}{cc}a & b\\\\c &d\\end{array}\\right]$$\n",
    "\n",
    "\n",
    "* We would simply solve\n",
    "\n",
    "\n",
    "$$\\left[\\begin{array}{cc}3 & 7\\\\0 &9\\end{array}\\right]\\left[\\begin{array}{cc}a & b\\\\c &d\\end{array}\\right]=I=\\left[\\begin{array}{cc}1 & 0\\\\0 &1\\end{array}\\right]$$\n",
    "\n",
    "* Which means solving this system of four equations below\n",
    "$$\n",
    "\\begin{aligned}\n",
    "3*a+7*c=1\\\\\n",
    "3*b+7*d=0\\\\\n",
    "0*a+9*c=0\\\\\n",
    "0*b+9*d=1\\\\\n",
    "\\end{aligned}$$\n",
    "\n",
    "* which in this case has an easy solution [a,b,c,d]=[1/3,7/27,0,1/9]\n",
    "\n",
    "* But we should be thankful for being born after the 70's, when people had to do these inversions by hand--for very large matrixes\n",
    "\n",
    "* Now we can simply us the linear algebra library build in numpy  we discussed in Notebook 1 and invert the matrix:"
   ]
  },
  {
   "cell_type": "code",
   "execution_count": 59,
   "metadata": {},
   "outputs": [
    {
     "data": {
      "text/plain": [
       "array([[ 822.50792137, -476.49212708],\n",
       "       [-476.49212708,  734.40580739]])"
      ]
     },
     "execution_count": 59,
     "metadata": {},
     "output_type": "execute_result"
    }
   ],
   "source": [
    "np.linalg.inv(Re.cov()) "
   ]
  },
  {
   "cell_type": "markdown",
   "metadata": {},
   "source": [
    "And our optimal weights must be proportional to "
   ]
  },
  {
   "cell_type": "code",
   "execution_count": 29,
   "metadata": {},
   "outputs": [
    {
     "data": {
      "text/plain": [
       "array([2.25099751, 0.597729  ])"
      ]
     },
     "execution_count": 29,
     "metadata": {},
     "output_type": "execute_result"
    }
   ],
   "source": [
    "Wstar=np.linalg.inv(Re.cov()) @ Re.mean()\n",
    "Wstar"
   ]
  },
  {
   "cell_type": "markdown",
   "metadata": {},
   "source": [
    "* But these weigths don't add up to one?\n",
    "* Why does this still make sense? Why these weights define a portfolio?\n",
    "\n",
    "* Cacluating weights below for a fully invested portfolio"
   ]
  },
  {
   "cell_type": "code",
   "execution_count": 62,
   "metadata": {},
   "outputs": [
    {
     "data": {
      "text/plain": [
       "array([0.79017677, 0.20982323])"
      ]
     },
     "execution_count": 62,
     "metadata": {},
     "output_type": "execute_result"
    }
   ],
   "source": [
    "\n",
    "Wstar/np.sum(Wstar)"
   ]
  },
  {
   "cell_type": "markdown",
   "metadata": {},
   "source": [
    "### Two-fund separation\n",
    "\n",
    "* Take a moment to appreciate this.\n",
    "\n",
    "* How you distribute your wealth across different risky assets DOES NOT depend on your preferences for risk!\n",
    "\n",
    "* It DOES NOT depend on how much you are investing in the risk-free rate\n",
    "\n",
    "* We can go back and now solve to the position in the risky-free asset and the risk portfolio\n",
    "\n",
    "$$\n",
    "\\begin{aligned}\n",
    "minimize_{w_f} rf+ (1-w_f)E[R^*]- (1-w_f)^2\\gamma Var(R^*)\\\\\n",
    "\\end{aligned}\n",
    "$$\n",
    "\n",
    "* Where $R^*=(W^*)'R^e$ is the returns on the optimal risk portfolio (the TANGENCY portfolio)\n",
    "\n",
    "* The First order condition for $w_f$ is simply\n",
    "\n",
    "\n",
    "$$\n",
    "\\begin{aligned}\n",
    "-E[R^*]+ 2(1-w_f)\\gamma Var(R^*)=0\\\\\n",
    " (1-w_f)=\\frac{1}{2\\gamma}\\frac{E[R^*]}{Var(R^*)}\n",
    "\\end{aligned}\n",
    "$$\n",
    "\n",
    "* Note that now we can divided over the variance term, becasue tat is the variance of one asset, our portfolio, whihc is just a scalar\n",
    "\n",
    "* Recall that $1-w_f$ is the position of the optimal risky portfolio (the TANGENCY portfolio)\n",
    "\n",
    "* So this formula has a lot of intuition:\n",
    "\n",
    "  * Your position on the risky portfolio depends:\n",
    "    * on your distaste for risk $(2\\gamma)$ \n",
    "    * The risk-return trade-off on your  risky portfolio\n",
    "    * Recall that the optimal risky portfolio is the portfolio with best risk-return trade-off !\n",
    "    \n",
    "* You can also rewrite the solution in terms of your choice of your overall portfolio volatility, \n",
    "\n",
    "* which is $(1-w_f)std(R^*)$\n",
    "  \n",
    "  $$ (1-w_f)std(R^*)=\\frac{1}{2\\gamma}\\frac{E[R^*]}{std(R^*)}$$\n",
    "  \n",
    "* So your position on the risky asset depends on the Sharpe ratio of your risky portfolio\n",
    "  \n",
    "* Note that we can simply define the tangency portfolio as : \n",
    "\n",
    "$$W^*=(Var(R^e))^{-1}E[R^e]$$\n",
    "\n",
    "* Because any constant term will simply change the position in the risky-free asset\n",
    "\n",
    "* For example, since any constant multiplying $W^*$ does not change it's sharpe ratio (can you show that?), \n",
    "\n",
    "* then from the equation above it is immediate that a more volatile $R^*$ would simply imply a higher position in the risk-free asset, keeping the total portfolio volatility constant. "
   ]
  },
  {
   "cell_type": "markdown",
   "metadata": {},
   "source": [
    "### The tangency portfolio and the cross-sectional of expected returns\n",
    "\n",
    "\n",
    "* The optimal condition for our tangency portfolio:\n",
    "\n",
    "$$ Var(R^e)W^*=cte*E[R^e]$$\n",
    "\n",
    "* This condition above defines the tangency portfolio\n",
    "\n",
    "* We can rewirte the left hand side as\n",
    "\n",
    "$$Var(R^e)W^*=Cov(R^e,R^e)W^*=Cov(R^e,(W^*)'R^e)=Cov(R^e,R^*)$$\n",
    "\n",
    "* The left-hand side in the covariance vector of all the assets with the tangency portfolio\n",
    "\n",
    "* This means that expected returns of each asset must be proportional to the asset return covariance with the tangency portfolio\n",
    "\n",
    "$$ E[R^e]=cte Cov(R^e,R^*) $$\n",
    "\n",
    "\n",
    "* This holds for all assets in your investment opportunity set (i.e. the assets included in the minimization problem that the tangency portfolio solves)\n",
    "\n",
    "\n",
    "* This means that for any assets $j$ and $i$ we have \n",
    "\n",
    "\n",
    "$$\\frac{E[R^e_i]}{Cov(R^e_i,R^*)}= \\frac{E[R^e_j]}{Cov(R^e_j,R^*)} $$ \n",
    "\n",
    "\n",
    "* All assets have the same expected return per-unit of covariance with the tangency portoflio\n",
    "\n",
    "* We can also apply this to the tangency portfolio itself\n",
    "\n",
    "\n",
    "$$ E[R^*]=cte Cov(R^*,R^*) $$\n",
    "\n",
    "\n",
    "* Which means that $cte=\\frac{E[R^*]}{Var(R^*)}$\n",
    "\n",
    "\n",
    "* Pluggin back in the original and we get that for any asset $j$\n",
    "\n",
    "\n",
    "$$ E[R^e_j]=\\frac{E[R^*]}{Var(R^*)} Cov(R^e_j,R^*) =\\frac{Cov(R^e_j,R^*)}{Var(R^*)}E[R^*]=\\beta_{j,*}E[R^*] $$\n",
    "\n",
    "\n",
    "\n",
    "$$ E[R^e_j]=\\beta_{j,*}E[R^*] $$\n",
    "\n",
    "> What does that reminds you?\n",
    "\n",
    "* All the information about the cross-sectional of expected returns--all the assets-- can be summarized by the expected return of the tangency portfolio and the beta of each asset with respect to the tangency portfolio\n",
    "\n",
    "* Or Alternatively: the risk-return trade-off  of the tangency portfolio  $\\frac{E[R^*]}{Var(R^*)}$ and the covariance of each asset with it.\n",
    "\n",
    "\n",
    "* Once you have the right notion of risk, the reward to risk is the same across assets (no free lunch)\n",
    "\n",
    "* What is the right notion? Covariance with the tangency portfolio\n",
    "\n",
    "* In sample that you estimated the moments this will be true by construction!"
   ]
  },
  {
   "cell_type": "code",
   "execution_count": 69,
   "metadata": {},
   "outputs": [
    {
     "name": "stdout",
     "output_type": "stream",
     "text": [
      "[0.00514034 0.00414901]\n",
      "MKT          0.005140\n",
      "WorldxUSA    0.004149\n",
      "dtype: float64\n"
     ]
    }
   ],
   "source": [
    "mu_star=Wstar @ Re.mean()\n",
    "var_star=(Wstar @ Re.cov() @ Wstar.T)\n",
    "cov=Wstar @ Re.cov()\n",
    "\n",
    "predicted= mu_star/var_star*cov\n",
    "\n",
    "print(predicted)\n",
    "\n",
    "print(Re.mean())"
   ]
  },
  {
   "cell_type": "markdown",
   "metadata": {},
   "source": [
    "* This comes form the fact that the tangency portfolio was constructed to be the portfolio with the maximum Sharpe Ratio\n",
    "* It is a result of us knowing the moments of all assets summarized by $E[R^e]$  and $Var(R^e)$\n",
    "* Here we did everything IN SAMPLE. We used sample moments and evalauted it's predictions using the same sample\n",
    "* The challenge is that these moments are not always well estiamted, to put it mildly (more on this soon!)\n",
    "* So the in sample tangency portfolio might not be very informative about the true tangency portfolio, which is the one that we actually care about\n",
    "\n",
    "> Why? Because it can predict returns going forward and not only in sample (which is useless)"
   ]
  },
  {
   "cell_type": "markdown",
   "metadata": {},
   "source": [
    "### Portfolio advice summary\n",
    "\n",
    "* All investors invest in the same fund of risky assets, regardless of risk aversion.\n",
    "\n",
    "* Depending on risk aversion, they choose an appropriate mix of money market and risky fund investments\n",
    "\n",
    "* What about the investment horizon? \n",
    "\n",
    "* Same portfolio advice applies for investors with longer horizons if we assume that investors are drawn from the same distribution each period\n",
    "\n",
    "* Your investment horizon (age) does not matter if returns are i.i.d. (independently and identically distributed over time)\n",
    "\n",
    "### The 1 trillion dollar question: What is the Tangency portfolio? How to find it?\n"
   ]
  },
  {
   "cell_type": "markdown",
   "metadata": {},
   "source": [
    "# Case study on international portfolio diversification"
   ]
  },
  {
   "cell_type": "code",
   "execution_count": 30,
   "metadata": {},
   "outputs": [
    {
     "data": {
      "text/html": [
       "<div>\n",
       "<style scoped>\n",
       "    .dataframe tbody tr th:only-of-type {\n",
       "        vertical-align: middle;\n",
       "    }\n",
       "\n",
       "    .dataframe tbody tr th {\n",
       "        vertical-align: top;\n",
       "    }\n",
       "\n",
       "    .dataframe thead th {\n",
       "        text-align: right;\n",
       "    }\n",
       "</style>\n",
       "<table border=\"1\" class=\"dataframe\">\n",
       "  <thead>\n",
       "    <tr style=\"text-align: right;\">\n",
       "      <th></th>\n",
       "      <th>RF</th>\n",
       "      <th>MKT</th>\n",
       "      <th>USA30yearGovBond</th>\n",
       "      <th>EmergingMarkets</th>\n",
       "      <th>WorldxUSA</th>\n",
       "      <th>WorldxUSAGovBond</th>\n",
       "    </tr>\n",
       "    <tr>\n",
       "      <th>Date</th>\n",
       "      <th></th>\n",
       "      <th></th>\n",
       "      <th></th>\n",
       "      <th></th>\n",
       "      <th></th>\n",
       "      <th></th>\n",
       "    </tr>\n",
       "  </thead>\n",
       "  <tbody>\n",
       "    <tr>\n",
       "      <th>1963-02-28</th>\n",
       "      <td>0.0023</td>\n",
       "      <td>-0.0215</td>\n",
       "      <td>-0.001878</td>\n",
       "      <td>0.098222</td>\n",
       "      <td>-0.002773</td>\n",
       "      <td>0.003206</td>\n",
       "    </tr>\n",
       "    <tr>\n",
       "      <th>1963-03-31</th>\n",
       "      <td>0.0023</td>\n",
       "      <td>0.0331</td>\n",
       "      <td>0.003342</td>\n",
       "      <td>0.014149</td>\n",
       "      <td>0.000371</td>\n",
       "      <td>0.001913</td>\n",
       "    </tr>\n",
       "    <tr>\n",
       "      <th>1963-04-30</th>\n",
       "      <td>0.0025</td>\n",
       "      <td>0.0476</td>\n",
       "      <td>-0.001843</td>\n",
       "      <td>-0.147055</td>\n",
       "      <td>-0.003336</td>\n",
       "      <td>0.008002</td>\n",
       "    </tr>\n",
       "    <tr>\n",
       "      <th>1963-05-31</th>\n",
       "      <td>0.0024</td>\n",
       "      <td>0.0200</td>\n",
       "      <td>-0.001807</td>\n",
       "      <td>-0.012172</td>\n",
       "      <td>-0.000186</td>\n",
       "      <td>0.004689</td>\n",
       "    </tr>\n",
       "    <tr>\n",
       "      <th>1963-06-30</th>\n",
       "      <td>0.0023</td>\n",
       "      <td>-0.0177</td>\n",
       "      <td>0.001666</td>\n",
       "      <td>-0.055699</td>\n",
       "      <td>-0.011160</td>\n",
       "      <td>0.003139</td>\n",
       "    </tr>\n",
       "  </tbody>\n",
       "</table>\n",
       "</div>"
      ],
      "text/plain": [
       "                RF     MKT  USA30yearGovBond  EmergingMarkets  WorldxUSA  \\\n",
       "Date                                                                       \n",
       "1963-02-28  0.0023 -0.0215         -0.001878         0.098222  -0.002773   \n",
       "1963-03-31  0.0023  0.0331          0.003342         0.014149   0.000371   \n",
       "1963-04-30  0.0025  0.0476         -0.001843        -0.147055  -0.003336   \n",
       "1963-05-31  0.0024  0.0200         -0.001807        -0.012172  -0.000186   \n",
       "1963-06-30  0.0023 -0.0177          0.001666        -0.055699  -0.011160   \n",
       "\n",
       "            WorldxUSAGovBond  \n",
       "Date                          \n",
       "1963-02-28          0.003206  \n",
       "1963-03-31          0.001913  \n",
       "1963-04-30          0.008002  \n",
       "1963-05-31          0.004689  \n",
       "1963-06-30          0.003139  "
      ]
     },
     "execution_count": 30,
     "metadata": {},
     "output_type": "execute_result"
    }
   ],
   "source": [
    "Data.head()"
   ]
  },
  {
   "cell_type": "code",
   "execution_count": 31,
   "metadata": {},
   "outputs": [
    {
     "data": {
      "text/html": [
       "<div>\n",
       "<style scoped>\n",
       "    .dataframe tbody tr th:only-of-type {\n",
       "        vertical-align: middle;\n",
       "    }\n",
       "\n",
       "    .dataframe tbody tr th {\n",
       "        vertical-align: top;\n",
       "    }\n",
       "\n",
       "    .dataframe thead th {\n",
       "        text-align: right;\n",
       "    }\n",
       "</style>\n",
       "<table border=\"1\" class=\"dataframe\">\n",
       "  <thead>\n",
       "    <tr style=\"text-align: right;\">\n",
       "      <th></th>\n",
       "      <th>RF</th>\n",
       "      <th>MKTUS</th>\n",
       "      <th>BondUS</th>\n",
       "      <th>EM</th>\n",
       "      <th>MKTxUS</th>\n",
       "      <th>BondxUS</th>\n",
       "    </tr>\n",
       "    <tr>\n",
       "      <th>Date</th>\n",
       "      <th></th>\n",
       "      <th></th>\n",
       "      <th></th>\n",
       "      <th></th>\n",
       "      <th></th>\n",
       "      <th></th>\n",
       "    </tr>\n",
       "  </thead>\n",
       "  <tbody>\n",
       "    <tr>\n",
       "      <th>2016-08-31</th>\n",
       "      <td>0.0002</td>\n",
       "      <td>0.0052</td>\n",
       "      <td>-0.008417</td>\n",
       "      <td>0.025186</td>\n",
       "      <td>0.000838</td>\n",
       "      <td>-0.009552</td>\n",
       "    </tr>\n",
       "    <tr>\n",
       "      <th>2016-09-30</th>\n",
       "      <td>0.0002</td>\n",
       "      <td>0.0027</td>\n",
       "      <td>-0.016417</td>\n",
       "      <td>0.013153</td>\n",
       "      <td>0.012736</td>\n",
       "      <td>0.009979</td>\n",
       "    </tr>\n",
       "    <tr>\n",
       "      <th>2016-10-31</th>\n",
       "      <td>0.0002</td>\n",
       "      <td>-0.0200</td>\n",
       "      <td>-0.049460</td>\n",
       "      <td>0.002474</td>\n",
       "      <td>-0.020383</td>\n",
       "      <td>-0.043476</td>\n",
       "    </tr>\n",
       "    <tr>\n",
       "      <th>2016-11-30</th>\n",
       "      <td>0.0001</td>\n",
       "      <td>0.0487</td>\n",
       "      <td>-0.081636</td>\n",
       "      <td>-0.045971</td>\n",
       "      <td>-0.019798</td>\n",
       "      <td>-0.050359</td>\n",
       "    </tr>\n",
       "    <tr>\n",
       "      <th>2016-12-31</th>\n",
       "      <td>0.0003</td>\n",
       "      <td>0.0185</td>\n",
       "      <td>-0.005296</td>\n",
       "      <td>0.002904</td>\n",
       "      <td>0.034383</td>\n",
       "      <td>-0.023207</td>\n",
       "    </tr>\n",
       "  </tbody>\n",
       "</table>\n",
       "</div>"
      ],
      "text/plain": [
       "                RF   MKTUS    BondUS        EM    MKTxUS   BondxUS\n",
       "Date                                                              \n",
       "2016-08-31  0.0002  0.0052 -0.008417  0.025186  0.000838 -0.009552\n",
       "2016-09-30  0.0002  0.0027 -0.016417  0.013153  0.012736  0.009979\n",
       "2016-10-31  0.0002 -0.0200 -0.049460  0.002474 -0.020383 -0.043476\n",
       "2016-11-30  0.0001  0.0487 -0.081636 -0.045971 -0.019798 -0.050359\n",
       "2016-12-31  0.0003  0.0185 -0.005296  0.002904  0.034383 -0.023207"
      ]
     },
     "execution_count": 31,
     "metadata": {},
     "output_type": "execute_result"
    }
   ],
   "source": [
    "# for convenience lets rename these assets\n",
    "\n",
    "Data=Data.rename(columns={Data.columns[1]: \"MKTUS\",Data.columns[2]: \"BondUS\",\n",
    "                          Data.columns[3]: \"EM\",Data.columns[4]: \"MKTxUS\",Data.columns[5]: \"BondxUS\" })\n",
    "Data.tail()"
   ]
  },
  {
   "cell_type": "code",
   "execution_count": 32,
   "metadata": {},
   "outputs": [
    {
     "data": {
      "text/html": [
       "<div>\n",
       "<style scoped>\n",
       "    .dataframe tbody tr th:only-of-type {\n",
       "        vertical-align: middle;\n",
       "    }\n",
       "\n",
       "    .dataframe tbody tr th {\n",
       "        vertical-align: top;\n",
       "    }\n",
       "\n",
       "    .dataframe thead th {\n",
       "        text-align: right;\n",
       "    }\n",
       "</style>\n",
       "<table border=\"1\" class=\"dataframe\">\n",
       "  <thead>\n",
       "    <tr style=\"text-align: right;\">\n",
       "      <th></th>\n",
       "      <th>MKTUS</th>\n",
       "      <th>BondUS</th>\n",
       "      <th>EM</th>\n",
       "      <th>MKTxUS</th>\n",
       "      <th>BondxUS</th>\n",
       "    </tr>\n",
       "    <tr>\n",
       "      <th>Date</th>\n",
       "      <th></th>\n",
       "      <th></th>\n",
       "      <th></th>\n",
       "      <th></th>\n",
       "      <th></th>\n",
       "    </tr>\n",
       "  </thead>\n",
       "  <tbody>\n",
       "    <tr>\n",
       "      <th>2016-08-31</th>\n",
       "      <td>0.0050</td>\n",
       "      <td>-0.008617</td>\n",
       "      <td>0.024986</td>\n",
       "      <td>0.000638</td>\n",
       "      <td>-0.009752</td>\n",
       "    </tr>\n",
       "    <tr>\n",
       "      <th>2016-09-30</th>\n",
       "      <td>0.0025</td>\n",
       "      <td>-0.016617</td>\n",
       "      <td>0.012953</td>\n",
       "      <td>0.012536</td>\n",
       "      <td>0.009779</td>\n",
       "    </tr>\n",
       "    <tr>\n",
       "      <th>2016-10-31</th>\n",
       "      <td>-0.0202</td>\n",
       "      <td>-0.049660</td>\n",
       "      <td>0.002274</td>\n",
       "      <td>-0.020583</td>\n",
       "      <td>-0.043676</td>\n",
       "    </tr>\n",
       "    <tr>\n",
       "      <th>2016-11-30</th>\n",
       "      <td>0.0486</td>\n",
       "      <td>-0.081736</td>\n",
       "      <td>-0.046071</td>\n",
       "      <td>-0.019898</td>\n",
       "      <td>-0.050459</td>\n",
       "    </tr>\n",
       "    <tr>\n",
       "      <th>2016-12-31</th>\n",
       "      <td>0.0182</td>\n",
       "      <td>-0.005596</td>\n",
       "      <td>0.002604</td>\n",
       "      <td>0.034083</td>\n",
       "      <td>-0.023507</td>\n",
       "    </tr>\n",
       "  </tbody>\n",
       "</table>\n",
       "</div>"
      ],
      "text/plain": [
       "             MKTUS    BondUS        EM    MKTxUS   BondxUS\n",
       "Date                                                      \n",
       "2016-08-31  0.0050 -0.008617  0.024986  0.000638 -0.009752\n",
       "2016-09-30  0.0025 -0.016617  0.012953  0.012536  0.009779\n",
       "2016-10-31 -0.0202 -0.049660  0.002274 -0.020583 -0.043676\n",
       "2016-11-30  0.0486 -0.081736 -0.046071 -0.019898 -0.050459\n",
       "2016-12-31  0.0182 -0.005596  0.002604  0.034083 -0.023507"
      ]
     },
     "execution_count": 32,
     "metadata": {},
     "output_type": "execute_result"
    }
   ],
   "source": [
    "# lets start by constructing a matrix with only excess returns\n",
    "Re=(Data.drop('RF',axis=1)).subtract(Data['RF'],axis='index')\n",
    "Re.tail()"
   ]
  },
  {
   "cell_type": "code",
   "execution_count": 34,
   "metadata": {},
   "outputs": [
    {
     "data": {
      "text/plain": [
       "MKTUS      0.005140\n",
       "BondUS     0.002523\n",
       "EM         0.006923\n",
       "MKTxUS     0.004149\n",
       "BondxUS    0.002052\n",
       "dtype: float64"
      ]
     },
     "execution_count": 34,
     "metadata": {},
     "output_type": "execute_result"
    }
   ],
   "source": [
    "# now we estimate the expected return and the covariance using the sample moments\n",
    "ERe=Re.mean()\n",
    "ERe"
   ]
  },
  {
   "cell_type": "code",
   "execution_count": 35,
   "metadata": {},
   "outputs": [
    {
     "data": {
      "text/html": [
       "<div>\n",
       "<style scoped>\n",
       "    .dataframe tbody tr th:only-of-type {\n",
       "        vertical-align: middle;\n",
       "    }\n",
       "\n",
       "    .dataframe tbody tr th {\n",
       "        vertical-align: top;\n",
       "    }\n",
       "\n",
       "    .dataframe thead th {\n",
       "        text-align: right;\n",
       "    }\n",
       "</style>\n",
       "<table border=\"1\" class=\"dataframe\">\n",
       "  <thead>\n",
       "    <tr style=\"text-align: right;\">\n",
       "      <th></th>\n",
       "      <th>MKTUS</th>\n",
       "      <th>BondUS</th>\n",
       "      <th>EM</th>\n",
       "      <th>MKTxUS</th>\n",
       "      <th>BondxUS</th>\n",
       "    </tr>\n",
       "  </thead>\n",
       "  <tbody>\n",
       "    <tr>\n",
       "      <th>MKTUS</th>\n",
       "      <td>0.001948</td>\n",
       "      <td>0.000111</td>\n",
       "      <td>0.001292</td>\n",
       "      <td>0.001264</td>\n",
       "      <td>0.000187</td>\n",
       "    </tr>\n",
       "    <tr>\n",
       "      <th>BondUS</th>\n",
       "      <td>0.000111</td>\n",
       "      <td>0.001227</td>\n",
       "      <td>-0.000204</td>\n",
       "      <td>-0.000013</td>\n",
       "      <td>0.000264</td>\n",
       "    </tr>\n",
       "    <tr>\n",
       "      <th>EM</th>\n",
       "      <td>0.001292</td>\n",
       "      <td>-0.000204</td>\n",
       "      <td>0.003556</td>\n",
       "      <td>0.001661</td>\n",
       "      <td>0.000248</td>\n",
       "    </tr>\n",
       "    <tr>\n",
       "      <th>MKTxUS</th>\n",
       "      <td>0.001264</td>\n",
       "      <td>-0.000013</td>\n",
       "      <td>0.001661</td>\n",
       "      <td>0.002182</td>\n",
       "      <td>0.000422</td>\n",
       "    </tr>\n",
       "    <tr>\n",
       "      <th>BondxUS</th>\n",
       "      <td>0.000187</td>\n",
       "      <td>0.000264</td>\n",
       "      <td>0.000248</td>\n",
       "      <td>0.000422</td>\n",
       "      <td>0.000406</td>\n",
       "    </tr>\n",
       "  </tbody>\n",
       "</table>\n",
       "</div>"
      ],
      "text/plain": [
       "            MKTUS    BondUS        EM    MKTxUS   BondxUS\n",
       "MKTUS    0.001948  0.000111  0.001292  0.001264  0.000187\n",
       "BondUS   0.000111  0.001227 -0.000204 -0.000013  0.000264\n",
       "EM       0.001292 -0.000204  0.003556  0.001661  0.000248\n",
       "MKTxUS   0.001264 -0.000013  0.001661  0.002182  0.000422\n",
       "BondxUS  0.000187  0.000264  0.000248  0.000422  0.000406"
      ]
     },
     "execution_count": 35,
     "metadata": {},
     "output_type": "execute_result"
    }
   ],
   "source": [
    "Cove=Re.cov()\n",
    "Cove"
   ]
  },
  {
   "cell_type": "markdown",
   "metadata": {},
   "source": [
    "1. First we will solve for the maxium Sharpe ratio feasible: \n",
    "\n",
    "What is this? It is the SR on the tangency  portfolio\n",
    "\n",
    "(I am using $W_*$ to denote it to make it easier to show the transposes)\n",
    "  \n",
    "  \n",
    "\n",
    "$$\n",
    "\\begin{aligned}\n",
    "SR(R^*)=\\frac{E[W_*'R^e]}{\\sqrt{Var(W_*'R^e)}}\\\\\n",
    "=\\frac{W_*'E[R^e]}{\\sqrt{W_*'Var(R^e)W_*}}\\\\\n",
    "=\\frac{(Var(R^e)^{-1}E[R^e])'E[R^e]}{\\sqrt{(Var(R^e)^{-1}E[R^e])'Var(R^e)(Var(R^e)^{-1}E[R^e])}}\\\\\n",
    "=\\frac{E[R^e]'Var(R^e)^{-1}E[R^e]}{\\sqrt{E[R^e]Var(R^e)^{-1}Var(R^e)Var(R^e)^{-1}E[R^e]}}\\\\\n",
    "=\\frac{E[R^e]'Var(R^e)^{-1}E[R^e]}{\\sqrt{E[R^e]Var(R^e)^{-1}E[R^e]}}\\\\\n",
    "=\\sqrt{E[R^e]Var(R^e)^{-1}E[R^e]}\n",
    "\\end{aligned}$$\n",
    "\n",
    "2. Then we will solve for the weights that implement this Sharpe ratio\n",
    "\n",
    "$$VAR(R)^{-1}E[R]$$\n",
    "\n",
    "3. And then we will solve for the position on it that implements a desired level of expected excess returns"
   ]
  },
  {
   "cell_type": "code",
   "execution_count": 36,
   "metadata": {},
   "outputs": [
    {
     "data": {
      "text/plain": [
       "0.16369789630430479"
      ]
     },
     "execution_count": 36,
     "metadata": {},
     "output_type": "execute_result"
    }
   ],
   "source": [
    "SR_int=(ERe.values.T @ np.linalg.inv(Cove) @ ERe.values)**0.5\n",
    "SR_int"
   ]
  },
  {
   "cell_type": "code",
   "execution_count": 37,
   "metadata": {},
   "outputs": [
    {
     "data": {
      "text/plain": [
       "0.5670661469823949"
      ]
     },
     "execution_count": 37,
     "metadata": {},
     "output_type": "execute_result"
    }
   ],
   "source": [
    "# annualized\n",
    "\n",
    "SR_int*12**0.5"
   ]
  },
  {
   "cell_type": "code",
   "execution_count": 40,
   "metadata": {},
   "outputs": [
    {
     "data": {
      "text/plain": [
       "0.40345097267659175"
      ]
     },
     "execution_count": 40,
     "metadata": {},
     "output_type": "execute_result"
    }
   ],
   "source": [
    "# compares with market\n",
    "\n",
    "Re.MKTUS.mean()/Re.MKTUS.std()*12**0.5"
   ]
  },
  {
   "cell_type": "code",
   "execution_count": 41,
   "metadata": {},
   "outputs": [
    {
     "data": {
      "text/html": [
       "<div>\n",
       "<style scoped>\n",
       "    .dataframe tbody tr th:only-of-type {\n",
       "        vertical-align: middle;\n",
       "    }\n",
       "\n",
       "    .dataframe tbody tr th {\n",
       "        vertical-align: top;\n",
       "    }\n",
       "\n",
       "    .dataframe thead th {\n",
       "        text-align: right;\n",
       "    }\n",
       "</style>\n",
       "<table border=\"1\" class=\"dataframe\">\n",
       "  <thead>\n",
       "    <tr style=\"text-align: right;\">\n",
       "      <th></th>\n",
       "      <th>wghts0</th>\n",
       "    </tr>\n",
       "  </thead>\n",
       "  <tbody>\n",
       "    <tr>\n",
       "      <th>MKTUS</th>\n",
       "      <td>1.834995</td>\n",
       "    </tr>\n",
       "    <tr>\n",
       "      <th>BondUS</th>\n",
       "      <td>1.423872</td>\n",
       "    </tr>\n",
       "    <tr>\n",
       "      <th>EM</th>\n",
       "      <td>1.605498</td>\n",
       "    </tr>\n",
       "    <tr>\n",
       "      <th>MKTxUS</th>\n",
       "      <td>-1.026051</td>\n",
       "    </tr>\n",
       "    <tr>\n",
       "      <th>BondxUS</th>\n",
       "      <td>3.368940</td>\n",
       "    </tr>\n",
       "  </tbody>\n",
       "</table>\n",
       "</div>"
      ],
      "text/plain": [
       "           wghts0\n",
       "MKTUS    1.834995\n",
       "BondUS   1.423872\n",
       "EM       1.605498\n",
       "MKTxUS  -1.026051\n",
       "BondxUS  3.368940"
      ]
     },
     "execution_count": 41,
     "metadata": {},
     "output_type": "execute_result"
    }
   ],
   "source": [
    "# construct the optimal weights\n",
    "Wmve=pd.DataFrame([],index=Re.columns)\n",
    "Wmve['wghts0'] =np.linalg.inv(Cove) @ ERe.values\n",
    "\n",
    "Wmve\n"
   ]
  },
  {
   "cell_type": "markdown",
   "metadata": {},
   "source": [
    "To find the weights that implement a particular expected return target \n",
    "\n",
    "$$\\mu^{target}=r_f+(1-w_f)E[R^*]$$\n",
    "\n",
    "$$(1-w_f)=\\frac{\\mu^{target}-r_f}{E[R^*]}$$\n",
    "\n",
    "$$(1-w_f)=\\frac{\\mu^{target}-r_f}{E[R^e]'Var(R^e)^{-1}E[R^e]}$$\n",
    "\n",
    "\n",
    "> How to choose $w_f$ by targeting a desired level of vol?"
   ]
  },
  {
   "cell_type": "code",
   "execution_count": 42,
   "metadata": {},
   "outputs": [
    {
     "name": "stdout",
     "output_type": "stream",
     "text": [
      "0.37317608433285165\n"
     ]
    },
    {
     "data": {
      "text/html": [
       "<div>\n",
       "<style scoped>\n",
       "    .dataframe tbody tr th:only-of-type {\n",
       "        vertical-align: middle;\n",
       "    }\n",
       "\n",
       "    .dataframe tbody tr th {\n",
       "        vertical-align: top;\n",
       "    }\n",
       "\n",
       "    .dataframe thead th {\n",
       "        text-align: right;\n",
       "    }\n",
       "</style>\n",
       "<table border=\"1\" class=\"dataframe\">\n",
       "  <thead>\n",
       "    <tr style=\"text-align: right;\">\n",
       "      <th></th>\n",
       "      <th>wghts0</th>\n",
       "      <th>Wgths1</th>\n",
       "    </tr>\n",
       "  </thead>\n",
       "  <tbody>\n",
       "    <tr>\n",
       "      <th>MKTUS</th>\n",
       "      <td>1.834995</td>\n",
       "      <td>0.684776</td>\n",
       "    </tr>\n",
       "    <tr>\n",
       "      <th>BondUS</th>\n",
       "      <td>1.423872</td>\n",
       "      <td>0.531355</td>\n",
       "    </tr>\n",
       "    <tr>\n",
       "      <th>EM</th>\n",
       "      <td>1.605498</td>\n",
       "      <td>0.599134</td>\n",
       "    </tr>\n",
       "    <tr>\n",
       "      <th>MKTxUS</th>\n",
       "      <td>-1.026051</td>\n",
       "      <td>-0.382898</td>\n",
       "    </tr>\n",
       "    <tr>\n",
       "      <th>BondxUS</th>\n",
       "      <td>3.368940</td>\n",
       "      <td>1.257208</td>\n",
       "    </tr>\n",
       "  </tbody>\n",
       "</table>\n",
       "</div>"
      ],
      "text/plain": [
       "           wghts0    Wgths1\n",
       "MKTUS    1.834995  0.684776\n",
       "BondUS   1.423872  0.531355\n",
       "EM       1.605498  0.599134\n",
       "MKTxUS  -1.026051 -0.382898\n",
       "BondxUS  3.368940  1.257208"
      ]
     },
     "execution_count": 42,
     "metadata": {},
     "output_type": "execute_result"
    }
   ],
   "source": [
    "# target ER\n",
    "\n",
    "mu_target=0.01\n",
    "lamb=(mu_target/(ERe.values.T @ np.linalg.inv(Cove) @ ERe.values))\n",
    "print(lamb)\n",
    "# must \n",
    "Wmve['Wgths1']=lamb*(np.linalg.inv(Cove) @ ERe.values)\n",
    "Wmve"
   ]
  },
  {
   "cell_type": "markdown",
   "metadata": {},
   "source": [
    "lets compute the domestic mean-variance frontier\n",
    "\n",
    "(we only keep the first two columns MKT +Bonds)"
   ]
  },
  {
   "cell_type": "code",
   "execution_count": 43,
   "metadata": {},
   "outputs": [
    {
     "name": "stdout",
     "output_type": "stream",
     "text": [
      "0.46009875470841877\n"
     ]
    },
    {
     "data": {
      "text/html": [
       "<div>\n",
       "<style scoped>\n",
       "    .dataframe tbody tr th:only-of-type {\n",
       "        vertical-align: middle;\n",
       "    }\n",
       "\n",
       "    .dataframe tbody tr th {\n",
       "        vertical-align: top;\n",
       "    }\n",
       "\n",
       "    .dataframe thead th {\n",
       "        text-align: right;\n",
       "    }\n",
       "</style>\n",
       "<table border=\"1\" class=\"dataframe\">\n",
       "  <thead>\n",
       "    <tr style=\"text-align: right;\">\n",
       "      <th></th>\n",
       "      <th>wghts0</th>\n",
       "      <th>Wgths1</th>\n",
       "      <th>wghtsdom</th>\n",
       "    </tr>\n",
       "  </thead>\n",
       "  <tbody>\n",
       "    <tr>\n",
       "      <th>MKTUS</th>\n",
       "      <td>1.834995</td>\n",
       "      <td>0.684776</td>\n",
       "      <td>2.534954</td>\n",
       "    </tr>\n",
       "    <tr>\n",
       "      <th>BondUS</th>\n",
       "      <td>1.423872</td>\n",
       "      <td>0.531355</td>\n",
       "      <td>1.827591</td>\n",
       "    </tr>\n",
       "    <tr>\n",
       "      <th>EM</th>\n",
       "      <td>1.605498</td>\n",
       "      <td>0.599134</td>\n",
       "      <td>NaN</td>\n",
       "    </tr>\n",
       "    <tr>\n",
       "      <th>MKTxUS</th>\n",
       "      <td>-1.026051</td>\n",
       "      <td>-0.382898</td>\n",
       "      <td>NaN</td>\n",
       "    </tr>\n",
       "    <tr>\n",
       "      <th>BondxUS</th>\n",
       "      <td>3.368940</td>\n",
       "      <td>1.257208</td>\n",
       "      <td>NaN</td>\n",
       "    </tr>\n",
       "  </tbody>\n",
       "</table>\n",
       "</div>"
      ],
      "text/plain": [
       "           wghts0    Wgths1  wghtsdom\n",
       "MKTUS    1.834995  0.684776  2.534954\n",
       "BondUS   1.423872  0.531355  1.827591\n",
       "EM       1.605498  0.599134       NaN\n",
       "MKTxUS  -1.026051 -0.382898       NaN\n",
       "BondxUS  3.368940  1.257208       NaN"
      ]
     },
     "execution_count": 43,
     "metadata": {},
     "output_type": "execute_result"
    }
   ],
   "source": [
    "\n",
    "ERdom=Re[['MKTUS','BondUS']].mean()\n",
    "Covdom=Re[['MKTUS','BondUS']].cov()\n",
    "SR_dom=(ERdom.values.T @ np.linalg.inv(Covdom) @ ERdom.values)**0.5\n",
    "print(SR_dom*12**0.5)\n",
    "Wmvedom= np.linalg.inv(Covdom) @ ERdom.values\n",
    "Wmve.loc[['MKTUS','BondUS'],'wghtsdom']=Wmvedom\n",
    "Wmve"
   ]
  },
  {
   "cell_type": "markdown",
   "metadata": {},
   "source": [
    "* To get a bit of intuition we can normalize the weights to add up to 1\n",
    "\n",
    "* Why these weights do not have to add up to 1?\n",
    "\n",
    "* Why is ok to normalize to 1?\n",
    "\n",
    "* What changes when we do that? What does not change?\n",
    "\n"
   ]
  },
  {
   "cell_type": "code",
   "execution_count": 193,
   "metadata": {},
   "outputs": [
    {
     "data": {
      "text/html": [
       "<div>\n",
       "<style scoped>\n",
       "    .dataframe tbody tr th:only-of-type {\n",
       "        vertical-align: middle;\n",
       "    }\n",
       "\n",
       "    .dataframe tbody tr th {\n",
       "        vertical-align: top;\n",
       "    }\n",
       "\n",
       "    .dataframe thead th {\n",
       "        text-align: right;\n",
       "    }\n",
       "</style>\n",
       "<table border=\"1\" class=\"dataframe\">\n",
       "  <thead>\n",
       "    <tr style=\"text-align: right;\">\n",
       "      <th></th>\n",
       "      <th>wghts0</th>\n",
       "      <th>Wgths1</th>\n",
       "      <th>wghtsdom</th>\n",
       "    </tr>\n",
       "  </thead>\n",
       "  <tbody>\n",
       "    <tr>\n",
       "      <th>MKTUS</th>\n",
       "      <td>0.254604</td>\n",
       "      <td>0.254604</td>\n",
       "      <td>0.581072</td>\n",
       "    </tr>\n",
       "    <tr>\n",
       "      <th>BondUS</th>\n",
       "      <td>0.197561</td>\n",
       "      <td>0.197561</td>\n",
       "      <td>0.418928</td>\n",
       "    </tr>\n",
       "    <tr>\n",
       "      <th>EM</th>\n",
       "      <td>0.222761</td>\n",
       "      <td>0.222761</td>\n",
       "      <td>NaN</td>\n",
       "    </tr>\n",
       "    <tr>\n",
       "      <th>MKTxUS</th>\n",
       "      <td>-0.142364</td>\n",
       "      <td>-0.142364</td>\n",
       "      <td>NaN</td>\n",
       "    </tr>\n",
       "    <tr>\n",
       "      <th>BondxUS</th>\n",
       "      <td>0.467437</td>\n",
       "      <td>0.467437</td>\n",
       "      <td>NaN</td>\n",
       "    </tr>\n",
       "  </tbody>\n",
       "</table>\n",
       "</div>"
      ],
      "text/plain": [
       "           wghts0    Wgths1  wghtsdom\n",
       "MKTUS    0.254604  0.254604  0.581072\n",
       "BondUS   0.197561  0.197561  0.418928\n",
       "EM       0.222761  0.222761       NaN\n",
       "MKTxUS  -0.142364 -0.142364       NaN\n",
       "BondxUS  0.467437  0.467437       NaN"
      ]
     },
     "execution_count": 193,
     "metadata": {},
     "output_type": "execute_result"
    }
   ],
   "source": [
    "\n",
    "Wmve/Wmve.sum()"
   ]
  },
  {
   "cell_type": "code",
   "execution_count": 44,
   "metadata": {},
   "outputs": [
    {
     "data": {
      "text/plain": [
       "0.030878826361946193"
      ]
     },
     "execution_count": 44,
     "metadata": {},
     "output_type": "execute_result"
    }
   ],
   "source": [
    "# this difference is the benefits of international diversification\n",
    "\n",
    "SR_int-SR_dom"
   ]
  },
  {
   "cell_type": "markdown",
   "metadata": {},
   "source": [
    "- what does that mean?\n",
    "\n",
    "- it means for example that if you want to target a portfolio with a volatility of 5% per month (about the vol of the US market portfolio), then you get  \n"
   ]
  },
  {
   "cell_type": "code",
   "execution_count": 195,
   "metadata": {},
   "outputs": [
    {
     "data": {
      "text/plain": [
       "[0.008184894815215239, 0.00664095349711793]"
      ]
     },
     "execution_count": 195,
     "metadata": {},
     "output_type": "execute_result"
    }
   ],
   "source": [
    "# international diversification\n",
    "voltarget=0.05\n",
    "[SR_int*voltarget,SR_dom*voltarget]\n"
   ]
  },
  {
   "cell_type": "code",
   "execution_count": 196,
   "metadata": {},
   "outputs": [
    {
     "data": {
      "text/plain": [
       "0.018527295817167708"
      ]
     },
     "execution_count": 196,
     "metadata": {},
     "output_type": "execute_result"
    }
   ],
   "source": [
    "# annualized  your returns increase by \n",
    "(SR_int*voltarget -SR_dom*voltarget)*12"
   ]
  },
  {
   "cell_type": "code",
   "execution_count": 197,
   "metadata": {
    "scrolled": true
   },
   "outputs": [
    {
     "data": {
      "text/plain": [
       "0.2324878978248162"
      ]
     },
     "execution_count": 197,
     "metadata": {},
     "output_type": "execute_result"
    }
   ],
   "source": [
    "# in percentual increase it is very meaningful\n",
    "(SR_int*voltarget -SR_dom*voltarget)/(SR_dom*voltarget)"
   ]
  },
  {
   "cell_type": "markdown",
   "metadata": {},
   "source": [
    "### The mean-variance frontier in it's full glory"
   ]
  },
  {
   "cell_type": "code",
   "execution_count": 45,
   "metadata": {
    "scrolled": true
   },
   "outputs": [
    {
     "data": {
      "image/png": "[encoded data removed]",
      "text/plain": [
       "<Figure size 432x288 with 1 Axes>"
      ]
     },
     "metadata": {},
     "output_type": "display_data"
    }
   ],
   "source": [
    "# Lets visualize this in a plot the two investment frontiers\n",
    "\n",
    "# set different expected return targets\n",
    "mu_target=np.linspace(0,0.025,20)\n",
    "# international portfolios\n",
    "STD_MVE_int=(Wmve['wghts0'] @ Cove @ Wmve['wghts0'].T)**0.5\n",
    "lam=mu_target/(SR_int**2)\n",
    "STD_target_int=lam*STD_MVE_int\n",
    "\n",
    "# do the plot\n",
    "plt.plot(STD_target_int,mu_target)\n",
    "\n",
    "#Domestic portfolios\n",
    "STD_MVE_dom=(Wmve.loc[['MKTUS','BondUS'],'wghtsdom'] @ Covdom @ Wmve.loc[['MKTUS','BondUS'],'wghtsdom'].T)**0.5\n",
    "STD_target_dom=mu_target/(SR_dom**2)*STD_MVE_dom\n",
    "plt.plot(STD_target_dom,mu_target)\n",
    "plt.scatter(Re.std(),Re.mean())\n",
    "\n",
    "# lets add some labels so we know which point is each portfolio\n",
    "# First time that I use loop? If yes discuss\n",
    "\n",
    "for label in Re.columns :\n",
    "   plt.text(Re.std()[label],Re.mean()[label],label)\n",
    "\n",
    "plt.xlabel('standard deviation')\n",
    "plt.ylabel('expected return')\n",
    "plt.title('Benefits of international diversification')\n",
    "plt.show()"
   ]
  }
 ],
 "metadata": {
  "kernelspec": {
   "display_name": "Python 3",
   "language": "python",
   "name": "python3"
  },
  "language_info": {
   "codemirror_mode": {
    "name": "ipython",
    "version": 3
   },
   "file_extension": ".py",
   "mimetype": "text/x-python",
   "name": "python",
   "nbconvert_exporter": "python",
   "pygments_lexer": "ipython3",
   "version": "3.7.3"
  }
 },
 "nbformat": 4,
 "nbformat_minor": 2
}
