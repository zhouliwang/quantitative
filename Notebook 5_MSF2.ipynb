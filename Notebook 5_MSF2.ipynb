{
 "cells": [
  {
   "cell_type": "markdown",
   "metadata": {},
   "source": [
    "# Quantitative Finance with Python\n",
    "\n",
    "### Alan Moreira, University of Rochester Simon Graduate School of Business\n",
    "\n",
    "# Notebook 5\n",
    "\n",
    "\n"
   ]
  },
  {
   "cell_type": "markdown",
   "metadata": {},
   "source": [
    "### Topics covered\n",
    "* * *\n",
    " * Portfolio optimization with constraints\n",
    " * Estimation uncertainty\n",
    " * Statistical tests\n",
    " * Minimum-Variance investing\n",
    " * Risk-parity investing\n",
    " * Portfolio choice using equilibirum thinking"
   ]
  },
  {
   "cell_type": "code",
   "execution_count": null,
   "metadata": {},
   "outputs": [],
   "source": [
    "import pandas as pd\n",
    "import numpy as np\n",
    "import matplotlib.pyplot as plt\n",
    "%matplotlib inline\n",
    "#GlobalFinMonthly\n",
    "url=\"https://www.dropbox.com/s/3k35mt3t57ygff2/GlobalFinMonthly.csv?dl=1\"\n",
    "Data = pd.read_csv(url,na_values=-99)\n",
    "# tell python Date is date:\n",
    "Data['Date']=pd.to_datetime(Data['Date'])\n",
    "# set an an index\n",
    "Data=Data.set_index(['Date'])\n",
    "print(Data)\n",
    "Data=Data.rename(columns={Data.columns[1]: \"MKTUS\",Data.columns[2]: \"BondUS\",\n",
    "                          Data.columns[3]: \"EM\",Data.columns[4]: \"MKTxUS\",Data.columns[5]: \"BondxUS\" })\n",
    "print(Data)\n",
    "Re=(Data.drop('RF',axis=1)).subtract(Data['RF'],axis='index')\n",
    "Re.tail()"
   ]
  },
  {
   "cell_type": "markdown",
   "metadata": {},
   "source": [
    "# Portfolio optimization in practice\n",
    "\n",
    "* Investment managers rarely apply the Mean-Variance framework in it's more pure form as studied in Notebook 4\n",
    "\n",
    "* Pension funds often use an 60/40 equity/bond allocation \n",
    "\n",
    "* Why not used more often? \n",
    "\n",
    "* Requires specifying expected return assumption for entire universe of assets\n",
    "\n",
    "* Mean-variance optimization weights heavily on assets that have extreme average returns and with attractive covariance properties, i.e., high correlation with asset yielding slightly different return\n",
    "\n",
    "* What problems that might cause?\n",
    "\n",
    "* The key problem is that we are dealing with a limited sample of data\n",
    "\n",
    "* We are interested in finding the ex-ante tangency portfolio\n",
    "\n",
    "* But MV analysis identifies the ex-post tangency portfolio, i.e., a portfolio that did well in the sample, but it can be a statistical fluke\n",
    "\n",
    "> How to evaluate the amount of uncertainty and it’s impact in our results?\n",
    "\n",
    "* Another practical issue that practiciners face is that MV analysis (in it's more pure form) does not account for several real world frictions that are more or less important depending of the investor:\n",
    "\n",
    " * Shorting an asset requires paying a borrowing fee to the owner of the asset. Shorting costs are sometimes prohibitive for small illiquid stocks\n",
    " \n",
    " * Most investors cannot really borrow at anything close to the risk-free rate--i.e., often the have to pay a substantial higher rate to borrow then to lend. \n",
    " \n",
    " > Between two assets, one with high beta with respect to the tangency portfolio and one with low beta, which  one this constrained investor prefers?\n",
    " \n",
    " \n",
    "\n",
    "\n"
   ]
  },
  {
   "cell_type": "markdown",
   "metadata": {},
   "source": [
    "# Portfolio constraints\n",
    "\n",
    "* Python has the flexibility to solve the mean-variance problem numerically\n",
    "\n",
    "* allow you to impose realistic features to our portfolio problem \n",
    "\n",
    "  * Shorting costs\n",
    "  * Borrowing cost higher than lending costs\n",
    "  * Leverage constraints\n",
    "  * Position limits due to investment mandates\n",
    "  \n"
   ]
  },
  {
   "cell_type": "code",
   "execution_count": 2,
   "metadata": {
    "collapsed": true
   },
   "outputs": [],
   "source": [
    "# start by importing optimization package -- think of a much more powerful solver (excel)\n",
    "\n",
    "from scipy.optimize import minimize"
   ]
  },
  {
   "cell_type": "markdown",
   "metadata": {},
   "source": [
    "* we will now learn how to learn how to do a numerical minimization. \n",
    "\n",
    "* first start by defining some useful variables"
   ]
  },
  {
   "cell_type": "code",
   "execution_count": 3,
   "metadata": {},
   "outputs": [
    {
     "data": {
      "text/html": [
       "<div>\n",
       "<style scoped>\n",
       "    .dataframe tbody tr th:only-of-type {\n",
       "        vertical-align: middle;\n",
       "    }\n",
       "\n",
       "    .dataframe tbody tr th {\n",
       "        vertical-align: top;\n",
       "    }\n",
       "\n",
       "    .dataframe thead th {\n",
       "        text-align: right;\n",
       "    }\n",
       "</style>\n",
       "<table border=\"1\" class=\"dataframe\">\n",
       "  <thead>\n",
       "    <tr style=\"text-align: right;\">\n",
       "      <th></th>\n",
       "      <th>MKTUS</th>\n",
       "      <th>BondUS</th>\n",
       "      <th>EM</th>\n",
       "      <th>MKTxUS</th>\n",
       "      <th>BondxUS</th>\n",
       "    </tr>\n",
       "    <tr>\n",
       "      <th>Date</th>\n",
       "      <th></th>\n",
       "      <th></th>\n",
       "      <th></th>\n",
       "      <th></th>\n",
       "      <th></th>\n",
       "    </tr>\n",
       "  </thead>\n",
       "  <tbody>\n",
       "    <tr>\n",
       "      <th>2016-08-31</th>\n",
       "      <td>0.0050</td>\n",
       "      <td>-0.008617</td>\n",
       "      <td>0.024986</td>\n",
       "      <td>0.000638</td>\n",
       "      <td>-0.009752</td>\n",
       "    </tr>\n",
       "    <tr>\n",
       "      <th>2016-09-30</th>\n",
       "      <td>0.0025</td>\n",
       "      <td>-0.016617</td>\n",
       "      <td>0.012953</td>\n",
       "      <td>0.012536</td>\n",
       "      <td>0.009779</td>\n",
       "    </tr>\n",
       "    <tr>\n",
       "      <th>2016-10-31</th>\n",
       "      <td>-0.0202</td>\n",
       "      <td>-0.049660</td>\n",
       "      <td>0.002274</td>\n",
       "      <td>-0.020583</td>\n",
       "      <td>-0.043676</td>\n",
       "    </tr>\n",
       "    <tr>\n",
       "      <th>2016-11-30</th>\n",
       "      <td>0.0486</td>\n",
       "      <td>-0.081736</td>\n",
       "      <td>-0.046071</td>\n",
       "      <td>-0.019898</td>\n",
       "      <td>-0.050459</td>\n",
       "    </tr>\n",
       "    <tr>\n",
       "      <th>2016-12-31</th>\n",
       "      <td>0.0182</td>\n",
       "      <td>-0.005596</td>\n",
       "      <td>0.002604</td>\n",
       "      <td>0.034083</td>\n",
       "      <td>-0.023507</td>\n",
       "    </tr>\n",
       "  </tbody>\n",
       "</table>\n",
       "</div>"
      ],
      "text/plain": [
       "             MKTUS    BondUS        EM    MKTxUS   BondxUS\n",
       "Date                                                      \n",
       "2016-08-31  0.0050 -0.008617  0.024986  0.000638 -0.009752\n",
       "2016-09-30  0.0025 -0.016617  0.012953  0.012536  0.009779\n",
       "2016-10-31 -0.0202 -0.049660  0.002274 -0.020583 -0.043676\n",
       "2016-11-30  0.0486 -0.081736 -0.046071 -0.019898 -0.050459\n",
       "2016-12-31  0.0182 -0.005596  0.002604  0.034083 -0.023507"
      ]
     },
     "execution_count": 3,
     "metadata": {},
     "output_type": "execute_result"
    }
   ],
   "source": [
    "Re.tail()"
   ]
  },
  {
   "cell_type": "code",
   "execution_count": 4,
   "metadata": {
    "collapsed": true
   },
   "outputs": [],
   "source": [
    "# excess returns\n",
    "Re=Data.subtract(Data['RF'],axis='index').drop('RF',axis=1)\n",
    "\n",
    "ERe=Re.mean()\n",
    "\n",
    "Cove=Re.cov()\n",
    "# the risk-free rate is special because at a given time we know exactly what are the expected returns of investing\n",
    "# in it, since it is risk-free!\n",
    "# so it does not make sense to use the average risk-free rate in the portfolio problem, and we should rather the one \n",
    "# we currently can invest at no risk\n",
    "# here we are dividing by 12 becasue we are entering annualized numbers\n",
    "rf=0.0192/12\n",
    "\n",
    "# this above is the target for monthly expected returns\n",
    "Ertarget=0.12/12\n",
    "\n",
    "\n",
    "# here is maximum amount of borrowing at the risk-free rate. 1.5 means that for each dollars you put in you can borrow \n",
    "# up to 50 cents and have a total risk asset portfolio of 1.5 dollars\n",
    "levlimit=0"
   ]
  },
  {
   "cell_type": "markdown",
   "metadata": {},
   "source": [
    "* The program will choose a vector of weights that minimizes some function (of the chosen weights) subject to some constraint.\n",
    "\n",
    "* we now need to provide an initial condition for these weights, which essentially tell python what is the shape of variable that it is choosing. Here we will initiate the algorithm a equal weighted portfolio.\n",
    "\n",
    "* When solving minimization problems it is important to check that the initial condition does not matter.\n",
    "\n",
    "* I mean, it's shape obviously matter-- if you put the wrong shape it will freeze imemdiately!-- but whether is equal weighted or any other weighting scheme, the minimization should end up in the same place otherwise the numerical  is not converging and you need to adjust the stop conditions.\n",
    "\n",
    "\n",
    "\n",
    "* We refer to this as making sure that you are finding a \"global optimum\" and not a \"local optimum\"\n",
    "\n",
    "* Of course, it might be that for some initial conditions the algorithm gets stuck somewhere (\"local optimum\")"
   ]
  },
  {
   "cell_type": "code",
   "execution_count": 5,
   "metadata": {},
   "outputs": [
    {
     "data": {
      "text/plain": [
       "array([0.2, 0.2, 0.2, 0.2, 0.2])"
      ]
     },
     "execution_count": 5,
     "metadata": {},
     "output_type": "execute_result"
    }
   ],
   "source": [
    "n=Re.shape[1]\n",
    "W0=np.ones(n)/n \n",
    "\n",
    "W0"
   ]
  },
  {
   "cell_type": "markdown",
   "metadata": {},
   "source": [
    "* We need to specificy the function that our minimizer will try to minimize,i.e, our objective\n",
    "\n",
    "* obviously this should be written as a function of the portfolio weights\n",
    "\n",
    "* In this case it is the variance of a portfolio with weights W\n",
    "\n",
    "* the weights will be our choice variable\n",
    "\n",
    "* The minimization function will change the weights until this variance is minimized\n"
   ]
  },
  {
   "cell_type": "code",
   "execution_count": 6,
   "metadata": {
    "collapsed": true
   },
   "outputs": [],
   "source": [
    "\n",
    "\n",
    "def func(W):\n",
    "    return W.T @ Cove @ W\n"
   ]
  },
  {
   "cell_type": "markdown",
   "metadata": {},
   "source": [
    "* Finally we need to specify the set of constraints that the minimization problem must satisfy\n",
    "\n",
    "* you can specify two types of constraints: Equalities and inequalities.\n",
    "\n",
    "* Equalities:\n",
    "   * specified as 'eq' \n",
    "   * For example:{'eq', 'fun' : lambda W : W.T @ ERe.values+rf-target}\n",
    "     * defines the function F(W)=W.T @ ERe.values+rf-target\n",
    "     * and requires W to satisfy F(W)=0, i.e.,W.T @ ERe.values+rf=target\n",
    "     * \"target\" here is the target for expected returns\n",
    "     \n",
    "* Inequalities:\n",
    "   * specified as 'ineq'\n",
    "   * For example: {'ineq', 'fun' : lambda W: -W.sum()+1+ levlimit}\n",
    "   * Defines  F(W)=-W.sum()+1+levlimit\n",
    "   * and requires F(W)>=0, i.e.,\n",
    "   \n",
    "   $$levlimit\\geq W.sum()$$"
   ]
  },
  {
   "cell_type": "code",
   "execution_count": 7,
   "metadata": {
    "collapsed": true
   },
   "outputs": [],
   "source": [
    "Ertarget=0.08/12\n",
    "\n",
    "cons=({'type': 'eq',\n",
    "          'fun' : lambda W : W.T @ ERe.values+rf-Ertarget},\n",
    "        {'type': 'ineq',\n",
    "          'fun' : lambda W: -W.sum()+levlimit+1},\n",
    "        {'type': 'ineq',\n",
    "          'fun' : lambda W: W}) \n",
    "\n",
    "\n",
    "\n"
   ]
  },
  {
   "cell_type": "markdown",
   "metadata": {},
   "source": [
    "* Finally we are ready to so do our minimization\n",
    "* options={'disp': True}: tell python to report intermediary steps so we can check if the algorithm is doing progress towards a solution.\n",
    "* There is a variety of additional parameters that you can pass to the minimizer. \n",
    "* see: https://docs.scipy.org/doc/scipy/reference/generated/scipy.optimize.minimize.html\n"
   ]
  },
  {
   "cell_type": "code",
   "execution_count": 16,
   "metadata": {},
   "outputs": [
    {
     "name": "stdout",
     "output_type": "stream",
     "text": [
      "Optimization terminated successfully.    (Exit mode 0)\n",
      "            Current function value: 0.005153285027626039\n",
      "            Iterations: 11\n",
      "            Function evaluations: 77\n",
      "            Gradient evaluations: 11\n"
     ]
    }
   ],
   "source": [
    "sol = minimize(func,W0, constraints=cons, options={'disp': True})"
   ]
  },
  {
   "cell_type": "markdown",
   "metadata": {},
   "source": [
    "* Solution is saved in sol\n",
    "* Lets plot the optimal weights"
   ]
  },
  {
   "cell_type": "code",
   "execution_count": 18,
   "metadata": {
    "scrolled": true
   },
   "outputs": [
    {
     "data": {
      "text/plain": [
       "0.0717863846953309"
      ]
     },
     "execution_count": 18,
     "metadata": {},
     "output_type": "execute_result"
    }
   ],
   "source": [
    "sol.fun**0.5\n"
   ]
  },
  {
   "cell_type": "code",
   "execution_count": 10,
   "metadata": {},
   "outputs": [
    {
     "data": {
      "text/plain": [
       "[Text(0,0,'MKTUS'),\n",
       " Text(0,0,'BondUS'),\n",
       " Text(0,0,'EM'),\n",
       " Text(0,0,'MKTxUS'),\n",
       " Text(0,0,'BondxUS')]"
      ]
     },
     "execution_count": 10,
     "metadata": {},
     "output_type": "execute_result"
    },
    {
     "data": {
      "image/png": "[encoded data removed]",
      "text/plain": [
       "<Figure size 432x288 with 1 Axes>"
      ]
     },
     "metadata": {},
     "output_type": "display_data"
    }
   ],
   "source": [
    "\n",
    "# below I am plotting the solution weights.\n",
    "width=0.3\n",
    "ind=np.arange(Re.shape[1])\n",
    "fig, ax = plt.subplots()\n",
    "ax.bar(ind,sol.x,width)\n",
    "\n",
    "ax.set_xticks(np.array([0,1,2,3,4,5])+ width / 2)\n",
    "ax.set_xticklabels(Re.columns)"
   ]
  },
  {
   "cell_type": "markdown",
   "metadata": {},
   "source": [
    "* We can now use a for loop to trace out the entire mean-variance frontier when neither borrowing or lending at the risk-free rate is allowed\n",
    "\n",
    "* we do this by minimizing the variancewith different targets for expected returns"
   ]
  },
  {
   "cell_type": "code",
   "execution_count": 11,
   "metadata": {
    "collapsed": true
   },
   "outputs": [],
   "source": [
    "# here we constructing a list of target ranging from the risk-free rate until 12%, \n",
    "# with 40 equally distanced points in between\n",
    "levlimit=0\n",
    "mutargets=np.linspace(rf,0.12/12,100)\n",
    "\n",
    "# We are initiating a list where we will be storing the results\n",
    "minstd=[]\n",
    "\n",
    "# we now simply loop over the different expected return targets in the vector which we just constructed\n",
    "\n",
    "\n",
    "\n",
    "for a0 in mutargets:\n",
    "    #   1. The loop fisrt define the new constrain with the new expected return targe given by a0\n",
    "    cons=({'type': 'eq',\n",
    "          'fun' : lambda W : W.T @ ERe.values+rf-a0},\n",
    "        {'type': 'ineq',\n",
    "          'fun' : lambda W: -W.sum()+1+levlimit} ,\n",
    "        {'type': 'ineq',\n",
    "          'fun' : lambda W: W[[0,4]]})\n",
    "    #   2. It then performs the minimization\n",
    "    res1 = minimize(func,W0,  constraints=cons, options={'disp': False})\n",
    "    #   3. Finally it appends the solution to the list that we just created. \n",
    "    #        Here we are saving the square of the objective function, which is simply the standard deviaiton \n",
    "    #        of the optimal portfolio. And the also the expected return obtained (alternatively we could have simply saved a0)\n",
    "    minstd.append([res1.fun**0.5,res1.x @ ERe.values+rf])\n"
   ]
  },
  {
   "cell_type": "markdown",
   "metadata": {},
   "source": [
    "* We can now plot the mean-standard-deviation fornties by plotting the obtained stnandard deviaiton in the x-axis and the obtained expected returns in the y-axis\n"
   ]
  },
  {
   "cell_type": "code",
   "execution_count": 12,
   "metadata": {},
   "outputs": [
    {
     "data": {
      "text/plain": [
       "array([0, 4])"
      ]
     },
     "execution_count": 12,
     "metadata": {},
     "output_type": "execute_result"
    }
   ],
   "source": [
    "W0=np.arange(5)\n",
    "W0[[0,4]]"
   ]
  },
  {
   "cell_type": "code",
   "execution_count": 13,
   "metadata": {},
   "outputs": [
    {
     "data": {
      "text/plain": [
       "<matplotlib.collections.PathCollection at 0x236a7d08198>"
      ]
     },
     "execution_count": 13,
     "metadata": {},
     "output_type": "execute_result"
    },
    {
     "data": {
      "image/png": "[encoded data removed]",
      "text/plain": [
       "<Figure size 432x288 with 1 Axes>"
      ]
     },
     "metadata": {},
     "output_type": "display_data"
    }
   ],
   "source": [
    "plt.scatter(np.array(minstd)[:,0]*12**0.5,np.array(minstd)[:,1]*12)"
   ]
  },
  {
   "cell_type": "markdown",
   "metadata": {},
   "source": [
    "* You can do a multitude of different problems by making small changes to this code:\n",
    "\n",
    "    * Borrowing at the risk-free rate is not allowed,  but lending is allowed\n",
    "    * Shorting of any asset is not allowed\n",
    "    * Shorting of some assets are not allowed\n",
    "    * Shorting has an extra cost\n",
    "    * leverage is allowed, but borrowing rate is higher than risk-free rate\n",
    "    \n",
    " > How would you implement no shorting of any asset?\n",
    " \n",
    " > How would you implement no shorting of bonds, but allow investor to short equity markets (which can be done using futures)?\n",
    " "
   ]
  },
  {
   "cell_type": "markdown",
   "metadata": {},
   "source": [
    "\n",
    "     \n",
    "# Estimation uncertainty     \n",
    "\n",
    "* We will start by evaluating the uncertainty regading our average expected excess return estimates for each asset\n",
    "\n",
    "* We will then show how the weights change as we pertubate these estimates in a way that is consistent with the amount of uncertainty\n",
    "\n",
    "* We will then show how sensitive the benefits of international diversification are\n",
    "\n",
    "* If observation are serially uncorrelated over time, which returns on liquid assets are close to being, than the standard deviation of a sample average is simply\n",
    "\n",
    "$$std\\left(\\sum_i^N\\frac{x_i}{N}\\right)=\\frac{std(x_i)}{\\sqrt{N}}$$\n",
    "\n",
    "\n",
    "* This measures how uncertain we are about the sample mean\n",
    "\n",
    "* For example, there is a 5% probability that the actual mean is $E[x_i]\\leq\\overline{x_i}-1.64{std(\\overline{x_i})}$\n",
    "\n",
    "* So $std(\\overline{x_i})$ gives a measure of how close our estimate is to the true expected value\n",
    "\n",
    "* Let compare the sample average and the sample average standard deviation for our assets"
   ]
  },
  {
   "cell_type": "code",
   "execution_count": 20,
   "metadata": {
    "scrolled": true
   },
   "outputs": [
    {
     "data": {
      "text/plain": [
       "<matplotlib.axes._subplots.AxesSubplot at 0x236a88f3860>"
      ]
     },
     "execution_count": 20,
     "metadata": {},
     "output_type": "execute_result"
    },
    {
     "data": {
      "image/png": "[encoded data removed]",
      "text/plain": [
       "<Figure size 432x288 with 1 Axes>"
      ]
     },
     "metadata": {},
     "output_type": "display_data"
    }
   ],
   "source": [
    "# Lets contrast the WMVE weights with the SR of each \n",
    "avg_std=(Re.std()/(Re.shape[0]**0.5))*12\n",
    "avg=Re.mean()*12\n",
    "ERstd=pd.concat([avg_std,avg],axis=1)\n",
    "ERstd=ERstd.rename(columns={1:'avg',0:'avg_std'})\n",
    "ERstd.plot.bar()"
   ]
  },
  {
   "cell_type": "markdown",
   "metadata": {},
   "source": [
    "* Note that our data set has  50 years of data, there is still considerable uncertainty, specially for bonds"
   ]
  },
  {
   "cell_type": "code",
   "execution_count": 21,
   "metadata": {},
   "outputs": [
    {
     "data": {
      "text/plain": [
       "53.916666666666664"
      ]
     },
     "execution_count": 21,
     "metadata": {},
     "output_type": "execute_result"
    }
   ],
   "source": [
    "#number of years\n",
    "Re.shape[0]/12"
   ]
  },
  {
   "cell_type": "markdown",
   "metadata": {},
   "source": [
    "# Statistical tests\n",
    "\n",
    "* T-stat for a given hypothesis $\\mu_{j}^0$\n",
    "\n",
    "$$t_j(\\mu_0)=\\frac{\\bar{R_j}-\\mu_{j}^0}{\\sigma(\\bar{R_j})}$$\n",
    "\n",
    "* For example lets assume we have strong theoretical reasons to believe that these assets must not have a negative expected returns. (True for the value-weighted stock market, less true for bonds)\n",
    "\n",
    "* So lets do a 1-sided test with 5% interval and ask what it is the largest expected return $X_j$ that we can say with 95% confidence that the asset j has expected return higher than $X_j$\n",
    "\n",
    "$$1.64=\\frac{\\bar{R_j}-\\mu_{j}^0}{\\sigma(\\bar{R_j})}$$\n",
    "\n",
    "* If we are evaluating the hypothesis that $\\mu_{j}=0$, we say that \n",
    "\n",
    "  * if $\\frac{\\bar{R_j}-0}{\\sigma(\\bar{R_j})}\\geq 1.64$, we can statistically reject that $\\mu_{j}=0$ with a 95% confidence (or alternatively: we can statistically reject that $\\mu_{j}=0$ with a 5% probabilit value (pvalue) )\n",
    "  * if $\\frac{\\bar{R_j}-0}{\\sigma(\\bar{R_j})}<1.64$, we fail to statistically reject that $\\mu_{j}=0$ with a 95% confidence (or alternatively: we fail to statistically reject that $\\mu_{j}=0$ with a 5% probabilit value (pvalue) )\n",
    "  \n",
    "\n",
    "* Equivalently we can also construct our confidence intervals for the expected mean\n",
    "\n",
    "$$\\mu_{j}^{-,95\\%}=\\bar{R_j}-1.64\\sigma(\\bar{R_j})$$\n",
    "\n",
    "$$\\mu_{j}^{+,95\\%}=\\bar{R_j}+1.64\\sigma(\\bar{R_j})$$\n",
    "\n",
    "\n",
    "* We say that this interval $[\\mu_{j}^{-,95\\%}, \\mu_{j}^{+,95\\%}]$ contains the true expected value with 95% probability"
   ]
  },
  {
   "cell_type": "markdown",
   "metadata": {},
   "source": [
    "Here is a look at t-stats relative to a zero null-hypothesis (which is what people often do)"
   ]
  },
  {
   "cell_type": "markdown",
   "metadata": {},
   "source": [
    "> Side comment: Why am using 1.64?\n",
    "\n",
    "Recall from Notebook 3:"
   ]
  },
  {
   "cell_type": "code",
   "execution_count": 25,
   "metadata": {},
   "outputs": [
    {
     "data": {
      "text/plain": [
       "1.9599639845400545"
      ]
     },
     "execution_count": 25,
     "metadata": {},
     "output_type": "execute_result"
    }
   ],
   "source": [
    "from scipy.stats import norm\n",
    "ps=norm(0,1)\n",
    "ps.isf(0.05/2)"
   ]
  },
  {
   "cell_type": "code",
   "execution_count": 24,
   "metadata": {},
   "outputs": [
    {
     "data": {
      "text/plain": [
       "<matplotlib.axes._subplots.AxesSubplot at 0x236aa21e908>"
      ]
     },
     "execution_count": 24,
     "metadata": {},
     "output_type": "execute_result"
    },
    {
     "data": {
      "image/png": "[encoded data removed]",
      "text/plain": [
       "<Figure size 432x288 with 1 Axes>"
      ]
     },
     "metadata": {},
     "output_type": "display_data"
    }
   ],
   "source": [
    "# we can look at the t-stats (against zero) for the assets\n",
    "# the average return divided by the average return estiamtor standard deviation\n",
    "ERstd=pd.concat([Re.mean()/(Re.std()/(Re.shape[0]**0.5))],axis=1)\n",
    "ERstd.plot.bar()"
   ]
  },
  {
   "cell_type": "code",
   "execution_count": 26,
   "metadata": {
    "scrolled": true
   },
   "outputs": [
    {
     "data": {
      "text/plain": [
       "<matplotlib.axes._subplots.AxesSubplot at 0x236aa1da438>"
      ]
     },
     "execution_count": 26,
     "metadata": {},
     "output_type": "execute_result"
    },
    {
     "data": {
      "image/png": "[encoded data removed]",
      "text/plain": [
       "<Figure size 432x288 with 1 Axes>"
      ]
     },
     "metadata": {},
     "output_type": "display_data"
    }
   ],
   "source": [
    "ER0=pd.concat([Re.mean()-1.64*(Re.std()/(Re.shape[0]**0.5)),Re.mean()],axis=1)\n",
    "ER0=ER0.rename(columns={1:'avg',0:'one-sided'})\n",
    "ER0.plot.bar()"
   ]
  },
  {
   "cell_type": "markdown",
   "metadata": {},
   "source": [
    "### Two-sided intervals\n",
    "\n",
    "* if we are more agnostic and believe less in the economic theories we have,\n",
    "\n",
    "* Or the theories are silent\n",
    "\n",
    "* For example, the theories are silent n long-short portfolios of equities, for example, the portfolio that goes long the US market and sells the international market.\n",
    "\n",
    "* Then we must do a two-sided interval"
   ]
  },
  {
   "cell_type": "markdown",
   "metadata": {},
   "source": [
    "> What is the 95% threshold for a two sided test?"
   ]
  },
  {
   "cell_type": "code",
   "execution_count": 28,
   "metadata": {},
   "outputs": [
    {
     "data": {
      "text/plain": [
       "1.9599639845400545"
      ]
     },
     "execution_count": 28,
     "metadata": {},
     "output_type": "execute_result"
    }
   ],
   "source": [
    "ps.isf(0.05/2)"
   ]
  },
  {
   "cell_type": "code",
   "execution_count": 29,
   "metadata": {
    "scrolled": true
   },
   "outputs": [
    {
     "data": {
      "text/plain": [
       "<matplotlib.axes._subplots.AxesSubplot at 0x236aa1432e8>"
      ]
     },
     "execution_count": 29,
     "metadata": {},
     "output_type": "execute_result"
    },
    {
     "data": {
      "image/png": "[encoded data removed]",
      "text/plain": [
       "<Figure size 432x288 with 1 Axes>"
      ]
     },
     "metadata": {},
     "output_type": "display_data"
    }
   ],
   "source": [
    "\n",
    "\n",
    "ER0['twosided']=Re.mean()-1.96*(Re.std()/(Re.shape[0]**0.5))\n",
    "\n",
    "ER0.plot.bar()"
   ]
  },
  {
   "cell_type": "markdown",
   "metadata": {},
   "source": [
    "### Pvalues\n"
   ]
  },
  {
   "cell_type": "markdown",
   "metadata": {},
   "source": [
    "* Instread of use our t-stats to do a test at particular level of significance , say 95%\n",
    "\n",
    "* We can use the normal cdf to find p-values, which give us that he highest level of significance our data is consistent with\n",
    "\n",
    "* Here again, agaist the zero null hypothesis"
   ]
  },
  {
   "cell_type": "code",
   "execution_count": 30,
   "metadata": {},
   "outputs": [
    {
     "data": {
      "text/plain": [
       "<matplotlib.axes._subplots.AxesSubplot at 0x236a9ef5208>"
      ]
     },
     "execution_count": 30,
     "metadata": {},
     "output_type": "execute_result"
    },
    {
     "data": {
      "image/png": "[encoded data removed]",
      "text/plain": [
       "<Figure size 432x288 with 1 Axes>"
      ]
     },
     "metadata": {},
     "output_type": "display_data"
    }
   ],
   "source": [
    "\n",
    "\n",
    "\n",
    "ER0['pvalues(one-sided)']=1-ps.cdf((Re.mean()/(Re.std()/(Re.shape[0]**0.5))).values)\n",
    "ER0['pvalues(two-sided)']=(1-ps.cdf(np.abs((Re.mean()/(Re.std()/(Re.shape[0]**0.5))).values)))*2\n",
    "ER0[['pvalues(one-sided)','pvalues(two-sided)']].plot.bar()"
   ]
  },
  {
   "cell_type": "code",
   "execution_count": 31,
   "metadata": {},
   "outputs": [
    {
     "data": {
      "image/png": "[encoded data removed]",
      "text/plain": [
       "<Figure size 432x288 with 1 Axes>"
      ]
     },
     "metadata": {},
     "output_type": "display_data"
    }
   ],
   "source": [
    "# lets look at 95% confidence interval (I am annulaizing for convenience)\n",
    "interval=0.95\n",
    "tails=(1-interval)/2\n",
    "\n",
    "asset='MKTUS'\n",
    "mu=Re[asset].mean()*12\n",
    "mu_sigma=Re[asset].std()*(12)/Re[asset].count()**0.5\n",
    "p=norm(mu,mu_sigma)\n",
    "\n",
    "lefttail=p.isf(tails)\n",
    "righttail=p.isf(1-tails)\n",
    "# or equivalently\n",
    "#lefttail=mu+pnorm.isf(tails)*musigma\n",
    "#righttail=mu+pnorm.isf(1-tails)*musigma\n",
    "\n",
    "# this constructs a grid going spanning the region given by the confidence interval\n",
    "grid=np.linspace(lefttail,righttail,1000)\n",
    "# note that x=pnorm.isf(q) is the inverse of the CDF.\n",
    "\n",
    "#The inverse CDF at q is also referred to as the q quantile of a distribution.\n",
    "#For a continuous distribution dist the inverse CDF at q is the value x such that CDF[DIST,x]=q. \n",
    "# So there is excatly probability q that the realization is higher than x.\n",
    "plt.plot(grid, p.pdf(grid))\n",
    "plt.show()"
   ]
  },
  {
   "cell_type": "markdown",
   "metadata": {},
   "source": [
    "* a more relevant test is whether all these assets have the same average return\n",
    "\n",
    "> Why that is the most relevant hypothesis for us as we do MV optimization?\n",
    "\n",
    "* For assets that have a average return below the average, I compute the probability that this expected return is indeed below, and  for assets that have the avg return above avg I compute the probbility that the expected return is indeed  above the mean across assets\n",
    "\n",
    "* I will simply use the absolute value to do that"
   ]
  },
  {
   "cell_type": "code",
   "execution_count": 33,
   "metadata": {},
   "outputs": [
    {
     "data": {
      "text/plain": [
       "0.004157534936321483"
      ]
     },
     "execution_count": 33,
     "metadata": {},
     "output_type": "execute_result"
    }
   ],
   "source": [
    "Re.mean().mean()"
   ]
  },
  {
   "cell_type": "code",
   "execution_count": 34,
   "metadata": {},
   "outputs": [
    {
     "data": {
      "text/plain": [
       "<matplotlib.axes._subplots.AxesSubplot at 0x236a9b46ef0>"
      ]
     },
     "execution_count": 34,
     "metadata": {},
     "output_type": "execute_result"
    },
    {
     "data": {
      "image/png": "[encoded data removed]",
      "text/plain": [
       "<Figure size 432x288 with 1 Axes>"
      ]
     },
     "metadata": {},
     "output_type": "display_data"
    }
   ],
   "source": [
    "\n",
    "# or much more easily:\n",
    "stdmean=Re.std()/(Re.shape[0]**0.5)\n",
    "ER0['same_avg_pvalue']=(1-ps.cdf(np.abs((Re.mean()-Re.mean().mean())/stdmean).values))*2\n",
    "\n",
    "# pvalue is the probability that the null hupothesis is right. So in this case it tells us that there is \n",
    "#a 60% probability that the mktus return equals to the average  and 100% probability that the MKTxUS expected return\n",
    "# is equal to the average of all assets average returns\n",
    "\n",
    "\n",
    "ER0.same_avg_pvalue.plot.bar()"
   ]
  },
  {
   "cell_type": "markdown",
   "metadata": {},
   "source": [
    "> Can you interepret this plot?"
   ]
  },
  {
   "cell_type": "code",
   "execution_count": 40,
   "metadata": {},
   "outputs": [
    {
     "data": {
      "text/html": [
       "<div>\n",
       "<style scoped>\n",
       "    .dataframe tbody tr th:only-of-type {\n",
       "        vertical-align: middle;\n",
       "    }\n",
       "\n",
       "    .dataframe tbody tr th {\n",
       "        vertical-align: top;\n",
       "    }\n",
       "\n",
       "    .dataframe thead th {\n",
       "        text-align: right;\n",
       "    }\n",
       "</style>\n",
       "<table border=\"1\" class=\"dataframe\">\n",
       "  <thead>\n",
       "    <tr style=\"text-align: right;\">\n",
       "      <th></th>\n",
       "      <th>samplemean</th>\n",
       "    </tr>\n",
       "  </thead>\n",
       "  <tbody>\n",
       "    <tr>\n",
       "      <th>MKTUS</th>\n",
       "      <td>1.834995</td>\n",
       "    </tr>\n",
       "    <tr>\n",
       "      <th>BondUS</th>\n",
       "      <td>1.423872</td>\n",
       "    </tr>\n",
       "    <tr>\n",
       "      <th>EM</th>\n",
       "      <td>1.605498</td>\n",
       "    </tr>\n",
       "    <tr>\n",
       "      <th>MKTxUS</th>\n",
       "      <td>-1.026051</td>\n",
       "    </tr>\n",
       "    <tr>\n",
       "      <th>BondxUS</th>\n",
       "      <td>3.368940</td>\n",
       "    </tr>\n",
       "  </tbody>\n",
       "</table>\n",
       "</div>"
      ],
      "text/plain": [
       "         samplemean\n",
       "MKTUS      1.834995\n",
       "BondUS     1.423872\n",
       "EM         1.605498\n",
       "MKTxUS    -1.026051\n",
       "BondxUS    3.368940"
      ]
     },
     "execution_count": 40,
     "metadata": {},
     "output_type": "execute_result"
    }
   ],
   "source": [
    "# mve for sample mean\n",
    "Wmve=pd.DataFrame([],index=Re.columns)\n",
    "Wmve['samplemean'] =np.linalg.inv(Cove) @ ERe.values\n",
    "Wmve"
   ]
  },
  {
   "cell_type": "code",
   "execution_count": 42,
   "metadata": {},
   "outputs": [
    {
     "data": {
      "text/html": [
       "<div>\n",
       "<style scoped>\n",
       "    .dataframe tbody tr th:only-of-type {\n",
       "        vertical-align: middle;\n",
       "    }\n",
       "\n",
       "    .dataframe tbody tr th {\n",
       "        vertical-align: top;\n",
       "    }\n",
       "\n",
       "    .dataframe thead th {\n",
       "        text-align: right;\n",
       "    }\n",
       "</style>\n",
       "<table border=\"1\" class=\"dataframe\">\n",
       "  <thead>\n",
       "    <tr style=\"text-align: right;\">\n",
       "      <th></th>\n",
       "      <th>samplemean</th>\n",
       "      <th>MKTUS-1std</th>\n",
       "      <th>MKTUS-1.64std</th>\n",
       "    </tr>\n",
       "  </thead>\n",
       "  <tbody>\n",
       "    <tr>\n",
       "      <th>MKTUS</th>\n",
       "      <td>0.254604</td>\n",
       "      <td>0.045314</td>\n",
       "      <td>-0.112806</td>\n",
       "    </tr>\n",
       "    <tr>\n",
       "      <th>BondUS</th>\n",
       "      <td>0.197561</td>\n",
       "      <td>0.261140</td>\n",
       "      <td>0.309174</td>\n",
       "    </tr>\n",
       "    <tr>\n",
       "      <th>EM</th>\n",
       "      <td>0.222761</td>\n",
       "      <td>0.281097</td>\n",
       "      <td>0.325170</td>\n",
       "    </tr>\n",
       "    <tr>\n",
       "      <th>MKTxUS</th>\n",
       "      <td>-0.142364</td>\n",
       "      <td>-0.033959</td>\n",
       "      <td>0.047942</td>\n",
       "    </tr>\n",
       "    <tr>\n",
       "      <th>BondxUS</th>\n",
       "      <td>0.467437</td>\n",
       "      <td>0.446408</td>\n",
       "      <td>0.430520</td>\n",
       "    </tr>\n",
       "  </tbody>\n",
       "</table>\n",
       "</div>"
      ],
      "text/plain": [
       "         samplemean  MKTUS-1std  MKTUS-1.64std\n",
       "MKTUS      0.254604    0.045314      -0.112806\n",
       "BondUS     0.197561    0.261140       0.309174\n",
       "EM         0.222761    0.281097       0.325170\n",
       "MKTxUS    -0.142364   -0.033959       0.047942\n",
       "BondxUS    0.467437    0.446408       0.430520"
      ]
     },
     "execution_count": 42,
     "metadata": {},
     "output_type": "execute_result"
    }
   ],
   "source": [
    "# lets look at what happens with weights and Sharpes as we pertubate the mean of the market return by one standard deviation\n",
    "\n",
    "\n",
    "\n",
    "Ere=Re.mean()\n",
    "T=Re.shape[0]\n",
    "# lets perturb the market mean using the 1 sided 95% confidence\n",
    "\n",
    "ERemsig=Ere.copy()\n",
    "asset='MKTUS'\n",
    "pertubation=1.64\n",
    "mu=Re[asset].mean()\n",
    "musigma=Re[asset].std()/T**0.5\n",
    "ERemsig[asset]=mu-pertubation*musigma\n",
    "\n",
    "# mve for perturbed mean\n",
    "Wmve[asset+'-'+str(pertubation)+'std'] =np.linalg.inv(Cove) @ ERemsig.values\n",
    "\n",
    "\n",
    "\n",
    "# why I am using absolute values to normalize the weights?\n",
    "Wmve=Wmve/Wmve.sum().abs()\n",
    "Wmve\n"
   ]
  },
  {
   "cell_type": "code",
   "execution_count": 43,
   "metadata": {},
   "outputs": [
    {
     "data": {
      "image/png": "[encoded data removed]",
      "text/plain": [
       "<Figure size 432x288 with 2 Axes>"
      ]
     },
     "metadata": {},
     "output_type": "display_data"
    }
   ],
   "source": [
    "# lets compare with the MVE weights using the sample mean\n",
    "plt.subplot(2,1,1)\n",
    "plt.bar(x=ERe.index,height=Wmve['samplemean'])\n",
    "plt.subplot(2,1,2)\n",
    "plt.bar(x=ERe.index,height=Wmve['MKTUS-1.64std']/np.abs(Wmve['MKTUS-1.64std'].sum()))\n",
    "plt.show()\n",
    "\n",
    "# observation: In class I got all confused with this plot. Basically, I was dividing by the sum of the weights to normalize \n",
    "# the weights so we could clearly see in the plot (again, only relative weights matters becasue we are looking as excess returns)\n",
    "# but obviously I cannot multiply/divide by a negative number otherwise I will be shorting instead of going long the tangency portfolio\n",
    "# which would be a stupid thing to do! \n",
    "# So Wmve['MKTUS-1.96std']/(Wmve['MKTUS-1.96std'].sum())\n",
    "# was doing two things, It was normalizing but also multiplying by a negative number since (Wmve['MKTUS-1.96std'].sum())<0\n",
    "# So now by having the abosulte value function I am just normalizing."
   ]
  },
  {
   "cell_type": "markdown",
   "metadata": {},
   "source": [
    "### What does that mean?"
   ]
  },
  {
   "cell_type": "markdown",
   "metadata": {},
   "source": [
    "# Practical approaches to deal with Estimation Uncertainty\n",
    "\n",
    "\n",
    "\n",
    "\n",
    "* Never apply a Mean-variance optimizer to individual assets such as stocks while using sample moments as imputs\n",
    "\n",
    "  * Sample average are very bad estimators of a stock expected return going forward\n",
    "  \n",
    "> Why?\n",
    "\n",
    "* Using for broad asset classes is slightly better as we expect the expected return of broad asset classes to be more stable over time\n",
    "\n",
    "> But what people do?\n",
    "\n",
    "\n",
    "* Impose restrictions on parameters, specially the ones that are poorly estimated (individual assets expected returns)\n",
    "\n",
    "  * Minimum-variance investing\n",
    "  \n",
    "  * Risk parity\n",
    "  \n",
    "\n",
    "  \n",
    "* Impose economics resticitions on parameters,i.e., equilibrium logic.\n",
    "\n",
    "     * The Goldman Sachs/Black-Litterman approach\n",
    "\n",
    "     * Factor investing\n",
    "\n",
    "\n",
    "\n",
    "\n",
    "\n",
    "  \n",
    "\n"
   ]
  },
  {
   "cell_type": "markdown",
   "metadata": {},
   "source": [
    "# Minimum-variance investing\n",
    "\n",
    "\n",
    "* Mean-variance investing under the assumption that all assets have same expected returns, but uses covariance matrix to minimize risk\n",
    "\n",
    " * The idea is that expected returns signals are pure noise so we might as well assume there are no signals and all expected returns are the same\n",
    "  \n",
    " * Can be useful when applied within asset class when assumption of same expected returns is plausible\n",
    "  \n",
    " * For example this is behind Minimum volatility investing for [example,https://investor.vanguard.com/mutual-funds/profile/overview/vmvfx]\n",
    "  \n",
    "* Assumes all asset shave the same expected return\n",
    "\n",
    "$$Min W'Var(R)W~ subject~ to~ 1'W=1$$\n",
    "\n",
    "$$W_{minvariance}=Var(R)^{-1}1$$\n",
    "\n",
    "* I use this technique in \"hedging-risk factors\", a recent academic paper, to construct portfolios with Sharpe-ratios of 0.8 at the yearly horizon, which is very large\n",
    "> Why this might make sense?"
   ]
  },
  {
   "cell_type": "code",
   "execution_count": null,
   "metadata": {
    "collapsed": true
   },
   "outputs": [],
   "source": [
    "Wmve"
   ]
  },
  {
   "cell_type": "code",
   "execution_count": 48,
   "metadata": {
    "scrolled": true
   },
   "outputs": [
    {
     "data": {
      "text/html": [
       "<div>\n",
       "<style scoped>\n",
       "    .dataframe tbody tr th:only-of-type {\n",
       "        vertical-align: middle;\n",
       "    }\n",
       "\n",
       "    .dataframe tbody tr th {\n",
       "        vertical-align: top;\n",
       "    }\n",
       "\n",
       "    .dataframe thead th {\n",
       "        text-align: right;\n",
       "    }\n",
       "</style>\n",
       "<table border=\"1\" class=\"dataframe\">\n",
       "  <thead>\n",
       "    <tr style=\"text-align: right;\">\n",
       "      <th></th>\n",
       "      <th>samplemean</th>\n",
       "      <th>MKTUS-1std</th>\n",
       "      <th>MKTUS-1.64std</th>\n",
       "      <th>minv</th>\n",
       "    </tr>\n",
       "  </thead>\n",
       "  <tbody>\n",
       "    <tr>\n",
       "      <th>MKTUS</th>\n",
       "      <td>0.254604</td>\n",
       "      <td>0.045314</td>\n",
       "      <td>-0.112806</td>\n",
       "      <td>0.136033</td>\n",
       "    </tr>\n",
       "    <tr>\n",
       "      <th>BondUS</th>\n",
       "      <td>0.197561</td>\n",
       "      <td>0.261140</td>\n",
       "      <td>0.309174</td>\n",
       "      <td>0.104734</td>\n",
       "    </tr>\n",
       "    <tr>\n",
       "      <th>EM</th>\n",
       "      <td>0.222761</td>\n",
       "      <td>0.281097</td>\n",
       "      <td>0.325170</td>\n",
       "      <td>0.051921</td>\n",
       "    </tr>\n",
       "    <tr>\n",
       "      <th>MKTxUS</th>\n",
       "      <td>-0.142364</td>\n",
       "      <td>-0.033959</td>\n",
       "      <td>0.047942</td>\n",
       "      <td>-0.115740</td>\n",
       "    </tr>\n",
       "    <tr>\n",
       "      <th>BondxUS</th>\n",
       "      <td>0.467437</td>\n",
       "      <td>0.446408</td>\n",
       "      <td>0.430520</td>\n",
       "      <td>0.823052</td>\n",
       "    </tr>\n",
       "  </tbody>\n",
       "</table>\n",
       "</div>"
      ],
      "text/plain": [
       "         samplemean  MKTUS-1std  MKTUS-1.64std      minv\n",
       "MKTUS      0.254604    0.045314      -0.112806  0.136033\n",
       "BondUS     0.197561    0.261140       0.309174  0.104734\n",
       "EM         0.222761    0.281097       0.325170  0.051921\n",
       "MKTxUS    -0.142364   -0.033959       0.047942 -0.115740\n",
       "BondxUS    0.467437    0.446408       0.430520  0.823052"
      ]
     },
     "execution_count": 48,
     "metadata": {},
     "output_type": "execute_result"
    }
   ],
   "source": [
    "# to find the minimum variance weights simply replace  the vector of expected returns by a vector of constant.\n",
    "\n",
    "# in this case I am usign the average, but the value does not matter for the weights, why?\n",
    "\n",
    "er= (ERe.values*0+ERe.mean()*20000000000)\n",
    "Wminv =np.linalg.inv(Cove) @ er\n",
    "Wminv\n",
    "\n",
    "# \n",
    "Wmve['minv']=Wminv/Wminv.sum()\n",
    "Wmve\n"
   ]
  },
  {
   "cell_type": "markdown",
   "metadata": {},
   "source": [
    ">why these weights look like this ? Why are they shorting some assets?"
   ]
  },
  {
   "cell_type": "code",
   "execution_count": 49,
   "metadata": {},
   "outputs": [
    {
     "data": {
      "text/plain": [
       "0.0649280275566407"
      ]
     },
     "execution_count": 49,
     "metadata": {},
     "output_type": "execute_result"
    }
   ],
   "source": [
    "# what is the vol of the minimum-variance portfolio\n",
    "\n",
    "(Wmve['minv'].T @ Cove @ Wmve['minv']*12)**0.5"
   ]
  },
  {
   "cell_type": "code",
   "execution_count": 50,
   "metadata": {},
   "outputs": [
    {
     "name": "stdout",
     "output_type": "stream",
     "text": [
      "83150698.72642966\n"
     ]
    },
    {
     "data": {
      "text/plain": [
       "0.002531937590630807"
      ]
     },
     "execution_count": 50,
     "metadata": {},
     "output_type": "execute_result"
    }
   ],
   "source": [
    "# What is the expected return of the minimum variance portfolio?\n",
    "\n",
    "# using the average across assets\n",
    "print(er @ Wmve['minv'])\n",
    "\n",
    "#using each asset average return\n",
    "\n",
    "ERe.values @ Wmve['minv']"
   ]
  },
  {
   "cell_type": "code",
   "execution_count": 53,
   "metadata": {},
   "outputs": [
    {
     "name": "stdout",
     "output_type": "stream",
     "text": [
      "4436334824.845568\n"
     ]
    },
    {
     "data": {
      "text/plain": [
       "0.4679527814250095"
      ]
     },
     "execution_count": 53,
     "metadata": {},
     "output_type": "execute_result"
    }
   ],
   "source": [
    "# Sharpe ratio\n",
    "\n",
    "# using the average across assets\n",
    "print((er @ Wmve['minv'])/(Wmve['minv'].T @ Cove @ Wmve['minv'])**0.5)\n",
    "\n",
    "#using each asset average return\n",
    "\n",
    "(ERe.values @ Wmve['minv'])/(Wmve['minv'].T @ Cove @ Wmve['minv'])**0.5*12**0.5"
   ]
  },
  {
   "cell_type": "code",
   "execution_count": 54,
   "metadata": {},
   "outputs": [
    {
     "data": {
      "text/plain": [
       "0.5670661469823948"
      ]
     },
     "execution_count": 54,
     "metadata": {},
     "output_type": "execute_result"
    }
   ],
   "source": [
    "(ERe.values @ Wmve['samplemean'])/(Wmve['samplemean'].T @ Cove @ Wmve['samplemean'])**0.5*12**0.5"
   ]
  },
  {
   "cell_type": "markdown",
   "metadata": {},
   "source": [
    "* Which one is right? \n",
    "\n",
    "* The one with the average acorss assets or the ones using each asset average return?\n",
    "\n",
    "* isn't using the average always right since it is the consistent with the data?\n",
    "\n",
    "* Does it make sense to compare the in-sample tangency and the minimum-variance using the sample?\n",
    "\n",
    "> Which one will always win?\n"
   ]
  },
  {
   "cell_type": "code",
   "execution_count": 65,
   "metadata": {},
   "outputs": [
    {
     "data": {
      "text/html": [
       "<div>\n",
       "<style scoped>\n",
       "    .dataframe tbody tr th:only-of-type {\n",
       "        vertical-align: middle;\n",
       "    }\n",
       "\n",
       "    .dataframe tbody tr th {\n",
       "        vertical-align: top;\n",
       "    }\n",
       "\n",
       "    .dataframe thead th {\n",
       "        text-align: right;\n",
       "    }\n",
       "</style>\n",
       "<table border=\"1\" class=\"dataframe\">\n",
       "  <thead>\n",
       "    <tr style=\"text-align: right;\">\n",
       "      <th></th>\n",
       "      <th>MKTUS</th>\n",
       "      <th>BondUS</th>\n",
       "      <th>EM</th>\n",
       "      <th>MKTxUS</th>\n",
       "      <th>BondxUS</th>\n",
       "    </tr>\n",
       "    <tr>\n",
       "      <th>Date</th>\n",
       "      <th></th>\n",
       "      <th></th>\n",
       "      <th></th>\n",
       "      <th></th>\n",
       "      <th></th>\n",
       "    </tr>\n",
       "  </thead>\n",
       "  <tbody>\n",
       "    <tr>\n",
       "      <th>1963-02-28</th>\n",
       "      <td>-0.0238</td>\n",
       "      <td>-0.004178</td>\n",
       "      <td>0.095922</td>\n",
       "      <td>-0.005073</td>\n",
       "      <td>0.000906</td>\n",
       "    </tr>\n",
       "    <tr>\n",
       "      <th>1963-03-31</th>\n",
       "      <td>0.0308</td>\n",
       "      <td>0.001042</td>\n",
       "      <td>0.011849</td>\n",
       "      <td>-0.001929</td>\n",
       "      <td>-0.000387</td>\n",
       "    </tr>\n",
       "    <tr>\n",
       "      <th>1963-04-30</th>\n",
       "      <td>0.0451</td>\n",
       "      <td>-0.004343</td>\n",
       "      <td>-0.149555</td>\n",
       "      <td>-0.005836</td>\n",
       "      <td>0.005502</td>\n",
       "    </tr>\n",
       "    <tr>\n",
       "      <th>1963-05-31</th>\n",
       "      <td>0.0176</td>\n",
       "      <td>-0.004207</td>\n",
       "      <td>-0.014572</td>\n",
       "      <td>-0.002586</td>\n",
       "      <td>0.002289</td>\n",
       "    </tr>\n",
       "    <tr>\n",
       "      <th>1963-06-30</th>\n",
       "      <td>-0.0200</td>\n",
       "      <td>-0.000634</td>\n",
       "      <td>-0.057999</td>\n",
       "      <td>-0.013460</td>\n",
       "      <td>0.000839</td>\n",
       "    </tr>\n",
       "    <tr>\n",
       "      <th>1963-07-31</th>\n",
       "      <td>-0.0039</td>\n",
       "      <td>0.000700</td>\n",
       "      <td>0.085891</td>\n",
       "      <td>0.005200</td>\n",
       "      <td>-0.000799</td>\n",
       "    </tr>\n",
       "    <tr>\n",
       "      <th>1963-08-31</th>\n",
       "      <td>0.0507</td>\n",
       "      <td>0.004361</td>\n",
       "      <td>0.025440</td>\n",
       "      <td>0.033424</td>\n",
       "      <td>0.000215</td>\n",
       "    </tr>\n",
       "    <tr>\n",
       "      <th>1963-09-30</th>\n",
       "      <td>-0.0157</td>\n",
       "      <td>-0.001043</td>\n",
       "      <td>-0.027740</td>\n",
       "      <td>-0.000268</td>\n",
       "      <td>0.001826</td>\n",
       "    </tr>\n",
       "    <tr>\n",
       "      <th>1963-10-31</th>\n",
       "      <td>0.0253</td>\n",
       "      <td>-0.008093</td>\n",
       "      <td>0.035918</td>\n",
       "      <td>-0.004517</td>\n",
       "      <td>-0.001225</td>\n",
       "    </tr>\n",
       "    <tr>\n",
       "      <th>1963-11-30</th>\n",
       "      <td>-0.0085</td>\n",
       "      <td>-0.006119</td>\n",
       "      <td>-0.022925</td>\n",
       "      <td>-0.008280</td>\n",
       "      <td>-0.002679</td>\n",
       "    </tr>\n",
       "    <tr>\n",
       "      <th>1963-12-31</th>\n",
       "      <td>0.0183</td>\n",
       "      <td>-0.006267</td>\n",
       "      <td>-0.017138</td>\n",
       "      <td>-0.011679</td>\n",
       "      <td>-0.002162</td>\n",
       "    </tr>\n",
       "    <tr>\n",
       "      <th>1964-01-31</th>\n",
       "      <td>0.0224</td>\n",
       "      <td>-0.001210</td>\n",
       "      <td>-0.002331</td>\n",
       "      <td>0.018731</td>\n",
       "      <td>-0.001287</td>\n",
       "    </tr>\n",
       "    <tr>\n",
       "      <th>1964-02-29</th>\n",
       "      <td>0.0154</td>\n",
       "      <td>0.004338</td>\n",
       "      <td>0.002458</td>\n",
       "      <td>-0.028873</td>\n",
       "      <td>-0.002735</td>\n",
       "    </tr>\n",
       "    <tr>\n",
       "      <th>1964-03-31</th>\n",
       "      <td>0.0141</td>\n",
       "      <td>-0.001319</td>\n",
       "      <td>-0.094025</td>\n",
       "      <td>-0.006220</td>\n",
       "      <td>-0.002499</td>\n",
       "    </tr>\n",
       "    <tr>\n",
       "      <th>1964-04-30</th>\n",
       "      <td>0.0010</td>\n",
       "      <td>-0.004517</td>\n",
       "      <td>0.114717</td>\n",
       "      <td>-0.005662</td>\n",
       "      <td>-0.001937</td>\n",
       "    </tr>\n",
       "    <tr>\n",
       "      <th>1964-05-31</th>\n",
       "      <td>0.0142</td>\n",
       "      <td>0.004350</td>\n",
       "      <td>-0.072132</td>\n",
       "      <td>-0.027803</td>\n",
       "      <td>0.000380</td>\n",
       "    </tr>\n",
       "    <tr>\n",
       "      <th>1964-06-30</th>\n",
       "      <td>0.0127</td>\n",
       "      <td>0.009114</td>\n",
       "      <td>0.025668</td>\n",
       "      <td>-0.022225</td>\n",
       "      <td>-0.001576</td>\n",
       "    </tr>\n",
       "    <tr>\n",
       "      <th>1964-07-31</th>\n",
       "      <td>0.0174</td>\n",
       "      <td>0.003908</td>\n",
       "      <td>-0.041090</td>\n",
       "      <td>0.028866</td>\n",
       "      <td>-0.004999</td>\n",
       "    </tr>\n",
       "    <tr>\n",
       "      <th>1964-08-31</th>\n",
       "      <td>-0.0144</td>\n",
       "      <td>-0.006193</td>\n",
       "      <td>-0.011470</td>\n",
       "      <td>0.034164</td>\n",
       "      <td>0.000163</td>\n",
       "    </tr>\n",
       "    <tr>\n",
       "      <th>1964-09-30</th>\n",
       "      <td>0.0269</td>\n",
       "      <td>0.000683</td>\n",
       "      <td>0.068404</td>\n",
       "      <td>-0.020307</td>\n",
       "      <td>0.004910</td>\n",
       "    </tr>\n",
       "    <tr>\n",
       "      <th>1964-10-31</th>\n",
       "      <td>0.0059</td>\n",
       "      <td>0.000583</td>\n",
       "      <td>-0.034342</td>\n",
       "      <td>-0.023659</td>\n",
       "      <td>-0.000765</td>\n",
       "    </tr>\n",
       "    <tr>\n",
       "      <th>1964-11-30</th>\n",
       "      <td>0.0000</td>\n",
       "      <td>0.002300</td>\n",
       "      <td>-0.018634</td>\n",
       "      <td>-0.005902</td>\n",
       "      <td>-0.000912</td>\n",
       "    </tr>\n",
       "    <tr>\n",
       "      <th>1964-12-31</th>\n",
       "      <td>0.0003</td>\n",
       "      <td>-0.003048</td>\n",
       "      <td>-0.018383</td>\n",
       "      <td>-0.008651</td>\n",
       "      <td>-0.000933</td>\n",
       "    </tr>\n",
       "    <tr>\n",
       "      <th>1965-01-31</th>\n",
       "      <td>0.0354</td>\n",
       "      <td>-0.001019</td>\n",
       "      <td>0.048117</td>\n",
       "      <td>0.002309</td>\n",
       "      <td>0.004437</td>\n",
       "    </tr>\n",
       "    <tr>\n",
       "      <th>1965-02-28</th>\n",
       "      <td>0.0044</td>\n",
       "      <td>0.003932</td>\n",
       "      <td>0.006153</td>\n",
       "      <td>-0.006200</td>\n",
       "      <td>0.001162</td>\n",
       "    </tr>\n",
       "    <tr>\n",
       "      <th>1965-03-31</th>\n",
       "      <td>-0.0134</td>\n",
       "      <td>-0.001829</td>\n",
       "      <td>-0.028257</td>\n",
       "      <td>-0.021069</td>\n",
       "      <td>-0.003239</td>\n",
       "    </tr>\n",
       "    <tr>\n",
       "      <th>1965-04-30</th>\n",
       "      <td>0.0311</td>\n",
       "      <td>0.003826</td>\n",
       "      <td>0.003914</td>\n",
       "      <td>0.003243</td>\n",
       "      <td>-0.003822</td>\n",
       "    </tr>\n",
       "    <tr>\n",
       "      <th>1965-05-31</th>\n",
       "      <td>-0.0077</td>\n",
       "      <td>0.000375</td>\n",
       "      <td>-0.033014</td>\n",
       "      <td>-0.006538</td>\n",
       "      <td>-0.006865</td>\n",
       "    </tr>\n",
       "    <tr>\n",
       "      <th>1965-06-30</th>\n",
       "      <td>-0.0551</td>\n",
       "      <td>-0.000025</td>\n",
       "      <td>0.027837</td>\n",
       "      <td>-0.035891</td>\n",
       "      <td>-0.002482</td>\n",
       "    </tr>\n",
       "    <tr>\n",
       "      <th>1965-07-31</th>\n",
       "      <td>0.0143</td>\n",
       "      <td>0.000375</td>\n",
       "      <td>0.048169</td>\n",
       "      <td>-0.009637</td>\n",
       "      <td>-0.001912</td>\n",
       "    </tr>\n",
       "    <tr>\n",
       "      <th>...</th>\n",
       "      <td>...</td>\n",
       "      <td>...</td>\n",
       "      <td>...</td>\n",
       "      <td>...</td>\n",
       "      <td>...</td>\n",
       "    </tr>\n",
       "    <tr>\n",
       "      <th>2014-07-31</th>\n",
       "      <td>-0.0204</td>\n",
       "      <td>0.006644</td>\n",
       "      <td>0.020158</td>\n",
       "      <td>-0.019609</td>\n",
       "      <td>-0.013577</td>\n",
       "    </tr>\n",
       "    <tr>\n",
       "      <th>2014-08-31</th>\n",
       "      <td>0.0424</td>\n",
       "      <td>0.048435</td>\n",
       "      <td>0.022939</td>\n",
       "      <td>-0.001451</td>\n",
       "      <td>0.003799</td>\n",
       "    </tr>\n",
       "    <tr>\n",
       "      <th>2014-09-30</th>\n",
       "      <td>-0.0197</td>\n",
       "      <td>-0.020529</td>\n",
       "      <td>-0.073920</td>\n",
       "      <td>-0.038072</td>\n",
       "      <td>-0.043289</td>\n",
       "    </tr>\n",
       "    <tr>\n",
       "      <th>2014-10-31</th>\n",
       "      <td>0.0252</td>\n",
       "      <td>0.030340</td>\n",
       "      <td>0.011908</td>\n",
       "      <td>-0.014489</td>\n",
       "      <td>-0.006894</td>\n",
       "    </tr>\n",
       "    <tr>\n",
       "      <th>2014-11-30</th>\n",
       "      <td>0.0255</td>\n",
       "      <td>0.038617</td>\n",
       "      <td>-0.010518</td>\n",
       "      <td>0.013722</td>\n",
       "      <td>-0.004437</td>\n",
       "    </tr>\n",
       "    <tr>\n",
       "      <th>2014-12-31</th>\n",
       "      <td>-0.0006</td>\n",
       "      <td>0.030612</td>\n",
       "      <td>-0.045617</td>\n",
       "      <td>-0.034357</td>\n",
       "      <td>0.022044</td>\n",
       "    </tr>\n",
       "    <tr>\n",
       "      <th>2015-01-31</th>\n",
       "      <td>-0.0311</td>\n",
       "      <td>0.108778</td>\n",
       "      <td>0.006076</td>\n",
       "      <td>0.004955</td>\n",
       "      <td>-0.059231</td>\n",
       "    </tr>\n",
       "    <tr>\n",
       "      <th>2015-02-28</th>\n",
       "      <td>0.0613</td>\n",
       "      <td>-0.072377</td>\n",
       "      <td>0.031087</td>\n",
       "      <td>0.059894</td>\n",
       "      <td>-0.005246</td>\n",
       "    </tr>\n",
       "    <tr>\n",
       "      <th>2015-03-31</th>\n",
       "      <td>-0.0112</td>\n",
       "      <td>0.020482</td>\n",
       "      <td>-0.014074</td>\n",
       "      <td>-0.014282</td>\n",
       "      <td>-0.022296</td>\n",
       "    </tr>\n",
       "    <tr>\n",
       "      <th>2015-04-30</th>\n",
       "      <td>0.0059</td>\n",
       "      <td>-0.039151</td>\n",
       "      <td>0.077225</td>\n",
       "      <td>0.041635</td>\n",
       "      <td>0.022522</td>\n",
       "    </tr>\n",
       "    <tr>\n",
       "      <th>2015-05-31</th>\n",
       "      <td>0.0136</td>\n",
       "      <td>-0.023211</td>\n",
       "      <td>-0.039853</td>\n",
       "      <td>-0.003972</td>\n",
       "      <td>-0.033661</td>\n",
       "    </tr>\n",
       "    <tr>\n",
       "      <th>2015-06-30</th>\n",
       "      <td>-0.0153</td>\n",
       "      <td>-0.041813</td>\n",
       "      <td>-0.025208</td>\n",
       "      <td>-0.028049</td>\n",
       "      <td>-0.001989</td>\n",
       "    </tr>\n",
       "    <tr>\n",
       "      <th>2015-07-31</th>\n",
       "      <td>0.0154</td>\n",
       "      <td>0.040611</td>\n",
       "      <td>-0.068709</td>\n",
       "      <td>0.020807</td>\n",
       "      <td>0.002027</td>\n",
       "    </tr>\n",
       "    <tr>\n",
       "      <th>2015-08-31</th>\n",
       "      <td>-0.0604</td>\n",
       "      <td>-0.003469</td>\n",
       "      <td>-0.090097</td>\n",
       "      <td>-0.073457</td>\n",
       "      <td>0.007883</td>\n",
       "    </tr>\n",
       "    <tr>\n",
       "      <th>2015-09-30</th>\n",
       "      <td>-0.0308</td>\n",
       "      <td>0.018393</td>\n",
       "      <td>-0.029726</td>\n",
       "      <td>-0.050415</td>\n",
       "      <td>0.003643</td>\n",
       "    </tr>\n",
       "    <tr>\n",
       "      <th>2015-10-31</th>\n",
       "      <td>0.0775</td>\n",
       "      <td>-0.009402</td>\n",
       "      <td>0.071400</td>\n",
       "      <td>0.078231</td>\n",
       "      <td>-0.000810</td>\n",
       "    </tr>\n",
       "    <tr>\n",
       "      <th>2015-11-30</th>\n",
       "      <td>0.0056</td>\n",
       "      <td>-0.007364</td>\n",
       "      <td>-0.038943</td>\n",
       "      <td>-0.015439</td>\n",
       "      <td>-0.030427</td>\n",
       "    </tr>\n",
       "    <tr>\n",
       "      <th>2015-12-31</th>\n",
       "      <td>-0.0217</td>\n",
       "      <td>-0.003498</td>\n",
       "      <td>-0.025113</td>\n",
       "      <td>-0.006966</td>\n",
       "      <td>0.015273</td>\n",
       "    </tr>\n",
       "    <tr>\n",
       "      <th>2016-01-31</th>\n",
       "      <td>-0.0577</td>\n",
       "      <td>0.055228</td>\n",
       "      <td>-0.061764</td>\n",
       "      <td>-0.078321</td>\n",
       "      <td>0.009490</td>\n",
       "    </tr>\n",
       "    <tr>\n",
       "      <th>2016-02-29</th>\n",
       "      <td>-0.0007</td>\n",
       "      <td>0.030530</td>\n",
       "      <td>-0.001731</td>\n",
       "      <td>-0.018172</td>\n",
       "      <td>0.032558</td>\n",
       "    </tr>\n",
       "    <tr>\n",
       "      <th>2016-03-31</th>\n",
       "      <td>0.0696</td>\n",
       "      <td>0.001975</td>\n",
       "      <td>0.132383</td>\n",
       "      <td>0.065740</td>\n",
       "      <td>0.041236</td>\n",
       "    </tr>\n",
       "    <tr>\n",
       "      <th>2016-04-30</th>\n",
       "      <td>0.0092</td>\n",
       "      <td>-0.007915</td>\n",
       "      <td>0.005538</td>\n",
       "      <td>0.029944</td>\n",
       "      <td>0.003884</td>\n",
       "    </tr>\n",
       "    <tr>\n",
       "      <th>2016-05-31</th>\n",
       "      <td>0.0178</td>\n",
       "      <td>0.006137</td>\n",
       "      <td>-0.037207</td>\n",
       "      <td>-0.007935</td>\n",
       "      <td>-0.011574</td>\n",
       "    </tr>\n",
       "    <tr>\n",
       "      <th>2016-06-30</th>\n",
       "      <td>-0.0005</td>\n",
       "      <td>0.073356</td>\n",
       "      <td>0.040748</td>\n",
       "      <td>-0.033351</td>\n",
       "      <td>0.036507</td>\n",
       "    </tr>\n",
       "    <tr>\n",
       "      <th>2016-07-31</th>\n",
       "      <td>0.0395</td>\n",
       "      <td>0.026664</td>\n",
       "      <td>0.050700</td>\n",
       "      <td>0.050562</td>\n",
       "      <td>0.008244</td>\n",
       "    </tr>\n",
       "    <tr>\n",
       "      <th>2016-08-31</th>\n",
       "      <td>0.0050</td>\n",
       "      <td>-0.008617</td>\n",
       "      <td>0.024986</td>\n",
       "      <td>0.000638</td>\n",
       "      <td>-0.009752</td>\n",
       "    </tr>\n",
       "    <tr>\n",
       "      <th>2016-09-30</th>\n",
       "      <td>0.0025</td>\n",
       "      <td>-0.016617</td>\n",
       "      <td>0.012953</td>\n",
       "      <td>0.012536</td>\n",
       "      <td>0.009779</td>\n",
       "    </tr>\n",
       "    <tr>\n",
       "      <th>2016-10-31</th>\n",
       "      <td>-0.0202</td>\n",
       "      <td>-0.049660</td>\n",
       "      <td>0.002274</td>\n",
       "      <td>-0.020583</td>\n",
       "      <td>-0.043676</td>\n",
       "    </tr>\n",
       "    <tr>\n",
       "      <th>2016-11-30</th>\n",
       "      <td>0.0486</td>\n",
       "      <td>-0.081736</td>\n",
       "      <td>-0.046071</td>\n",
       "      <td>-0.019898</td>\n",
       "      <td>-0.050459</td>\n",
       "    </tr>\n",
       "    <tr>\n",
       "      <th>2016-12-31</th>\n",
       "      <td>0.0182</td>\n",
       "      <td>-0.005596</td>\n",
       "      <td>0.002604</td>\n",
       "      <td>0.034083</td>\n",
       "      <td>-0.023507</td>\n",
       "    </tr>\n",
       "  </tbody>\n",
       "</table>\n",
       "<p>647 rows × 5 columns</p>\n",
       "</div>"
      ],
      "text/plain": [
       "             MKTUS    BondUS        EM    MKTxUS   BondxUS\n",
       "Date                                                      \n",
       "1963-02-28 -0.0238 -0.004178  0.095922 -0.005073  0.000906\n",
       "1963-03-31  0.0308  0.001042  0.011849 -0.001929 -0.000387\n",
       "1963-04-30  0.0451 -0.004343 -0.149555 -0.005836  0.005502\n",
       "1963-05-31  0.0176 -0.004207 -0.014572 -0.002586  0.002289\n",
       "1963-06-30 -0.0200 -0.000634 -0.057999 -0.013460  0.000839\n",
       "1963-07-31 -0.0039  0.000700  0.085891  0.005200 -0.000799\n",
       "1963-08-31  0.0507  0.004361  0.025440  0.033424  0.000215\n",
       "1963-09-30 -0.0157 -0.001043 -0.027740 -0.000268  0.001826\n",
       "1963-10-31  0.0253 -0.008093  0.035918 -0.004517 -0.001225\n",
       "1963-11-30 -0.0085 -0.006119 -0.022925 -0.008280 -0.002679\n",
       "1963-12-31  0.0183 -0.006267 -0.017138 -0.011679 -0.002162\n",
       "1964-01-31  0.0224 -0.001210 -0.002331  0.018731 -0.001287\n",
       "1964-02-29  0.0154  0.004338  0.002458 -0.028873 -0.002735\n",
       "1964-03-31  0.0141 -0.001319 -0.094025 -0.006220 -0.002499\n",
       "1964-04-30  0.0010 -0.004517  0.114717 -0.005662 -0.001937\n",
       "1964-05-31  0.0142  0.004350 -0.072132 -0.027803  0.000380\n",
       "1964-06-30  0.0127  0.009114  0.025668 -0.022225 -0.001576\n",
       "1964-07-31  0.0174  0.003908 -0.041090  0.028866 -0.004999\n",
       "1964-08-31 -0.0144 -0.006193 -0.011470  0.034164  0.000163\n",
       "1964-09-30  0.0269  0.000683  0.068404 -0.020307  0.004910\n",
       "1964-10-31  0.0059  0.000583 -0.034342 -0.023659 -0.000765\n",
       "1964-11-30  0.0000  0.002300 -0.018634 -0.005902 -0.000912\n",
       "1964-12-31  0.0003 -0.003048 -0.018383 -0.008651 -0.000933\n",
       "1965-01-31  0.0354 -0.001019  0.048117  0.002309  0.004437\n",
       "1965-02-28  0.0044  0.003932  0.006153 -0.006200  0.001162\n",
       "1965-03-31 -0.0134 -0.001829 -0.028257 -0.021069 -0.003239\n",
       "1965-04-30  0.0311  0.003826  0.003914  0.003243 -0.003822\n",
       "1965-05-31 -0.0077  0.000375 -0.033014 -0.006538 -0.006865\n",
       "1965-06-30 -0.0551 -0.000025  0.027837 -0.035891 -0.002482\n",
       "1965-07-31  0.0143  0.000375  0.048169 -0.009637 -0.001912\n",
       "...            ...       ...       ...       ...       ...\n",
       "2014-07-31 -0.0204  0.006644  0.020158 -0.019609 -0.013577\n",
       "2014-08-31  0.0424  0.048435  0.022939 -0.001451  0.003799\n",
       "2014-09-30 -0.0197 -0.020529 -0.073920 -0.038072 -0.043289\n",
       "2014-10-31  0.0252  0.030340  0.011908 -0.014489 -0.006894\n",
       "2014-11-30  0.0255  0.038617 -0.010518  0.013722 -0.004437\n",
       "2014-12-31 -0.0006  0.030612 -0.045617 -0.034357  0.022044\n",
       "2015-01-31 -0.0311  0.108778  0.006076  0.004955 -0.059231\n",
       "2015-02-28  0.0613 -0.072377  0.031087  0.059894 -0.005246\n",
       "2015-03-31 -0.0112  0.020482 -0.014074 -0.014282 -0.022296\n",
       "2015-04-30  0.0059 -0.039151  0.077225  0.041635  0.022522\n",
       "2015-05-31  0.0136 -0.023211 -0.039853 -0.003972 -0.033661\n",
       "2015-06-30 -0.0153 -0.041813 -0.025208 -0.028049 -0.001989\n",
       "2015-07-31  0.0154  0.040611 -0.068709  0.020807  0.002027\n",
       "2015-08-31 -0.0604 -0.003469 -0.090097 -0.073457  0.007883\n",
       "2015-09-30 -0.0308  0.018393 -0.029726 -0.050415  0.003643\n",
       "2015-10-31  0.0775 -0.009402  0.071400  0.078231 -0.000810\n",
       "2015-11-30  0.0056 -0.007364 -0.038943 -0.015439 -0.030427\n",
       "2015-12-31 -0.0217 -0.003498 -0.025113 -0.006966  0.015273\n",
       "2016-01-31 -0.0577  0.055228 -0.061764 -0.078321  0.009490\n",
       "2016-02-29 -0.0007  0.030530 -0.001731 -0.018172  0.032558\n",
       "2016-03-31  0.0696  0.001975  0.132383  0.065740  0.041236\n",
       "2016-04-30  0.0092 -0.007915  0.005538  0.029944  0.003884\n",
       "2016-05-31  0.0178  0.006137 -0.037207 -0.007935 -0.011574\n",
       "2016-06-30 -0.0005  0.073356  0.040748 -0.033351  0.036507\n",
       "2016-07-31  0.0395  0.026664  0.050700  0.050562  0.008244\n",
       "2016-08-31  0.0050 -0.008617  0.024986  0.000638 -0.009752\n",
       "2016-09-30  0.0025 -0.016617  0.012953  0.012536  0.009779\n",
       "2016-10-31 -0.0202 -0.049660  0.002274 -0.020583 -0.043676\n",
       "2016-11-30  0.0486 -0.081736 -0.046071 -0.019898 -0.050459\n",
       "2016-12-31  0.0182 -0.005596  0.002604  0.034083 -0.023507\n",
       "\n",
       "[647 rows x 5 columns]"
      ]
     },
     "execution_count": 65,
     "metadata": {},
     "output_type": "execute_result"
    }
   ],
   "source": [
    "Re"
   ]
  },
  {
   "cell_type": "code",
   "execution_count": 64,
   "metadata": {},
   "outputs": [
    {
     "data": {
      "text/html": [
       "<div>\n",
       "<style scoped>\n",
       "    .dataframe tbody tr th:only-of-type {\n",
       "        vertical-align: middle;\n",
       "    }\n",
       "\n",
       "    .dataframe tbody tr th {\n",
       "        vertical-align: top;\n",
       "    }\n",
       "\n",
       "    .dataframe thead th {\n",
       "        text-align: right;\n",
       "    }\n",
       "</style>\n",
       "<table border=\"1\" class=\"dataframe\">\n",
       "  <thead>\n",
       "    <tr style=\"text-align: right;\">\n",
       "      <th></th>\n",
       "      <th>MKTUS</th>\n",
       "      <th>BondUS</th>\n",
       "      <th>EM</th>\n",
       "      <th>MKTxUS</th>\n",
       "      <th>BondxUS</th>\n",
       "    </tr>\n",
       "  </thead>\n",
       "  <tbody>\n",
       "    <tr>\n",
       "      <th>MKTUS</th>\n",
       "      <td>0.001948</td>\n",
       "      <td>0.000297</td>\n",
       "      <td>0.000405</td>\n",
       "      <td>0.000815</td>\n",
       "      <td>0.000198</td>\n",
       "    </tr>\n",
       "    <tr>\n",
       "      <th>BondUS</th>\n",
       "      <td>0.000297</td>\n",
       "      <td>0.000784</td>\n",
       "      <td>-0.000081</td>\n",
       "      <td>0.000101</td>\n",
       "      <td>0.000124</td>\n",
       "    </tr>\n",
       "    <tr>\n",
       "      <th>EM</th>\n",
       "      <td>0.000405</td>\n",
       "      <td>-0.000081</td>\n",
       "      <td>0.002084</td>\n",
       "      <td>0.000722</td>\n",
       "      <td>0.000187</td>\n",
       "    </tr>\n",
       "    <tr>\n",
       "      <th>MKTxUS</th>\n",
       "      <td>0.000815</td>\n",
       "      <td>0.000101</td>\n",
       "      <td>0.000722</td>\n",
       "      <td>0.001502</td>\n",
       "      <td>0.000357</td>\n",
       "    </tr>\n",
       "    <tr>\n",
       "      <th>BondxUS</th>\n",
       "      <td>0.000198</td>\n",
       "      <td>0.000124</td>\n",
       "      <td>0.000187</td>\n",
       "      <td>0.000357</td>\n",
       "      <td>0.000220</td>\n",
       "    </tr>\n",
       "  </tbody>\n",
       "</table>\n",
       "</div>"
      ],
      "text/plain": [
       "            MKTUS    BondUS        EM    MKTxUS   BondxUS\n",
       "MKTUS    0.001948  0.000297  0.000405  0.000815  0.000198\n",
       "BondUS   0.000297  0.000784 -0.000081  0.000101  0.000124\n",
       "EM       0.000405 -0.000081  0.002084  0.000722  0.000187\n",
       "MKTxUS   0.000815  0.000101  0.000722  0.001502  0.000357\n",
       "BondxUS  0.000198  0.000124  0.000187  0.000357  0.000220"
      ]
     },
     "execution_count": 64,
     "metadata": {},
     "output_type": "execute_result"
    }
   ],
   "source": [
    "cove=Re['1960':'1980'].cov()\n",
    "cove"
   ]
  },
  {
   "cell_type": "code",
   "execution_count": 56,
   "metadata": {},
   "outputs": [
    {
     "data": {
      "text/plain": [
       "0.007091177051932775"
      ]
     },
     "execution_count": 56,
     "metadata": {},
     "output_type": "execute_result"
    }
   ],
   "source": [
    "# mve for sample mean\n",
    "\n",
    "Wmve['samplemeanupto80s'] =np.linalg.inv(Re['1960':'1980'].cov()) @ Re['1960':'1980'].mean()\n",
    "Wmve['samplemeanupto80s'] @ Re['1981':'2018'].mean()"
   ]
  },
  {
   "cell_type": "markdown",
   "metadata": {},
   "source": [
    "# Risk- Parity investing\n",
    "\n",
    "\n",
    "* Risk-parity investing: Mean-variance investing under the assumption that all expected returns are equal, and the correlations across all assets are zero\n",
    "  * This is the strategy behind of the biggest hedge funds in the planet [https://www.bridgewater.com/resources/our-thoughts-about-risk-parity-and-all-weather.pdf]\n",
    "  \n",
    "\n",
    "* It assumes that the non-diagonal terms in the covariacne matrix are all zeros.\n",
    "\n",
    "$$Var_{RP}(R)=diag(Var(R))=\\left[\\begin{array}{ccc}\\sigma_1^2 & 0 & 0\\\\0 & \\sigma_2^2 &0 \\\\0 & 0& \\sigma^2_3\\end{array}\\right]$$\n",
    "\n",
    "* we then have \n",
    "\n",
    "$$Min W'Var_{RP}(R)W ~ subject~ to~ 1'W=1$$\n",
    "\n",
    "* it follows\n",
    "\n",
    "$$W_{RP}=Var(R)^{-1}1=\\left[\\begin{array}{c}\\frac{1}{\\sigma_1^2}\\\\\\frac{1}{\\sigma_2^2}\\\\\\frac{1}{\\sigma_3^2}\\end{array}\\right]$$\n",
    "\n",
    "> Why this might make sense?\n",
    "\n",
    "> Why the assumption of ZERO correlation a conservative one? \n",
    "\n",
    "> Doesn't this underestimate the degree of comovement across stocks?"
   ]
  },
  {
   "cell_type": "code",
   "execution_count": 58,
   "metadata": {},
   "outputs": [
    {
     "data": {
      "text/html": [
       "<div>\n",
       "<style scoped>\n",
       "    .dataframe tbody tr th:only-of-type {\n",
       "        vertical-align: middle;\n",
       "    }\n",
       "\n",
       "    .dataframe tbody tr th {\n",
       "        vertical-align: top;\n",
       "    }\n",
       "\n",
       "    .dataframe thead th {\n",
       "        text-align: right;\n",
       "    }\n",
       "</style>\n",
       "<table border=\"1\" class=\"dataframe\">\n",
       "  <thead>\n",
       "    <tr style=\"text-align: right;\">\n",
       "      <th></th>\n",
       "      <th>MKTUS</th>\n",
       "      <th>BondUS</th>\n",
       "      <th>EM</th>\n",
       "      <th>MKTxUS</th>\n",
       "      <th>BondxUS</th>\n",
       "    </tr>\n",
       "  </thead>\n",
       "  <tbody>\n",
       "    <tr>\n",
       "      <th>MKTUS</th>\n",
       "      <td>0.001948</td>\n",
       "      <td>0.000111</td>\n",
       "      <td>0.001292</td>\n",
       "      <td>0.001264</td>\n",
       "      <td>0.000187</td>\n",
       "    </tr>\n",
       "    <tr>\n",
       "      <th>BondUS</th>\n",
       "      <td>0.000111</td>\n",
       "      <td>0.001227</td>\n",
       "      <td>-0.000204</td>\n",
       "      <td>-0.000013</td>\n",
       "      <td>0.000264</td>\n",
       "    </tr>\n",
       "    <tr>\n",
       "      <th>EM</th>\n",
       "      <td>0.001292</td>\n",
       "      <td>-0.000204</td>\n",
       "      <td>0.003556</td>\n",
       "      <td>0.001661</td>\n",
       "      <td>0.000248</td>\n",
       "    </tr>\n",
       "    <tr>\n",
       "      <th>MKTxUS</th>\n",
       "      <td>0.001264</td>\n",
       "      <td>-0.000013</td>\n",
       "      <td>0.001661</td>\n",
       "      <td>0.002182</td>\n",
       "      <td>0.000422</td>\n",
       "    </tr>\n",
       "    <tr>\n",
       "      <th>BondxUS</th>\n",
       "      <td>0.000187</td>\n",
       "      <td>0.000264</td>\n",
       "      <td>0.000248</td>\n",
       "      <td>0.000422</td>\n",
       "      <td>0.000406</td>\n",
       "    </tr>\n",
       "  </tbody>\n",
       "</table>\n",
       "</div>"
      ],
      "text/plain": [
       "            MKTUS    BondUS        EM    MKTxUS   BondxUS\n",
       "MKTUS    0.001948  0.000111  0.001292  0.001264  0.000187\n",
       "BondUS   0.000111  0.001227 -0.000204 -0.000013  0.000264\n",
       "EM       0.001292 -0.000204  0.003556  0.001661  0.000248\n",
       "MKTxUS   0.001264 -0.000013  0.001661  0.002182  0.000422\n",
       "BondxUS  0.000187  0.000264  0.000248  0.000422  0.000406"
      ]
     },
     "execution_count": 58,
     "metadata": {},
     "output_type": "execute_result"
    }
   ],
   "source": [
    "Covrp=Cove.copy()\n",
    "Covrp"
   ]
  },
  {
   "cell_type": "code",
   "execution_count": 59,
   "metadata": {},
   "outputs": [
    {
     "data": {
      "text/plain": [
       "array([0.00194798, 0.00122677, 0.00355631, 0.00218166, 0.00040601])"
      ]
     },
     "execution_count": 59,
     "metadata": {},
     "output_type": "execute_result"
    }
   ],
   "source": [
    "np.diag(Covrp)"
   ]
  },
  {
   "cell_type": "code",
   "execution_count": 60,
   "metadata": {},
   "outputs": [
    {
     "data": {
      "text/plain": [
       "array([[0.00194798, 0.        , 0.        , 0.        , 0.        ],\n",
       "       [0.        , 0.00122677, 0.        , 0.        , 0.        ],\n",
       "       [0.        , 0.        , 0.00355631, 0.        , 0.        ],\n",
       "       [0.        , 0.        , 0.        , 0.00218166, 0.        ],\n",
       "       [0.        , 0.        , 0.        , 0.        , 0.00040601]])"
      ]
     },
     "execution_count": 60,
     "metadata": {},
     "output_type": "execute_result"
    }
   ],
   "source": [
    "\n",
    "Covrp=np.diag(np.diag(Covrp))\n",
    "Covrp"
   ]
  },
  {
   "cell_type": "code",
   "execution_count": 61,
   "metadata": {},
   "outputs": [
    {
     "data": {
      "text/plain": [
       "array([83150698.72642966, 83150698.72642966, 83150698.72642966,\n",
       "       83150698.72642966, 83150698.72642966])"
      ]
     },
     "execution_count": 61,
     "metadata": {},
     "output_type": "execute_result"
    }
   ],
   "source": [
    "er"
   ]
  },
  {
   "cell_type": "code",
   "execution_count": 62,
   "metadata": {},
   "outputs": [
    {
     "data": {
      "text/html": [
       "<div>\n",
       "<style scoped>\n",
       "    .dataframe tbody tr th:only-of-type {\n",
       "        vertical-align: middle;\n",
       "    }\n",
       "\n",
       "    .dataframe tbody tr th {\n",
       "        vertical-align: top;\n",
       "    }\n",
       "\n",
       "    .dataframe thead th {\n",
       "        text-align: right;\n",
       "    }\n",
       "</style>\n",
       "<table border=\"1\" class=\"dataframe\">\n",
       "  <thead>\n",
       "    <tr style=\"text-align: right;\">\n",
       "      <th></th>\n",
       "      <th>samplemean</th>\n",
       "      <th>MKTUS-1std</th>\n",
       "      <th>MKTUS-1.64std</th>\n",
       "      <th>minv</th>\n",
       "      <th>samplemeanupto80s</th>\n",
       "      <th>rp</th>\n",
       "    </tr>\n",
       "  </thead>\n",
       "  <tbody>\n",
       "    <tr>\n",
       "      <th>MKTUS</th>\n",
       "      <td>0.254604</td>\n",
       "      <td>0.045314</td>\n",
       "      <td>-0.112806</td>\n",
       "      <td>0.136033</td>\n",
       "      <td>1.532246</td>\n",
       "      <td>0.113297</td>\n",
       "    </tr>\n",
       "    <tr>\n",
       "      <th>BondUS</th>\n",
       "      <td>0.197561</td>\n",
       "      <td>0.261140</td>\n",
       "      <td>0.309174</td>\n",
       "      <td>0.104734</td>\n",
       "      <td>-3.655358</td>\n",
       "      <td>0.179902</td>\n",
       "    </tr>\n",
       "    <tr>\n",
       "      <th>EM</th>\n",
       "      <td>0.222761</td>\n",
       "      <td>0.281097</td>\n",
       "      <td>0.325170</td>\n",
       "      <td>0.051921</td>\n",
       "      <td>3.371679</td>\n",
       "      <td>0.062058</td>\n",
       "    </tr>\n",
       "    <tr>\n",
       "      <th>MKTxUS</th>\n",
       "      <td>-0.142364</td>\n",
       "      <td>-0.033959</td>\n",
       "      <td>0.047942</td>\n",
       "      <td>-0.115740</td>\n",
       "      <td>0.300130</td>\n",
       "      <td>0.101161</td>\n",
       "    </tr>\n",
       "    <tr>\n",
       "      <th>BondxUS</th>\n",
       "      <td>0.467437</td>\n",
       "      <td>0.446408</td>\n",
       "      <td>0.430520</td>\n",
       "      <td>0.823052</td>\n",
       "      <td>-2.184825</td>\n",
       "      <td>0.543582</td>\n",
       "    </tr>\n",
       "  </tbody>\n",
       "</table>\n",
       "</div>"
      ],
      "text/plain": [
       "         samplemean  MKTUS-1std  MKTUS-1.64std      minv  samplemeanupto80s  \\\n",
       "MKTUS      0.254604    0.045314      -0.112806  0.136033           1.532246   \n",
       "BondUS     0.197561    0.261140       0.309174  0.104734          -3.655358   \n",
       "EM         0.222761    0.281097       0.325170  0.051921           3.371679   \n",
       "MKTxUS    -0.142364   -0.033959       0.047942 -0.115740           0.300130   \n",
       "BondxUS    0.467437    0.446408       0.430520  0.823052          -2.184825   \n",
       "\n",
       "               rp  \n",
       "MKTUS    0.113297  \n",
       "BondUS   0.179902  \n",
       "EM       0.062058  \n",
       "MKTxUS   0.101161  \n",
       "BondxUS  0.543582  "
      ]
     },
     "execution_count": 62,
     "metadata": {},
     "output_type": "execute_result"
    }
   ],
   "source": [
    "\n",
    "Wrp =np.linalg.inv(Covrp) @ er\n",
    "Wmve['rp']=Wrp/Wrp.sum()\n",
    "Wmve"
   ]
  },
  {
   "cell_type": "code",
   "execution_count": null,
   "metadata": {
    "collapsed": true
   },
   "outputs": [],
   "source": [
    "# what is the vol of the risk portfolio, suing the diagonal assumption\n",
    "\n",
    "print((Wmve['rp'].T @ Covrp @ Wmve['rp'])**0.5)\n",
    "\n",
    "\n",
    "# using teh actual covariance matrix\n",
    "\n",
    "(Wmve['rp'].T @ Cove @ Wmve['rp'])**0.5"
   ]
  },
  {
   "cell_type": "code",
   "execution_count": null,
   "metadata": {
    "collapsed": true
   },
   "outputs": [],
   "source": [
    "# What is the expected return of the minimum variance portfolio?\n",
    "\n",
    "# using the average across assets\n",
    "print(er @ Wmve['rp'])\n",
    "\n",
    "#using each asset average return\n",
    "\n",
    "ERe.values @ Wmve['rp']"
   ]
  },
  {
   "cell_type": "code",
   "execution_count": null,
   "metadata": {
    "collapsed": true
   },
   "outputs": [],
   "source": [
    "# Sharpe ratio\n",
    "\n",
    "# using the average across assets, adn diagnonal assumption\n",
    "print((er @ Wmve['rp'])/(Wmve['rp'].T @ Covrp @ Wmve['rp'])**0.5)\n",
    "\n",
    "#using each asset average return, actual covariacne matrix estimated from the data\n",
    "\n",
    "(ERe.values @ Wmve['rp'])/(Wmve['rp'].T @ Cove @ Wmve['rp'])**0.5"
   ]
  },
  {
   "cell_type": "markdown",
   "metadata": {},
   "source": [
    "* Which one is right? \n",
    "\n",
    "* The one that uses the assumptions or the ones that we actually find in the data?"
   ]
  },
  {
   "cell_type": "markdown",
   "metadata": {},
   "source": [
    "\n",
    "\n",
    "# Equilibrium thinking as a response to estimation uncertainty\n",
    "\n",
    "  * Another response is to impose economic restrictions in our portfolio problem\n",
    "  * Not everyone can invest in the higher expected return assets\n",
    "  * If we tried, price would go up and expected returns would go down\n",
    " \n",
    " * Imposing equilibrium– that is:\n",
    "      * assume all investors in the world are choosing optimal portfolios \n",
    "      * then solve for the expected returns that make all the asset in the world be held\n",
    "      * This is imposing equilibrium: since all assets must be held, and investors must want to hold them\n",
    "      * Then expected returns have to adjsut so everyone is happy and all assets are held\n",
    " \n",
    "      \n",
    "### Equilibrium in asset markets\n",
    "\n",
    "* Fundamental Question: \n",
    "\n",
    ">If everybody wants higher returns, why some assets earn higher average returns than others? Or why the tangency portfolio has large positions in some assets and not others?\n",
    "\n",
    "* Finance theory: because these assets have low returns in bad times\n",
    "\n",
    ">What are bad times?\n",
    "How much more extra expected return to experience low returns during bad times?\n",
    "\n",
    "#### The general answer\n",
    "\n",
    "* Investors preferences, fears , and background risk exposures will aggregate to some notion of bad times\n",
    "\n",
    "* Assets that pay poorly during these periods will earn higher returns per unit of volatility, i.e., will have high Sharpe ratios and be in the tangency portfolio with a large weight\n",
    "\n",
    "* Assets that pay well during bad times, good hedges, will earn lower returns, possibly negative, and will be in the tangency portfolio with a negative weight\n",
    "\n",
    "* CAPM is a particular case of this general framework where the market return summarizes how bad are the times\n",
    "\n",
    "#### The CAPM\n",
    "\n",
    "* The Wealth portfolio is the tangency portfolio\n",
    "\n",
    "* The return on the wealth portfolio summarizes how Bad are the times\n",
    "\n",
    "* Assets that co-vary more with the market must earn higher returns\n",
    "\n",
    "* They pay poorly exactly when things are worse\n",
    "\n",
    "* What is the wealth portfolio? It is the portfolio that holds all assets in proportion to their value\n",
    "\n",
    "* We often use the equity market as a proxy for this, but that is not the CAPM\n",
    "\n",
    "* In a way that CAPM is untestable because it is impossible to construct the true wealth portfolio\n",
    "\n",
    "\n",
    "$$E[R_t^i-R_t^f]=\\beta_{i,mkt}E[R^{mkt}_t-R^f_t]$$\n",
    "\n",
    "\n",
    "#### Multi-factor models\n",
    "\n",
    "* We will discuss later multi-factor extensions of the CAPM\n",
    "\n",
    "  * APT: Arbitrage Price Theory\n",
    "  * ICAPM: Intertemporal Capital Asset Pricing Model\n",
    "\n",
    "* These models make less restrictive assumptions and predict that we will need additional factors beyond the market to \"span\" the tangency portfolio\n",
    "\n",
    "* What \"span\" means?\n",
    "\n",
    "\n",
    "\n",
    "$$E[R_t^i-R_t^f]=\\beta_{i,mkt}E[R^{mkt}_t-R^f_t]+\\sum_{j=1}^J\\beta_{i,j}\\lambda_j$$\n",
    "\n",
    "\n",
    "# Portfolio implications of the equilibrium view\n",
    "\n",
    "* If (and only if) you are like the average  investor, you should simply hold the market portfolio\n",
    "\n",
    "> Note that does not mean that the CAPM holds!\n",
    "\n",
    "> If the CAPM holds, everyone holds the market as their risky portfolio!\n",
    "\n",
    "* You deviate from holding the market only if you are DIFFERENTE than the average investor\n",
    "\n",
    "* Examples with preferences:\n",
    "\n",
    "  * If you are more risk-averse than the average investor you should hold some safe bonds as well\n",
    "  * If you are more risk-tolerant you should borrow and invest more in the market than the average investor\n",
    "  \n",
    "* Example with \"Background risk\":(background risk are risks that investors are exposed to indepedently of their financial portfolio)\n",
    "\n",
    "   * If you work in the automobile industry and your skill set is highly specialized to automobiles, you are more exposed to the automobile industry than the average investor.\n",
    "   * Advice is to hold the market *after you hedge your automobile exposure*\n",
    "   * in practice this could be investing in the market portoflio while avoiding auto-indistry stocks (and other strongly correlated with it)\n",
    "   \n",
    "* This logic extends to multipl-factors as well, as we will see. \n",
    "   * So even if the CAPM does not work and you need addiitonal factors to explain differences in expected returns across assets, the equilbrium view still imply that if you are just like the average investors, you should simply hold the market portfolio.\n",
    "   * So you will tilt your portfolio to a high expected return factor only if you are less exposed to it then the average investor\n",
    "   * The intuition here is that this factor earns high returns relative to the capm because it earns fair compensation for risks that the average investor is exposed to\n",
    "\n",
    "\n",
    "* Factor investing under this view requires you thinkking about how you are different than the average so you can figure out the right factor tilt for you.\n",
    "\n",
    "\n"
   ]
  },
  {
   "cell_type": "markdown",
   "metadata": {},
   "source": [
    "### Mix and Match\n",
    "\n",
    "* There is a middle of the road approach, where you at the same time accepts that equilibrium logic, but also allow you to express views with respect to different assets\n",
    "\n",
    "* This is sometimes called the Goldman Sachs Portfolio Approach because it was developed by Fisher Black and Bob Litterman when they both worked at Goldman\n",
    "\n",
    "* it basically consists of taking an average of your view and the one implied by the CAPM and your \"views\"/Signals\n",
    "\n",
    "* you put more weight on the CAPM when you are not very confident of your views\n",
    "\n",
    "* you put more weight on your views when you are very confident about them\n",
    "\n"
   ]
  },
  {
   "cell_type": "code",
   "execution_count": null,
   "metadata": {
    "collapsed": true
   },
   "outputs": [],
   "source": []
  }
 ],
 "metadata": {
  "kernelspec": {
   "display_name": "Python 3",
   "language": "python",
   "name": "python3"
  },
  "language_info": {
   "codemirror_mode": {
    "name": "ipython",
    "version": 3
   },
   "file_extension": ".py",
   "mimetype": "text/x-python",
   "name": "python",
   "nbconvert_exporter": "python",
   "pygments_lexer": "ipython3",
   "version": "3.6.3"
  }
 },
 "nbformat": 4,
 "nbformat_minor": 2
}
