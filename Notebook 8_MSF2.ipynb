{
 "cells": [
  {
   "cell_type": "markdown",
   "metadata": {},
   "source": [
    "# Quantitative Finance with Python\n",
    "\n",
    "### Alan Moreira, University of Rochester Simon Graduate School of Business\n",
    "\n",
    "# Notebook 8\n",
    "\n",
    "\n"
   ]
  },
  {
   "cell_type": "markdown",
   "metadata": {},
   "source": [
    "### Topics covered\n",
    "* * *\n",
    "* Strategy Evaluation\n",
    "  * Time-series alpha \n",
    "  * Interpretation of alpha as a test of whether factor is tangency portfolio\n",
    "  * CAPM alpha\n",
    "  * Multi-factor alpha\n",
    "  * GRS test\n",
    "* Tracking portfolios\n",
    "* Hedged portfolios\n",
    "* Alpha investing\n",
    "\n",
    "\n",
    " "
   ]
  },
  {
   "cell_type": "markdown",
   "metadata": {},
   "source": [
    "### Time-Series Alpha Test\n",
    "\n",
    "\n",
    "\n",
    "- Start with a reference portfolio, $R^*$\n",
    "\n",
    "- That is the \"portfolio\" to be beaten\n",
    "\n",
    "- Loosely speaking, you can think as the benchmark\n",
    "\n",
    "- To make it concrete you can think as the market portfolio\n",
    "\n",
    "- But it does NOT need to be\n",
    "\n",
    "- For asset $i$, where asset $i$ can be a portfolio, run the time series regression \n",
    "\n",
    "$$R_{i,t}^e =\\alpha_i+\\beta_{i,M} R_{t}^{*,e}+\\epsilon_i$$\n",
    "\n",
    "- where e denote that these are excess returns, returns in excess of the risk-free rate\n",
    "\n",
    "Test if $\\alpha_i \\neq 0$\n",
    "\n",
    "- It doesn't matter if positive or negative, since you can always go short\n",
    "\n",
    "- YOu basically do a standard t-test \n",
    "\n",
    "$$t=\\frac{\\alpha }{\\sigma(\\alpha)}$$\n",
    "\n",
    "We say\n",
    "\n",
    " - if $|t|\\geq 1.64$ there is a 10% chance that the market is MVE\n",
    " - if $|t|\\geq 1.96$ there is a 5% chance that the market is MVE\n",
    " - if $|t|\\geq 2.1$ there is a 2.5% chance that the market is MVE\n",
    " - if $|t|\\geq 2.6$ there is a 1% chance that the market is MVE\n",
    " \n",
    " \n",
    " * The Time-series regression asks the following question:\n",
    " \n",
    " \n",
    " > Can I replicate  the average return I get in asset i by investing in the reference portfolio?\n",
    " \n",
    " * Having a non-zero alpha DOES NOT mean that you prefer asset i to the reference portfolio!\n",
    " \n",
    " * But it does mean, that you can do better by investing in both assets\n",
    "   - Obviously with a negative weight if the alpha is negative\n",
    "   - and a positive weight if the alpha is positive\n",
    "   \n",
    " * The alpha test literally asks in the reference portfolio is tangency portfolio with respect to the investment opportunity that includes the test asset (the asset in the left of the regression) and the reference portfolio (the asset on the right)\n",
    " \n",
    " * a differet way to put it is that a non-zero alpha means that the asset expands the mean-variance frontier relative to an opportunity set that only has the reference portfolio\n",
    " \n",
    " \n",
    " > Recall that we proved in notebook 4 that if a portfolio is tangency with respect to a set of assets than it must be the case that or any of these assets it must be that\n",
    " \n",
    " $$E[R_i^e]=\\beta_{i,T}E[R^{T,e}]$$\n",
    " \n",
    "where $R^{T,e}$ are the excess returns on the tangency portfolio.\n",
    " \n",
    "Note that the regression alpha test is simply a test of whether this relationship is true\n",
    " \n",
    "To see this note that the regression equation:\n",
    "\n",
    "$$R_{i,t}^e =\\alpha_i+\\beta_{i,M} R_{t}^{*,e}+\\epsilon_i$$\n",
    "\n",
    "Taking expected values\n",
    "\n",
    "$$E[R_{i,t}^e] =\\alpha_i+\\beta_{i,M} E[R_{t}^{*,e}]+E[\\epsilon_i]$$\n",
    "\n",
    "$$E[R_{i,t}^e] =\\alpha_i+\\beta_{i,M} E[R_{t}^{*,e}]$$\n",
    "\n",
    "\n",
    "So the reference portfolio is tangecy if and only if $\\alpha_i=0$!\n",
    "\n",
    "\n"
   ]
  },
  {
   "cell_type": "markdown",
   "metadata": {},
   "source": [
    "> I show that Asset A has alpha with respect to Asset B. Does it mean that an investor should prefer asset A to asset B?"
   ]
  },
  {
   "cell_type": "markdown",
   "metadata": {},
   "source": [
    "### CAPM: Market portfolio is the tangency portfolio\n",
    "\n",
    "* The most used reference portfolio is the market portoflio\n",
    "\n",
    "* So we will do our first alpha test with respect to the market\n",
    "\n",
    " "
   ]
  },
  {
   "cell_type": "code",
   "execution_count": 1,
   "metadata": {},
   "outputs": [],
   "source": [
    "# First we start loading our favourite packages with the names we used to\n",
    "import numpy as np\n",
    "import pandas as pd\n",
    "%matplotlib inline\n",
    "import matplotlib.pyplot as plt\n",
    "# import regression package\n",
    "import statsmodels.api as sm"
   ]
  },
  {
   "cell_type": "markdown",
   "metadata": {},
   "source": [
    "- import market factor as our reference portfolio"
   ]
  },
  {
   "cell_type": "code",
   "execution_count": 2,
   "metadata": {},
   "outputs": [
    {
     "data": {
      "text/html": [
       "<div>\n",
       "<style scoped>\n",
       "    .dataframe tbody tr th:only-of-type {\n",
       "        vertical-align: middle;\n",
       "    }\n",
       "\n",
       "    .dataframe tbody tr th {\n",
       "        vertical-align: top;\n",
       "    }\n",
       "\n",
       "    .dataframe thead th {\n",
       "        text-align: right;\n",
       "    }\n",
       "</style>\n",
       "<table border=\"1\" class=\"dataframe\">\n",
       "  <thead>\n",
       "    <tr style=\"text-align: right;\">\n",
       "      <th></th>\n",
       "      <th>RF</th>\n",
       "      <th>MKT</th>\n",
       "    </tr>\n",
       "    <tr>\n",
       "      <th>Date</th>\n",
       "      <th></th>\n",
       "      <th></th>\n",
       "    </tr>\n",
       "  </thead>\n",
       "  <tbody>\n",
       "    <tr>\n",
       "      <th>1926-07-31</th>\n",
       "      <td>0.0022</td>\n",
       "      <td>0.0318</td>\n",
       "    </tr>\n",
       "    <tr>\n",
       "      <th>1926-08-31</th>\n",
       "      <td>0.0025</td>\n",
       "      <td>0.0289</td>\n",
       "    </tr>\n",
       "    <tr>\n",
       "      <th>1926-09-30</th>\n",
       "      <td>0.0023</td>\n",
       "      <td>0.0059</td>\n",
       "    </tr>\n",
       "    <tr>\n",
       "      <th>1926-10-31</th>\n",
       "      <td>0.0032</td>\n",
       "      <td>-0.0292</td>\n",
       "    </tr>\n",
       "    <tr>\n",
       "      <th>1926-11-30</th>\n",
       "      <td>0.0031</td>\n",
       "      <td>0.0284</td>\n",
       "    </tr>\n",
       "  </tbody>\n",
       "</table>\n",
       "</div>"
      ],
      "text/plain": [
       "                RF     MKT\n",
       "Date                      \n",
       "1926-07-31  0.0022  0.0318\n",
       "1926-08-31  0.0025  0.0289\n",
       "1926-09-30  0.0023  0.0059\n",
       "1926-10-31  0.0032 -0.0292\n",
       "1926-11-30  0.0031  0.0284"
      ]
     },
     "execution_count": 2,
     "metadata": {},
     "output_type": "execute_result"
    }
   ],
   "source": [
    "\n",
    "url = \"https://www.dropbox.com/s/9346pp2iu5prv8s/MonthlyFactors.csv?dl=1\"\n",
    "Factors = pd.read_csv(url,index_col=0, \n",
    "                         parse_dates=True,na_values=-99)\n",
    "# keep only market and RF\n",
    "Factors=Factors.iloc[:,0:2]/100\n",
    "Factors.head()\n",
    "\n"
   ]
  },
  {
   "cell_type": "markdown",
   "metadata": {},
   "source": [
    "- Import our test assets: Value portfolios (Book to Market sorted portfolios) from Ken French website\n",
    "\n",
    "- This is the same tradign strategy that we did across industries but here is done across stocks"
   ]
  },
  {
   "cell_type": "code",
   "execution_count": 3,
   "metadata": {},
   "outputs": [],
   "source": [
    "# import BEME (Book-equity over Market equity) sorted portfolios\n",
    "# BEME 1 has low book to market- > Known as growth stocks (example: Tesla, Amazon, Facebook)\n",
    "\n",
    "# BEME 10 has high book to market -> Known as value stocks ( old firms: utilities, banks, insurance companies)\n",
    "\n",
    "# but it changes....\n",
    "\n",
    "url = \"https://www.dropbox.com/s/gds8ho9rt1imw03/Valueportfolios.csv?dl=1\"\n",
    "parser = lambda date: pd.to_datetime(date,format='%Y%m')\n",
    "Data = pd.read_csv(url,index_col=0, \n",
    "                         parse_dates=True,date_parser=parser,skiprows=23,nrows=1092,na_values=-99.99)\n",
    "\n",
    "\n",
    "# neeed to adjsut the date to end of month convention (Even thugh both returns for a given month are end-of-month to end of month,\n",
    "# when we importer the value portfolios python used as date the first day of the month . To fix that, we will convert it to end of month\n",
    "# It is important to do that before the merge. Why? )\n",
    "Data.index=Data.index+pd.tseries.offsets.MonthEnd()\n",
    "(Data.head())\n",
    "# ready to merge with Market and RF\n",
    "\n",
    "Data=Data/100"
   ]
  },
  {
   "cell_type": "markdown",
   "metadata": {},
   "source": [
    "* merge test assets with factors"
   ]
  },
  {
   "cell_type": "code",
   "execution_count": 4,
   "metadata": {},
   "outputs": [
    {
     "data": {
      "text/html": [
       "<div>\n",
       "<style scoped>\n",
       "    .dataframe tbody tr th:only-of-type {\n",
       "        vertical-align: middle;\n",
       "    }\n",
       "\n",
       "    .dataframe tbody tr th {\n",
       "        vertical-align: top;\n",
       "    }\n",
       "\n",
       "    .dataframe thead th {\n",
       "        text-align: right;\n",
       "    }\n",
       "</style>\n",
       "<table border=\"1\" class=\"dataframe\">\n",
       "  <thead>\n",
       "    <tr style=\"text-align: right;\">\n",
       "      <th></th>\n",
       "      <th>BEME1</th>\n",
       "      <th>BEME2</th>\n",
       "      <th>BEME3</th>\n",
       "      <th>BEME4</th>\n",
       "      <th>BEME5</th>\n",
       "      <th>BEME6</th>\n",
       "      <th>BEME7</th>\n",
       "      <th>BEME8</th>\n",
       "      <th>BEME9</th>\n",
       "      <th>BEME10</th>\n",
       "      <th>RF</th>\n",
       "      <th>MKT</th>\n",
       "    </tr>\n",
       "  </thead>\n",
       "  <tbody>\n",
       "    <tr>\n",
       "      <th>1926-07-31</th>\n",
       "      <td>0.0463</td>\n",
       "      <td>0.0124</td>\n",
       "      <td>0.1140</td>\n",
       "      <td>0.0168</td>\n",
       "      <td>0.0150</td>\n",
       "      <td>0.0209</td>\n",
       "      <td>0.0273</td>\n",
       "      <td>0.0158</td>\n",
       "      <td>0.0063</td>\n",
       "      <td>0.0052</td>\n",
       "      <td>0.0022</td>\n",
       "      <td>0.0318</td>\n",
       "    </tr>\n",
       "    <tr>\n",
       "      <th>1926-08-31</th>\n",
       "      <td>0.0015</td>\n",
       "      <td>0.0218</td>\n",
       "      <td>0.0640</td>\n",
       "      <td>0.0238</td>\n",
       "      <td>0.0158</td>\n",
       "      <td>0.0263</td>\n",
       "      <td>0.0446</td>\n",
       "      <td>0.0494</td>\n",
       "      <td>0.0831</td>\n",
       "      <td>0.0392</td>\n",
       "      <td>0.0025</td>\n",
       "      <td>0.0289</td>\n",
       "    </tr>\n",
       "    <tr>\n",
       "      <th>1926-09-30</th>\n",
       "      <td>-0.0011</td>\n",
       "      <td>-0.0230</td>\n",
       "      <td>0.0632</td>\n",
       "      <td>0.0073</td>\n",
       "      <td>-0.0089</td>\n",
       "      <td>0.0038</td>\n",
       "      <td>-0.0028</td>\n",
       "      <td>0.0017</td>\n",
       "      <td>-0.0216</td>\n",
       "      <td>0.0044</td>\n",
       "      <td>0.0023</td>\n",
       "      <td>0.0059</td>\n",
       "    </tr>\n",
       "    <tr>\n",
       "      <th>1926-10-31</th>\n",
       "      <td>-0.0378</td>\n",
       "      <td>-0.0163</td>\n",
       "      <td>-0.0501</td>\n",
       "      <td>-0.0141</td>\n",
       "      <td>-0.0231</td>\n",
       "      <td>-0.0210</td>\n",
       "      <td>-0.0465</td>\n",
       "      <td>-0.0280</td>\n",
       "      <td>-0.0546</td>\n",
       "      <td>-0.0117</td>\n",
       "      <td>0.0032</td>\n",
       "      <td>-0.0292</td>\n",
       "    </tr>\n",
       "    <tr>\n",
       "      <th>1926-11-30</th>\n",
       "      <td>0.0603</td>\n",
       "      <td>0.0149</td>\n",
       "      <td>0.0111</td>\n",
       "      <td>0.0363</td>\n",
       "      <td>0.0197</td>\n",
       "      <td>0.0180</td>\n",
       "      <td>0.0400</td>\n",
       "      <td>0.0385</td>\n",
       "      <td>0.0277</td>\n",
       "      <td>0.0176</td>\n",
       "      <td>0.0031</td>\n",
       "      <td>0.0284</td>\n",
       "    </tr>\n",
       "  </tbody>\n",
       "</table>\n",
       "</div>"
      ],
      "text/plain": [
       "             BEME1   BEME2   BEME3   BEME4   BEME5   BEME6   BEME7   BEME8  \\\n",
       "1926-07-31  0.0463  0.0124  0.1140  0.0168  0.0150  0.0209  0.0273  0.0158   \n",
       "1926-08-31  0.0015  0.0218  0.0640  0.0238  0.0158  0.0263  0.0446  0.0494   \n",
       "1926-09-30 -0.0011 -0.0230  0.0632  0.0073 -0.0089  0.0038 -0.0028  0.0017   \n",
       "1926-10-31 -0.0378 -0.0163 -0.0501 -0.0141 -0.0231 -0.0210 -0.0465 -0.0280   \n",
       "1926-11-30  0.0603  0.0149  0.0111  0.0363  0.0197  0.0180  0.0400  0.0385   \n",
       "\n",
       "             BEME9  BEME10      RF     MKT  \n",
       "1926-07-31  0.0063  0.0052  0.0022  0.0318  \n",
       "1926-08-31  0.0831  0.0392  0.0025  0.0289  \n",
       "1926-09-30 -0.0216  0.0044  0.0023  0.0059  \n",
       "1926-10-31 -0.0546 -0.0117  0.0032 -0.0292  \n",
       "1926-11-30  0.0277  0.0176  0.0031  0.0284  "
      ]
     },
     "execution_count": 4,
     "metadata": {},
     "output_type": "execute_result"
    }
   ],
   "source": [
    "df=pd.merge(Data,Factors,left_index=True,right_index=True)\n",
    "df.head()"
   ]
  },
  {
   "cell_type": "markdown",
   "metadata": {},
   "source": [
    "* transform in excess returns"
   ]
  },
  {
   "cell_type": "code",
   "execution_count": 5,
   "metadata": {},
   "outputs": [
    {
     "data": {
      "text/html": [
       "<div>\n",
       "<style scoped>\n",
       "    .dataframe tbody tr th:only-of-type {\n",
       "        vertical-align: middle;\n",
       "    }\n",
       "\n",
       "    .dataframe tbody tr th {\n",
       "        vertical-align: top;\n",
       "    }\n",
       "\n",
       "    .dataframe thead th {\n",
       "        text-align: right;\n",
       "    }\n",
       "</style>\n",
       "<table border=\"1\" class=\"dataframe\">\n",
       "  <thead>\n",
       "    <tr style=\"text-align: right;\">\n",
       "      <th></th>\n",
       "      <th>BEME1</th>\n",
       "      <th>BEME2</th>\n",
       "      <th>BEME3</th>\n",
       "      <th>BEME4</th>\n",
       "      <th>BEME5</th>\n",
       "      <th>BEME6</th>\n",
       "      <th>BEME7</th>\n",
       "      <th>BEME8</th>\n",
       "      <th>BEME9</th>\n",
       "      <th>BEME10</th>\n",
       "      <th>MKT</th>\n",
       "    </tr>\n",
       "  </thead>\n",
       "  <tbody>\n",
       "    <tr>\n",
       "      <th>1926-07-31</th>\n",
       "      <td>0.0441</td>\n",
       "      <td>0.0102</td>\n",
       "      <td>0.1118</td>\n",
       "      <td>0.0146</td>\n",
       "      <td>0.0128</td>\n",
       "      <td>0.0187</td>\n",
       "      <td>0.0251</td>\n",
       "      <td>0.0136</td>\n",
       "      <td>0.0041</td>\n",
       "      <td>0.0030</td>\n",
       "      <td>0.0296</td>\n",
       "    </tr>\n",
       "    <tr>\n",
       "      <th>1926-08-31</th>\n",
       "      <td>-0.0010</td>\n",
       "      <td>0.0193</td>\n",
       "      <td>0.0615</td>\n",
       "      <td>0.0213</td>\n",
       "      <td>0.0133</td>\n",
       "      <td>0.0238</td>\n",
       "      <td>0.0421</td>\n",
       "      <td>0.0469</td>\n",
       "      <td>0.0806</td>\n",
       "      <td>0.0367</td>\n",
       "      <td>0.0264</td>\n",
       "    </tr>\n",
       "    <tr>\n",
       "      <th>1926-09-30</th>\n",
       "      <td>-0.0034</td>\n",
       "      <td>-0.0253</td>\n",
       "      <td>0.0609</td>\n",
       "      <td>0.0050</td>\n",
       "      <td>-0.0112</td>\n",
       "      <td>0.0015</td>\n",
       "      <td>-0.0051</td>\n",
       "      <td>-0.0006</td>\n",
       "      <td>-0.0239</td>\n",
       "      <td>0.0021</td>\n",
       "      <td>0.0036</td>\n",
       "    </tr>\n",
       "    <tr>\n",
       "      <th>1926-10-31</th>\n",
       "      <td>-0.0410</td>\n",
       "      <td>-0.0195</td>\n",
       "      <td>-0.0533</td>\n",
       "      <td>-0.0173</td>\n",
       "      <td>-0.0263</td>\n",
       "      <td>-0.0242</td>\n",
       "      <td>-0.0497</td>\n",
       "      <td>-0.0312</td>\n",
       "      <td>-0.0578</td>\n",
       "      <td>-0.0149</td>\n",
       "      <td>-0.0324</td>\n",
       "    </tr>\n",
       "    <tr>\n",
       "      <th>1926-11-30</th>\n",
       "      <td>0.0572</td>\n",
       "      <td>0.0118</td>\n",
       "      <td>0.0080</td>\n",
       "      <td>0.0332</td>\n",
       "      <td>0.0166</td>\n",
       "      <td>0.0149</td>\n",
       "      <td>0.0369</td>\n",
       "      <td>0.0354</td>\n",
       "      <td>0.0246</td>\n",
       "      <td>0.0145</td>\n",
       "      <td>0.0253</td>\n",
       "    </tr>\n",
       "  </tbody>\n",
       "</table>\n",
       "</div>"
      ],
      "text/plain": [
       "             BEME1   BEME2   BEME3   BEME4   BEME5   BEME6   BEME7   BEME8  \\\n",
       "1926-07-31  0.0441  0.0102  0.1118  0.0146  0.0128  0.0187  0.0251  0.0136   \n",
       "1926-08-31 -0.0010  0.0193  0.0615  0.0213  0.0133  0.0238  0.0421  0.0469   \n",
       "1926-09-30 -0.0034 -0.0253  0.0609  0.0050 -0.0112  0.0015 -0.0051 -0.0006   \n",
       "1926-10-31 -0.0410 -0.0195 -0.0533 -0.0173 -0.0263 -0.0242 -0.0497 -0.0312   \n",
       "1926-11-30  0.0572  0.0118  0.0080  0.0332  0.0166  0.0149  0.0369  0.0354   \n",
       "\n",
       "             BEME9  BEME10     MKT  \n",
       "1926-07-31  0.0041  0.0030  0.0296  \n",
       "1926-08-31  0.0806  0.0367  0.0264  \n",
       "1926-09-30 -0.0239  0.0021  0.0036  \n",
       "1926-10-31 -0.0578 -0.0149 -0.0324  \n",
       "1926-11-30  0.0246  0.0145  0.0253  "
      ]
     },
     "execution_count": 5,
     "metadata": {},
     "output_type": "execute_result"
    }
   ],
   "source": [
    "\n",
    "df.iloc[:,0:10]=df.iloc[:,0:10].subtract(df['RF'],axis=0)\n",
    "df.iloc[:,11]=df.iloc[:,11].subtract(df['RF'],axis=0)\n",
    "# take the risk-free rate column out of the database\n",
    "del df['RF']\n",
    "df.head()"
   ]
  },
  {
   "cell_type": "markdown",
   "metadata": {},
   "source": [
    "* Import regression package"
   ]
  },
  {
   "cell_type": "code",
   "execution_count": 6,
   "metadata": {},
   "outputs": [],
   "source": [
    "\n",
    "import statsmodels.api as sm\n"
   ]
  },
  {
   "cell_type": "code",
   "execution_count": 7,
   "metadata": {},
   "outputs": [
    {
     "data": {
      "text/html": [
       "<table class=\"simpletable\">\n",
       "<caption>OLS Regression Results</caption>\n",
       "<tr>\n",
       "  <th>Dep. Variable:</th>         <td>BEME10</td>      <th>  R-squared:         </th> <td>   0.677</td> \n",
       "</tr>\n",
       "<tr>\n",
       "  <th>Model:</th>                   <td>OLS</td>       <th>  Adj. R-squared:    </th> <td>   0.676</td> \n",
       "</tr>\n",
       "<tr>\n",
       "  <th>Method:</th>             <td>Least Squares</td>  <th>  F-statistic:       </th> <td>   1365.</td> \n",
       "</tr>\n",
       "<tr>\n",
       "  <th>Date:</th>             <td>Wed, 09 Oct 2019</td> <th>  Prob (F-statistic):</th> <td>4.64e-162</td>\n",
       "</tr>\n",
       "<tr>\n",
       "  <th>Time:</th>                 <td>12:53:40</td>     <th>  Log-Likelihood:    </th> <td>  1274.4</td> \n",
       "</tr>\n",
       "<tr>\n",
       "  <th>No. Observations:</th>      <td>   654</td>      <th>  AIC:               </th> <td>  -2545.</td> \n",
       "</tr>\n",
       "<tr>\n",
       "  <th>Df Residuals:</th>          <td>   652</td>      <th>  BIC:               </th> <td>  -2536.</td> \n",
       "</tr>\n",
       "<tr>\n",
       "  <th>Df Model:</th>              <td>     1</td>      <th>                     </th>     <td> </td>    \n",
       "</tr>\n",
       "<tr>\n",
       "  <th>Covariance Type:</th>      <td>nonrobust</td>    <th>                     </th>     <td> </td>    \n",
       "</tr>\n",
       "</table>\n",
       "<table class=\"simpletable\">\n",
       "<tr>\n",
       "    <td></td>       <th>coef</th>     <th>std err</th>      <th>t</th>      <th>P>|t|</th>  <th>[0.025</th>    <th>0.975]</th>  \n",
       "</tr>\n",
       "<tr>\n",
       "  <th>const</th> <td>    0.0033</td> <td>    0.001</td> <td>    2.456</td> <td> 0.014</td> <td>    0.001</td> <td>    0.006</td>\n",
       "</tr>\n",
       "<tr>\n",
       "  <th>MKT</th>   <td>    1.1358</td> <td>    0.031</td> <td>   36.950</td> <td> 0.000</td> <td>    1.075</td> <td>    1.196</td>\n",
       "</tr>\n",
       "</table>\n",
       "<table class=\"simpletable\">\n",
       "<tr>\n",
       "  <th>Omnibus:</th>       <td>122.691</td> <th>  Durbin-Watson:     </th> <td>   1.659</td> \n",
       "</tr>\n",
       "<tr>\n",
       "  <th>Prob(Omnibus):</th> <td> 0.000</td>  <th>  Jarque-Bera (JB):  </th> <td> 555.658</td> \n",
       "</tr>\n",
       "<tr>\n",
       "  <th>Skew:</th>          <td> 0.771</td>  <th>  Prob(JB):          </th> <td>2.19e-121</td>\n",
       "</tr>\n",
       "<tr>\n",
       "  <th>Kurtosis:</th>      <td> 7.244</td>  <th>  Cond. No.          </th> <td>    22.8</td> \n",
       "</tr>\n",
       "</table><br/><br/>Warnings:<br/>[1] Standard Errors assume that the covariance matrix of the errors is correctly specified."
      ],
      "text/plain": [
       "<class 'statsmodels.iolib.summary.Summary'>\n",
       "\"\"\"\n",
       "                            OLS Regression Results                            \n",
       "==============================================================================\n",
       "Dep. Variable:                 BEME10   R-squared:                       0.677\n",
       "Model:                            OLS   Adj. R-squared:                  0.676\n",
       "Method:                 Least Squares   F-statistic:                     1365.\n",
       "Date:                Wed, 09 Oct 2019   Prob (F-statistic):          4.64e-162\n",
       "Time:                        12:53:40   Log-Likelihood:                 1274.4\n",
       "No. Observations:                 654   AIC:                            -2545.\n",
       "Df Residuals:                     652   BIC:                            -2536.\n",
       "Df Model:                           1                                         \n",
       "Covariance Type:            nonrobust                                         \n",
       "==============================================================================\n",
       "                 coef    std err          t      P>|t|      [0.025      0.975]\n",
       "------------------------------------------------------------------------------\n",
       "const          0.0033      0.001      2.456      0.014       0.001       0.006\n",
       "MKT            1.1358      0.031     36.950      0.000       1.075       1.196\n",
       "==============================================================================\n",
       "Omnibus:                      122.691   Durbin-Watson:                   1.659\n",
       "Prob(Omnibus):                  0.000   Jarque-Bera (JB):              555.658\n",
       "Skew:                           0.771   Prob(JB):                    2.19e-121\n",
       "Kurtosis:                       7.244   Cond. No.                         22.8\n",
       "==============================================================================\n",
       "\n",
       "Warnings:\n",
       "[1] Standard Errors assume that the covariance matrix of the errors is correctly specified.\n",
       "\"\"\""
      ]
     },
     "execution_count": 7,
     "metadata": {},
     "output_type": "execute_result"
    }
   ],
   "source": [
    "temp=df['1963':'2018'] \n",
    "x= sm.add_constant(temp['MKT'])\n",
    "y= temp['BEME10']\n",
    "results= sm.OLS(y,x).fit()\n",
    "results.summary()"
   ]
  },
  {
   "cell_type": "code",
   "execution_count": 8,
   "metadata": {},
   "outputs": [
    {
     "data": {
      "text/plain": [
       "const    12.000000\n",
       "MKT       0.063508\n",
       "dtype: float64"
      ]
     },
     "execution_count": 8,
     "metadata": {},
     "output_type": "execute_result"
    }
   ],
   "source": [
    "x.mean()*12"
   ]
  },
  {
   "cell_type": "code",
   "execution_count": 9,
   "metadata": {
    "scrolled": false
   },
   "outputs": [],
   "source": [
    "def TSregression(temp):\n",
    "    E=pd.DataFrame(temp.mean())\n",
    "    E.columns=['AvgReturns']\n",
    "    x= sm.add_constant(temp['MKT'])\n",
    "    E['std']=temp.std()\n",
    "    E['alpha']=E['AvgReturns']*0\n",
    "    E['std_e']=E['AvgReturns']*0\n",
    "    E['beta']=E['AvgReturns']*0\n",
    "    E['std_beta']=E['AvgReturns']*0\n",
    "    E['std_alpha']=E['AvgReturns']*0\n",
    "    for portfolios in E.index[0:10]:\n",
    "        y= temp[portfolios]\n",
    "        results= sm.OLS(y,x).fit()\n",
    "        E.at[portfolios,'alpha']=results.params[0]\n",
    "        E.at[portfolios,'beta']=results.params[1]\n",
    "        E.at[portfolios,'std_e']=results.resid.std()\n",
    "        E.at[portfolios,'std_alpha']=results.HC0_se[0]\n",
    "        E.at[portfolios,'std_beta']=results.HC0_se[1]          \n",
    "        E.at[portfolios,'pvalues']=results.pvalues[0] \n",
    "    \n",
    "    E['t-stat']=E['alpha']/E['std_alpha']\n",
    "    E.at['MKT','beta']=1 \n",
    "    return E"
   ]
  },
  {
   "cell_type": "code",
   "execution_count": 10,
   "metadata": {},
   "outputs": [],
   "source": [
    "# Lets select a sample to do our analysis\n",
    "\n",
    "# this is a sample that I know that the value puzzle is strong\n",
    "\n",
    "df1=df['1963':'2008'].copy()"
   ]
  },
  {
   "cell_type": "code",
   "execution_count": 11,
   "metadata": {},
   "outputs": [
    {
     "data": {
      "text/html": [
       "<div>\n",
       "<style scoped>\n",
       "    .dataframe tbody tr th:only-of-type {\n",
       "        vertical-align: middle;\n",
       "    }\n",
       "\n",
       "    .dataframe tbody tr th {\n",
       "        vertical-align: top;\n",
       "    }\n",
       "\n",
       "    .dataframe thead th {\n",
       "        text-align: right;\n",
       "    }\n",
       "</style>\n",
       "<table border=\"1\" class=\"dataframe\">\n",
       "  <thead>\n",
       "    <tr style=\"text-align: right;\">\n",
       "      <th></th>\n",
       "      <th>AvgReturns</th>\n",
       "      <th>std</th>\n",
       "      <th>alpha</th>\n",
       "      <th>std_e</th>\n",
       "      <th>beta</th>\n",
       "      <th>std_beta</th>\n",
       "      <th>std_alpha</th>\n",
       "      <th>pvalues</th>\n",
       "      <th>t-stat</th>\n",
       "    </tr>\n",
       "  </thead>\n",
       "  <tbody>\n",
       "    <tr>\n",
       "      <th>BEME1</th>\n",
       "      <td>0.002633</td>\n",
       "      <td>0.051875</td>\n",
       "      <td>-0.001670</td>\n",
       "      <td>0.018894</td>\n",
       "      <td>1.087229</td>\n",
       "      <td>0.022621</td>\n",
       "      <td>0.000804</td>\n",
       "      <td>0.039237</td>\n",
       "      <td>-2.076055</td>\n",
       "    </tr>\n",
       "    <tr>\n",
       "      <th>BEME2</th>\n",
       "      <td>0.004435</td>\n",
       "      <td>0.047174</td>\n",
       "      <td>0.000406</td>\n",
       "      <td>0.013403</td>\n",
       "      <td>1.017861</td>\n",
       "      <td>0.016841</td>\n",
       "      <td>0.000579</td>\n",
       "      <td>0.478756</td>\n",
       "      <td>0.701379</td>\n",
       "    </tr>\n",
       "    <tr>\n",
       "      <th>BEME3</th>\n",
       "      <td>0.004570</td>\n",
       "      <td>0.046801</td>\n",
       "      <td>0.000606</td>\n",
       "      <td>0.014484</td>\n",
       "      <td>1.001517</td>\n",
       "      <td>0.017918</td>\n",
       "      <td>0.000622</td>\n",
       "      <td>0.328583</td>\n",
       "      <td>0.974186</td>\n",
       "    </tr>\n",
       "    <tr>\n",
       "      <th>BEME4</th>\n",
       "      <td>0.004326</td>\n",
       "      <td>0.046323</td>\n",
       "      <td>0.000506</td>\n",
       "      <td>0.017504</td>\n",
       "      <td>0.965178</td>\n",
       "      <td>0.024910</td>\n",
       "      <td>0.000754</td>\n",
       "      <td>0.499460</td>\n",
       "      <td>0.671199</td>\n",
       "    </tr>\n",
       "    <tr>\n",
       "      <th>BEME5</th>\n",
       "      <td>0.004209</td>\n",
       "      <td>0.043893</td>\n",
       "      <td>0.000684</td>\n",
       "      <td>0.018990</td>\n",
       "      <td>0.890555</td>\n",
       "      <td>0.023632</td>\n",
       "      <td>0.000809</td>\n",
       "      <td>0.399789</td>\n",
       "      <td>0.846065</td>\n",
       "    </tr>\n",
       "    <tr>\n",
       "      <th>BEME6</th>\n",
       "      <td>0.005645</td>\n",
       "      <td>0.042997</td>\n",
       "      <td>0.002258</td>\n",
       "      <td>0.020069</td>\n",
       "      <td>0.855763</td>\n",
       "      <td>0.026951</td>\n",
       "      <td>0.000867</td>\n",
       "      <td>0.008767</td>\n",
       "      <td>2.604779</td>\n",
       "    </tr>\n",
       "    <tr>\n",
       "      <th>BEME7</th>\n",
       "      <td>0.005388</td>\n",
       "      <td>0.045406</td>\n",
       "      <td>0.001837</td>\n",
       "      <td>0.021740</td>\n",
       "      <td>0.897081</td>\n",
       "      <td>0.035156</td>\n",
       "      <td>0.000950</td>\n",
       "      <td>0.048669</td>\n",
       "      <td>1.933668</td>\n",
       "    </tr>\n",
       "    <tr>\n",
       "      <th>BEME8</th>\n",
       "      <td>0.006524</td>\n",
       "      <td>0.044972</td>\n",
       "      <td>0.003033</td>\n",
       "      <td>0.022062</td>\n",
       "      <td>0.881915</td>\n",
       "      <td>0.033259</td>\n",
       "      <td>0.000960</td>\n",
       "      <td>0.001384</td>\n",
       "      <td>3.159839</td>\n",
       "    </tr>\n",
       "    <tr>\n",
       "      <th>BEME9</th>\n",
       "      <td>0.007893</td>\n",
       "      <td>0.047845</td>\n",
       "      <td>0.004194</td>\n",
       "      <td>0.023751</td>\n",
       "      <td>0.934688</td>\n",
       "      <td>0.033279</td>\n",
       "      <td>0.001012</td>\n",
       "      <td>0.000042</td>\n",
       "      <td>4.142106</td>\n",
       "    </tr>\n",
       "    <tr>\n",
       "      <th>BEME10</th>\n",
       "      <td>0.008723</td>\n",
       "      <td>0.056422</td>\n",
       "      <td>0.004544</td>\n",
       "      <td>0.031342</td>\n",
       "      <td>1.055797</td>\n",
       "      <td>0.045357</td>\n",
       "      <td>0.001342</td>\n",
       "      <td>0.000749</td>\n",
       "      <td>3.386714</td>\n",
       "    </tr>\n",
       "    <tr>\n",
       "      <th>MKT</th>\n",
       "      <td>0.003958</td>\n",
       "      <td>0.044436</td>\n",
       "      <td>0.000000</td>\n",
       "      <td>0.000000</td>\n",
       "      <td>1.000000</td>\n",
       "      <td>0.000000</td>\n",
       "      <td>0.000000</td>\n",
       "      <td>NaN</td>\n",
       "      <td>NaN</td>\n",
       "    </tr>\n",
       "  </tbody>\n",
       "</table>\n",
       "</div>"
      ],
      "text/plain": [
       "        AvgReturns       std     alpha     std_e      beta  std_beta  \\\n",
       "BEME1     0.002633  0.051875 -0.001670  0.018894  1.087229  0.022621   \n",
       "BEME2     0.004435  0.047174  0.000406  0.013403  1.017861  0.016841   \n",
       "BEME3     0.004570  0.046801  0.000606  0.014484  1.001517  0.017918   \n",
       "BEME4     0.004326  0.046323  0.000506  0.017504  0.965178  0.024910   \n",
       "BEME5     0.004209  0.043893  0.000684  0.018990  0.890555  0.023632   \n",
       "BEME6     0.005645  0.042997  0.002258  0.020069  0.855763  0.026951   \n",
       "BEME7     0.005388  0.045406  0.001837  0.021740  0.897081  0.035156   \n",
       "BEME8     0.006524  0.044972  0.003033  0.022062  0.881915  0.033259   \n",
       "BEME9     0.007893  0.047845  0.004194  0.023751  0.934688  0.033279   \n",
       "BEME10    0.008723  0.056422  0.004544  0.031342  1.055797  0.045357   \n",
       "MKT       0.003958  0.044436  0.000000  0.000000  1.000000  0.000000   \n",
       "\n",
       "        std_alpha   pvalues    t-stat  \n",
       "BEME1    0.000804  0.039237 -2.076055  \n",
       "BEME2    0.000579  0.478756  0.701379  \n",
       "BEME3    0.000622  0.328583  0.974186  \n",
       "BEME4    0.000754  0.499460  0.671199  \n",
       "BEME5    0.000809  0.399789  0.846065  \n",
       "BEME6    0.000867  0.008767  2.604779  \n",
       "BEME7    0.000950  0.048669  1.933668  \n",
       "BEME8    0.000960  0.001384  3.159839  \n",
       "BEME9    0.001012  0.000042  4.142106  \n",
       "BEME10   0.001342  0.000749  3.386714  \n",
       "MKT      0.000000       NaN       NaN  "
      ]
     },
     "execution_count": 11,
     "metadata": {},
     "output_type": "execute_result"
    }
   ],
   "source": [
    "\n",
    "TSresults=TSregression(df1)\n",
    "TSresults"
   ]
  },
  {
   "cell_type": "code",
   "execution_count": 12,
   "metadata": {},
   "outputs": [
    {
     "data": {
      "text/plain": [
       "<matplotlib.axes._subplots.AxesSubplot at 0x244b30412b0>"
      ]
     },
     "execution_count": 12,
     "metadata": {},
     "output_type": "execute_result"
    },
    {
     "data": {
      "image/png": "[encoded data removed]",
      "text/plain": [
       "<Figure size 432x288 with 1 Axes>"
      ]
     },
     "metadata": {},
     "output_type": "display_data"
    }
   ],
   "source": [
    "TSresults.plot.scatter(x='beta',y='AvgReturns')"
   ]
  },
  {
   "cell_type": "markdown",
   "metadata": {},
   "source": [
    "> How should this plot look like if the Market was tangency as predicted by the CAPM?\n",
    "\n",
    "> Is the market likely to be tangency?\n",
    "\n",
    "* The value strategy is interesting not because value stocks have higher expected returns\n",
    "\n",
    "* The Value strategy in interesting because these expected returns do not line up with market betas!\n",
    "\n",
    "* And therefore, an investor that only holds the market can benefitr by tilting his portfolio twoards value stocks\n",
    "\n",
    "* BOOK to MARKET sorted portfolios risk-return relation is not explained by the CAPM\n",
    "\n",
    "1. Value portfolios have very large alphas with respect to the market portfolio.\n",
    "    - Portfolio 9 rejects the CAPM with a confidence of more than 99.99%\n",
    "2. A long-short strategy is likely to blow the CAPM out of the water even more strongly\n",
    "    - Value and growth portfolios have similar betas but very different returns!\n",
    "    - One can use the growth portfolio to hedge market exposure cheaply since it has high beta but low returns!"
   ]
  },
  {
   "cell_type": "markdown",
   "metadata": {},
   "source": [
    "* The \"Value\" minus \"growth\" strategy:"
   ]
  },
  {
   "cell_type": "code",
   "execution_count": 13,
   "metadata": {},
   "outputs": [
    {
     "data": {
      "text/html": [
       "<table class=\"simpletable\">\n",
       "<caption>OLS Regression Results</caption>\n",
       "<tr>\n",
       "  <th>Dep. Variable:</th>            <td>y</td>        <th>  R-squared:         </th> <td>   0.001</td>\n",
       "</tr>\n",
       "<tr>\n",
       "  <th>Model:</th>                   <td>OLS</td>       <th>  Adj. R-squared:    </th> <td>  -0.001</td>\n",
       "</tr>\n",
       "<tr>\n",
       "  <th>Method:</th>             <td>Least Squares</td>  <th>  F-statistic:       </th> <td>  0.5501</td>\n",
       "</tr>\n",
       "<tr>\n",
       "  <th>Date:</th>             <td>Wed, 09 Oct 2019</td> <th>  Prob (F-statistic):</th>  <td> 0.459</td> \n",
       "</tr>\n",
       "<tr>\n",
       "  <th>Time:</th>                 <td>12:53:41</td>     <th>  Log-Likelihood:    </th> <td>  939.41</td>\n",
       "</tr>\n",
       "<tr>\n",
       "  <th>No. Observations:</th>      <td>   552</td>      <th>  AIC:               </th> <td>  -1875.</td>\n",
       "</tr>\n",
       "<tr>\n",
       "  <th>Df Residuals:</th>          <td>   550</td>      <th>  BIC:               </th> <td>  -1866.</td>\n",
       "</tr>\n",
       "<tr>\n",
       "  <th>Df Model:</th>              <td>     1</td>      <th>                     </th>     <td> </td>   \n",
       "</tr>\n",
       "<tr>\n",
       "  <th>Covariance Type:</th>      <td>nonrobust</td>    <th>                     </th>     <td> </td>   \n",
       "</tr>\n",
       "</table>\n",
       "<table class=\"simpletable\">\n",
       "<tr>\n",
       "    <td></td>       <th>coef</th>     <th>std err</th>      <th>t</th>      <th>P>|t|</th>  <th>[0.025</th>    <th>0.975]</th>  \n",
       "</tr>\n",
       "<tr>\n",
       "  <th>const</th> <td>    0.0062</td> <td>    0.002</td> <td>    3.290</td> <td> 0.001</td> <td>    0.003</td> <td>    0.010</td>\n",
       "</tr>\n",
       "<tr>\n",
       "  <th>MKT</th>   <td>   -0.0314</td> <td>    0.042</td> <td>   -0.742</td> <td> 0.459</td> <td>   -0.115</td> <td>    0.052</td>\n",
       "</tr>\n",
       "</table>\n",
       "<table class=\"simpletable\">\n",
       "<tr>\n",
       "  <th>Omnibus:</th>       <td>32.868</td> <th>  Durbin-Watson:     </th> <td>   1.653</td>\n",
       "</tr>\n",
       "<tr>\n",
       "  <th>Prob(Omnibus):</th> <td> 0.000</td> <th>  Jarque-Bera (JB):  </th> <td>  57.773</td>\n",
       "</tr>\n",
       "<tr>\n",
       "  <th>Skew:</th>          <td> 0.405</td> <th>  Prob(JB):          </th> <td>2.85e-13</td>\n",
       "</tr>\n",
       "<tr>\n",
       "  <th>Kurtosis:</th>      <td> 4.363</td> <th>  Cond. No.          </th> <td>    22.5</td>\n",
       "</tr>\n",
       "</table><br/><br/>Warnings:<br/>[1] Standard Errors assume that the covariance matrix of the errors is correctly specified."
      ],
      "text/plain": [
       "<class 'statsmodels.iolib.summary.Summary'>\n",
       "\"\"\"\n",
       "                            OLS Regression Results                            \n",
       "==============================================================================\n",
       "Dep. Variable:                      y   R-squared:                       0.001\n",
       "Model:                            OLS   Adj. R-squared:                 -0.001\n",
       "Method:                 Least Squares   F-statistic:                    0.5501\n",
       "Date:                Wed, 09 Oct 2019   Prob (F-statistic):              0.459\n",
       "Time:                        12:53:41   Log-Likelihood:                 939.41\n",
       "No. Observations:                 552   AIC:                            -1875.\n",
       "Df Residuals:                     550   BIC:                            -1866.\n",
       "Df Model:                           1                                         \n",
       "Covariance Type:            nonrobust                                         \n",
       "==============================================================================\n",
       "                 coef    std err          t      P>|t|      [0.025      0.975]\n",
       "------------------------------------------------------------------------------\n",
       "const          0.0062      0.002      3.290      0.001       0.003       0.010\n",
       "MKT           -0.0314      0.042     -0.742      0.459      -0.115       0.052\n",
       "==============================================================================\n",
       "Omnibus:                       32.868   Durbin-Watson:                   1.653\n",
       "Prob(Omnibus):                  0.000   Jarque-Bera (JB):               57.773\n",
       "Skew:                           0.405   Prob(JB):                     2.85e-13\n",
       "Kurtosis:                       4.363   Cond. No.                         22.5\n",
       "==============================================================================\n",
       "\n",
       "Warnings:\n",
       "[1] Standard Errors assume that the covariance matrix of the errors is correctly specified.\n",
       "\"\"\""
      ]
     },
     "execution_count": 13,
     "metadata": {},
     "output_type": "execute_result"
    }
   ],
   "source": [
    "x= sm.add_constant(df1['MKT'])\n",
    "y= df1['BEME10']-df1['BEME1']\n",
    "results= sm.OLS(y,x).fit()\n",
    "results.summary()"
   ]
  },
  {
   "cell_type": "code",
   "execution_count": 14,
   "metadata": {},
   "outputs": [
    {
     "name": "stdout",
     "output_type": "stream",
     "text": [
      "average returns\n",
      "[0.07307826086956516, 0.07880659340659345]\n",
      "Sharpe\n",
      "[0.47744199990298714, 0.3085380171502428]\n",
      "correlation\n",
      "-0.03161039631597113\n"
     ]
    }
   ],
   "source": [
    "y= df1.BEME10-df1.BEME1\n",
    "print('average returns')\n",
    "print([y.mean()*12,df.MKT.mean()*12])\n",
    "print('Sharpe')\n",
    "print([y.mean()/y.std()*12**0.5,df1.MKT.mean()/df1.MKT.std()*12**0.5])\n",
    "print('correlation')\n",
    "print(np.corrcoef(y,df1.MKT)[1,0])"
   ]
  },
  {
   "cell_type": "markdown",
   "metadata": {},
   "source": [
    "### Economic Magnitudes\n",
    "\n",
    "- How large is the failure of the CAPM?\n",
    "- How much better can I do by trading value?"
   ]
  },
  {
   "cell_type": "code",
   "execution_count": 15,
   "metadata": {},
   "outputs": [
    {
     "data": {
      "text/html": [
       "<div>\n",
       "<style scoped>\n",
       "    .dataframe tbody tr th:only-of-type {\n",
       "        vertical-align: middle;\n",
       "    }\n",
       "\n",
       "    .dataframe tbody tr th {\n",
       "        vertical-align: top;\n",
       "    }\n",
       "\n",
       "    .dataframe thead th {\n",
       "        text-align: right;\n",
       "    }\n",
       "</style>\n",
       "<table border=\"1\" class=\"dataframe\">\n",
       "  <thead>\n",
       "    <tr style=\"text-align: right;\">\n",
       "      <th></th>\n",
       "      <th>AvgReturns</th>\n",
       "      <th>std</th>\n",
       "      <th>alpha</th>\n",
       "      <th>std_e</th>\n",
       "      <th>beta</th>\n",
       "      <th>std_beta</th>\n",
       "      <th>std_alpha</th>\n",
       "      <th>pvalues</th>\n",
       "      <th>t-stat</th>\n",
       "    </tr>\n",
       "  </thead>\n",
       "  <tbody>\n",
       "    <tr>\n",
       "      <th>MKT</th>\n",
       "      <td>0.003958</td>\n",
       "      <td>0.044436</td>\n",
       "      <td>0.000000</td>\n",
       "      <td>0.000000</td>\n",
       "      <td>1.000000</td>\n",
       "      <td>0.000000</td>\n",
       "      <td>0.000000</td>\n",
       "      <td>NaN</td>\n",
       "      <td>NaN</td>\n",
       "    </tr>\n",
       "    <tr>\n",
       "      <th>BEME10</th>\n",
       "      <td>0.008723</td>\n",
       "      <td>0.056422</td>\n",
       "      <td>0.004544</td>\n",
       "      <td>0.031342</td>\n",
       "      <td>1.055797</td>\n",
       "      <td>0.045357</td>\n",
       "      <td>0.001342</td>\n",
       "      <td>0.000749</td>\n",
       "      <td>3.386714</td>\n",
       "    </tr>\n",
       "  </tbody>\n",
       "</table>\n",
       "</div>"
      ],
      "text/plain": [
       "        AvgReturns       std     alpha     std_e      beta  std_beta  \\\n",
       "MKT       0.003958  0.044436  0.000000  0.000000  1.000000  0.000000   \n",
       "BEME10    0.008723  0.056422  0.004544  0.031342  1.055797  0.045357   \n",
       "\n",
       "        std_alpha   pvalues    t-stat  \n",
       "MKT      0.000000       NaN       NaN  \n",
       "BEME10   0.001342  0.000749  3.386714  "
      ]
     },
     "execution_count": 15,
     "metadata": {},
     "output_type": "execute_result"
    }
   ],
   "source": [
    "TSresults.loc[['MKT','BEME10'],:]"
   ]
  },
  {
   "cell_type": "markdown",
   "metadata": {},
   "source": [
    "A decomposition\n",
    "\n",
    "$$average(R_{BEME10,t})=\\beta*average(R_{Mkt})+\\alpha$$"
   ]
  },
  {
   "cell_type": "code",
   "execution_count": 16,
   "metadata": {},
   "outputs": [
    {
     "name": "stdout",
     "output_type": "stream",
     "text": [
      "[0.05014345010963228, 0.054530462933846]\n",
      "[0.004544205244487167, 0.003957789855072465]\n"
     ]
    }
   ],
   "source": [
    "print([TSresults.loc['BEME10','beta']*TSresults.loc['MKT','AvgReturns']*12,TSresults.loc['BEME10','alpha']*12])\n",
    "\n",
    "#print([TSresults.loc['BEME10','beta']*TSresults.loc['MKT','AvgReturns']/TSresults.loc['BEME10','AvgReturns']\\\n",
    "#       ,TSresults.loc['BEME10','alpha']]/TSresults.loc['BEME10','AvgReturns'])\n",
    "\n",
    "print([TSresults.loc['BEME10','alpha'],TSresults.loc['MKT','AvgReturns']])"
   ]
  },
  {
   "cell_type": "markdown",
   "metadata": {},
   "source": [
    "1. alpha is a large fraction of the market risk premium\n",
    "\n",
    "2. Alpha is a large fraction of the value portfolio overall risk premium\n"
   ]
  },
  {
   "cell_type": "code",
   "execution_count": 17,
   "metadata": {
    "scrolled": true
   },
   "outputs": [
    {
     "data": {
      "text/plain": [
       "array([0.53555305, 0.30853802, 0.50224566])"
      ]
     },
     "execution_count": 17,
     "metadata": {},
     "output_type": "execute_result"
    }
   ],
   "source": [
    "np.array([TSresults.loc['BEME10',:].AvgReturns/TSresults.loc['BEME10','std'],\\\n",
    " TSresults.loc['MKT',:].AvgReturns/TSresults.loc['MKT','std'],\\\n",
    "         TSresults.loc['BEME10',:].alpha/TSresults.loc['BEME10',:].std_e])*12**0.5"
   ]
  },
  {
   "cell_type": "markdown",
   "metadata": {},
   "source": [
    "2. Sharpe ratio of the orthogonal component larger than the market sharpe ratio\n",
    "\n",
    "3. Own Sharpe ratio higher than the market \n",
    "\n",
    "Rejection is economically large\n",
    "\n",
    "A Mean Variance Investor (without other risky income beyond dividends from stocks) can benefit alot by deviating from the market portfolio\n",
    "\n",
    "How much better exactly?"
   ]
  },
  {
   "cell_type": "markdown",
   "metadata": {},
   "source": [
    "# Alpha Investing\n",
    "\n",
    "\n",
    "\n",
    "1. Tracking portfolios\n",
    "2. Hedged portfolio or portable alpha portfolio\n",
    "3. Appraisal ratio can be recovered from the t-stat\n",
    "4. Optimal portfolio combination of alpha and market\n",
    "\n",
    "\n"
   ]
  },
  {
   "cell_type": "code",
   "execution_count": 18,
   "metadata": {},
   "outputs": [
    {
     "data": {
      "text/html": [
       "<div>\n",
       "<style scoped>\n",
       "    .dataframe tbody tr th:only-of-type {\n",
       "        vertical-align: middle;\n",
       "    }\n",
       "\n",
       "    .dataframe tbody tr th {\n",
       "        vertical-align: top;\n",
       "    }\n",
       "\n",
       "    .dataframe thead th {\n",
       "        text-align: right;\n",
       "    }\n",
       "</style>\n",
       "<table border=\"1\" class=\"dataframe\">\n",
       "  <thead>\n",
       "    <tr style=\"text-align: right;\">\n",
       "      <th></th>\n",
       "      <th>AvgReturns</th>\n",
       "      <th>std</th>\n",
       "      <th>alpha</th>\n",
       "      <th>std_e</th>\n",
       "      <th>beta</th>\n",
       "      <th>std_beta</th>\n",
       "      <th>std_alpha</th>\n",
       "      <th>pvalues</th>\n",
       "      <th>t-stat</th>\n",
       "    </tr>\n",
       "  </thead>\n",
       "  <tbody>\n",
       "    <tr>\n",
       "      <th>BEME1</th>\n",
       "      <td>0.002633</td>\n",
       "      <td>0.051875</td>\n",
       "      <td>-0.001670</td>\n",
       "      <td>0.018894</td>\n",
       "      <td>1.087229</td>\n",
       "      <td>0.022621</td>\n",
       "      <td>0.000804</td>\n",
       "      <td>0.039237</td>\n",
       "      <td>-2.076055</td>\n",
       "    </tr>\n",
       "    <tr>\n",
       "      <th>BEME2</th>\n",
       "      <td>0.004435</td>\n",
       "      <td>0.047174</td>\n",
       "      <td>0.000406</td>\n",
       "      <td>0.013403</td>\n",
       "      <td>1.017861</td>\n",
       "      <td>0.016841</td>\n",
       "      <td>0.000579</td>\n",
       "      <td>0.478756</td>\n",
       "      <td>0.701379</td>\n",
       "    </tr>\n",
       "    <tr>\n",
       "      <th>BEME3</th>\n",
       "      <td>0.004570</td>\n",
       "      <td>0.046801</td>\n",
       "      <td>0.000606</td>\n",
       "      <td>0.014484</td>\n",
       "      <td>1.001517</td>\n",
       "      <td>0.017918</td>\n",
       "      <td>0.000622</td>\n",
       "      <td>0.328583</td>\n",
       "      <td>0.974186</td>\n",
       "    </tr>\n",
       "    <tr>\n",
       "      <th>BEME4</th>\n",
       "      <td>0.004326</td>\n",
       "      <td>0.046323</td>\n",
       "      <td>0.000506</td>\n",
       "      <td>0.017504</td>\n",
       "      <td>0.965178</td>\n",
       "      <td>0.024910</td>\n",
       "      <td>0.000754</td>\n",
       "      <td>0.499460</td>\n",
       "      <td>0.671199</td>\n",
       "    </tr>\n",
       "    <tr>\n",
       "      <th>BEME5</th>\n",
       "      <td>0.004209</td>\n",
       "      <td>0.043893</td>\n",
       "      <td>0.000684</td>\n",
       "      <td>0.018990</td>\n",
       "      <td>0.890555</td>\n",
       "      <td>0.023632</td>\n",
       "      <td>0.000809</td>\n",
       "      <td>0.399789</td>\n",
       "      <td>0.846065</td>\n",
       "    </tr>\n",
       "    <tr>\n",
       "      <th>BEME6</th>\n",
       "      <td>0.005645</td>\n",
       "      <td>0.042997</td>\n",
       "      <td>0.002258</td>\n",
       "      <td>0.020069</td>\n",
       "      <td>0.855763</td>\n",
       "      <td>0.026951</td>\n",
       "      <td>0.000867</td>\n",
       "      <td>0.008767</td>\n",
       "      <td>2.604779</td>\n",
       "    </tr>\n",
       "    <tr>\n",
       "      <th>BEME7</th>\n",
       "      <td>0.005388</td>\n",
       "      <td>0.045406</td>\n",
       "      <td>0.001837</td>\n",
       "      <td>0.021740</td>\n",
       "      <td>0.897081</td>\n",
       "      <td>0.035156</td>\n",
       "      <td>0.000950</td>\n",
       "      <td>0.048669</td>\n",
       "      <td>1.933668</td>\n",
       "    </tr>\n",
       "    <tr>\n",
       "      <th>BEME8</th>\n",
       "      <td>0.006524</td>\n",
       "      <td>0.044972</td>\n",
       "      <td>0.003033</td>\n",
       "      <td>0.022062</td>\n",
       "      <td>0.881915</td>\n",
       "      <td>0.033259</td>\n",
       "      <td>0.000960</td>\n",
       "      <td>0.001384</td>\n",
       "      <td>3.159839</td>\n",
       "    </tr>\n",
       "    <tr>\n",
       "      <th>BEME9</th>\n",
       "      <td>0.007893</td>\n",
       "      <td>0.047845</td>\n",
       "      <td>0.004194</td>\n",
       "      <td>0.023751</td>\n",
       "      <td>0.934688</td>\n",
       "      <td>0.033279</td>\n",
       "      <td>0.001012</td>\n",
       "      <td>0.000042</td>\n",
       "      <td>4.142106</td>\n",
       "    </tr>\n",
       "    <tr>\n",
       "      <th>BEME10</th>\n",
       "      <td>0.008723</td>\n",
       "      <td>0.056422</td>\n",
       "      <td>0.004544</td>\n",
       "      <td>0.031342</td>\n",
       "      <td>1.055797</td>\n",
       "      <td>0.045357</td>\n",
       "      <td>0.001342</td>\n",
       "      <td>0.000749</td>\n",
       "      <td>3.386714</td>\n",
       "    </tr>\n",
       "    <tr>\n",
       "      <th>MKT</th>\n",
       "      <td>0.003958</td>\n",
       "      <td>0.044436</td>\n",
       "      <td>0.000000</td>\n",
       "      <td>0.000000</td>\n",
       "      <td>1.000000</td>\n",
       "      <td>0.000000</td>\n",
       "      <td>0.000000</td>\n",
       "      <td>NaN</td>\n",
       "      <td>NaN</td>\n",
       "    </tr>\n",
       "  </tbody>\n",
       "</table>\n",
       "</div>"
      ],
      "text/plain": [
       "        AvgReturns       std     alpha     std_e      beta  std_beta  \\\n",
       "BEME1     0.002633  0.051875 -0.001670  0.018894  1.087229  0.022621   \n",
       "BEME2     0.004435  0.047174  0.000406  0.013403  1.017861  0.016841   \n",
       "BEME3     0.004570  0.046801  0.000606  0.014484  1.001517  0.017918   \n",
       "BEME4     0.004326  0.046323  0.000506  0.017504  0.965178  0.024910   \n",
       "BEME5     0.004209  0.043893  0.000684  0.018990  0.890555  0.023632   \n",
       "BEME6     0.005645  0.042997  0.002258  0.020069  0.855763  0.026951   \n",
       "BEME7     0.005388  0.045406  0.001837  0.021740  0.897081  0.035156   \n",
       "BEME8     0.006524  0.044972  0.003033  0.022062  0.881915  0.033259   \n",
       "BEME9     0.007893  0.047845  0.004194  0.023751  0.934688  0.033279   \n",
       "BEME10    0.008723  0.056422  0.004544  0.031342  1.055797  0.045357   \n",
       "MKT       0.003958  0.044436  0.000000  0.000000  1.000000  0.000000   \n",
       "\n",
       "        std_alpha   pvalues    t-stat  \n",
       "BEME1    0.000804  0.039237 -2.076055  \n",
       "BEME2    0.000579  0.478756  0.701379  \n",
       "BEME3    0.000622  0.328583  0.974186  \n",
       "BEME4    0.000754  0.499460  0.671199  \n",
       "BEME5    0.000809  0.399789  0.846065  \n",
       "BEME6    0.000867  0.008767  2.604779  \n",
       "BEME7    0.000950  0.048669  1.933668  \n",
       "BEME8    0.000960  0.001384  3.159839  \n",
       "BEME9    0.001012  0.000042  4.142106  \n",
       "BEME10   0.001342  0.000749  3.386714  \n",
       "MKT      0.000000       NaN       NaN  "
      ]
     },
     "execution_count": 18,
     "metadata": {},
     "output_type": "execute_result"
    }
   ],
   "source": [
    "TSresults"
   ]
  },
  {
   "cell_type": "markdown",
   "metadata": {},
   "source": [
    "### Tracking portfolios\n",
    "\n",
    "Are the portfolios that use a set of factors to track the returns on an asset.\n",
    "\n",
    "It can be used as way to construct hedges for corporations, hedges for trading strategies, or ways to define a benchmark for an active management.\n",
    "\n",
    "It is used to construct what people in the industry calls \"portable alpha\", because it allows one to separate the alpha of the factor exposure of a trading strategy\n",
    "\n",
    "The idea of the tracking portoflio is to track the component of an asset return that can be obtained by investing in a simple traded factor. For now, this means the market portfolio\n",
    "\n",
    "How to do it?\n",
    "\n",
    "For a given trading strategy consider the following relation\n",
    "\n",
    "$$R^e_i=\\alpha_i+\\beta_iR^{MKT}+\\epsilon_i, $$\n",
    "\n",
    "with $var(\\epsilon_i)=\\sigma_e^2$\n",
    "\n",
    "the i Tracking portfolio is $\\beta_iW^{MKT}$, where $W^{MKT}$ is the vector of weights of the market portfolio.\n",
    "\n",
    "of if one is trading directly on the total market portfolio as an asset, the tracking portfolio weight on the market portfolio asset is simply $\\beta_i$\n"
   ]
  },
  {
   "cell_type": "code",
   "execution_count": 19,
   "metadata": {},
   "outputs": [
    {
     "data": {
      "text/plain": [
       "1.055796541879015"
      ]
     },
     "execution_count": 19,
     "metadata": {},
     "output_type": "execute_result"
    }
   ],
   "source": [
    "TSresults.loc['BEME10','beta']"
   ]
  },
  {
   "cell_type": "code",
   "execution_count": 20,
   "metadata": {
    "scrolled": true
   },
   "outputs": [
    {
     "data": {
      "text/plain": [
       "<matplotlib.collections.PathCollection at 0x244b32870b8>"
      ]
     },
     "execution_count": 20,
     "metadata": {},
     "output_type": "execute_result"
    },
    {
     "data": {
      "image/png": "[encoded data removed]",
      "text/plain": [
       "<Figure size 432x288 with 1 Axes>"
      ]
     },
     "metadata": {},
     "output_type": "display_data"
    }
   ],
   "source": [
    "# Returns on the tracking portfolio\n",
    "\n",
    "Tracking=df1['MKT']*TSresults.loc['BEME10','beta']\n",
    "\n",
    "\n",
    "# (Tracking/100+1).cumprod().plot()\n",
    "# (Data['BEME10']/100+1).cumprod().plot()\n",
    "plt.scatter(x=df1['BEME10'],y=df1['BEME10'])\n",
    "plt.scatter(x=df1['BEME10'],y=Tracking)"
   ]
  },
  {
   "cell_type": "markdown",
   "metadata": {},
   "source": [
    "2.The Hedged strategy return is (also called portable alpha)\n",
    "\n",
    "$$R^{hedged}_i=R^e_i-\\beta_iR^{MKT}$$\n",
    "\n",
    "where this portoflio can be constructed simply by $W^i-\\beta^iW^{MKT}$, the weights of the trading strategy minus the tracking portfolio weights. Thik of the excess returns taking out risk-free rate effects and the hedged portfolio taking out market factor effects\n",
    "\n",
    "a few observations\n",
    "\n",
    "- the mean return of the hedge portfolios is just the Time series alpha!\n",
    "\n",
    "- the vol of the strategy is the vol of the residuals of the Time series regression\n",
    "\n",
    "- If you run a regression on the market you will see that the hedged portfolios have $\\beta=0$. This is by construction That is the reason sometimes people call these portfolios \"Pure alpha\" or a Bridgwater calls it, \"Portable alpha\"\n",
    "\n",
    "- By construction, becuase we hedged market risk, The entire SR is enhancing the MV frontier relative to the CAPM\n"
   ]
  },
  {
   "cell_type": "code",
   "execution_count": 21,
   "metadata": {
    "scrolled": true
   },
   "outputs": [
    {
     "data": {
      "text/plain": [
       "<matplotlib.axes._subplots.AxesSubplot at 0x244b32b0550>"
      ]
     },
     "execution_count": 21,
     "metadata": {},
     "output_type": "execute_result"
    },
    {
     "data": {
      "image/png": "[encoded data removed]",
      "text/plain": [
       "<Figure size 432x288 with 1 Axes>"
      ]
     },
     "metadata": {},
     "output_type": "display_data"
    }
   ],
   "source": [
    "# Returns on the hedged portfolio\n",
    "# portfolio - tracking portfoloio\n",
    "\n",
    "Hedged=df1.BEME10.subtract(Tracking,axis=0)\n",
    "(Hedged+1).cumprod().plot()"
   ]
  },
  {
   "cell_type": "code",
   "execution_count": 22,
   "metadata": {
    "scrolled": false
   },
   "outputs": [
    {
     "name": "stdout",
     "output_type": "stream",
     "text": [
      "hedge portfolio excess returns\n",
      "0.05453046293384607\n",
      "alpha of unhedge portfolio\n",
      "0.054530462933846\n"
     ]
    }
   ],
   "source": [
    "print('hedge portfolio excess returns')\n",
    "print(Hedged.mean()*12)\n",
    "print('alpha of unhedge portfolio')\n",
    "print(TSresults.loc['BEME10','alpha']*12)\n"
   ]
  },
  {
   "cell_type": "markdown",
   "metadata": {},
   "source": [
    "3.Appraisal is the sharpe ratio on the hedged portfolio\n",
    "\n",
    "$$Appraisal=\\alpha_i/\\sigma_i=E[R^{Hedged}]/\\sigma(R^{Hedged})$$\n",
    "\n"
   ]
  },
  {
   "cell_type": "code",
   "execution_count": 23,
   "metadata": {},
   "outputs": [
    {
     "name": "stdout",
     "output_type": "stream",
     "text": [
      "0.14498583207325186\n",
      "0.14498583207325166\n"
     ]
    }
   ],
   "source": [
    "# Aprraisal ratio is the sharpe ratio of hedged portfolio\n",
    "\n",
    "# sharpe ratio of the asset after you purge of market exposure\n",
    "\n",
    "print(Hedged.mean()/Hedged.std())\n",
    "\n",
    "print(TSresults.loc['BEME10','alpha']/TSresults.loc['BEME10','std_e'])"
   ]
  },
  {
   "cell_type": "markdown",
   "metadata": {},
   "source": [
    "There is a tight link between t-stats of time-series regressions and appraisal ratios\n",
    "\n",
    "$$Appraisal=\\alpha_i/\\sigma_i$$\n",
    "\n",
    "Note that $\\sigma(\\alpha)=\\sigma(\\epsilon_i)/\\sqrt{T}$, therefore\n",
    "\n",
    "$$Appraisal=\\frac{\\alpha_i}{\\sigma(\\alpha)\\sqrt{T}}=\\frac{T_{stat}}{\\sqrt{T}}$$"
   ]
  },
  {
   "cell_type": "code",
   "execution_count": 24,
   "metadata": {},
   "outputs": [
    {
     "name": "stdout",
     "output_type": "stream",
     "text": [
      "appraisal ratio\n",
      "0.14498583207325186\n",
      "t-stat\n",
      "3.386714486088657\n",
      "0.14414814120491143\n"
     ]
    }
   ],
   "source": [
    "# link with t-statistic\n",
    "\n",
    "print('appraisal ratio')\n",
    "print(Hedged.mean()/Hedged.std())\n",
    "T=Hedged.shape[0]\n",
    "tstat=TSresults.loc['BEME10','alpha']/TSresults.loc['BEME10','std_alpha']\n",
    "print('t-stat')\n",
    "print(tstat)\n",
    "print(tstat/(T**0.5))"
   ]
  },
  {
   "cell_type": "markdown",
   "metadata": {},
   "source": [
    "\n",
    "4.Optimal portfolio combination of alpha and market\n",
    "\n",
    "\n",
    "- How to optimally combine the Hedged portfolio with the Market?\n",
    "\n",
    "- Recall our formula for the tangency portfolio weights derived in Lecture 3.\n",
    "\n",
    "$$W^*\\propto Var(R^e)^{-1}E[R^e]$$\n",
    "\n",
    "- now this becomes really simple because the covariance of the new Hedged-MVE strategy is zero with the market\n",
    "\n",
    "\n",
    "$$Var(R^e)=\\left[\\begin{array}{cc} \\sigma^2(R_{MKT}^e) & 0\\\\0 & \\sigma^2(R_{Hedged,i})\\end{array}\\right]$$\n",
    "\n",
    "\n",
    "\n",
    "- So the optimal weights are just\n",
    "\n",
    "$$W^* \\propto \\left[\\begin{array}{c} \\frac{E[R^e_{MKT}]}{\\sigma^2(R_{MKT}^e)} \\\\ \\frac{\\alpha}{\\sigma^2(R_{Hedged,i})}\\end{array}\\right]$$\n",
    "\n",
    "\n",
    "- You invest in each strategy according to the strengh of the risk-return trade-off in the strategy\n",
    "\n",
    "- The symbol $\\propto$ means that you have to invest proportionally\n",
    "\n",
    "- But how much you invest overall will depend on how much risk you want to take\n",
    "\n",
    "\n",
    "\n"
   ]
  },
  {
   "cell_type": "code",
   "execution_count": 25,
   "metadata": {},
   "outputs": [
    {
     "data": {
      "text/plain": [
       "array([2.00439537, 4.62586753])"
      ]
     },
     "execution_count": 25,
     "metadata": {},
     "output_type": "execute_result"
    }
   ],
   "source": [
    "# optimal combination\n",
    "\n",
    "W=np.array([df1.MKT.mean()/df1.MKT.var(),Hedged.mean()/Hedged.var()])\n",
    "W"
   ]
  },
  {
   "cell_type": "code",
   "execution_count": 26,
   "metadata": {
    "scrolled": true
   },
   "outputs": [
    {
     "data": {
      "text/plain": [
       "<matplotlib.axes._subplots.AxesSubplot at 0x244b333cf60>"
      ]
     },
     "execution_count": 26,
     "metadata": {},
     "output_type": "execute_result"
    },
    {
     "data": {
      "image/png": "[encoded data removed]",
      "text/plain": [
       "<Figure size 432x288 with 1 Axes>"
      ]
     },
     "metadata": {},
     "output_type": "display_data"
    }
   ],
   "source": [
    "# optimal portfolio returns\n",
    "Optimalportfolio=W[0]*df1['MKT']+W[1]*Hedged\n",
    "# adjsut optimal portfolio to have same volatility as the market\n",
    "(Optimalportfolio+1).cumprod().plot()\n",
    "(df1.MKT+1).cumprod().plot()\n"
   ]
  },
  {
   "cell_type": "markdown",
   "metadata": {},
   "source": [
    "* Recall that what matters are the relative weights, so you always need to normalize the weights to make it comparable\n",
    "\n",
    "* Here we will reduce the level of weights so that ths vol of optimal portfolio is identical to the vol of the market\n"
   ]
  },
  {
   "cell_type": "code",
   "execution_count": 27,
   "metadata": {},
   "outputs": [],
   "source": [
    "factor=df1.MKT.std()/Optimalportfolio.std()"
   ]
  },
  {
   "cell_type": "code",
   "execution_count": 28,
   "metadata": {},
   "outputs": [
    {
     "data": {
      "text/plain": [
       "<matplotlib.axes._subplots.AxesSubplot at 0x244b33c7ac8>"
      ]
     },
     "execution_count": 28,
     "metadata": {},
     "output_type": "execute_result"
    },
    {
     "data": {
      "image/png": "[encoded data removed]",
      "text/plain": [
       "<Figure size 432x288 with 1 Axes>"
      ]
     },
     "metadata": {},
     "output_type": "display_data"
    }
   ],
   "source": [
    "\n",
    "# adjsut optimal portfolio to have same volatility as the market\n",
    "Optimalportfolio_l=Optimalportfolio*factor\n",
    "(Optimalportfolio_l+1).cumprod().plot()\n",
    "(df1.MKT+1).cumprod().plot()\n"
   ]
  },
  {
   "cell_type": "code",
   "execution_count": 29,
   "metadata": {},
   "outputs": [
    {
     "data": {
      "text/plain": [
       "0.04443597050361596"
      ]
     },
     "execution_count": 29,
     "metadata": {},
     "output_type": "execute_result"
    }
   ],
   "source": [
    "df1.MKT.std()"
   ]
  },
  {
   "cell_type": "code",
   "execution_count": 30,
   "metadata": {},
   "outputs": [
    {
     "name": "stdout",
     "output_type": "stream",
     "text": [
      "0.5894458465802274\n"
     ]
    },
    {
     "data": {
      "text/plain": [
       "0.3085380171502428"
      ]
     },
     "execution_count": 30,
     "metadata": {},
     "output_type": "execute_result"
    }
   ],
   "source": [
    "print(Optimalportfolio.mean()/Optimalportfolio.std()*12**0.5)\n",
    "df1.MKT.mean()/df1.MKT.std()*12**0.5"
   ]
  },
  {
   "cell_type": "markdown",
   "metadata": {},
   "source": []
  },
  {
   "cell_type": "markdown",
   "metadata": {},
   "source": [
    "5. How high a SR you get in the end?\n",
    "\n",
    "  - You can compute your final SR by brute force. Simply computing the SR of the new portfolio.\n",
    "  - Or more cleverly, you can find the resulting SR of optimally combining any two strategies that are ORTHOGONAL to each other as follows\n",
    "\n",
    "\n",
    "$$SR_{final}=\\sqrt{SR_{MKT}^2+SR_{Hedged}^2}$$\n",
    "\n",
    "  - This is very general and  can be used any time you run time-series test."
   ]
  },
  {
   "cell_type": "code",
   "execution_count": 31,
   "metadata": {},
   "outputs": [
    {
     "name": "stdout",
     "output_type": "stream",
     "text": [
      "0.17015835909790056\n"
     ]
    },
    {
     "data": {
      "text/plain": [
       "0.17015835909790078"
      ]
     },
     "execution_count": 31,
     "metadata": {},
     "output_type": "execute_result"
    }
   ],
   "source": [
    "# final SR\n",
    "# empirical\n",
    "print(Optimalportfolio.mean()/Optimalportfolio.std())\n",
    "# analytical formula\n",
    "\n",
    "((df1.MKT.mean()/df1.MKT.std())**2+(Hedged.mean()/Hedged.std())**2)**0.5\n"
   ]
  },
  {
   "cell_type": "markdown",
   "metadata": {},
   "source": [
    "### A very neat trick: How to go from regression Tables to Final Sharpe Ratios\n",
    "\n",
    "Inputs\n",
    "- SR on the factor (market)\n",
    "- t-stat on the alpha of a particular strategy on the factor\n",
    "- T= total number of time-periods\n",
    "\n",
    "- That is you run\n",
    "$$R^e_i=\\alpha_i+\\beta_iR^{MKT}+\\epsilon_i$$\n",
    "\n",
    "Once you have the t-stat on the alpha, this gives you the SR on the hedged strategy once you divide by $\\sqrt{T}$, i.e. we have that\n",
    "\n",
    "$$SR(R^{Hedged})=t(\\alpha)/\\sqrt{T}$$\n",
    "\n",
    "- using our fromula above the SR of the optimal portfolio combination can be written as\n",
    "\n",
    "\n",
    "$$SR_{final}=\\sqrt{SR(R^{MKT})^2+SR(R^{Hedged})^2}$$\n",
    "\n",
    "$$SR_{final}=\\sqrt{SR(R^{MKT})^2+(\\alpha/\\sigma(\\epsilon))^2}$$\n",
    "\n",
    "$$SR_{final}=\\sqrt{SR(R^{MKT})^2+(t(\\alpha)/\\sqrt{T})^2}$$\n",
    "\n",
    "\n",
    "\n",
    "- This gives you a convenient way to evaluate whether a given anomally meaningfully expand the investment opportunity set\n",
    "\n",
    "- Recall that a 10% increase in SR means you can either earn 10% higher return while bearing the same vol or get the same return while bearing 10% less vol"
   ]
  },
  {
   "cell_type": "markdown",
   "metadata": {},
   "source": [
    "# Data mining considerations.\n",
    "\n",
    "You have data up to October/2018 and want to hedge market exposure on your trading strategy in the month of November/2018\n",
    "\n",
    "You run a time-series regression using the entire sample and find your strategy had a beta of 0.7\n",
    "\n",
    "Does shorting 0.7*market portfolio guarantee that your strategy will have zero beta in the month of november?\n",
    "\n",
    "\n",
    "\n"
   ]
  },
  {
   "cell_type": "markdown",
   "metadata": {},
   "source": [
    "# Lecture 12 stopped here 10/7"
   ]
  },
  {
   "cell_type": "markdown",
   "metadata": {},
   "source": [
    "\n",
    "\n",
    "# Multivariate time-series test\n",
    "\n",
    "\n",
    "But this approach tests the model \"Asset by Asset\": We tested if there is any single portfolio that is inconsistent with the model.\n",
    "\n",
    "But we can get much more power by using all the assets at the same time\n",
    "\n",
    "- What if no single asset has a statisically significant alpha, could them together reject the model?\n",
    "\n",
    "- Joining all the small SR can give a much higher overall SR and much stronger rejection of the model.\n",
    "\n",
    "- This will also be relevant for investing. You want to invest on the overall portfolio has the higher SR and it is unlikely that it will be the individual portfolios. As long they are not perfectly correlated you will likely get something from combining them\n",
    "\n",
    "\n",
    "### How to test the model using all the assets at the same time?\n",
    "\n",
    "#### The answer is the GRS test\n",
    "\n",
    "Run Time-series regression asset by asset\n",
    "\n",
    "$$R_i^e =\\alpha_i+\\beta_{i,M} R_{M}^e+\\epsilon_i$$\n",
    "\n",
    "stack the alphas in a vector $\\hat{\\alpha}$\n",
    "\n",
    "If you have N test assets you will have N time-series of residuals $\\epsilon_i$\n",
    "\n",
    "Use this to estimate the variance-covariance matrix of the assets  residual risk\n",
    "\n",
    "$$\\hat{\\Sigma}_{\\epsilon}=var([\\epsilon_1,...,\\epsilon_1])$$\n",
    "\n",
    "This yield a N by N covariance matrix $\\hat{\\Sigma}_{\\epsilon}$\n",
    "\n",
    "$$T\\left(1+\\left(\\frac{average(R^e_M)}{std(R^E_M)}\\right)^2\\right)^{-1}\\hat{\\alpha}\\hat{\\Sigma}_{\\epsilon}^{-1}\\hat{\\alpha}' \\sim Chi2(N)$$\n",
    "\n",
    "> What is the big idea here?\n",
    "\n",
    "* The test construct the maximum (squared) Appraisal ratio among the test assets \n",
    "\n",
    "$$\\hat{\\alpha}\\hat{\\Sigma}_{\\epsilon}^{-1}\\hat{\\alpha}'$$\n",
    "\n",
    "* and compare it with the (Squared) Sharpe ratio of the reference portfolio\n",
    "\n",
    "$$(\\frac{average(R^e_M)}{std(R^E_M)})^2$$\n",
    "\n",
    "* under the null that the reference portfolio is tangency, the maximum appraisal should be zero\n",
    "\n",
    "* but it can be positive due to chance\n",
    "\n",
    "* distribution Chi2 tells us how likely is that given appraisal ratio is due to chance."
   ]
  },
  {
   "cell_type": "code",
   "execution_count": 32,
   "metadata": {},
   "outputs": [],
   "source": [
    "# creaty copies of the dataset\n",
    "df1=df.copy()\n",
    "Resid=df1.copy()\n",
    "\n",
    "# Create the right hand side variable for the regression:\n",
    "# vector os 1's (for the intercept) plus returns on the market\n",
    "x= sm.add_constant(df1['MKT'])\n",
    "# wea re going to use Resid to store the residuals of the regresion, so we are deleting the market column since we will\n",
    "# only run regressions of the differetn portfolio on the market\n",
    "del Resid['MKT']\n",
    "# here we are just initiatinng a data frame where we will store the alpha of each portfolio\n",
    "# so the preside operation that I am doing below, does not matter as long it returns a dataframe where the \n",
    "#columns are the portfolio names\n",
    "E=pd.DataFrame(Resid.mean())\n",
    "E.columns=['alpha']\n",
    "\n",
    "#now I am going to loop through the portfolios and run a time-series regression for each just as before\n",
    "for portfolios in E.index:\n",
    "    y= df1[portfolios]\n",
    "    results= sm.OLS(y,x).fit()\n",
    "    # We are storing the alphas\n",
    "    E.at[portfolios,'alpha']=results.params[0]\n",
    "    # we are stroing the ENTIRE time-seires of regression residuals\n",
    "    Resid.loc[:,portfolios]=results.resid\n",
    "\n",
    "# We are now ready to perform the GRS test\n",
    "\n",
    "# what information do we need?\n",
    "\n"
   ]
  },
  {
   "cell_type": "code",
   "execution_count": 33,
   "metadata": {},
   "outputs": [
    {
     "data": {
      "text/html": [
       "<div>\n",
       "<style scoped>\n",
       "    .dataframe tbody tr th:only-of-type {\n",
       "        vertical-align: middle;\n",
       "    }\n",
       "\n",
       "    .dataframe tbody tr th {\n",
       "        vertical-align: top;\n",
       "    }\n",
       "\n",
       "    .dataframe thead th {\n",
       "        text-align: right;\n",
       "    }\n",
       "</style>\n",
       "<table border=\"1\" class=\"dataframe\">\n",
       "  <thead>\n",
       "    <tr style=\"text-align: right;\">\n",
       "      <th></th>\n",
       "      <th>BEME1</th>\n",
       "      <th>BEME2</th>\n",
       "      <th>BEME3</th>\n",
       "      <th>BEME4</th>\n",
       "      <th>BEME5</th>\n",
       "      <th>BEME6</th>\n",
       "      <th>BEME7</th>\n",
       "      <th>BEME8</th>\n",
       "      <th>BEME9</th>\n",
       "      <th>BEME10</th>\n",
       "    </tr>\n",
       "  </thead>\n",
       "  <tbody>\n",
       "    <tr>\n",
       "      <th>1926-07-31</th>\n",
       "      <td>0.014954</td>\n",
       "      <td>-0.018492</td>\n",
       "      <td>0.082560</td>\n",
       "      <td>-0.016206</td>\n",
       "      <td>-0.017519</td>\n",
       "      <td>-0.013022</td>\n",
       "      <td>-0.007502</td>\n",
       "      <td>-0.021846</td>\n",
       "      <td>-0.035958</td>\n",
       "      <td>-0.041411</td>\n",
       "    </tr>\n",
       "    <tr>\n",
       "      <th>1926-08-31</th>\n",
       "      <td>-0.026911</td>\n",
       "      <td>-0.006361</td>\n",
       "      <td>0.035363</td>\n",
       "      <td>-0.006149</td>\n",
       "      <td>-0.013812</td>\n",
       "      <td>-0.004615</td>\n",
       "      <td>0.013020</td>\n",
       "      <td>0.015109</td>\n",
       "      <td>0.044637</td>\n",
       "      <td>-0.003028</td>\n",
       "    </tr>\n",
       "    <tr>\n",
       "      <th>1926-09-30</th>\n",
       "      <td>-0.006259</td>\n",
       "      <td>-0.029363</td>\n",
       "      <td>0.056870</td>\n",
       "      <td>0.001469</td>\n",
       "      <td>-0.015460</td>\n",
       "      <td>-0.003358</td>\n",
       "      <td>-0.009081</td>\n",
       "      <td>-0.006350</td>\n",
       "      <td>-0.030685</td>\n",
       "      <td>-0.004259</td>\n",
       "    </tr>\n",
       "    <tr>\n",
       "      <th>1926-10-31</th>\n",
       "      <td>-0.007463</td>\n",
       "      <td>0.010540</td>\n",
       "      <td>-0.022424</td>\n",
       "      <td>0.016935</td>\n",
       "      <td>0.005522</td>\n",
       "      <td>0.008139</td>\n",
       "      <td>-0.014051</td>\n",
       "      <td>0.004167</td>\n",
       "      <td>-0.018514</td>\n",
       "      <td>0.031429</td>\n",
       "    </tr>\n",
       "    <tr>\n",
       "      <th>1926-11-30</th>\n",
       "      <td>0.032401</td>\n",
       "      <td>-0.012819</td>\n",
       "      <td>-0.017071</td>\n",
       "      <td>0.006905</td>\n",
       "      <td>-0.009410</td>\n",
       "      <td>-0.012379</td>\n",
       "      <td>0.009031</td>\n",
       "      <td>0.004866</td>\n",
       "      <td>-0.009955</td>\n",
       "      <td>-0.023618</td>\n",
       "    </tr>\n",
       "  </tbody>\n",
       "</table>\n",
       "</div>"
      ],
      "text/plain": [
       "               BEME1     BEME2     BEME3     BEME4     BEME5     BEME6  \\\n",
       "1926-07-31  0.014954 -0.018492  0.082560 -0.016206 -0.017519 -0.013022   \n",
       "1926-08-31 -0.026911 -0.006361  0.035363 -0.006149 -0.013812 -0.004615   \n",
       "1926-09-30 -0.006259 -0.029363  0.056870  0.001469 -0.015460 -0.003358   \n",
       "1926-10-31 -0.007463  0.010540 -0.022424  0.016935  0.005522  0.008139   \n",
       "1926-11-30  0.032401 -0.012819 -0.017071  0.006905 -0.009410 -0.012379   \n",
       "\n",
       "               BEME7     BEME8     BEME9    BEME10  \n",
       "1926-07-31 -0.007502 -0.021846 -0.035958 -0.041411  \n",
       "1926-08-31  0.013020  0.015109  0.044637 -0.003028  \n",
       "1926-09-30 -0.009081 -0.006350 -0.030685 -0.004259  \n",
       "1926-10-31 -0.014051  0.004167 -0.018514  0.031429  \n",
       "1926-11-30  0.009031  0.004866 -0.009955 -0.023618  "
      ]
     },
     "execution_count": 33,
     "metadata": {},
     "output_type": "execute_result"
    }
   ],
   "source": [
    "Resid.head()"
   ]
  },
  {
   "cell_type": "markdown",
   "metadata": {},
   "source": [
    "\n",
    "$$T\\left(1+\\left(\\frac{average(R^e_M)}{std(R^E_M)}\\right)^2\\right)^{-1}\\hat{\\alpha}\\hat{\\Sigma}_{\\epsilon}^{-1}\\hat{\\alpha}' \\sim Chi2(N)$$"
   ]
  },
  {
   "cell_type": "code",
   "execution_count": 34,
   "metadata": {},
   "outputs": [
    {
     "data": {
      "text/html": [
       "<div>\n",
       "<style scoped>\n",
       "    .dataframe tbody tr th:only-of-type {\n",
       "        vertical-align: middle;\n",
       "    }\n",
       "\n",
       "    .dataframe tbody tr th {\n",
       "        vertical-align: top;\n",
       "    }\n",
       "\n",
       "    .dataframe thead th {\n",
       "        text-align: right;\n",
       "    }\n",
       "</style>\n",
       "<table border=\"1\" class=\"dataframe\">\n",
       "  <thead>\n",
       "    <tr style=\"text-align: right;\">\n",
       "      <th></th>\n",
       "      <th>BEME1</th>\n",
       "      <th>BEME2</th>\n",
       "      <th>BEME3</th>\n",
       "      <th>BEME4</th>\n",
       "      <th>BEME5</th>\n",
       "      <th>BEME6</th>\n",
       "      <th>BEME7</th>\n",
       "      <th>BEME8</th>\n",
       "      <th>BEME9</th>\n",
       "      <th>BEME10</th>\n",
       "    </tr>\n",
       "  </thead>\n",
       "  <tbody>\n",
       "    <tr>\n",
       "      <th>BEME1</th>\n",
       "      <td>0.000320</td>\n",
       "      <td>0.000040</td>\n",
       "      <td>-0.000035</td>\n",
       "      <td>-0.000106</td>\n",
       "      <td>-0.000158</td>\n",
       "      <td>-0.000207</td>\n",
       "      <td>-0.000250</td>\n",
       "      <td>-0.000267</td>\n",
       "      <td>-0.000328</td>\n",
       "      <td>-0.000425</td>\n",
       "    </tr>\n",
       "    <tr>\n",
       "      <th>BEME2</th>\n",
       "      <td>0.000040</td>\n",
       "      <td>0.000240</td>\n",
       "      <td>0.000028</td>\n",
       "      <td>-0.000051</td>\n",
       "      <td>-0.000090</td>\n",
       "      <td>-0.000121</td>\n",
       "      <td>-0.000144</td>\n",
       "      <td>-0.000165</td>\n",
       "      <td>-0.000189</td>\n",
       "      <td>-0.000236</td>\n",
       "    </tr>\n",
       "    <tr>\n",
       "      <th>BEME3</th>\n",
       "      <td>-0.000035</td>\n",
       "      <td>0.000028</td>\n",
       "      <td>0.000216</td>\n",
       "      <td>0.000027</td>\n",
       "      <td>0.000018</td>\n",
       "      <td>-0.000014</td>\n",
       "      <td>-0.000024</td>\n",
       "      <td>-0.000047</td>\n",
       "      <td>-0.000051</td>\n",
       "      <td>-0.000080</td>\n",
       "    </tr>\n",
       "    <tr>\n",
       "      <th>BEME4</th>\n",
       "      <td>-0.000106</td>\n",
       "      <td>-0.000051</td>\n",
       "      <td>0.000027</td>\n",
       "      <td>0.000347</td>\n",
       "      <td>0.000141</td>\n",
       "      <td>0.000176</td>\n",
       "      <td>0.000140</td>\n",
       "      <td>0.000121</td>\n",
       "      <td>0.000120</td>\n",
       "      <td>0.000134</td>\n",
       "    </tr>\n",
       "    <tr>\n",
       "      <th>BEME5</th>\n",
       "      <td>-0.000158</td>\n",
       "      <td>-0.000090</td>\n",
       "      <td>0.000018</td>\n",
       "      <td>0.000141</td>\n",
       "      <td>0.000367</td>\n",
       "      <td>0.000208</td>\n",
       "      <td>0.000218</td>\n",
       "      <td>0.000215</td>\n",
       "      <td>0.000234</td>\n",
       "      <td>0.000242</td>\n",
       "    </tr>\n",
       "    <tr>\n",
       "      <th>BEME6</th>\n",
       "      <td>-0.000207</td>\n",
       "      <td>-0.000121</td>\n",
       "      <td>-0.000014</td>\n",
       "      <td>0.000176</td>\n",
       "      <td>0.000208</td>\n",
       "      <td>0.000554</td>\n",
       "      <td>0.000362</td>\n",
       "      <td>0.000354</td>\n",
       "      <td>0.000399</td>\n",
       "      <td>0.000435</td>\n",
       "    </tr>\n",
       "    <tr>\n",
       "      <th>BEME7</th>\n",
       "      <td>-0.000250</td>\n",
       "      <td>-0.000144</td>\n",
       "      <td>-0.000024</td>\n",
       "      <td>0.000140</td>\n",
       "      <td>0.000218</td>\n",
       "      <td>0.000362</td>\n",
       "      <td>0.000654</td>\n",
       "      <td>0.000476</td>\n",
       "      <td>0.000570</td>\n",
       "      <td>0.000683</td>\n",
       "    </tr>\n",
       "    <tr>\n",
       "      <th>BEME8</th>\n",
       "      <td>-0.000267</td>\n",
       "      <td>-0.000165</td>\n",
       "      <td>-0.000047</td>\n",
       "      <td>0.000121</td>\n",
       "      <td>0.000215</td>\n",
       "      <td>0.000354</td>\n",
       "      <td>0.000476</td>\n",
       "      <td>0.000775</td>\n",
       "      <td>0.000692</td>\n",
       "      <td>0.000846</td>\n",
       "    </tr>\n",
       "    <tr>\n",
       "      <th>BEME9</th>\n",
       "      <td>-0.000328</td>\n",
       "      <td>-0.000189</td>\n",
       "      <td>-0.000051</td>\n",
       "      <td>0.000120</td>\n",
       "      <td>0.000234</td>\n",
       "      <td>0.000399</td>\n",
       "      <td>0.000570</td>\n",
       "      <td>0.000692</td>\n",
       "      <td>0.001210</td>\n",
       "      <td>0.001266</td>\n",
       "    </tr>\n",
       "    <tr>\n",
       "      <th>BEME10</th>\n",
       "      <td>-0.000425</td>\n",
       "      <td>-0.000236</td>\n",
       "      <td>-0.000080</td>\n",
       "      <td>0.000134</td>\n",
       "      <td>0.000242</td>\n",
       "      <td>0.000435</td>\n",
       "      <td>0.000683</td>\n",
       "      <td>0.000846</td>\n",
       "      <td>0.001266</td>\n",
       "      <td>0.002336</td>\n",
       "    </tr>\n",
       "  </tbody>\n",
       "</table>\n",
       "</div>"
      ],
      "text/plain": [
       "           BEME1     BEME2     BEME3     BEME4     BEME5     BEME6     BEME7  \\\n",
       "BEME1   0.000320  0.000040 -0.000035 -0.000106 -0.000158 -0.000207 -0.000250   \n",
       "BEME2   0.000040  0.000240  0.000028 -0.000051 -0.000090 -0.000121 -0.000144   \n",
       "BEME3  -0.000035  0.000028  0.000216  0.000027  0.000018 -0.000014 -0.000024   \n",
       "BEME4  -0.000106 -0.000051  0.000027  0.000347  0.000141  0.000176  0.000140   \n",
       "BEME5  -0.000158 -0.000090  0.000018  0.000141  0.000367  0.000208  0.000218   \n",
       "BEME6  -0.000207 -0.000121 -0.000014  0.000176  0.000208  0.000554  0.000362   \n",
       "BEME7  -0.000250 -0.000144 -0.000024  0.000140  0.000218  0.000362  0.000654   \n",
       "BEME8  -0.000267 -0.000165 -0.000047  0.000121  0.000215  0.000354  0.000476   \n",
       "BEME9  -0.000328 -0.000189 -0.000051  0.000120  0.000234  0.000399  0.000570   \n",
       "BEME10 -0.000425 -0.000236 -0.000080  0.000134  0.000242  0.000435  0.000683   \n",
       "\n",
       "           BEME8     BEME9    BEME10  \n",
       "BEME1  -0.000267 -0.000328 -0.000425  \n",
       "BEME2  -0.000165 -0.000189 -0.000236  \n",
       "BEME3  -0.000047 -0.000051 -0.000080  \n",
       "BEME4   0.000121  0.000120  0.000134  \n",
       "BEME5   0.000215  0.000234  0.000242  \n",
       "BEME6   0.000354  0.000399  0.000435  \n",
       "BEME7   0.000476  0.000570  0.000683  \n",
       "BEME8   0.000775  0.000692  0.000846  \n",
       "BEME9   0.000692  0.001210  0.001266  \n",
       "BEME10  0.000846  0.001266  0.002336  "
      ]
     },
     "execution_count": 34,
     "metadata": {},
     "output_type": "execute_result"
    }
   ],
   "source": [
    "Resid.cov()"
   ]
  },
  {
   "cell_type": "code",
   "execution_count": 35,
   "metadata": {},
   "outputs": [
    {
     "data": {
      "text/plain": [
       "matrix([[20.73445274]])"
      ]
     },
     "execution_count": 35,
     "metadata": {},
     "output_type": "execute_result"
    }
   ],
   "source": [
    "# first the market moments\n",
    "avgMkt=df1.MKT.mean()\n",
    "stdMkt=df1.MKT.std()\n",
    "# the size of the sample\n",
    "T=df.shape[0]\n",
    "# the inverse of the residual covariance matrix\n",
    "invCov=np.matrix(np.linalg.inv(Resid.cov()))\n",
    "# the chi statistic!\n",
    "chi=T*(E.alpha.values @invCov@ E.alpha.values.T)/(1+(avgMkt/stdMkt)**2)\n",
    "chi"
   ]
  },
  {
   "cell_type": "markdown",
   "metadata": {},
   "source": [
    "1. We need to compare this Chi2 statistic to the critical values of the Chi2 distribution with N degrees of freedom"
   ]
  },
  {
   "cell_type": "code",
   "execution_count": 36,
   "metadata": {},
   "outputs": [],
   "source": [
    "from scipy.stats import chi2"
   ]
  },
  {
   "cell_type": "code",
   "execution_count": 38,
   "metadata": {},
   "outputs": [
    {
     "name": "stdout",
     "output_type": "stream",
     "text": [
      "[15.987179172105263, 18.307038053275146, 23.209251158954356, 29.58829844507442]\n"
     ]
    },
    {
     "data": {
      "text/plain": [
       "array([[0.02302326]])"
      ]
     },
     "execution_count": 38,
     "metadata": {},
     "output_type": "execute_result"
    }
   ],
   "source": [
    "# choose degress of freedom (number of test assets)\n",
    "dfreedom=10\n",
    "# critical threshold for 10%, 5%, 1%, 0.1%\n",
    "print([chi2.ppf(1-0.1,dfreedom),chi2.ppf(1-0.05,dfreedom),chi2.ppf(1-0.01,dfreedom),chi2.ppf(1-0.001,dfreedom)])\n",
    "\n",
    "# we can also look for the equivalent P-value\n",
    "\n",
    "1-chi2.cdf(chi,dfreedom)\n"
   ]
  },
  {
   "cell_type": "markdown",
   "metadata": {},
   "source": [
    "We reject with about 98% confidence.\n",
    "\n",
    "There is less than a 0.1% chance that this abnormal performance of Book-to-Market sorted portfolios were a statistical fluke "
   ]
  },
  {
   "cell_type": "code",
   "execution_count": 39,
   "metadata": {},
   "outputs": [],
   "source": [
    "# the GRS test\n",
    "\n",
    "def GRS(df):\n",
    "    Resid=df.copy()\n",
    "    x= sm.add_constant(df['MKT'])\n",
    "    del Resid['MKT']\n",
    "    E=pd.DataFrame(Resid.mean())\n",
    "    E.columns=['alpha']\n",
    "    for portfolios in E.index:\n",
    "        y= df[portfolios]\n",
    "        results= sm.OLS(y,x).fit()\n",
    "        E.at[portfolios,'alpha']=results.params[0]\n",
    "        Resid.loc[:,portfolios]=results.resid\n",
    "     \n",
    "        \n",
    "    avgMkt=df.MKT.mean()\n",
    "    stdMkt=df.MKT.std()\n",
    "    T=df.shape[0]\n",
    "    invCov=np.linalg.inv(Resid.cov())\n",
    "    chi=T*(1+(avgMkt/stdMkt)**2)**(-1)*(E.alpha.values @invCov@ E.alpha.values.T)\n",
    "    N=Resid.shape[1]\n",
    "    return [chi,(1-chi2.cdf(chi,N))*100]"
   ]
  },
  {
   "cell_type": "code",
   "execution_count": 56,
   "metadata": {},
   "outputs": [
    {
     "data": {
      "text/plain": [
       "[17.345356730132607, 6.706295598443168]"
      ]
     },
     "execution_count": 56,
     "metadata": {},
     "output_type": "execute_result"
    }
   ],
   "source": [
    "chi=GRS(df['1992':'2016'])\n",
    "chi\n"
   ]
  },
  {
   "cell_type": "code",
   "execution_count": 40,
   "metadata": {},
   "outputs": [
    {
     "data": {
      "text/plain": [
       "[15.105593394978444, 12.82592745559209]"
      ]
     },
     "execution_count": 40,
     "metadata": {},
     "output_type": "execute_result"
    }
   ],
   "source": [
    "chi=GRS(df['1926':'1963'])\n",
    "chi"
   ]
  },
  {
   "cell_type": "code",
   "execution_count": 41,
   "metadata": {},
   "outputs": [
    {
     "data": {
      "text/plain": [
       "[22.951877443477233, 1.092560720775837]"
      ]
     },
     "execution_count": 41,
     "metadata": {},
     "output_type": "execute_result"
    }
   ],
   "source": [
    "chi=GRS(df['1963':'1992'])\n",
    "chi"
   ]
  },
  {
   "cell_type": "markdown",
   "metadata": {},
   "source": [
    "* This sounds complicated!\n",
    "\n",
    "* It is not, the idea is that you are constructing the maximum Sharpe ratio across all these test assets\n",
    "\n",
    "* And then asking if that best combonation beats the reference portfolio\n",
    "\n",
    "* to get the intuition I like to also think about \"a quick and dirty\" version of the GRS\n",
    "\n",
    "### Quick and dirty (and perhaps more intuitive) GRS\n",
    "\n",
    "1. Construct the tangency portfolio among the test assets\n",
    "\n",
    "$$R_t^{e,T}=\\hat{E}[R^e]'\\hat{\\Sigma}(R^e)^{-1} R^e_t$$\n",
    "\n",
    "2. Do the standard uni-variate test using $R_t^{e,T}$ as a test asset\n",
    "\n",
    "\n",
    "3. The idea here is that the tangency portfolio summarizes the best SR among the assets, and therefore it is the portfolio that has the most power to reject the reference model\n",
    "\n",
    "4. The issue is that the GRS test takes into account that the tangency portfolio weights were estiamted in the sample, so this test will tend to \"reject\" too often, because it does not take into account that the standard deviation of the residuals should actually be larger"
   ]
  },
  {
   "cell_type": "code",
   "execution_count": null,
   "metadata": {},
   "outputs": [],
   "source": [
    "# do quick and dirty"
   ]
  },
  {
   "cell_type": "markdown",
   "metadata": {},
   "source": [
    "# Multi-factor models\n",
    "\n",
    "- Lets Test wheter augmenting the CAPM with the additional and value factor can help us price these portfolios\n",
    "- it is basically the same as before but now we run a multivariate regression\n",
    "\n",
    "$$R_{i,t}=\\alpha_i+\\beta_1 Factor_1+\\beta_2 Factor_2+\\beta_3 Factor_3+....+\\beta_n Factor_n+\\epsilon_{i,t}$$\n",
    "\n",
    "As long the factors **are also excess returns** the time-series alpha test is still valid and indentical as before.\n",
    "\n",
    "- You can do single asset tests and simply use the alpha tstat to test the model\n",
    "\n",
    "- or you can do multi-asset tests, which use the GRS test \n",
    "\n",
    "- You guys already learned Multi-factor theory (from Prof. Orlov or Prof. Liu), but I will briefly discuss this next class as well.\n",
    "\n",
    "\n"
   ]
  },
  {
   "cell_type": "code",
   "execution_count": 42,
   "metadata": {},
   "outputs": [
    {
     "data": {
      "text/html": [
       "<div>\n",
       "<style scoped>\n",
       "    .dataframe tbody tr th:only-of-type {\n",
       "        vertical-align: middle;\n",
       "    }\n",
       "\n",
       "    .dataframe tbody tr th {\n",
       "        vertical-align: top;\n",
       "    }\n",
       "\n",
       "    .dataframe thead th {\n",
       "        text-align: right;\n",
       "    }\n",
       "</style>\n",
       "<table border=\"1\" class=\"dataframe\">\n",
       "  <thead>\n",
       "    <tr style=\"text-align: right;\">\n",
       "      <th></th>\n",
       "      <th>HML</th>\n",
       "    </tr>\n",
       "    <tr>\n",
       "      <th>Date</th>\n",
       "      <th></th>\n",
       "    </tr>\n",
       "  </thead>\n",
       "  <tbody>\n",
       "    <tr>\n",
       "      <th>1926-07-31</th>\n",
       "      <td>-0.0287</td>\n",
       "    </tr>\n",
       "    <tr>\n",
       "      <th>1926-08-31</th>\n",
       "      <td>0.0419</td>\n",
       "    </tr>\n",
       "    <tr>\n",
       "      <th>1926-09-30</th>\n",
       "      <td>0.0001</td>\n",
       "    </tr>\n",
       "    <tr>\n",
       "      <th>1926-10-31</th>\n",
       "      <td>0.0051</td>\n",
       "    </tr>\n",
       "    <tr>\n",
       "      <th>1926-11-30</th>\n",
       "      <td>-0.0035</td>\n",
       "    </tr>\n",
       "  </tbody>\n",
       "</table>\n",
       "</div>"
      ],
      "text/plain": [
       "               HML\n",
       "Date              \n",
       "1926-07-31 -0.0287\n",
       "1926-08-31  0.0419\n",
       "1926-09-30  0.0001\n",
       "1926-10-31  0.0051\n",
       "1926-11-30 -0.0035"
      ]
     },
     "execution_count": 42,
     "metadata": {},
     "output_type": "execute_result"
    }
   ],
   "source": [
    "url = \"https://www.dropbox.com/s/9346pp2iu5prv8s/MonthlyFactors.csv?dl=1\"\n",
    "Factors = pd.read_csv(url,index_col=0, \n",
    "                         parse_dates=True,na_values=-99)\n",
    "Factors=Factors/100\n",
    "# keep only market and RF\n",
    "Factors=Factors[['HML']]\n",
    "Factors.head()"
   ]
  },
  {
   "cell_type": "code",
   "execution_count": 43,
   "metadata": {},
   "outputs": [
    {
     "data": {
      "text/plain": [
       "BEME1     0.005859\n",
       "BEME2     0.006873\n",
       "BEME3     0.006907\n",
       "BEME4     0.006643\n",
       "BEME5     0.007234\n",
       "BEME6     0.007923\n",
       "BEME7     0.007247\n",
       "BEME8     0.009139\n",
       "BEME9     0.010582\n",
       "BEME10    0.010701\n",
       "MKT       0.006567\n",
       "HML       0.003881\n",
       "dtype: float64"
      ]
     },
     "execution_count": 43,
     "metadata": {},
     "output_type": "execute_result"
    }
   ],
   "source": [
    "df=pd.merge(df,Factors,left_index=True,right_index=True)\n",
    "# no need to take out risk-free rate because these factors are already excess returns\n",
    "df.mean()"
   ]
  },
  {
   "cell_type": "code",
   "execution_count": 44,
   "metadata": {},
   "outputs": [],
   "source": [
    " \n",
    "# indentical code as before. Just add the new factor to the regression\n",
    "FF2=pd.DataFrame([],index=df.drop(['MKT','HML'],axis=1).columns,\\\n",
    "                 columns=['avg','alpha','talpha','betamkt','tbetamkt','betahml','tbetahml']) \n",
    "# create dataframe to store residual\n",
    "FF2Resid=df.drop(['MKT','HML'],axis=1).copy()\n",
    "#store avg return\n",
    "FF2['avg']=df.drop(['MKT','HML'],axis=1).mean()\n",
    "\n",
    "for portfolio in FF2.index:\n",
    "    y=df[portfolio]\n",
    "    x=df[['MKT','HML']]\n",
    "    x=sm.add_constant(x)\n",
    "    results = sm.OLS(y,x).fit()\n",
    "    FF2.at[portfolio,['alpha','betamkt','betahml']]=results.params.values\n",
    "    FF2.at[portfolio,['talpha','tbetamkt','tbetahml']]=(results.params/results.HC0_se).values\n",
    "    FF2Resid[portfolio]=results.resid\n",
    "    \n",
    "FF2=FF2.astype('float')  "
   ]
  },
  {
   "cell_type": "code",
   "execution_count": 46,
   "metadata": {
    "scrolled": true
   },
   "outputs": [
    {
     "data": {
      "text/html": [
       "<div>\n",
       "<style scoped>\n",
       "    .dataframe tbody tr th:only-of-type {\n",
       "        vertical-align: middle;\n",
       "    }\n",
       "\n",
       "    .dataframe tbody tr th {\n",
       "        vertical-align: top;\n",
       "    }\n",
       "\n",
       "    .dataframe thead th {\n",
       "        text-align: right;\n",
       "    }\n",
       "</style>\n",
       "<table border=\"1\" class=\"dataframe\">\n",
       "  <thead>\n",
       "    <tr style=\"text-align: right;\">\n",
       "      <th></th>\n",
       "      <th>avg</th>\n",
       "      <th>alpha</th>\n",
       "      <th>talpha</th>\n",
       "      <th>betamkt</th>\n",
       "      <th>tbetamkt</th>\n",
       "      <th>betahml</th>\n",
       "      <th>tbetahml</th>\n",
       "    </tr>\n",
       "  </thead>\n",
       "  <tbody>\n",
       "    <tr>\n",
       "      <th>BEME1</th>\n",
       "      <td>0.005859</td>\n",
       "      <td>0.000186</td>\n",
       "      <td>0.456545</td>\n",
       "      <td>1.064177</td>\n",
       "      <td>82.683410</td>\n",
       "      <td>-0.338934</td>\n",
       "      <td>-16.140257</td>\n",
       "    </tr>\n",
       "    <tr>\n",
       "      <th>BEME2</th>\n",
       "      <td>0.006873</td>\n",
       "      <td>0.001200</td>\n",
       "      <td>2.900641</td>\n",
       "      <td>0.977427</td>\n",
       "      <td>55.248503</td>\n",
       "      <td>-0.192146</td>\n",
       "      <td>-8.237148</td>\n",
       "    </tr>\n",
       "    <tr>\n",
       "      <th>BEME3</th>\n",
       "      <td>0.006907</td>\n",
       "      <td>0.000680</td>\n",
       "      <td>1.498512</td>\n",
       "      <td>0.977350</td>\n",
       "      <td>81.830847</td>\n",
       "      <td>-0.049312</td>\n",
       "      <td>-2.234736</td>\n",
       "    </tr>\n",
       "    <tr>\n",
       "      <th>BEME4</th>\n",
       "      <td>0.006643</td>\n",
       "      <td>-0.000671</td>\n",
       "      <td>-1.237617</td>\n",
       "      <td>1.025648</td>\n",
       "      <td>45.205984</td>\n",
       "      <td>0.149194</td>\n",
       "      <td>4.183824</td>\n",
       "    </tr>\n",
       "    <tr>\n",
       "      <th>BEME5</th>\n",
       "      <td>0.007234</td>\n",
       "      <td>-0.000108</td>\n",
       "      <td>-0.208825</td>\n",
       "      <td>0.960494</td>\n",
       "      <td>64.303038</td>\n",
       "      <td>0.266420</td>\n",
       "      <td>10.135575</td>\n",
       "    </tr>\n",
       "    <tr>\n",
       "      <th>BEME6</th>\n",
       "      <td>0.007923</td>\n",
       "      <td>-0.000071</td>\n",
       "      <td>-0.124255</td>\n",
       "      <td>0.966734</td>\n",
       "      <td>46.402316</td>\n",
       "      <td>0.424002</td>\n",
       "      <td>11.548506</td>\n",
       "    </tr>\n",
       "    <tr>\n",
       "      <th>BEME7</th>\n",
       "      <td>0.007247</td>\n",
       "      <td>-0.001542</td>\n",
       "      <td>-2.862419</td>\n",
       "      <td>1.015054</td>\n",
       "      <td>60.386863</td>\n",
       "      <td>0.546863</td>\n",
       "      <td>22.625299</td>\n",
       "    </tr>\n",
       "    <tr>\n",
       "      <th>BEME8</th>\n",
       "      <td>0.009139</td>\n",
       "      <td>-0.000274</td>\n",
       "      <td>-0.579048</td>\n",
       "      <td>1.036948</td>\n",
       "      <td>77.909678</td>\n",
       "      <td>0.670648</td>\n",
       "      <td>26.878832</td>\n",
       "    </tr>\n",
       "    <tr>\n",
       "      <th>BEME9</th>\n",
       "      <td>0.010582</td>\n",
       "      <td>-0.000285</td>\n",
       "      <td>-0.502828</td>\n",
       "      <td>1.144292</td>\n",
       "      <td>70.661825</td>\n",
       "      <td>0.863548</td>\n",
       "      <td>28.675299</td>\n",
       "    </tr>\n",
       "    <tr>\n",
       "      <th>BEME10</th>\n",
       "      <td>0.010701</td>\n",
       "      <td>-0.002092</td>\n",
       "      <td>-2.383004</td>\n",
       "      <td>1.288522</td>\n",
       "      <td>43.393691</td>\n",
       "      <td>1.115972</td>\n",
       "      <td>17.961333</td>\n",
       "    </tr>\n",
       "  </tbody>\n",
       "</table>\n",
       "</div>"
      ],
      "text/plain": [
       "             avg     alpha    talpha   betamkt   tbetamkt   betahml   tbetahml\n",
       "BEME1   0.005859  0.000186  0.456545  1.064177  82.683410 -0.338934 -16.140257\n",
       "BEME2   0.006873  0.001200  2.900641  0.977427  55.248503 -0.192146  -8.237148\n",
       "BEME3   0.006907  0.000680  1.498512  0.977350  81.830847 -0.049312  -2.234736\n",
       "BEME4   0.006643 -0.000671 -1.237617  1.025648  45.205984  0.149194   4.183824\n",
       "BEME5   0.007234 -0.000108 -0.208825  0.960494  64.303038  0.266420  10.135575\n",
       "BEME6   0.007923 -0.000071 -0.124255  0.966734  46.402316  0.424002  11.548506\n",
       "BEME7   0.007247 -0.001542 -2.862419  1.015054  60.386863  0.546863  22.625299\n",
       "BEME8   0.009139 -0.000274 -0.579048  1.036948  77.909678  0.670648  26.878832\n",
       "BEME9   0.010582 -0.000285 -0.502828  1.144292  70.661825  0.863548  28.675299\n",
       "BEME10  0.010701 -0.002092 -2.383004  1.288522  43.393691  1.115972  17.961333"
      ]
     },
     "execution_count": 46,
     "metadata": {},
     "output_type": "execute_result"
    }
   ],
   "source": [
    "FF2"
   ]
  },
  {
   "cell_type": "markdown",
   "metadata": {},
   "source": [
    "But does it reduce mispricing?"
   ]
  },
  {
   "cell_type": "code",
   "execution_count": 49,
   "metadata": {},
   "outputs": [
    {
     "data": {
      "text/plain": [
       "Text(0.5,0,'portfolios')"
      ]
     },
     "execution_count": 49,
     "metadata": {},
     "output_type": "execute_result"
    },
    {
     "data": {
      "image/png": "[encoded data removed]",
      "text/plain": [
       "<Figure size 432x288 with 1 Axes>"
      ]
     },
     "metadata": {},
     "output_type": "display_data"
    }
   ],
   "source": [
    "CAPM=TSresults.copy()\n",
    "fig = plt.figure()\n",
    "ax1 = plt.subplot(2,1,1)\n",
    "FF2.alpha.abs().plot(ax=ax1,style='o')\n",
    "CAPM.alpha.abs().plot(ax=ax1,style='o')\n",
    "\n",
    "plt.legend(['FF2','CAPM'])\n",
    "plt.ylabel('alpha') \n",
    "plt.xlabel('portfolios') "
   ]
  },
  {
   "cell_type": "code",
   "execution_count": 50,
   "metadata": {},
   "outputs": [
    {
     "data": {
      "text/plain": [
       "BEME1     0.005859\n",
       "BEME2     0.006873\n",
       "BEME3     0.006907\n",
       "BEME4     0.006643\n",
       "BEME5     0.007234\n",
       "BEME6     0.007923\n",
       "BEME7     0.007247\n",
       "BEME8     0.009139\n",
       "BEME9     0.010582\n",
       "BEME10    0.010701\n",
       "MKT       0.006567\n",
       "HML       0.003881\n",
       "SMB       0.002101\n",
       "dtype: float64"
      ]
     },
     "execution_count": 50,
     "metadata": {},
     "output_type": "execute_result"
    }
   ],
   "source": [
    "url = \"https://www.dropbox.com/s/9346pp2iu5prv8s/MonthlyFactors.csv?dl=1\"\n",
    "Factors = pd.read_csv(url,index_col=0, \n",
    "                         parse_dates=True,na_values=-99)\n",
    "Factors=Factors/100\n",
    "# keep only market and RF\n",
    "Factors=Factors[['SMB']]\n",
    "Factors.head()\n",
    "\n",
    "df=pd.merge(df,Factors,left_index=True,right_index=True)\n",
    "# no need to take out risk-free rate because these factors are already excess returns\n",
    "df.mean()"
   ]
  },
  {
   "cell_type": "code",
   "execution_count": 52,
   "metadata": {},
   "outputs": [],
   "source": [
    " \n",
    "# indentical code as before. Just add the new factor to the regression\n",
    "FF3=pd.DataFrame([],index=df.drop(['MKT','HML','SMB'],axis=1).columns,\\\n",
    "                 columns=['avg','alpha','talpha','betamkt','tbetamkt','betahml','tbetahml','betasmb','tbetasmb']) \n",
    "# create dataframe to store residual\n",
    "FF3Resid=df.drop(['MKT','HML','SMB'],axis=1).copy()\n",
    "#store avg return\n",
    "FF3['avg']=df.drop(['MKT','HML','SMB'],axis=1).mean()\n",
    "\n",
    "for portfolio in FF3.index:\n",
    "    y=df[portfolio]\n",
    "    x=df[['MKT','HML','SMB']]\n",
    "    x=sm.add_constant(x)\n",
    "    results = sm.OLS(y,x).fit()\n",
    "    FF3.at[portfolio,['alpha','betamkt','betahml','betasmb']]=results.params.values\n",
    "    FF3.at[portfolio,['talpha','tbetamkt','tbetahml','tbetasmb']]=(results.params/results.HC0_se).values\n",
    "    FF3Resid[portfolio]=results.resid\n",
    "    \n",
    "FF3=FF3.astype('float') "
   ]
  },
  {
   "cell_type": "code",
   "execution_count": 53,
   "metadata": {},
   "outputs": [
    {
     "data": {
      "text/html": [
       "<div>\n",
       "<style scoped>\n",
       "    .dataframe tbody tr th:only-of-type {\n",
       "        vertical-align: middle;\n",
       "    }\n",
       "\n",
       "    .dataframe tbody tr th {\n",
       "        vertical-align: top;\n",
       "    }\n",
       "\n",
       "    .dataframe thead th {\n",
       "        text-align: right;\n",
       "    }\n",
       "</style>\n",
       "<table border=\"1\" class=\"dataframe\">\n",
       "  <thead>\n",
       "    <tr style=\"text-align: right;\">\n",
       "      <th></th>\n",
       "      <th>avg</th>\n",
       "      <th>alpha</th>\n",
       "      <th>talpha</th>\n",
       "      <th>betamkt</th>\n",
       "      <th>tbetamkt</th>\n",
       "      <th>betahml</th>\n",
       "      <th>tbetahml</th>\n",
       "      <th>betasmb</th>\n",
       "      <th>tbetasmb</th>\n",
       "    </tr>\n",
       "  </thead>\n",
       "  <tbody>\n",
       "    <tr>\n",
       "      <th>BEME1</th>\n",
       "      <td>0.005859</td>\n",
       "      <td>0.000238</td>\n",
       "      <td>0.593247</td>\n",
       "      <td>1.077310</td>\n",
       "      <td>82.355783</td>\n",
       "      <td>-0.335730</td>\n",
       "      <td>-16.584693</td>\n",
       "      <td>-0.071517</td>\n",
       "      <td>-3.429862</td>\n",
       "    </tr>\n",
       "    <tr>\n",
       "      <th>BEME2</th>\n",
       "      <td>0.006873</td>\n",
       "      <td>0.001203</td>\n",
       "      <td>2.915609</td>\n",
       "      <td>0.978093</td>\n",
       "      <td>53.194552</td>\n",
       "      <td>-0.191983</td>\n",
       "      <td>-8.126416</td>\n",
       "      <td>-0.003628</td>\n",
       "      <td>-0.179022</td>\n",
       "    </tr>\n",
       "    <tr>\n",
       "      <th>BEME3</th>\n",
       "      <td>0.006907</td>\n",
       "      <td>0.000712</td>\n",
       "      <td>1.574582</td>\n",
       "      <td>0.985597</td>\n",
       "      <td>80.273234</td>\n",
       "      <td>-0.047299</td>\n",
       "      <td>-2.251492</td>\n",
       "      <td>-0.044912</td>\n",
       "      <td>-1.811304</td>\n",
       "    </tr>\n",
       "    <tr>\n",
       "      <th>BEME4</th>\n",
       "      <td>0.006643</td>\n",
       "      <td>-0.000645</td>\n",
       "      <td>-1.195698</td>\n",
       "      <td>1.032342</td>\n",
       "      <td>44.057787</td>\n",
       "      <td>0.150828</td>\n",
       "      <td>4.297228</td>\n",
       "      <td>-0.036454</td>\n",
       "      <td>-1.063818</td>\n",
       "    </tr>\n",
       "    <tr>\n",
       "      <th>BEME5</th>\n",
       "      <td>0.007234</td>\n",
       "      <td>-0.000051</td>\n",
       "      <td>-0.099450</td>\n",
       "      <td>0.975060</td>\n",
       "      <td>62.852719</td>\n",
       "      <td>0.269975</td>\n",
       "      <td>11.086469</td>\n",
       "      <td>-0.079328</td>\n",
       "      <td>-2.910528</td>\n",
       "    </tr>\n",
       "    <tr>\n",
       "      <th>BEME6</th>\n",
       "      <td>0.007923</td>\n",
       "      <td>-0.000029</td>\n",
       "      <td>-0.051919</td>\n",
       "      <td>0.977335</td>\n",
       "      <td>46.786195</td>\n",
       "      <td>0.426588</td>\n",
       "      <td>11.835326</td>\n",
       "      <td>-0.057730</td>\n",
       "      <td>-2.171742</td>\n",
       "    </tr>\n",
       "    <tr>\n",
       "      <th>BEME7</th>\n",
       "      <td>0.007247</td>\n",
       "      <td>-0.001557</td>\n",
       "      <td>-2.890661</td>\n",
       "      <td>1.011114</td>\n",
       "      <td>57.561234</td>\n",
       "      <td>0.545901</td>\n",
       "      <td>22.565536</td>\n",
       "      <td>0.021461</td>\n",
       "      <td>0.939869</td>\n",
       "    </tr>\n",
       "    <tr>\n",
       "      <th>BEME8</th>\n",
       "      <td>0.009139</td>\n",
       "      <td>-0.000359</td>\n",
       "      <td>-0.781772</td>\n",
       "      <td>1.015229</td>\n",
       "      <td>74.359593</td>\n",
       "      <td>0.665348</td>\n",
       "      <td>26.286737</td>\n",
       "      <td>0.118281</td>\n",
       "      <td>4.044447</td>\n",
       "    </tr>\n",
       "    <tr>\n",
       "      <th>BEME9</th>\n",
       "      <td>0.010582</td>\n",
       "      <td>-0.000446</td>\n",
       "      <td>-0.831641</td>\n",
       "      <td>1.103299</td>\n",
       "      <td>68.040772</td>\n",
       "      <td>0.853545</td>\n",
       "      <td>32.186919</td>\n",
       "      <td>0.223243</td>\n",
       "      <td>7.868596</td>\n",
       "    </tr>\n",
       "    <tr>\n",
       "      <th>BEME10</th>\n",
       "      <td>0.010701</td>\n",
       "      <td>-0.002485</td>\n",
       "      <td>-3.338969</td>\n",
       "      <td>1.188464</td>\n",
       "      <td>51.942681</td>\n",
       "      <td>1.091556</td>\n",
       "      <td>27.878473</td>\n",
       "      <td>0.544897</td>\n",
       "      <td>14.733175</td>\n",
       "    </tr>\n",
       "  </tbody>\n",
       "</table>\n",
       "</div>"
      ],
      "text/plain": [
       "             avg     alpha    talpha   betamkt   tbetamkt   betahml  \\\n",
       "BEME1   0.005859  0.000238  0.593247  1.077310  82.355783 -0.335730   \n",
       "BEME2   0.006873  0.001203  2.915609  0.978093  53.194552 -0.191983   \n",
       "BEME3   0.006907  0.000712  1.574582  0.985597  80.273234 -0.047299   \n",
       "BEME4   0.006643 -0.000645 -1.195698  1.032342  44.057787  0.150828   \n",
       "BEME5   0.007234 -0.000051 -0.099450  0.975060  62.852719  0.269975   \n",
       "BEME6   0.007923 -0.000029 -0.051919  0.977335  46.786195  0.426588   \n",
       "BEME7   0.007247 -0.001557 -2.890661  1.011114  57.561234  0.545901   \n",
       "BEME8   0.009139 -0.000359 -0.781772  1.015229  74.359593  0.665348   \n",
       "BEME9   0.010582 -0.000446 -0.831641  1.103299  68.040772  0.853545   \n",
       "BEME10  0.010701 -0.002485 -3.338969  1.188464  51.942681  1.091556   \n",
       "\n",
       "         tbetahml   betasmb   tbetasmb  \n",
       "BEME1  -16.584693 -0.071517  -3.429862  \n",
       "BEME2   -8.126416 -0.003628  -0.179022  \n",
       "BEME3   -2.251492 -0.044912  -1.811304  \n",
       "BEME4    4.297228 -0.036454  -1.063818  \n",
       "BEME5   11.086469 -0.079328  -2.910528  \n",
       "BEME6   11.835326 -0.057730  -2.171742  \n",
       "BEME7   22.565536  0.021461   0.939869  \n",
       "BEME8   26.286737  0.118281   4.044447  \n",
       "BEME9   32.186919  0.223243   7.868596  \n",
       "BEME10  27.878473  0.544897  14.733175  "
      ]
     },
     "execution_count": 53,
     "metadata": {},
     "output_type": "execute_result"
    }
   ],
   "source": [
    "FF3"
   ]
  },
  {
   "cell_type": "markdown",
   "metadata": {},
   "source": [
    "# GRS test for multifactor models\n",
    "\n",
    "\n",
    "\n",
    "- Using multiple assets to test a model with multiple factors\n",
    "\n",
    "Run Time-series regression asset by asset\n",
    "\n",
    "$$R_i^e =\\alpha_i+\\sum_j\\beta_{i,j} F_j^e+\\epsilon_i$$\n",
    "\n",
    "where $F_j^e$ are the different factors. All must be excess returns\n",
    "\n",
    "- mkt\n",
    "- hml\n",
    "- smb\n",
    "\n",
    "stack the alphas in a vector $\\hat{\\alpha}$\n",
    "\n",
    "If you have N test assets you will have N time-series of residuals $\\epsilon_i$\n",
    "\n",
    "Use this to estimate the variance-covariance matrix of the assets  residual risk\n",
    "\n",
    "$$\\hat{\\Sigma}_{\\epsilon}=var([\\epsilon_1,...,\\epsilon_1])$$\n",
    "\n",
    "This yield a N by N covariance matrix $\\hat{\\Sigma}_{\\epsilon}$\n",
    "\n",
    "Also estimate the factor covariance matrix  $\\hat{\\Sigma}_{F}$ and the factor expected return vector $\\hat{\\mu}_F$\n",
    "\n",
    "$$T\\left(1+\\hat{\\mu}\\Sigma_F^{-1}\\hat{\\mu}'\\right)^{-1}\\hat{\\alpha}\\hat{\\Sigma}_{\\epsilon}^{-1}\\hat{\\alpha}' \\sim Chi2(N)$$"
   ]
  },
  {
   "cell_type": "code",
   "execution_count": 48,
   "metadata": {},
   "outputs": [
    {
     "name": "stdout",
     "output_type": "stream",
     "text": [
      "<class 'pandas.core.frame.DataFrame'>\n",
      "Index: 25 entries, SMALL LoBM to BIG HiBM\n",
      "Data columns (total 9 columns):\n",
      "avg         25 non-null float64\n",
      "alpha       25 non-null float64\n",
      "talpha      25 non-null float64\n",
      "betamkt     25 non-null float64\n",
      "tbetamkt    25 non-null float64\n",
      "betahml     25 non-null float64\n",
      "tbetahml    25 non-null float64\n",
      "betasmb     25 non-null float64\n",
      "tbetasmb    25 non-null float64\n",
      "dtypes: float64(9)\n",
      "memory usage: 2.6+ KB\n"
     ]
    }
   ],
   "source": [
    "FF3.info()"
   ]
  },
  {
   "cell_type": "code",
   "execution_count": 210,
   "metadata": {
    "scrolled": false
   },
   "outputs": [
    {
     "data": {
      "text/plain": [
       "matrix([[25.13356918]])"
      ]
     },
     "execution_count": 210,
     "metadata": {},
     "output_type": "execute_result"
    }
   ],
   "source": [
    "# first the factor moments\n",
    "muF=df[['MKT','HML']].mean()\n",
    "invCovF=np.linalg.inv(df[['MKT','HML']].cov())\n",
    "# the size of the sample\n",
    "T=df.shape[0]\n",
    "# the inverse of the residual covariance matrix\n",
    "invCov=np.matrix(np.linalg.inv(FF3Resid.cov()))\n",
    "# the chi statistic!\n",
    "chi=T*(1+(muF.values @ invCovF @ muF.values.T))**(-1)*(FF3.alpha.values @invCov@ FF3.alpha.values.T)\n",
    "chi\n"
   ]
  },
  {
   "cell_type": "code",
   "execution_count": 211,
   "metadata": {
    "scrolled": true
   },
   "outputs": [
    {
     "name": "stdout",
     "output_type": "stream",
     "text": [
      "10\n"
     ]
    },
    {
     "data": {
      "text/plain": [
       "array([[0.5097996]])"
      ]
     },
     "execution_count": 211,
     "metadata": {},
     "output_type": "execute_result"
    }
   ],
   "source": [
    "from scipy.stats import chi2\n",
    "# choose degress of freedom (number of test assets)\n",
    "dfreedom=FF3Resid.shape[1]\n",
    "print(dfreedom)\n",
    "# look at P-value\n",
    "\n",
    "(1-chi2.cdf(chi,dfreedom))*100\n"
   ]
  },
  {
   "cell_type": "markdown",
   "metadata": {},
   "source": [
    "\n"
   ]
  },
  {
   "cell_type": "markdown",
   "metadata": {},
   "source": [
    "\n",
    "\n",
    "### Economic vs statistical rejection\n",
    "\n",
    "We see that the eventhough the FF3 reduce pricing erros by a lot.\n",
    "\n",
    "- So variation in the betas of the 3 factor model can explain much more of the variation in average returns across assets\n",
    "\n",
    "At the same time the GRS test still stronly reject the model.\n",
    "\n",
    "- What is going on?\n",
    "\n",
    "Asset pricing tests are always about Sharpe ratios\n",
    "\n",
    "The FF3 model explains much more of the variation in average returns-- that is true-- but at the same time explains also a lot of the variation in realized returns\n",
    "\n",
    "This means that the unexplained risk is much smaller-- making Appraisal ratios not that different from the CAPM.\n",
    "\n",
    "For a practioner: it is very different to have SR of 1 with an alpha of 5%, vs SR of 1 with alpha of 0.5%\n",
    "\n",
    "Why?\n",
    "\n",
    "Because you will have to use much more leverage to exploit mispricing from the FF3 model!\n",
    "\n",
    "The GRS tests treats these two things as equal, but they are only the same if if you don't face any costs of leveraging up\n"
   ]
  },
  {
   "cell_type": "markdown",
   "metadata": {},
   "source": [
    "### Discussion\n",
    "\n",
    "\n",
    "#### Why test with portfolios rather than just look at stocks?\n",
    "\n",
    " i. Individual stocks have $\\sigma$ = 40 − 80%, so $\\sigma/\\sqrt{T}$ makes it nearly impossible to accurately measure E(R). Portfolios have lower $\\sigma$ by diversification.\n",
    "\n",
    "ii. Betas are badly measured too, and vary over time. \n",
    "        \n",
    "   - example: every firm starts small and risky, but eventually some of then become big and safe\n",
    "        \n",
    "iii. You need an interesting alternative. Group stocks together that might have a violation,\n",
    "this gives much more power.\n",
    "\n",
    "iv. This is what people do to (try to) make money. They don’t randomly buy stocks.\n",
    "They buy stocks with certain characteristics that they think will outperform. Thus,\n",
    "keep tests and practice close.\n",
    "\n",
    "v. The CAPM seemed fine (and still does) until stocks were grouped by B/M. The\n",
    "CAPM still works fine for some groupings (size), not others (value) .\n",
    "\n",
    "But of course you need to know how to form portfolios which characteristcs to use.\n",
    "\n",
    "And here the sky is the limit, as long you are careful about false discovery!\n",
    "\n",
    "Examples:\n",
    "\n",
    "- Stocks talked about in the media\n",
    "- Stocks of CEOs tweeted by the President\n",
    "- Stocks with recent deal annoucements\n",
    "- Stocks with a lot of google search trafic (google trends)\n",
    "- Stocks with a lot of Tweeter activity\n",
    "- Stocks that are investing a alot\n",
    "- Stocks that are very profitable\n",
    "- Stocks that doing a lot of R&D\n",
    "- Stocks invested by Famous hedge fund managers\n",
    "- Stocks invested by less famous managers\n",
    "- Stokcs invested by Warren Buffet\n",
    "\n",
    "\n",
    "####  The basic approach is always the same.\n",
    "\n",
    "1. Choose a characteristic that you have a hunch is correlated with expected returns\n",
    "2. Construct a sort: quantile based, or categorical (tweeted/not tweented)\n",
    "3. check what the average returns look like of the portfolio (not the individual stocks)\n",
    "4. check if CAPM explains, or FF3, or....\n",
    "5. Anomaly? must decide-> red pill or blue pill\n",
    "\n",
    "\n",
    "\n"
   ]
  },
  {
   "cell_type": "markdown",
   "metadata": {},
   "source": [
    "#### Quantitative investing is going from \"names\"  to characterisitcs\n",
    "\n",
    "The yearly sorting keeps the stocks inside the portfolios with similar characteristics\n",
    "\n",
    "This sorting will \"work\" if these chracteristics are good proxies for risks that the average investor cares about\n",
    "\n",
    "- will lead to spread in returns\n",
    "- will lead to a factor\n",
    "\n",
    "But it doesn't work always, if you use the first letter of stock ticker to construct 26 portfolios you are unlikely to get spread in average returns and most likely each portfolio will resemble the market portfolio but will much more volatility.\n",
    "\n",
    "And even if you do find something--> likely garbage, very hard to think about an economic model that would deliver that pattern!\n",
    "\n",
    "\n",
    "Lets look at the portfolios characteristics, i.e. size and Book-to-market of the different portfolios\n",
    "\n",
    "This are the characterisitcs that were used to create the portfolios. \n",
    "\n",
    "\n",
    "* indeed, the key is that each portfolio has stocks of vastly different characterisitcs\n",
    "* and keeps churning as firms change\n",
    "* So when MSFT transitioned from being small in the 80 to be gigantic in the 90's it move up from the small to the big portfolios\n",
    "* When in the Tech boom it had a huge valuation relative to it'sbook value, it wen to the low BM portfolios\n",
    "* But then transtioned back to the high BM once it's market valuation collapsed in the aftermath of the techbuble\n",
    "* The key is that firms change what they are, so by constructing the portfolios we can hope to estimate some stable relationship between risk and return\n",
    "* The the fact that the market value is above or below the book value does not mean that the firm is mispriced. It is natural that expectations of future earnings change (this is not in book value) of investors perception of risk change.\n",
    "* Even in a CAPM world you can see that happening: suppose the beta of a firm increases, then in equilibrium it's excess return must also increase! \n",
    "* This would market it's market value go down, Book-to-market would go up at the smae time that expected returns going froward would go up!\n",
    "\n",
    "- But in the data BM changes (as firms swing across portfolios), but the market beta does not, which is inconsitent with the CAPM\n",
    "\n",
    "- Expected return alone is not a puzzle. All puzzles are joint puzzles of expected return and beta — either high expected returns not matched by high betas, or high/low betas not matched by expected returns.\n",
    "\n",
    "* The lower residual risk allows you a sharper exploration of the model mistakes\n",
    "\n",
    "* There is always a telescope, a way to make small-looking errors big (and profitable.)"
   ]
  },
  {
   "cell_type": "code",
   "execution_count": null,
   "metadata": {},
   "outputs": [],
   "source": []
  }
 ],
 "metadata": {
  "kernelspec": {
   "display_name": "Python 3",
   "language": "python",
   "name": "python3"
  },
  "language_info": {
   "codemirror_mode": {
    "name": "ipython",
    "version": 3
   },
   "file_extension": ".py",
   "mimetype": "text/x-python",
   "name": "python",
   "nbconvert_exporter": "python",
   "pygments_lexer": "ipython3",
   "version": "3.6.5"
  }
 },
 "nbformat": 4,
 "nbformat_minor": 2
}
